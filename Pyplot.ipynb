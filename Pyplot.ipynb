{
 "cells": [
  {
   "cell_type": "markdown",
   "id": "24aad901-4f1b-468e-b7c6-0d0df9189e24",
   "metadata": {},
   "source": [
    "## pyplot.ipynb\n",
    "\n",
    "- clear and concise overview of matplotlib.pyplot python package\n",
    "- in-depth explanation of three interesting plots from the matplotlib.pyplot python package"
   ]
  },
  {
   "cell_type": "code",
   "execution_count": null,
   "id": "b8dccf50-4da0-47d0-8871-d990e8addfce",
   "metadata": {},
   "outputs": [],
   "source": []
  }
 ],
 "metadata": {
  "kernelspec": {
   "display_name": "Python 3",
   "language": "python",
   "name": "python3"
  },
  "language_info": {
   "codemirror_mode": {
    "name": "ipython",
    "version": 3
   },
   "file_extension": ".py",
   "mimetype": "text/x-python",
   "name": "python",
   "nbconvert_exporter": "python",
   "pygments_lexer": "ipython3",
   "version": "3.8.8"
  }
 },
 "nbformat": 4,
 "nbformat_minor": 5
}
