{
 "cells": [
  {
   "cell_type": "markdown",
   "id": "6465ab41-d428-4410-835b-77f96510be43",
   "metadata": {},
   "source": [
    "\n",
    " \n",
    "# Number Science\n",
    "\n",
    "***\n",
    "\n"
   ]
  },
  {
   "cell_type": "markdown",
   "id": "9c442b5c-f960-4df4-a146-f683bece7bd0",
   "metadata": {},
   "source": [
    "#### SPSS\n",
    "SPSS currently owned by IBM <br> \n",
    "All click and point <br>\n",
    "Not as powerful as Python <br>\n",
    "'Level of Measurement'<br>\n",
    "Typically dealing with one table of data <br>\n",
    "Similar functionality but less friendly than Excel <br>\n",
    "clone function (open source) called PSPP <br>\n",
    "Laerd: Really high quality stastistical explanations <br>\n",
    " to e.g. get a good explanation of e..g. One Way Anova type 'Laerd One Way Anova' etc\n",
    "\n",
    "https://www.ibm.com/ie-en/products/spss-statistics-gradpack <br>\n",
    "https://www.gnu.org/software/pspp/ (PSPP) <br>\n",
    "https://statistics.laerd.com/ (Laerd) <br>"
   ]
  },
  {
   "cell_type": "markdown",
   "id": "7db72aed-2ebf-4e6b-ae8c-7914614c9416",
   "metadata": {},
   "source": [
    "### Categorical (Variables)\n",
    "- similar to qualitative data\n",
    "- sex\n",
    "- job description\n",
    "- opinion\n",
    "##### Nominal: no inherent order\n",
    "- job category: doctor, accountant\n",
    "##### Ordinal: there is a meaningful order but not a measurable distance between categories\n",
    "-items can be ranked <br>\n",
    "- 1st, 2nd, 3rd<br>\n",
    "- strongle disagree, disagree, neutral, strongly agree<br>\n",
    "- does not allow for relative degree of difference between them\n",
    "### Scale (Variables)\n",
    "typically as INTERVAL or RATIO <br>\n",
    "values can be ordered <br>\n",
    "suggest a distance between values <br>\n",
    "age, salary <br>\n",
    "##### INTERVAL\n",
    "-20C is not twice as hot as 10C<br>\n",
    "##### RATIO\n",
    "-20K is not twice as hot as 10K<br>\n",
    "-true zero point\n",
    "-numercial values can be transfprmed by multiplying each value by a constant\n",
    "\n",
    "\n",
    "##### Further reading\n",
    "1 Stanley Stevens: Invented classifications related to:<br>\n",
    "Level of Measurement <br>\n",
    "Scales of Measurement\n",
    " his original 1946 paper can still be sourced\n",
    "2. Aelph Number\n",
    "3. Cantors Diagonal Argument <br>\n",
    "certain infite sets 0,1,2,3 v 2,4,6,8.. must have same size as can be paired <br>\n",
    " but are actually not the same size\n",
    "4. Ordinal Numbers <br>\n",
    "natural numbers \n",
    "\n",
    "- NOMINAL/ORDINAL/INTERVAL/RATIO <br>\n",
    "\n",
    "-https://symbiosiscollege.edu.in/assets/pdf/e-learning/tyba/Economics/Scales-of-Measurement-6.pdf"
   ]
  },
  {
   "cell_type": "code",
   "execution_count": null,
   "id": "2777147c-0e14-4147-82e2-8ce037f07d48",
   "metadata": {},
   "outputs": [],
   "source": []
  },
  {
   "cell_type": "code",
   "execution_count": null,
   "id": "cb98ce30-f7f5-47c0-a06c-df5cefa3c4ef",
   "metadata": {},
   "outputs": [],
   "source": []
  }
 ],
 "metadata": {
  "kernelspec": {
   "display_name": "Python 3",
   "language": "python",
   "name": "python3"
  },
  "language_info": {
   "codemirror_mode": {
    "name": "ipython",
    "version": 3
   },
   "file_extension": ".py",
   "mimetype": "text/x-python",
   "name": "python",
   "nbconvert_exporter": "python",
   "pygments_lexer": "ipython3",
   "version": "3.8.8"
  }
 },
 "nbformat": 4,
 "nbformat_minor": 5
}
