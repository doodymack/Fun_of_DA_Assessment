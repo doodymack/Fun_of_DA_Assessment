{
 "cells": [
  {
   "cell_type": "markdown",
   "id": "f96352d6-be4c-4b96-9594-107c26bcffc6",
   "metadata": {},
   "source": [
    "## PyPlot Notebook\n"
   ]
  },
  {
   "cell_type": "markdown",
   "id": "0ca74774-0547-4707-b425-1aed5b96b1ac",
   "metadata": {},
   "source": [
    "- Clear and concise overview of matplotlib.pyplot python package\n",
    "- In-depth explanation of three interestring plots from the matplotlib.pyplot Python package"
   ]
  },
  {
   "cell_type": "code",
   "execution_count": null,
   "id": "3dc92d0c-2990-4c9a-a5b3-c3245ad8108c",
   "metadata": {},
   "outputs": [],
   "source": []
  }
 ],
 "metadata": {
  "kernelspec": {
   "display_name": "Python 3",
   "language": "python",
   "name": "python3"
  },
  "language_info": {
   "codemirror_mode": {
    "name": "ipython",
    "version": 3
   },
   "file_extension": ".py",
   "mimetype": "text/x-python",
   "name": "python",
   "nbconvert_exporter": "python",
   "pygments_lexer": "ipython3",
   "version": "3.8.8"
  }
 },
 "nbformat": 4,
 "nbformat_minor": 5
}
