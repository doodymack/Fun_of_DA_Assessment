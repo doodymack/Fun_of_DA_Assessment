{
 "cells": [
  {
   "cell_type": "markdown",
   "id": "d8d7d2e9-83c1-4857-8b4b-8b600d605b9f",
   "metadata": {},
   "source": [
    " ## CAO Points Notebook\n",
    " \n",
    " - clear and concise overview of how to load CAO points info from the CAO website into a PANDAS dataframe\n",
    " - Detailed compariosn of CAO points in 2019,2020,2021 using the functionality in pandas\n",
    " - Appropriate plots and other visuaizations to enhance your notebook for viewers"
   ]
  },
  {
   "cell_type": "code",
   "execution_count": null,
   "id": "dc3ae924-abed-4dd7-980f-df3f05b59f7a",
   "metadata": {},
   "outputs": [],
   "source": []
  }
 ],
 "metadata": {
  "kernelspec": {
   "display_name": "Python 3",
   "language": "python",
   "name": "python3"
  },
  "language_info": {
   "codemirror_mode": {
    "name": "ipython",
    "version": 3
   },
   "file_extension": ".py",
   "mimetype": "text/x-python",
   "name": "python",
   "nbconvert_exporter": "python",
   "pygments_lexer": "ipython3",
   "version": "3.8.8"
  }
 },
 "nbformat": 4,
 "nbformat_minor": 5
}
