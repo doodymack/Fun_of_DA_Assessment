{
 "cells": [
  {
   "cell_type": "raw",
   "id": "be73e9b8-6497-4af5-973a-4b7f41cda73a",
   "metadata": {},
   "source": [
    " ## CAO Points Notebook\n",
    " \n",
    " - clear and concise overview of how to load CAO points info from the CAO website into a PANDAS dataframe\n",
    " - Detailed compariosn of CAO points in 2019,2020,2021 using the functionality in pandas\n",
    " - Appropriate plots and other visuaizations to enhance your notebook for viewers"
   ]
  },
  {
   "cell_type": "markdown",
   "id": "d68dfe20-0244-46d7-b5e4-3b94baed31a7",
   "metadata": {},
   "source": [
    "http://www2.cao.ie/points/l8.php\n",
    "\n",
    "***"
   ]
  },
  {
   "cell_type": "code",
   "execution_count": 1,
   "id": "aa310ef9-c0c1-41e2-80c2-93a0b0ce333a",
   "metadata": {},
   "outputs": [],
   "source": [
    "# regular expressions\n",
    "import re\n",
    "#convenient http requests\n",
    "\n",
    "import requests as rq"
   ]
  },
  {
   "cell_type": "code",
   "execution_count": 2,
   "id": "38fe408f-2e6c-4bed-818a-2c6bd017383a",
   "metadata": {},
   "outputs": [
    {
     "data": {
      "text/plain": [
       "<Response [200]>"
      ]
     },
     "execution_count": 2,
     "metadata": {},
     "output_type": "execute_result"
    }
   ],
   "source": [
    "# fetch the CAO points URL\n",
    "# resp= response from the URL\n",
    "# rq= request library\n",
    "# get= get the url\n",
    "resp = rq.get ('http://www2.cao.ie/points/l8.php')\n",
    "#have a quick peek\n",
    "resp\n",
    "# resp [200] means html response is in order"
   ]
  },
  {
   "cell_type": "code",
   "execution_count": null,
   "id": "2f779926-1ffb-43d6-9288-ae7f79523c02",
   "metadata": {},
   "outputs": [],
   "source": []
  },
  {
   "cell_type": "code",
   "execution_count": null,
   "id": "101e4289-992b-4698-a768-9906d1f557cf",
   "metadata": {},
   "outputs": [],
   "source": [
    "resp.text\n",
    "#\\n is a new line (common Unix command)\n"
   ]
  },
  {
   "cell_type": "code",
   "execution_count": null,
   "id": "6c64b862-8c9f-42fc-8e2c-550fb004727b",
   "metadata": {},
   "outputs": [],
   "source": [
    "#how to loop throught the linesv in request. iterate through the lines in request\n",
    "for line in resp.iter_lines():\n",
    "    print(line)"
   ]
  },
  {
   "cell_type": "code",
   "execution_count": null,
   "id": "b6c11b32-bf30-4f08-954d-c036b6a0eed0",
   "metadata": {},
   "outputs": [],
   "source": [
    "    "
   ]
  },
  {
   "cell_type": "code",
   "execution_count": 5,
   "id": "814bb1a8-947b-4530-a360-1accabfe4b3a",
   "metadata": {},
   "outputs": [],
   "source": [
    "#compile the regular expression for matching lines\n",
    "re_course = re.compile('(A-Z{2}[0-9]{3})  (.*)([0-9]{3})(\\*?) *')"
   ]
  },
  {
   "cell_type": "code",
   "execution_count": null,
   "id": "83b489b5-0fb5-4d9f-b201-c4307fda6204",
   "metadata": {},
   "outputs": [],
   "source": []
  },
  {
   "cell_type": "code",
   "execution_count": 11,
   "id": "7ee697bf-3cc2-4584-afb2-b1c3f7e7c497",
   "metadata": {},
   "outputs": [
    {
     "name": "stdout",
     "output_type": "stream",
     "text": [
      "total number of lines is 0.\n"
     ]
    }
   ],
   "source": [
    "# loop through the lines of theresponse content\n",
    "no_lines = 0\n",
    "for line in resp.iter_lines():\n",
    "    #match only the lines we want -the ones representing courses\n",
    "    if re_course.fullmatch(line.decode('iso-8859-1')):\n",
    "        no_lines = no_lines + 1\n",
    "        print(line)\n",
    "        csv_version = re_course.sub('\\1,\\2,\\3', line.decode('iso-8859-1'))\n",
    "        print(csv_version)\n",
    "print(f\"total number of lines is {no_lines}.\")"
   ]
  },
  {
   "cell_type": "code",
   "execution_count": 7,
   "id": "75bd429e-ecf0-4834-9b79-7a02e9c4c13d",
   "metadata": {},
   "outputs": [],
   "source": [
    "#old code\n",
    "#how to loop throught the linesv in request. iterate through the lines in request using a regular expression\n",
    "#for line in resp.iter_lines():\n",
    "   # if re.match('[A-Z]{2}[0-9]{3}  .* *(0-9){3} *', line.decode('utf-8') ):\n",
    "               # print(line)"
   ]
  },
  {
   "cell_type": "code",
   "execution_count": null,
   "id": "5288b952-8636-4898-b693-d493b999946a",
   "metadata": {},
   "outputs": [],
   "source": []
  }
 ],
 "metadata": {
  "kernelspec": {
   "display_name": "Python 3",
   "language": "python",
   "name": "python3"
  },
  "language_info": {
   "codemirror_mode": {
    "name": "ipython",
    "version": 3
   },
   "file_extension": ".py",
   "mimetype": "text/x-python",
   "name": "python",
   "nbconvert_exporter": "python",
   "pygments_lexer": "ipython3",
   "version": "3.8.8"
  }
 },
 "nbformat": 4,
 "nbformat_minor": 5
}
