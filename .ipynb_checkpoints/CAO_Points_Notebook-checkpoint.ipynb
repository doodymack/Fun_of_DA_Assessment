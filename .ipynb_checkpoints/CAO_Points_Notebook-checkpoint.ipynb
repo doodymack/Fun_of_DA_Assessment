{
 "cells": [
  {
   "cell_type": "raw",
   "id": "be73e9b8-6497-4af5-973a-4b7f41cda73a",
   "metadata": {},
   "source": [
    " ## CAO Points Notebook\n",
    " \n",
    " - clear and concise overview of how to load CAO points info from the CAO website into a PANDAS dataframe\n",
    " - Detailed comparison of CAO points in 2019,2020,2021 using the functionality in pandas\n",
    " - Appropriate plots and other visuaizations to enhance your notebook for viewers"
   ]
  },
  {
   "cell_type": "markdown",
   "id": "d68dfe20-0244-46d7-b5e4-3b94baed31a7",
   "metadata": {},
   "source": [
    "http://www2.cao.ie/points/l8.php\n",
    "\n",
    "***"
   ]
  },
  {
   "cell_type": "code",
   "execution_count": 1,
   "id": "aa310ef9-c0c1-41e2-80c2-93a0b0ce333a",
   "metadata": {},
   "outputs": [],
   "source": [
    "#convenient http requests\n",
    "import requests as rq\n",
    "\n",
    "# regular expressions\n",
    "import re\n",
    "\n",
    "#dates and times\n",
    "import datetime as dt\n",
    "\n",
    "# for dataframes import pandas\n",
    "# v useful to get data from spreadsheets\n",
    "import pandas as pd\n",
    "\n",
    "#for downloading files to python\n",
    "import urllib.request as urlrq\n",
    "\n"
   ]
  },
  {
   "cell_type": "markdown",
   "id": "c44f6192-45a8-4b85-a378-960f019feaf5",
   "metadata": {},
   "source": [
    "# 2021 points\n",
    "\n",
    "http://www2.cao.ie/points/l8.php\n",
    "\n",
    "***\n"
   ]
  },
  {
   "cell_type": "code",
   "execution_count": 2,
   "id": "38fe408f-2e6c-4bed-818a-2c6bd017383a",
   "metadata": {},
   "outputs": [
    {
     "data": {
      "text/plain": [
       "<Response [200]>"
      ]
     },
     "execution_count": 2,
     "metadata": {},
     "output_type": "execute_result"
    }
   ],
   "source": [
    "# fetch the CAO points URL\n",
    "# resp= response from the URL\n",
    "# rq= request library\n",
    "# get= get the url (http version)\n",
    "resp = rq.get ('http://www2.cao.ie/points/l8.php')\n",
    "#have a quick peek\n",
    "resp\n",
    "# resp [200] means html response is in order.  [404] if returns means it is not found .  These are http codes"
   ]
  },
  {
   "cell_type": "code",
   "execution_count": 3,
   "id": "7f093e41-d6f6-40e3-813c-729aad0e26a7",
   "metadata": {},
   "outputs": [],
   "source": [
    "now = dt.datetime.now()\n"
   ]
  },
  {
   "cell_type": "code",
   "execution_count": 4,
   "id": "a72200b0-4e34-4047-8f7d-97fa5c7dd8af",
   "metadata": {},
   "outputs": [],
   "source": [
    "#datetime function has a data structure called datetime\n",
    "#field for time, teat ,month etc\n",
    "#dt.datetime.now()\n",
    "now = dt.datetime.now()"
   ]
  },
  {
   "cell_type": "code",
   "execution_count": 5,
   "id": "571c996b-3cfa-41a6-a0ce-88e56b25ba23",
   "metadata": {},
   "outputs": [
    {
     "name": "stdout",
     "output_type": "stream",
     "text": [
      "2021-11-01 20:10:04.780434\n"
     ]
    }
   ],
   "source": [
    "print(now)"
   ]
  },
  {
   "cell_type": "markdown",
   "id": "c249bc87-f081-4e75-973b-3e4841a2673b",
   "metadata": {},
   "source": [
    "### use the current time as a filename - need to remove colons, decimal points etc"
   ]
  },
  {
   "cell_type": "code",
   "execution_count": 6,
   "id": "c235c6e6-c5d5-4c7b-9153-4383e3404956",
   "metadata": {},
   "outputs": [],
   "source": [
    "# good programmers use only alphanumeric characters ,dash and dot in file names\n",
    "#create a filepath for the original data\n",
    "#use year at start to ensure alphabetic sorted when filed\n",
    "# below creates the csv file and saves it in a new 'data' folder in active location  ie. \\repo\\Fun_of..\n",
    "path = 'data/cao2021_' + now.strftime('%Y%m%d_%H%M%S')  + '.html'"
   ]
  },
  {
   "cell_type": "code",
   "execution_count": 7,
   "id": "f83ff432-21d5-4c2b-ae3d-fafaf1416159",
   "metadata": {},
   "outputs": [
    {
     "data": {
      "text/plain": [
       "'20211101_201004'"
      ]
     },
     "execution_count": 7,
     "metadata": {},
     "output_type": "execute_result"
    }
   ],
   "source": [
    "# format now as a string\n",
    "now.strftime('%Y%m%d_%H%M%S')"
   ]
  },
  {
   "cell_type": "markdown",
   "id": "5d6cb10c-9ba2-4526-994d-150440842351",
   "metadata": {},
   "source": [
    "### the server uses the wrong encoding fix it before saving"
   ]
  },
  {
   "cell_type": "code",
   "execution_count": 8,
   "id": "602ab426-3d20-4773-94dd-1fc72f2b6cc4",
   "metadata": {},
   "outputs": [],
   "source": [
    "#RESP = RESPONSE\n",
    "#'resp.text' takes the response and converts it to text- but still has original errors\n",
    "#thus not best way to save THIS original file\n",
    "#but resp.text is a typical way to save"
   ]
  },
  {
   "cell_type": "code",
   "execution_count": 9,
   "id": "0e4567c7-682e-432e-97ce-c40f3de452d5",
   "metadata": {},
   "outputs": [],
   "source": [
    "original_encoding = resp.encoding\n",
    "resp.encoding = 'cp1252'"
   ]
  },
  {
   "cell_type": "code",
   "execution_count": 10,
   "id": "d1835331-dbf7-471a-a0ca-173f7c4f4b73",
   "metadata": {},
   "outputs": [],
   "source": [
    "#save the original html file\n",
    "\n",
    "with open(path, 'w') as f:\n",
    "    f.write(resp.text)    "
   ]
  },
  {
   "cell_type": "code",
   "execution_count": null,
   "id": "d3354029-8995-4a70-9755-2509d4d48432",
   "metadata": {},
   "outputs": [],
   "source": []
  },
  {
   "cell_type": "code",
   "execution_count": null,
   "id": "101e4289-992b-4698-a768-9906d1f557cf",
   "metadata": {},
   "outputs": [],
   "source": [
    "resp.text\n",
    "#\\n is a new line (common Unix command)"
   ]
  },
  {
   "cell_type": "code",
   "execution_count": null,
   "id": "6c64b862-8c9f-42fc-8e2c-550fb004727b",
   "metadata": {},
   "outputs": [],
   "source": [
    "#how to loop throught the linesv in request. iterate through the lines in request\n",
    "for line in resp.iter_lines():\n",
    "    print(line)"
   ]
  },
  {
   "cell_type": "code",
   "execution_count": null,
   "id": "b6c11b32-bf30-4f08-954d-c036b6a0eed0",
   "metadata": {},
   "outputs": [],
   "source": [
    "    "
   ]
  },
  {
   "cell_type": "code",
   "execution_count": 13,
   "id": "814bb1a8-947b-4530-a360-1accabfe4b3a",
   "metadata": {},
   "outputs": [],
   "source": [
    "#compile the regular expression for matching lines\n",
    "# re= regular expression. Each chsracter is a string but together form an instruction.\n",
    "# r. = 'raw' used in python. It means don't evaluate backslashes in encountered string literals  i.e. \\n \\t i.e \n",
    "re_course = re.compile(r'([A-Z]{2}[0-9]{3})  (.*)([0-9]{3})(\\*?) *')"
   ]
  },
  {
   "cell_type": "markdown",
   "id": "0badf134-5209-44f1-8793-98bf3f1b20d4",
   "metadata": {},
   "source": [
    "<br>\n",
    "\n",
    "### error on the server= way to fix\n",
    "\n",
    "match only the lines we want -the ones representing courses \n",
    " technically the server says we should decode as:\n",
    " \n",
    "content-type: text/html; charset: iso-8859-1\n",
    "\n",
    "  but\n",
    "    -one line uses /x96 which isn't defined in iso-8859-1\n",
    "    -therefore we used the similiar decoding standard (codec) cp-1252 which is very similar but includes \\x96"
   ]
  },
  {
   "cell_type": "code",
   "execution_count": null,
   "id": "31923871-2236-4f30-a8e4-26be39b3d59e",
   "metadata": {},
   "outputs": [],
   "source": []
  },
  {
   "cell_type": "code",
   "execution_count": 14,
   "id": "8a6369c2-cb38-48b6-859b-b9706dd36231",
   "metadata": {},
   "outputs": [
    {
     "name": "stdout",
     "output_type": "stream",
     "text": [
      "total number of lines is 922.\n"
     ]
    }
   ],
   "source": [
    "#for the below if used in assessment should be cleaned up. Check regular expressions are working properly\n",
    "# if want to save output of this then need a filepath and file format like the original data above\n",
    "\n",
    "#the filepath for the csv file\n",
    "path = 'data/cao2021_csv' + now.strftime('%Y%m%d_%H%M%S')  + '.csv'\n",
    "\n",
    "no_lines = 0\n",
    "#open the csv file for writing\n",
    "with open(path, 'w') as f:\n",
    "   # f.write(resp.text)   \n",
    "    #loop through the lines of the response content\n",
    "    for line in resp.iter_lines():\n",
    "   #decode the line using the encoding not flagged by the response from CAO\n",
    "        dline = line.decode('cp1252')\n",
    "        if re_course.fullmatch(dline):\n",
    "            no_lines = no_lines + 1\n",
    "            #print(line) no need to print so commented out\n",
    "            # version 1 using regular expression\n",
    "            # csv_version = re_course.sub(r'\\1,\\2,\\3,\\4', dline) version 1 using re commented out\n",
    "            #print(csv_version)  no need to print so commented out\n",
    "            #alternate way than regular expression is to use python in built split function\n",
    "            # split splits the line\n",
    "            #(+ ) instructs to do this where two or more spaces\n",
    "            linesplit = re.split(' +', dline)\n",
    "            #print(','.join(linesplit))\n",
    "            #f.write(csv_version + '\\n') - saving of old RE way\n",
    "            #rejoin the substrings with commasin between\n",
    "            f.write(','.join(linesplit) + '\\n')\n",
    "print(f\"total number of lines is {no_lines}.\")       "
   ]
  },
  {
   "cell_type": "code",
   "execution_count": 15,
   "id": "598d03af-4353-48c3-bfd3-c5606119c1b8",
   "metadata": {},
   "outputs": [],
   "source": [
    "#old code\n",
    "#how to loop throught the linesv in request. iterate through the lines in request using a regular expression\n",
    "#for line in resp.iter_lines():\n",
    "   # if re.match('[A-Z]{2}[0-9]{3}  .* *(0-9){3} *', line.decode('utf-8') ):\n",
    "               # print(line)"
   ]
  },
  {
   "cell_type": "markdown",
   "id": "e14377b3-09e6-4865-a270-03fcda1ed403",
   "metadata": {},
   "source": [
    "<br>\n",
    "\n",
    "## 2020 points\n",
    "\n",
    "http://www.cao.ie/index.php?page=points&p=2020\n",
    "\n",
    "***"
   ]
  },
  {
   "cell_type": "markdown",
   "id": "d3547d5f-c92c-4c18-adb5-ae88829f4c62",
   "metadata": {},
   "source": [
    "### download and parse the excel spreadsheet using pandas"
   ]
  },
  {
   "cell_type": "code",
   "execution_count": null,
   "id": "f4594b3e-1b1a-410a-9214-a632a295dd81",
   "metadata": {},
   "outputs": [],
   "source": [
    "#download and parse the excel spreadsheet\n",
    "df = pd.read_excel ('http://www2.cao.ie/points/CAOPointsCharts2020.xlsx', skiprows = 10)\n",
    "# however it reads the 1st 10 preamble headings \n",
    "# could save file and manually delete 1st 10 rows but better to use pandas functionality"
   ]
  },
  {
   "cell_type": "code",
   "execution_count": null,
   "id": "b4815874-5719-466a-a538-417a3c467618",
   "metadata": {},
   "outputs": [],
   "source": [
    "df"
   ]
  },
  {
   "cell_type": "code",
   "execution_count": null,
   "id": "135a88a8-32cc-450e-9589-74a27909e51e",
   "metadata": {},
   "outputs": [],
   "source": [
    "#spot check of data\n",
    "# use loc or iloc functionality to check data\n",
    "df.iloc[12]\n",
    "#check the final line in the spreadsheet\n",
    "# reminder 1st 11 rows are heading #excel identifies 1st row as zero\n",
    "df.iloc[753]\n",
    "# can also count backwards to last row\n",
    "df.iloc[-1]"
   ]
  },
  {
   "cell_type": "markdown",
   "id": "dd208447-3c48-4ab9-b923-ec2c9f2c4afa",
   "metadata": {},
   "source": [
    "<br>\n",
    "### save original file \n",
    "\n",
    "***"
   ]
  },
  {
   "cell_type": "code",
   "execution_count": 19,
   "id": "fa405efd-b47a-4d9d-a4d1-eb3195de7f5c",
   "metadata": {},
   "outputs": [],
   "source": [
    "path = 'data/cao2020_' + now.strftime('%Y%m%d_%H%M%S')  + '.xlsx'\n",
    "now.strftime('%Y%m%d_%H%M%S')\n",
    "#save the original html file\n",
    "with open(path, 'w') as f:\n",
    "    f.write(resp.text)   "
   ]
  },
  {
   "cell_type": "code",
   "execution_count": 20,
   "id": "738435a1-1d28-47ce-924b-60ac519041b5",
   "metadata": {},
   "outputs": [
    {
     "data": {
      "text/plain": [
       "('data/cao2020_20211101_201004.xlsx',\n",
       " <http.client.HTTPMessage at 0x2225d74eeb0>)"
      ]
     },
     "execution_count": 20,
     "metadata": {},
     "output_type": "execute_result"
    }
   ],
   "source": [
    "#urllib save the original file to disk\n",
    "\n",
    "urlrq.urlretrieve ('http://www2.cao.ie/points/CAOPointsCharts2020.xlsx', path)"
   ]
  },
  {
   "cell_type": "code",
   "execution_count": null,
   "id": "1c94a208-ad1b-48bc-ae6f-b28a2029b8b2",
   "metadata": {},
   "outputs": [],
   "source": []
  },
  {
   "cell_type": "markdown",
   "id": "24badb73-d367-4784-9d81-a096d81d6743",
   "metadata": {},
   "source": [
    "<br>\n",
    "## create a filepath for pandas data\n"
   ]
  },
  {
   "cell_type": "code",
   "execution_count": 21,
   "id": "0a7f7367-e39d-47fb-a44f-67822ae7d4be",
   "metadata": {},
   "outputs": [],
   "source": [
    "path = 'data/cao2020_' + now.strftime('%Y%m%d_%H%M%S')  + '.csv'\n",
    "df.to_csv(path)"
   ]
  },
  {
   "cell_type": "markdown",
   "id": "5305a3e2-4958-45f2-88d4-55b9e5297efc",
   "metadata": {},
   "source": []
  },
  {
   "cell_type": "markdown",
   "id": "88608396-a2cc-4ce5-b11f-a5eb7f7a23e0",
   "metadata": {},
   "source": [
    "https://pandas.pydata.org/docs/reference/api/pandas.read_excel.htmlpandas.read_excel <br> function signature in pandas excel webpage: (io, sheet_name=0, header=0, names=None, index_col=None, usecols=None, squeeze=False, dtype=None, engine=None, converters=None, true_values=None, false_values=None, skiprows=None, nrows=None, na_values=None, keep_default_na=True, na_filter=True, verbose=False, parse_dates=False, date_parser=None, thousands=None, comment=None, skipfooter=0, convert_float=None, mangle_dupe_cols=True, storage_options=None)¶\n",
    "skiprows is what we need"
   ]
  },
  {
   "cell_type": "markdown",
   "id": "d21013d1-0794-4779-97d8-ef5fed6aab59",
   "metadata": {},
   "source": [
    "## fetch earlier year points data and save in data files"
   ]
  },
  {
   "cell_type": "markdown",
   "id": "f241ccb2-a3bf-4ded-b45a-be29d2db2581",
   "metadata": {},
   "source": [
    "<br>\n",
    "\n",
    "## 2019 points\n",
    "\n",
    "http://www.cao.ie/index.php?page=points&p=2019\n",
    "\n",
    "***"
   ]
  },
  {
   "cell_type": "markdown",
   "id": "95ebe4cb-0553-4268-af07-bcab507a9990",
   "metadata": {},
   "source": [
    "-Note the 2019 and earlier points are in pdf format<br>\n",
    "Main points inndex url: <br>\n",
    "https://www.cao.ie/index.php?page=points\n"
   ]
  },
  {
   "cell_type": "markdown",
   "id": "b117640c-f8a2-489a-a8c6-7e1535f46995",
   "metadata": {},
   "source": [
    "<br>\n",
    "### steps to reproduce the 2019 editable:\n",
    "****\n"
   ]
  },
  {
   "cell_type": "raw",
   "id": "50a66103-ea8c-47d7-afc9-5ee02a57a103",
   "metadata": {},
   "source": [
    "Python libraries to check out to 'scrape pdf's':\n",
    "\n",
    "Tabula,Camelot,Excalibur"
   ]
  },
  {
   "cell_type": "markdown",
   "id": "61c907b3-429f-43e4-987c-8064b60caa86",
   "metadata": {},
   "source": [
    "Manual way of extracting:\n",
    "1. save pdf in repository\n",
    "2. open original with MS Word (may need to 'choose other app to open' in dropdown\n",
    "3. MS Word converts pdf to Word\n",
    "4. Save file as xxxxx.docx format\n",
    "5. Resave a copy to edit in repo as xxxxx_edited.docx\n",
    "6  Delete headers and footers\n",
    "7. delete preamble on page 1\n",
    "8. Ctrl 'A', Ctrl 'C' to copy all data in the 21 separate tables\n",
    "9. Open notepad++ and paste 'Ctrl V'\n"
   ]
  },
  {
   "cell_type": "markdown",
   "id": "f1b839e7-1407-40c7-ad09-2ad26172639e",
   "metadata": {},
   "source": [
    "### manual editing in notepad ++\n",
    "1. Add HEI to header\n",
    "2.Select the 'College/Institute' i.e. 'Athlone Institute of Technology'\n",
    "3. Ctrl X to cut\n",
    "4. Move cursor to in front of AIT 1st course line\n",
    "5. Hold down ALT key and drag cursor down to all AIT courses\n",
    "6. Ctrl V to paste - click 'tab' key to create tabs\n",
    "7. Delete blank lines\n",
    "8. Put double quotes around college names as they have commas [select start of string with cursor-alt-type \"]\n",
    "9. Change backticks to apostrophes\n",
    "10. optional : \\t  in extended file 'replace all' with comma: replaces all the tabs with commas <br> however not recommended here as commas elsewhere will confuse. <br> best to leave tabs as delimiters  e.g. in effect its as 'tsv' tab serapated file but can save as csv\n",
    "11. find \\\\t replace with \\t finds the double tabs and removes them\n",
    "11. save file"
   ]
  },
  {
   "cell_type": "code",
   "execution_count": null,
   "id": "53ddad8d-61f0-46a3-9d21-195fac01a6a9",
   "metadata": {},
   "outputs": [],
   "source": [
    "df_2019 = pd.read_csv('data/cao2019_20211102_191031_edited.csv') "
   ]
  },
  {
   "cell_type": "code",
   "execution_count": null,
   "id": "32471d98-9b9e-4a95-bb1f-8ad32a2e9951",
   "metadata": {},
   "outputs": [],
   "source": []
  },
  {
   "cell_type": "code",
   "execution_count": 22,
   "id": "be24f14d-8f57-481e-a4a5-e81a7aebfe08",
   "metadata": {},
   "outputs": [
    {
     "data": {
      "text/plain": [
       "<Response [200]>"
      ]
     },
     "execution_count": 22,
     "metadata": {},
     "output_type": "execute_result"
    }
   ],
   "source": [
    "# fetch the CAO points URL.  The url for earlier years takes you to a pdf version\n",
    "# However the python code to fetch appears to work\n",
    "resp = rq.get ('http://www2.cao.ie/points/lvl8_19.pdf')\n",
    "#have a quick peek\n",
    "resp\n",
    "# resp [200] means html response is in order.  [404] if returns means it is not found .  These are http codes"
   ]
  },
  {
   "cell_type": "code",
   "execution_count": null,
   "id": "0b0b3fe6-10f3-4934-b67e-2caf6782d206",
   "metadata": {},
   "outputs": [],
   "source": [
    "path = 'data/cao2019_' + now.strftime('%Y%m%d_%H%M%S')  + '.html'\n",
    "now.strftime('%Y%m%d_%H%M%S')\n",
    "#save the original html file\n",
    "with open(path, 'w') as f:\n",
    "    f.write(resp.text)   "
   ]
  },
  {
   "cell_type": "code",
   "execution_count": null,
   "id": "2aa55fa4-88bd-489b-aa7e-c2a0acc13779",
   "metadata": {},
   "outputs": [],
   "source": []
  },
  {
   "cell_type": "code",
   "execution_count": null,
   "id": "fd7e42a0-53a5-44c0-a427-9f60ce3ef71a",
   "metadata": {},
   "outputs": [],
   "source": []
  },
  {
   "cell_type": "code",
   "execution_count": null,
   "id": "88a9a2f5-b95c-45ee-9349-df53e9e2d7ab",
   "metadata": {},
   "outputs": [],
   "source": []
  },
  {
   "cell_type": "markdown",
   "id": "a832b31a-cc88-48c5-a8d9-634307c2772c",
   "metadata": {},
   "source": [
    "#### fetch 2018"
   ]
  },
  {
   "cell_type": "code",
   "execution_count": null,
   "id": "431e3d55-b7f0-4695-8aa0-627f78676a9f",
   "metadata": {},
   "outputs": [],
   "source": [
    "resp = rq.get ('http://www2.cao.ie/points/lvl8_18.pdf')\n",
    "resp"
   ]
  },
  {
   "cell_type": "code",
   "execution_count": null,
   "id": "eb094ba2-7fcf-4466-aea7-5425a15978dc",
   "metadata": {},
   "outputs": [],
   "source": [
    "path = 'data/cao2018_' + now.strftime('%Y%m%d_%H%M%S')  + '.html'\n",
    "now.strftime('%Y%m%d_%H%M%S')\n",
    "#save the original html file\n",
    "with open(path, 'w') as f:\n",
    "    f.write(resp.text) "
   ]
  },
  {
   "cell_type": "code",
   "execution_count": null,
   "id": "5e9f972d-0be4-4880-a528-f448d70e46b5",
   "metadata": {},
   "outputs": [],
   "source": []
  },
  {
   "cell_type": "markdown",
   "id": "422e3ef6-77e9-4a89-a83b-2c5b63c5da6a",
   "metadata": {},
   "source": [
    "###How to convert pdf to csv in python- further reading: <br>\n",
    "-https://stackoverflow.com/questions/49560486/how-to-convert-pdf-to-csv-with-tabula-py"
   ]
  },
  {
   "cell_type": "code",
   "execution_count": null,
   "id": "c753a0db-5b1c-4e3b-85d3-adb83db5c052",
   "metadata": {},
   "outputs": [],
   "source": []
  },
  {
   "cell_type": "code",
   "execution_count": null,
   "id": "1332245b-d34a-4401-9ba0-21531e93a00c",
   "metadata": {},
   "outputs": [],
   "source": []
  },
  {
   "cell_type": "code",
   "execution_count": null,
   "id": "996e8820-4037-48f6-b56b-5c4fcdada3d3",
   "metadata": {},
   "outputs": [],
   "source": []
  },
  {
   "cell_type": "code",
   "execution_count": null,
   "id": "187be41e-223c-4321-89b4-3c0c0cc559eb",
   "metadata": {},
   "outputs": [],
   "source": []
  },
  {
   "cell_type": "markdown",
   "id": "38e5b09b-171c-421b-896f-2e02660618bb",
   "metadata": {},
   "source": [
    "https://www.prepressure.com/library/technology/ascii-binary-hex\n",
    "\n",
    "http://www.i18nqa.com/debug/table-iso8859-1-vs-windows-1252.html\n",
    "\n",
    "https://docs.python.org/3/library/datetime.html"
   ]
  },
  {
   "cell_type": "code",
   "execution_count": null,
   "id": "f0907a72-bf96-4e2d-a5d1-988f0bcd35eb",
   "metadata": {},
   "outputs": [],
   "source": [
    "#strftime turns datetime to strings\n",
    "#strptime turns strings into datetime"
   ]
  }
 ],
 "metadata": {
  "kernelspec": {
   "display_name": "Python 3",
   "language": "python",
   "name": "python3"
  },
  "language_info": {
   "codemirror_mode": {
    "name": "ipython",
    "version": 3
   },
   "file_extension": ".py",
   "mimetype": "text/x-python",
   "name": "python",
   "nbconvert_exporter": "python",
   "pygments_lexer": "ipython3",
   "version": "3.8.8"
  }
 },
 "nbformat": 4,
 "nbformat_minor": 5
}
