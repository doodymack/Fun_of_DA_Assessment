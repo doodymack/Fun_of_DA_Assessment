{
 "cells": [
  {
   "cell_type": "markdown",
   "id": "579609fe-3c5d-44ed-86bc-1958f51d292b",
   "metadata": {},
   "source": [
    "#  Fundamentals of Data Analytics Winter Assessment 2021-2022\n",
    "### Author: Paul Mc Grath"
   ]
  },
  {
   "cell_type": "markdown",
   "id": "cc544b01-7d5f-4a20-b67a-bdc32f9ecf74",
   "metadata": {},
   "source": [
    " ## CAO Points Notebook\n",
    " \n",
    "  This notebook intent is to: \n",
    " - clear and concise overview of how to load CAO points info from the CAO website into a PANDAS dataframe\n",
    " - Detailed comparison of CAO points in 2019,2020,2021 using the functionality in pandas\n",
    " - Appropriate plots and other visuaizations to enhance your notebook for viewers"
   ]
  },
  {
   "cell_type": "markdown",
   "id": "93b8acac-cf09-46cb-bb14-925ec53520cc",
   "metadata": {},
   "source": [
    "### CAO points URL:\n",
    "http://www2.cao.ie/points/l8.php <br>\n",
    "Note: 'PHP' indicates that the webpage has been programmed using PHP, a server side scripting language."
   ]
  },
  {
   "cell_type": "code",
   "execution_count": 1,
   "id": "aa310ef9-c0c1-41e2-80c2-93a0b0ce333a",
   "metadata": {},
   "outputs": [],
   "source": [
    "#convenient http requests\n",
    "import requests as rq\n",
    "\n",
    "# regular expressions\n",
    "import re\n",
    "\n",
    "#dates and times\n",
    "import datetime as dt\n",
    "\n",
    "# for dataframes import pandas\n",
    "# v useful to get data from spreadsheets\n",
    "import pandas as pd\n",
    "\n",
    "#for downloading files to python\n",
    "import urllib.request as urlrq\n",
    "\n",
    "# for plotting\n",
    "import numpy as np\n",
    "\n",
    "import warnings;\n",
    "warnings.filterwarnings('ignore');\n"
   ]
  },
  {
   "cell_type": "code",
   "execution_count": 2,
   "id": "399626a3-4075-4c6d-8c12-8ca93557b3e9",
   "metadata": {},
   "outputs": [
    {
     "data": {
      "text/plain": [
       "datetime.datetime(2022, 1, 3, 17, 53, 18, 241790)"
      ]
     },
     "execution_count": 2,
     "metadata": {},
     "output_type": "execute_result"
    }
   ],
   "source": [
    "#datetime function has a data structure called datetime\n",
    "#field for time, day ,month etc\n",
    "#dt.datetime.now()\n",
    "now = dt.datetime.now()\n",
    "now"
   ]
  },
  {
   "cell_type": "code",
   "execution_count": 3,
   "id": "430df60b-1073-431b-b72d-2bf14791e32d",
   "metadata": {},
   "outputs": [],
   "source": [
    "# format now as a string\n",
    "#if have datetimestamp as separate and unique at the start of the notebook\n",
    "# then potentially can overwrite but on positive side all files \n",
    "# created in logbook run will have the same datetimestamp so neater and can track\n",
    "#2020 datafile saved as'now' file is equivalent to corresponding 2021 saved as same'now' etc\n",
    "nowstr = now.strftime('%Y%m%d_%H%M%S')"
   ]
  },
  {
   "cell_type": "code",
   "execution_count": 4,
   "id": "fc02c6bd-28e1-4ad1-b9d9-a7e9a063854b",
   "metadata": {},
   "outputs": [
    {
     "name": "stdout",
     "output_type": "stream",
     "text": [
      "2022-01-03 17:53:18.241790\n"
     ]
    }
   ],
   "source": [
    "print(now)"
   ]
  },
  {
   "cell_type": "markdown",
   "id": "c44f6192-45a8-4b85-a378-960f019feaf5",
   "metadata": {},
   "source": [
    "<br>\n",
    "\n",
    "## 2021 points\n",
    "\n",
    "***\n"
   ]
  },
  {
   "cell_type": "code",
   "execution_count": 5,
   "id": "38fe408f-2e6c-4bed-818a-2c6bd017383a",
   "metadata": {},
   "outputs": [
    {
     "data": {
      "text/plain": [
       "<Response [200]>"
      ]
     },
     "execution_count": 5,
     "metadata": {},
     "output_type": "execute_result"
    }
   ],
   "source": [
    "# fetch the CAO points URL\n",
    "# resp= response from the URL\n",
    "# rq= request library\n",
    "# get= get the URL (HTTP)\n",
    "resp_2021 = rq.get ('http://www2.cao.ie/points/l8.php')\n",
    "#have a quick peek\n",
    "resp_2021\n",
    "# response [200] means html response is in order. [404] if returns means it is not found. "
   ]
  },
  {
   "cell_type": "markdown",
   "id": "c249bc87-f081-4e75-973b-3e4841a2673b",
   "metadata": {},
   "source": [
    "### Save the original dataset\n",
    "Use the current time (changed to str above) as a filename"
   ]
  },
  {
   "cell_type": "code",
   "execution_count": 6,
   "id": "c235c6e6-c5d5-4c7b-9153-4383e3404956",
   "metadata": {},
   "outputs": [],
   "source": [
    "# use only alphanumeric characters,dash and dot in file names\n",
    "# create a filepath for the original data\n",
    "# use year at start to ensure alphabetic sorted when filed\n",
    "# below creates the EMPTY html file and saves it in a new 'data' folder in active location  ie. \\repo\\Fun_of..\n",
    "path2021html = 'data/cao2021_' + nowstr + '.html'"
   ]
  },
  {
   "cell_type": "markdown",
   "id": "5d6cb10c-9ba2-4526-994d-150440842351",
   "metadata": {},
   "source": [
    "<br>\n",
    "\n",
    "### Fix of encoding\n",
    "\n",
    "The server uses the wrong encoding fix it before saving\n",
    "\n",
    "---"
   ]
  },
  {
   "cell_type": "code",
   "execution_count": 7,
   "id": "602ab426-3d20-4773-94dd-1fc72f2b6cc4",
   "metadata": {},
   "outputs": [],
   "source": [
    "#RESP = RESPONSE\n",
    "#'resp.text' takes the response and converts it to text- but still has original errors\n",
    "#thus not best way to save THIS original file\n",
    "#but resp.text is a typical way to save"
   ]
  },
  {
   "cell_type": "markdown",
   "id": "37dacac1-a7ad-4d93-857f-25065757ae83",
   "metadata": {},
   "source": [
    "<br>\n",
    "\n",
    "**error on the server= way to fix**\n",
    "\n",
    "match only the lines we want -the ones representing courses \n",
    " technically the server says we should decode as:\n",
    " \n",
    "content-type: text/html; charset: iso-8859-1\n",
    "\n",
    "  but\n",
    "    -one line uses /x96 which isn't defined in iso-8859-1\n",
    "    -therefore we used the similiar decoding standard (codec) cp-1252 which is very similar but includes \\x96"
   ]
  },
  {
   "cell_type": "code",
   "execution_count": 8,
   "id": "0e4567c7-682e-432e-97ce-c40f3de452d5",
   "metadata": {},
   "outputs": [],
   "source": [
    "# The server uses the wrong encoding, fix it\n",
    "original_encoding = resp_2021.encoding\n",
    "\n",
    "# Change to cp1252\n",
    "resp_2021.encoding = 'cp1252'"
   ]
  },
  {
   "cell_type": "code",
   "execution_count": 9,
   "id": "d1835331-dbf7-471a-a0ca-173f7c4f4b73",
   "metadata": {},
   "outputs": [],
   "source": [
    "#save the original html file:\n",
    "# using the updated coding cp1252 as a TEXT file\n",
    "#this file is not used in the regular expression script but saved as a record \n",
    "\n",
    "with open(path2021html, 'w') as f:\n",
    "    f.write(resp_2021.text)    "
   ]
  },
  {
   "cell_type": "markdown",
   "id": "9482012f-b7c9-49d6-ac1c-72998c198848",
   "metadata": {},
   "source": [
    "#### Looping/scraping through html\n",
    "python looks for html codes such as \\n \\t <br>\n",
    "i.e. \\n is a new line (common Unix command)<br>\n",
    "<resp.text><br>\n",
    "how to loop through (iterate through) the lines in request: <br>\n",
    "<for line in resp.iter_lines():> <br>\n",
    "    <print(line)><br>\n",
    ":outputs the raw html<br>"
   ]
  },
  {
   "cell_type": "markdown",
   "id": "8e3b8e48-c5f9-4cc9-91c3-894c77ba952a",
   "metadata": {},
   "source": [
    "#### compile the regular expression for matching lines\n",
    "re= regular expression. Each character is a string but together form an instruction<br>\n",
    "r' = 'raw' used in python. It means don't evaluate backslashes in encountered string literals  i.e. \\n \\t i.e <br>\n",
    "\\*? = if compiler encounters a three number pattern followed by an asterisk- that is acceptable and include in the compliler<br>\n",
    "the following asterisk ('wild card') means zero or more characters after this are allowed<br>\n",
    "examples for 2021 CAO html:<br>\n",
    "<re_course = re.compile(r'([A-Z]{2}[0-9]{3})  (.*)([0-9]{3})(.*)')><br>\n",
    "<re_course = re.compile(r'([A-Z]{2}[0-9]{3})  (.*)([0-9]{3})(\\*?) *')>"
   ]
  },
  {
   "cell_type": "code",
   "execution_count": 10,
   "id": "814bb1a8-947b-4530-a360-1accabfe4b3a",
   "metadata": {},
   "outputs": [],
   "source": [
    "#compile the regular expression for matching lines\n",
    "#shortened RE to simplify i.e. does the line have two alphabetic characters followed by three numbers followed by anything else\n",
    "re_course = re.compile(r'([A-Z]{2}[0-9]{3})(.*)')"
   ]
  },
  {
   "cell_type": "markdown",
   "id": "a1ff1304-aef3-474c-b67e-7dd55dcd4003",
   "metadata": {},
   "source": [
    "<br>\n",
    "\n",
    "#### 2021 course count anomaly\n",
    "\n",
    "***\n"
   ]
  },
  {
   "cell_type": "markdown",
   "id": "9e3b8682-fb4a-417a-8286-aea3e3269044",
   "metadata": {},
   "source": [
    "<br>\n",
    " \n",
    "when use re_course = re.compile(r'([A-Z]{2}[0-9]{3})(.*)') course count = 949\n",
    "re_course = re.compile(r'([A-Z]{2}[0-9]{3})  (.*)([0-9]{3})(\\*?) *')  course count = 922\n",
    "\n",
    "The difference is the simpler 1st regular expression returns courses (code and course title) without an associated points entry e.g. \n",
    "AL811,Civil Engineering,,\n",
    "\n",
    "<img src=\"images/CAOhtmlscreenshot.png\" width=\"300\"/>\n",
    "\n",
    "A direct comparison of the two files in Notepad ++ identified the following lines returned with the simpler regular expression which accounts for the difference: <br>\n",
    "1.\tAL811,Civil Engineering,,\n",
    "2.\tCK114,Social Science (Youth and Community Work),#,\n",
    "3.\tCK115,Social Work - Mature Applicants only,,\n",
    "4.\tCK791,Medicine  - Graduate Entry (GAMSAT required),#60*,#60*\n",
    "5.\tDB503,Computing (Software Development),,\n",
    "6.\tDB504,Computing (Web and Mobile Technology),,\n",
    "7.\tGC402,Business (HRM),,\n",
    "8.\tID001,Accounting and Finance,,\n",
    "9.\tID002,Business Studies,,\n",
    "10.\tRC101,Medicine - Graduate Entry (GAMSAT required),,\n",
    "11.\tDN301,Veterinary Medicine - Graduate Entry (GAMSAT requi,,\n",
    "12.\tDN401,Medicine - Graduate Entry (GAMSAT required),#61*,\n",
    "13.\tDN411,Radiography - Graduate Entry,#,\n",
    "14.\tDK885,Agri-Food Production,,\n",
    "15.\tGA892,Community Development and Youth Work (Level 8),,\n",
    "16.\tGA983,Furniture and Digital Manufacturing,,\n",
    "17.\tLM101,Medicine  - Graduate Entry (GAMSAT required),#57*,\n",
    "18.\tMU002,Theology,,\n",
    "19.\tMH002,Education - Primary Teaching - Gaeltacht Applicant,,\n",
    "20.\tMH103,Music,#,\n",
    "21.\tMH116,Community and Youth Work (Full-Time),#,\n",
    "22.\tMH801,Early Childhood - Teaching and Learning (part-time,AQA,AQA\n",
    "23.\tMH802,Community and Youth Work (part-time  in service),,#\n",
    "24.\tMH803,Local Studies/Community Studies (part-time  evenin,,#\n",
    "25.\tSG349,Electronics and Self Driving Technologies,,\n",
    "26.\tTL842,Construction Management,,\n",
    "27.\tTL889,Counselling with Addiction - Mature applicants onl,,\n",
    "\n",
    "**However there is no guarantee that these courses do have points for latter years.**<br>\n",
    "**Therefore the shorter regular expression which matches to both lines with course/course points listed.**<br>\n",
    "**Lines with just course listed is the recommended regular expression to use.**"
   ]
  },
  {
   "cell_type": "markdown",
   "id": "e79da0d0-5bab-48f9-9086-27e607abb1be",
   "metadata": {},
   "source": [
    "<br>\n",
    "\n",
    "### Loop through the lines of the response\n",
    "Use the regular expression in code to create dataset\n",
    "\n",
    "---"
   ]
  },
  {
   "cell_type": "code",
   "execution_count": 11,
   "id": "49b2130b-f8ca-42ad-8e82-6a9f3e6bddf1",
   "metadata": {},
   "outputs": [],
   "source": [
    "#the filepath for the csv file- which is the output of the below script\n",
    "#path2021csv = 'data/cao2021_csv' + now.strftime('%Y%m%d_%H%M%S')  + '.csv'\n",
    "path2021csv = 'data/cao2021_csv' + nowstr + '.csv'"
   ]
  },
  {
   "cell_type": "code",
   "execution_count": 12,
   "id": "46603dcf-4b0c-44d8-8806-d5dd71de1fca",
   "metadata": {},
   "outputs": [
    {
     "name": "stdout",
     "output_type": "stream",
     "text": [
      "Total number of lines is 949.\n"
     ]
    }
   ],
   "source": [
    "#loop through the html using the regular expression returning the required data into a comma separated file (csv)\n",
    "no_lines = 0\n",
    "with open(path2021csv, 'w') as f:    \n",
    "    f.write(','.join(['code', 'title', 'pointsR1', 'pointsR2']) + '\\n')    \n",
    "    for line in resp_2021.iter_lines():        \n",
    "        dline = line.decode('cp1252')        \n",
    "        if re_course.fullmatch(dline):            \n",
    "            no_lines = no_lines + 1  \n",
    "            course_code = dline[:5]                          \n",
    "            course_title = dline[7:57].strip()            \n",
    "            course_points = re.split(' +', dline[60:])                     \n",
    "            if len(course_points) != 2:\n",
    "                course_points = course_points[:2]            \n",
    "            linesplit = [course_code, course_title, course_points[0], course_points[1]]                        \n",
    "            f.write(','.join(linesplit) + '\\n')\n",
    "print(f\"Total number of lines is {no_lines}.\")"
   ]
  },
  {
   "cell_type": "markdown",
   "id": "ae814b01-c0f8-4852-829a-2c1e9a4c7c99",
   "metadata": {},
   "source": [
    "<br>\n",
    "\n",
    "**Note: it was verfied at time of running the code that there were 949 courses exactly in the CAO 2021 points list as per URL**\n",
    "\n",
    "---"
   ]
  },
  {
   "cell_type": "markdown",
   "id": "10eec7e8-b621-4fe6-84fe-44ac600c6b87",
   "metadata": {},
   "source": [
    "#### Create a pandas dataframe with 2021 csv data"
   ]
  },
  {
   "cell_type": "code",
   "execution_count": 13,
   "id": "59526e48-1993-495e-bd8f-6bd7f82288c4",
   "metadata": {},
   "outputs": [],
   "source": [
    "df2021 = pd.read_csv(path2021csv, encoding='cp1252')"
   ]
  },
  {
   "cell_type": "code",
   "execution_count": 14,
   "id": "30bbeb68-2de5-4ec1-abcc-c53cc2a71793",
   "metadata": {},
   "outputs": [
    {
     "data": {
      "text/html": [
       "<div>\n",
       "<style scoped>\n",
       "    .dataframe tbody tr th:only-of-type {\n",
       "        vertical-align: middle;\n",
       "    }\n",
       "\n",
       "    .dataframe tbody tr th {\n",
       "        vertical-align: top;\n",
       "    }\n",
       "\n",
       "    .dataframe thead th {\n",
       "        text-align: right;\n",
       "    }\n",
       "</style>\n",
       "<table border=\"1\" class=\"dataframe\">\n",
       "  <thead>\n",
       "    <tr style=\"text-align: right;\">\n",
       "      <th></th>\n",
       "      <th>code</th>\n",
       "      <th>title</th>\n",
       "      <th>pointsR1</th>\n",
       "      <th>pointsR2</th>\n",
       "    </tr>\n",
       "  </thead>\n",
       "  <tbody>\n",
       "    <tr>\n",
       "      <th>0</th>\n",
       "      <td>AL801</td>\n",
       "      <td>Software Design for Virtual Reality and Gaming</td>\n",
       "      <td>300</td>\n",
       "      <td>NaN</td>\n",
       "    </tr>\n",
       "    <tr>\n",
       "      <th>1</th>\n",
       "      <td>AL802</td>\n",
       "      <td>Software Design in Artificial Intelligence for...</td>\n",
       "      <td>313</td>\n",
       "      <td>NaN</td>\n",
       "    </tr>\n",
       "    <tr>\n",
       "      <th>2</th>\n",
       "      <td>AL803</td>\n",
       "      <td>Software Design for Mobile Apps and Connected ...</td>\n",
       "      <td>350</td>\n",
       "      <td>NaN</td>\n",
       "    </tr>\n",
       "    <tr>\n",
       "      <th>3</th>\n",
       "      <td>AL805</td>\n",
       "      <td>Computer Engineering for Network Infrastructure</td>\n",
       "      <td>321</td>\n",
       "      <td>NaN</td>\n",
       "    </tr>\n",
       "    <tr>\n",
       "      <th>4</th>\n",
       "      <td>AL810</td>\n",
       "      <td>Quantity Surveying</td>\n",
       "      <td>328</td>\n",
       "      <td>NaN</td>\n",
       "    </tr>\n",
       "    <tr>\n",
       "      <th>...</th>\n",
       "      <td>...</td>\n",
       "      <td>...</td>\n",
       "      <td>...</td>\n",
       "      <td>...</td>\n",
       "    </tr>\n",
       "    <tr>\n",
       "      <th>944</th>\n",
       "      <td>WD211</td>\n",
       "      <td>Creative Computing</td>\n",
       "      <td>270</td>\n",
       "      <td>NaN</td>\n",
       "    </tr>\n",
       "    <tr>\n",
       "      <th>945</th>\n",
       "      <td>WD212</td>\n",
       "      <td>Recreation and Sport Management</td>\n",
       "      <td>262</td>\n",
       "      <td>NaN</td>\n",
       "    </tr>\n",
       "    <tr>\n",
       "      <th>946</th>\n",
       "      <td>WD230</td>\n",
       "      <td>Mechanical and Manufacturing Engineering</td>\n",
       "      <td>230</td>\n",
       "      <td>230</td>\n",
       "    </tr>\n",
       "    <tr>\n",
       "      <th>947</th>\n",
       "      <td>WD231</td>\n",
       "      <td>Early Childhood Care and Education</td>\n",
       "      <td>266</td>\n",
       "      <td>NaN</td>\n",
       "    </tr>\n",
       "    <tr>\n",
       "      <th>948</th>\n",
       "      <td>WD232</td>\n",
       "      <td>Business Information Systems</td>\n",
       "      <td>261</td>\n",
       "      <td>261</td>\n",
       "    </tr>\n",
       "  </tbody>\n",
       "</table>\n",
       "<p>949 rows × 4 columns</p>\n",
       "</div>"
      ],
      "text/plain": [
       "      code                                              title pointsR1  \\\n",
       "0    AL801     Software Design for Virtual Reality and Gaming      300   \n",
       "1    AL802  Software Design in Artificial Intelligence for...      313   \n",
       "2    AL803  Software Design for Mobile Apps and Connected ...      350   \n",
       "3    AL805    Computer Engineering for Network Infrastructure      321   \n",
       "4    AL810                                 Quantity Surveying      328   \n",
       "..     ...                                                ...      ...   \n",
       "944  WD211                                 Creative Computing      270   \n",
       "945  WD212                    Recreation and Sport Management      262   \n",
       "946  WD230           Mechanical and Manufacturing Engineering      230   \n",
       "947  WD231                 Early Childhood Care and Education      266   \n",
       "948  WD232                       Business Information Systems      261   \n",
       "\n",
       "    pointsR2  \n",
       "0        NaN  \n",
       "1        NaN  \n",
       "2        NaN  \n",
       "3        NaN  \n",
       "4        NaN  \n",
       "..       ...  \n",
       "944      NaN  \n",
       "945      NaN  \n",
       "946      230  \n",
       "947      NaN  \n",
       "948      261  \n",
       "\n",
       "[949 rows x 4 columns]"
      ]
     },
     "execution_count": 14,
     "metadata": {},
     "output_type": "execute_result"
    }
   ],
   "source": [
    "# check the data (output of df2021)\n",
    "pd.options.display.max_rows = 20\n",
    "df2021"
   ]
  },
  {
   "cell_type": "markdown",
   "id": "e14377b3-09e6-4865-a270-03fcda1ed403",
   "metadata": {},
   "source": [
    "<br>\n",
    "\n",
    "## 2020 points\n",
    "\n",
    "***"
   ]
  },
  {
   "cell_type": "markdown",
   "id": "d3547d5f-c92c-4c18-adb5-ae88829f4c62",
   "metadata": {},
   "source": [
    "<br>\n",
    "\n",
    "##### 2020 Points URL: \n",
    "http://www.cao.ie/index.php?page=points&p=2020\n",
    "\n",
    "---"
   ]
  },
  {
   "cell_type": "markdown",
   "id": "e37672d2-651c-4586-8db7-e3de315baece",
   "metadata": {},
   "source": [
    "<br>\n",
    "\n",
    "### download and parse the excel spreadsheet using pandas\n",
    "\n",
    "---"
   ]
  },
  {
   "cell_type": "code",
   "execution_count": 15,
   "id": "7b349e84-e5e9-48bf-be11-6cafa08f7216",
   "metadata": {},
   "outputs": [],
   "source": [
    "#create a variable for the url to keep it neat\n",
    "url2020 = 'http://www2.cao.ie/points/CAOPointsCharts2020.xlsx'"
   ]
  },
  {
   "cell_type": "code",
   "execution_count": 16,
   "id": "f4594b3e-1b1a-410a-9214-a632a295dd81",
   "metadata": {},
   "outputs": [],
   "source": [
    "#download and parse the excel spreadsheet\n",
    "#skip the 1st 10 preamble rows\n",
    "df2020 = pd.read_excel (url2020, skiprows = 10)\n",
    "# however it reads the 1st 10 preamble headings \n",
    "# could save file and manually delete 1st 10 rows but better to use pandas functionality"
   ]
  },
  {
   "cell_type": "code",
   "execution_count": 17,
   "id": "b4815874-5719-466a-a538-417a3c467618",
   "metadata": {},
   "outputs": [
    {
     "data": {
      "text/html": [
       "<div>\n",
       "<style scoped>\n",
       "    .dataframe tbody tr th:only-of-type {\n",
       "        vertical-align: middle;\n",
       "    }\n",
       "\n",
       "    .dataframe tbody tr th {\n",
       "        vertical-align: top;\n",
       "    }\n",
       "\n",
       "    .dataframe thead th {\n",
       "        text-align: right;\n",
       "    }\n",
       "</style>\n",
       "<table border=\"1\" class=\"dataframe\">\n",
       "  <thead>\n",
       "    <tr style=\"text-align: right;\">\n",
       "      <th></th>\n",
       "      <th>CATEGORY (i.e.ISCED description)</th>\n",
       "      <th>COURSE TITLE</th>\n",
       "      <th>COURSE CODE2</th>\n",
       "      <th>R1 POINTS</th>\n",
       "      <th>R1 Random *</th>\n",
       "      <th>R2 POINTS</th>\n",
       "      <th>R2 Random*</th>\n",
       "      <th>EOS</th>\n",
       "      <th>EOS Random *</th>\n",
       "      <th>EOS Mid-point</th>\n",
       "      <th>...</th>\n",
       "      <th>avp</th>\n",
       "      <th>v</th>\n",
       "      <th>Column1</th>\n",
       "      <th>Column2</th>\n",
       "      <th>Column3</th>\n",
       "      <th>Column4</th>\n",
       "      <th>Column5</th>\n",
       "      <th>Column6</th>\n",
       "      <th>Column7</th>\n",
       "      <th>Column8</th>\n",
       "    </tr>\n",
       "  </thead>\n",
       "  <tbody>\n",
       "    <tr>\n",
       "      <th>0</th>\n",
       "      <td>Business and administration</td>\n",
       "      <td>International Business</td>\n",
       "      <td>AC120</td>\n",
       "      <td>209</td>\n",
       "      <td>NaN</td>\n",
       "      <td>NaN</td>\n",
       "      <td>NaN</td>\n",
       "      <td>209</td>\n",
       "      <td>NaN</td>\n",
       "      <td>280</td>\n",
       "      <td>...</td>\n",
       "      <td>NaN</td>\n",
       "      <td>NaN</td>\n",
       "      <td>NaN</td>\n",
       "      <td>NaN</td>\n",
       "      <td>NaN</td>\n",
       "      <td>NaN</td>\n",
       "      <td>NaN</td>\n",
       "      <td>NaN</td>\n",
       "      <td>NaN</td>\n",
       "      <td>NaN</td>\n",
       "    </tr>\n",
       "    <tr>\n",
       "      <th>1</th>\n",
       "      <td>Humanities (except languages)</td>\n",
       "      <td>Liberal Arts</td>\n",
       "      <td>AC137</td>\n",
       "      <td>252</td>\n",
       "      <td>NaN</td>\n",
       "      <td>NaN</td>\n",
       "      <td>NaN</td>\n",
       "      <td>252</td>\n",
       "      <td>NaN</td>\n",
       "      <td>270</td>\n",
       "      <td>...</td>\n",
       "      <td>NaN</td>\n",
       "      <td>NaN</td>\n",
       "      <td>NaN</td>\n",
       "      <td>NaN</td>\n",
       "      <td>NaN</td>\n",
       "      <td>NaN</td>\n",
       "      <td>NaN</td>\n",
       "      <td>NaN</td>\n",
       "      <td>NaN</td>\n",
       "      <td>NaN</td>\n",
       "    </tr>\n",
       "    <tr>\n",
       "      <th>2</th>\n",
       "      <td>Arts</td>\n",
       "      <td>First Year Art &amp; Design (Common Entry,portfolio)</td>\n",
       "      <td>AD101</td>\n",
       "      <td>#+matric</td>\n",
       "      <td>NaN</td>\n",
       "      <td>NaN</td>\n",
       "      <td>NaN</td>\n",
       "      <td>#+matric</td>\n",
       "      <td>NaN</td>\n",
       "      <td>#+matric</td>\n",
       "      <td>...</td>\n",
       "      <td>NaN</td>\n",
       "      <td>NaN</td>\n",
       "      <td>NaN</td>\n",
       "      <td>NaN</td>\n",
       "      <td>NaN</td>\n",
       "      <td>NaN</td>\n",
       "      <td>NaN</td>\n",
       "      <td>NaN</td>\n",
       "      <td>NaN</td>\n",
       "      <td>NaN</td>\n",
       "    </tr>\n",
       "    <tr>\n",
       "      <th>3</th>\n",
       "      <td>Arts</td>\n",
       "      <td>Graphic Design and Moving Image Design (portfo...</td>\n",
       "      <td>AD102</td>\n",
       "      <td>#+matric</td>\n",
       "      <td>NaN</td>\n",
       "      <td>NaN</td>\n",
       "      <td>NaN</td>\n",
       "      <td>#+matric</td>\n",
       "      <td>NaN</td>\n",
       "      <td>#+matric</td>\n",
       "      <td>...</td>\n",
       "      <td>NaN</td>\n",
       "      <td>NaN</td>\n",
       "      <td>NaN</td>\n",
       "      <td>NaN</td>\n",
       "      <td>NaN</td>\n",
       "      <td>NaN</td>\n",
       "      <td>NaN</td>\n",
       "      <td>NaN</td>\n",
       "      <td>NaN</td>\n",
       "      <td>NaN</td>\n",
       "    </tr>\n",
       "    <tr>\n",
       "      <th>4</th>\n",
       "      <td>Arts</td>\n",
       "      <td>Textile &amp; Surface Design and Jewellery &amp; Objec...</td>\n",
       "      <td>AD103</td>\n",
       "      <td>#+matric</td>\n",
       "      <td>NaN</td>\n",
       "      <td>NaN</td>\n",
       "      <td>NaN</td>\n",
       "      <td>#+matric</td>\n",
       "      <td>NaN</td>\n",
       "      <td>#+matric</td>\n",
       "      <td>...</td>\n",
       "      <td>NaN</td>\n",
       "      <td>NaN</td>\n",
       "      <td>NaN</td>\n",
       "      <td>NaN</td>\n",
       "      <td>NaN</td>\n",
       "      <td>NaN</td>\n",
       "      <td>NaN</td>\n",
       "      <td>NaN</td>\n",
       "      <td>NaN</td>\n",
       "      <td>NaN</td>\n",
       "    </tr>\n",
       "    <tr>\n",
       "      <th>...</th>\n",
       "      <td>...</td>\n",
       "      <td>...</td>\n",
       "      <td>...</td>\n",
       "      <td>...</td>\n",
       "      <td>...</td>\n",
       "      <td>...</td>\n",
       "      <td>...</td>\n",
       "      <td>...</td>\n",
       "      <td>...</td>\n",
       "      <td>...</td>\n",
       "      <td>...</td>\n",
       "      <td>...</td>\n",
       "      <td>...</td>\n",
       "      <td>...</td>\n",
       "      <td>...</td>\n",
       "      <td>...</td>\n",
       "      <td>...</td>\n",
       "      <td>...</td>\n",
       "      <td>...</td>\n",
       "      <td>...</td>\n",
       "      <td>...</td>\n",
       "    </tr>\n",
       "    <tr>\n",
       "      <th>1459</th>\n",
       "      <td>Manufacturing and processing</td>\n",
       "      <td>Manufacturing Engineering</td>\n",
       "      <td>WD208</td>\n",
       "      <td>188</td>\n",
       "      <td>NaN</td>\n",
       "      <td>NaN</td>\n",
       "      <td>NaN</td>\n",
       "      <td>188</td>\n",
       "      <td>NaN</td>\n",
       "      <td>339</td>\n",
       "      <td>...</td>\n",
       "      <td>NaN</td>\n",
       "      <td>NaN</td>\n",
       "      <td>NaN</td>\n",
       "      <td>NaN</td>\n",
       "      <td>NaN</td>\n",
       "      <td>NaN</td>\n",
       "      <td>NaN</td>\n",
       "      <td>NaN</td>\n",
       "      <td>NaN</td>\n",
       "      <td>NaN</td>\n",
       "    </tr>\n",
       "    <tr>\n",
       "      <th>1460</th>\n",
       "      <td>Information and Communication Technologies (ICTs)</td>\n",
       "      <td>Software Systems Development</td>\n",
       "      <td>WD210</td>\n",
       "      <td>279</td>\n",
       "      <td>NaN</td>\n",
       "      <td>NaN</td>\n",
       "      <td>NaN</td>\n",
       "      <td>279</td>\n",
       "      <td>NaN</td>\n",
       "      <td>337</td>\n",
       "      <td>...</td>\n",
       "      <td>NaN</td>\n",
       "      <td>NaN</td>\n",
       "      <td>NaN</td>\n",
       "      <td>NaN</td>\n",
       "      <td>NaN</td>\n",
       "      <td>NaN</td>\n",
       "      <td>NaN</td>\n",
       "      <td>NaN</td>\n",
       "      <td>NaN</td>\n",
       "      <td>NaN</td>\n",
       "    </tr>\n",
       "    <tr>\n",
       "      <th>1461</th>\n",
       "      <td>Information and Communication Technologies (ICTs)</td>\n",
       "      <td>Creative Computing</td>\n",
       "      <td>WD211</td>\n",
       "      <td>271</td>\n",
       "      <td>NaN</td>\n",
       "      <td>NaN</td>\n",
       "      <td>NaN</td>\n",
       "      <td>271</td>\n",
       "      <td>NaN</td>\n",
       "      <td>318</td>\n",
       "      <td>...</td>\n",
       "      <td>NaN</td>\n",
       "      <td>NaN</td>\n",
       "      <td>NaN</td>\n",
       "      <td>NaN</td>\n",
       "      <td>NaN</td>\n",
       "      <td>NaN</td>\n",
       "      <td>NaN</td>\n",
       "      <td>NaN</td>\n",
       "      <td>NaN</td>\n",
       "      <td>NaN</td>\n",
       "    </tr>\n",
       "    <tr>\n",
       "      <th>1462</th>\n",
       "      <td>Personal services</td>\n",
       "      <td>Recreation and Sport Management</td>\n",
       "      <td>WD212</td>\n",
       "      <td>270</td>\n",
       "      <td>NaN</td>\n",
       "      <td>NaN</td>\n",
       "      <td>NaN</td>\n",
       "      <td>270</td>\n",
       "      <td>NaN</td>\n",
       "      <td>349</td>\n",
       "      <td>...</td>\n",
       "      <td>NaN</td>\n",
       "      <td>NaN</td>\n",
       "      <td>NaN</td>\n",
       "      <td>NaN</td>\n",
       "      <td>NaN</td>\n",
       "      <td>NaN</td>\n",
       "      <td>NaN</td>\n",
       "      <td>NaN</td>\n",
       "      <td>NaN</td>\n",
       "      <td>NaN</td>\n",
       "    </tr>\n",
       "    <tr>\n",
       "      <th>1463</th>\n",
       "      <td>Engineering and engineering trades</td>\n",
       "      <td>Mechanical and Manufacturing Engineering</td>\n",
       "      <td>WD230</td>\n",
       "      <td>253</td>\n",
       "      <td>NaN</td>\n",
       "      <td>NaN</td>\n",
       "      <td>NaN</td>\n",
       "      <td>253</td>\n",
       "      <td>NaN</td>\n",
       "      <td>369</td>\n",
       "      <td>...</td>\n",
       "      <td>NaN</td>\n",
       "      <td>NaN</td>\n",
       "      <td>NaN</td>\n",
       "      <td>NaN</td>\n",
       "      <td>NaN</td>\n",
       "      <td>NaN</td>\n",
       "      <td>NaN</td>\n",
       "      <td>NaN</td>\n",
       "      <td>NaN</td>\n",
       "      <td>NaN</td>\n",
       "    </tr>\n",
       "  </tbody>\n",
       "</table>\n",
       "<p>1464 rows × 23 columns</p>\n",
       "</div>"
      ],
      "text/plain": [
       "                       CATEGORY (i.e.ISCED description)  \\\n",
       "0                           Business and administration   \n",
       "1                         Humanities (except languages)   \n",
       "2                                                  Arts   \n",
       "3                                                  Arts   \n",
       "4                                                  Arts   \n",
       "...                                                 ...   \n",
       "1459                       Manufacturing and processing   \n",
       "1460  Information and Communication Technologies (ICTs)   \n",
       "1461  Information and Communication Technologies (ICTs)   \n",
       "1462                                  Personal services   \n",
       "1463                 Engineering and engineering trades   \n",
       "\n",
       "                                           COURSE TITLE COURSE CODE2  \\\n",
       "0                                International Business        AC120   \n",
       "1                                          Liberal Arts        AC137   \n",
       "2      First Year Art & Design (Common Entry,portfolio)        AD101   \n",
       "3     Graphic Design and Moving Image Design (portfo...        AD102   \n",
       "4     Textile & Surface Design and Jewellery & Objec...        AD103   \n",
       "...                                                 ...          ...   \n",
       "1459                          Manufacturing Engineering        WD208   \n",
       "1460                       Software Systems Development        WD210   \n",
       "1461                                 Creative Computing        WD211   \n",
       "1462                    Recreation and Sport Management        WD212   \n",
       "1463           Mechanical and Manufacturing Engineering        WD230   \n",
       "\n",
       "     R1 POINTS R1 Random * R2 POINTS R2 Random*       EOS EOS Random *  \\\n",
       "0          209         NaN       NaN        NaN       209          NaN   \n",
       "1          252         NaN       NaN        NaN       252          NaN   \n",
       "2     #+matric         NaN       NaN        NaN  #+matric          NaN   \n",
       "3     #+matric         NaN       NaN        NaN  #+matric          NaN   \n",
       "4     #+matric         NaN       NaN        NaN  #+matric          NaN   \n",
       "...        ...         ...       ...        ...       ...          ...   \n",
       "1459       188         NaN       NaN        NaN       188          NaN   \n",
       "1460       279         NaN       NaN        NaN       279          NaN   \n",
       "1461       271         NaN       NaN        NaN       271          NaN   \n",
       "1462       270         NaN       NaN        NaN       270          NaN   \n",
       "1463       253         NaN       NaN        NaN       253          NaN   \n",
       "\n",
       "     EOS Mid-point  ...  avp    v Column1 Column2 Column3  Column4  Column5  \\\n",
       "0              280  ...  NaN  NaN     NaN     NaN     NaN      NaN      NaN   \n",
       "1              270  ...  NaN  NaN     NaN     NaN     NaN      NaN      NaN   \n",
       "2         #+matric  ...  NaN  NaN     NaN     NaN     NaN      NaN      NaN   \n",
       "3         #+matric  ...  NaN  NaN     NaN     NaN     NaN      NaN      NaN   \n",
       "4         #+matric  ...  NaN  NaN     NaN     NaN     NaN      NaN      NaN   \n",
       "...            ...  ...  ...  ...     ...     ...     ...      ...      ...   \n",
       "1459           339  ...  NaN  NaN     NaN     NaN     NaN      NaN      NaN   \n",
       "1460           337  ...  NaN  NaN     NaN     NaN     NaN      NaN      NaN   \n",
       "1461           318  ...  NaN  NaN     NaN     NaN     NaN      NaN      NaN   \n",
       "1462           349  ...  NaN  NaN     NaN     NaN     NaN      NaN      NaN   \n",
       "1463           369  ...  NaN  NaN     NaN     NaN     NaN      NaN      NaN   \n",
       "\n",
       "      Column6  Column7  Column8  \n",
       "0         NaN      NaN      NaN  \n",
       "1         NaN      NaN      NaN  \n",
       "2         NaN      NaN      NaN  \n",
       "3         NaN      NaN      NaN  \n",
       "4         NaN      NaN      NaN  \n",
       "...       ...      ...      ...  \n",
       "1459      NaN      NaN      NaN  \n",
       "1460      NaN      NaN      NaN  \n",
       "1461      NaN      NaN      NaN  \n",
       "1462      NaN      NaN      NaN  \n",
       "1463      NaN      NaN      NaN  \n",
       "\n",
       "[1464 rows x 23 columns]"
      ]
     },
     "execution_count": 17,
     "metadata": {},
     "output_type": "execute_result"
    }
   ],
   "source": [
    "pd.options.display.max_rows = 20\n",
    "df2020"
   ]
  },
  {
   "cell_type": "markdown",
   "id": "b3781df1-b6ce-495e-abfd-e561b63ec8d5",
   "metadata": {},
   "source": [
    "<br>\n",
    "\n",
    "##### Note: Additional cleanup of df2020 prior to concatenating 2020 df to 2021 df was not required. <br>\n",
    "---"
   ]
  },
  {
   "cell_type": "markdown",
   "id": "dd208447-3c48-4ab9-b923-ec2c9f2c4afa",
   "metadata": {},
   "source": [
    "<br>\n",
    "\n",
    "### save original 2020 file (excel)\n",
    "\n",
    "---"
   ]
  },
  {
   "cell_type": "code",
   "execution_count": 18,
   "id": "fa405efd-b47a-4d9d-a4d1-eb3195de7f5c",
   "metadata": {},
   "outputs": [
    {
     "data": {
      "text/plain": [
       "('data/cao2020_20220103_175318.xlsx',\n",
       " <http.client.HTTPMessage at 0x1f11318e430>)"
      ]
     },
     "execution_count": 18,
     "metadata": {},
     "output_type": "execute_result"
    }
   ],
   "source": [
    "# Create a file path for the pandas data.\n",
    "pathxlsx = 'data/cao2020_' + nowstr + '.xlsx'\n",
    "\n",
    "# retrieve the original excel data from CAO website and save to new xlsx file (time stamped)\n",
    "urlrq.urlretrieve (url2020, pathxlsx)\n"
   ]
  },
  {
   "cell_type": "markdown",
   "id": "24badb73-d367-4784-9d81-a096d81d6743",
   "metadata": {},
   "source": [
    "<br>\n",
    "\n",
    "### create a filepath for 2020 pandas data (for csv)\n",
    "\n",
    "---"
   ]
  },
  {
   "cell_type": "code",
   "execution_count": 19,
   "id": "0a7f7367-e39d-47fb-a44f-67822ae7d4be",
   "metadata": {},
   "outputs": [],
   "source": [
    "#save the output to a csv file\n",
    "#path2020 = 'data/cao2020_' + now.strftime('%Y%m%d_%H%M%S')  + '.csv'\n",
    "path2020 = 'data/cao2020_' + nowstr + '.csv'"
   ]
  },
  {
   "cell_type": "code",
   "execution_count": 20,
   "id": "e97c0999-621d-4544-a6f5-542321180ab5",
   "metadata": {},
   "outputs": [],
   "source": [
    "# Save pandas data frame to disk.\n",
    "df2020.to_csv(path2020)"
   ]
  },
  {
   "cell_type": "markdown",
   "id": "0e1656b5-63ff-4326-b78b-a3b765bd96eb",
   "metadata": {},
   "source": [
    "<br>\n",
    "\n",
    "## 2019 points\n",
    "\n",
    "***"
   ]
  },
  {
   "cell_type": "markdown",
   "id": "48bbcd8f-409c-42ca-8215-9dff757b7cac",
   "metadata": {},
   "source": [
    "<br>\n",
    "\n",
    "##### 2019 Points URL: \n",
    "http://www.cao.ie/index.php?page=points&p=2019\n",
    "\n",
    "direct link to points table (pdf) <br>\n",
    "http://www2.cao.ie/points/lvl8_19.pdf\n",
    "\n",
    "\n",
    "---"
   ]
  },
  {
   "cell_type": "markdown",
   "id": "95ebe4cb-0553-4268-af07-bcab507a9990",
   "metadata": {},
   "source": [
    "**As 2019 data is pdf format the decision is to read do it manually before getting pandas to read it as a csv**"
   ]
  },
  {
   "cell_type": "markdown",
   "id": "b117640c-f8a2-489a-a8c6-7e1535f46995",
   "metadata": {},
   "source": [
    "<br>\n",
    "\n",
    "### steps to reproduce the 2019 editable:\n",
    "****\n"
   ]
  },
  {
   "cell_type": "code",
   "execution_count": 21,
   "id": "1a631599-4134-470b-8a76-d509638918be",
   "metadata": {},
   "outputs": [
    {
     "data": {
      "text/plain": [
       "<Response [200]>"
      ]
     },
     "execution_count": 21,
     "metadata": {},
     "output_type": "execute_result"
    }
   ],
   "source": [
    "# fetch the CAO points URL.  The url for earlier years takes you to a pdf version\n",
    "# However the python code to fetch appears to work\n",
    "resp_2019 = rq.get ('http://www2.cao.ie/points/lvl8_19.pdf')\n",
    "resp_2019"
   ]
  },
  {
   "cell_type": "markdown",
   "id": "f1b839e7-1407-40c7-ad09-2ad26172639e",
   "metadata": {},
   "source": [
    "### Creating CSV file from the original pdf:\n",
    "\n",
    "- The original pdf was downloaded and saved as a pdf in repository\n",
    "- The original file was opened with MS Word as follows:\n",
    "- Select file > open with > other programs > MSWord >\n",
    "- open for editing\n",
    "- Save the editable file in repository under data as as xxxxx.docx format: \n",
    "- Resaved a copy to edit in repo as cao2019_edited.docx\n",
    "- Deleted headers and footers\n",
    "- deleted the preamble on page 1\n",
    "- Ctrl 'A', Ctrl 'C' to copy all data in the 21 separate tables\n",
    "- Opened notepad++ and pasted in the content of the 21 tables 'Ctrl V'\n",
    "<br>\n",
    "\n",
    "---\n",
    "\n",
    "##### further manual editing in notepad ++ as below before resave\n",
    " \n",
    "- Removed HEI name lines and black lines\n",
    "- Removed all Irish fadas: e.g. Gn**ó** agus Gaeilge \n",
    "- Delete blank lines\n",
    "- Change backticks to apostrophes\n",
    "- Remove all Irish fadas: e.g. Gn**ó** agus Gaeilge \n",
    "- find \\\\t replace with \\t finds the double tabs and removes them <br>\n",
    "- save file<br>\n",
    " <br>\n",
    "\n",
    "---\n",
    "##### Institutions not required for data frame as institution is identifiable from the course code 1st two letters.<br>  Thus the below was not required:\n",
    "1. Select the 'College/Institute' i.e. 'Athlone Institute of Technology' and cut\n",
    "2. Move cursor to in front of AIT 1st course line\n",
    "3. Hold down ALT key and drag cursor down to all AIT courses\n",
    "4. Ctrl V to paste - click 'tab' key to create tabs\n",
    "5. Put double quotes around college names as they have commas [select start of string with cursor-alt-type \"]\n",
    "6. Also: \\t  in extended file 'replace all' with comma: replaces all the tabs with commas <br> however not recommended here as commas elsewhere will confuse. <br> best to leave tabs as delimiters  e.g. in effect its as 'tsv' tab serapated file but can save as csv\n",
    "<br>\n",
    "\n",
    "---"
   ]
  },
  {
   "cell_type": "markdown",
   "id": "68aa5555-abdb-4049-839e-bb0dafb324bd",
   "metadata": {},
   "source": [
    " ##### due to the below errors when creating the dataframe the 2019 csv was reviewed in Notepad++ and additional commas were deleted\n",
    " \n",
    "ParserError:\n",
    "i.e. (options, portfolio) to (options portfolio)<br>\n",
    "<font size=\"1\"> Error tokenizing data. C error: Expected 1 fields in line 32, saw 2</font><br>\n",
    "<font size=\"1\">Error tokenizing data. C error: Expected 1 fields in line 59, saw 2</font><br>\n",
    "<font size=\"1\">Error tokenizing data. C error: Expected 1 fields in line 63, saw 2</font><br>\n",
    "<font size=\"1\">Error tokenizing data. C error: Expected 1 fields in line 81, saw 3</font><br>\n",
    "<font size=\"1\">Error tokenizing data. C error: Expected 1 fields in line 144, saw 2</font><br>\n",
    "<font size=\"1\">Error tokenizing data. C error: Expected 1 fields in line 258, saw 2</font><br>\n",
    "<font size=\"1\">Error tokenizing data. C error: Expected 1 fields in line 263, saw 2</font><br>\n",
    "<font size=\"1\">Error tokenizing data. C error: Expected 1 fields in line 337, saw 2v<br>\n",
    "<font size=\"1\">Error tokenizing data. C error: Expected 1 fields in line 343, saw 2</font><br>\n",
    "<font size=\"1\">Error tokenizing data. C error: Expected 1 fields in line 359, saw 2</font><br>\n",
    "<font size=\"1\">Error tokenizing data. C error: Expected 1 fields in line 363, saw 2</font><br>\n",
    "<font size=\"1\">Error tokenizing data. C error: Expected 1 fields in line 366, saw 2</font><br>\n",
    "<font size=\"1\">Error tokenizing data. C error: Expected 1 fields in line 392, saw 2</font><br>\n",
    "<font size=\"1\">Error tokenizing data. C error: Expected 1 fields in line 447, saw 3</font><br>\n",
    "<font size=\"1\">Error tokenizing data. C error: Expected 1 fields in line 453, saw 2</font><br>\n",
    "<font size=\"1\">Error tokenizing data. C error: Expected 1 fields in line 481, saw 2</font><br>\n",
    "<font size=\"1\">Error tokenizing data. C error: Expected 1 fields in line 509, saw 2</font><br>\n",
    "<font size=\"1\">Error tokenizing data. C error: Expected 1 fields in line 520, saw 2</font><br>\n",
    "<font size=\"1\">Error tokenizing data. C error: Expected 1 fields in line 616, saw 2</font><br>\n",
    "<font size=\"1\">Error tokenizing data. C error: Expected 1 fields in line 618, saw 2</font><br>\n",
    "<font size=\"1\">Error tokenizing data. C error: Expected 1 fields in line 630, saw 2</font><br>\n",
    "<font size=\"1\">Error tokenizing data. C error: Expected 1 fields in line 643, saw 2</font><br>\n",
    "<font size=\"1\">Error tokenizing data. C error: Expected 1 fields in line 644, saw 2</font><br>\n",
    "<font size=\"1\">Error tokenizing data. C error: Expected 1 fields in line 655, saw 4</font><br>\n",
    "<font size=\"1\">Error tokenizing data. C error: Expected 1 fields in line 655, saw 3</font><br>\n",
    "<font size=\"1\">Error tokenizing data. C error: Expected 1 fields in line 665, saw 2</font><br>\n",
    "<font size=\"1\">Error tokenizing data. C error: Expected 1 fields in line 697,698,699,670 saw 2</font><br>\n",
    "<font size=\"1\">Error tokenizing data. C error: Expected 1 fields in line 703, saw 2</font><br>\n",
    "<font size=\"1\">Error tokenizing data. C error: Expected 1 fields in line 749, saw 2</font><br>\n",
    "<font size=\"1\">Error tokenizing data. C error: Expected 1 fields in line 751, saw 2</font><br>\n",
    "<font size=\"1\">Error tokenizing data. C error: Expected 1 fields in line 830, saw 2</font><br>\n",
    "<font size=\"1\">Error tokenizing data. C error: Expected 1 fields in line 872, saw 2</font>\n",
    "<br>\n",
    "\n",
    "---"
   ]
  },
  {
   "cell_type": "code",
   "execution_count": 22,
   "id": "53ddad8d-61f0-46a3-9d21-195fac01a6a9",
   "metadata": {},
   "outputs": [],
   "source": [
    "#df2019 = pd.read_csv('data/cao2019_20211102_191031_edited.csv', sep ='\\t') \n",
    "df2019 = pd.read_csv('data/cao_2019.csv', sep ='\\t') "
   ]
  },
  {
   "cell_type": "code",
   "execution_count": 23,
   "id": "32471d98-9b9e-4a95-bb1f-8ad32a2e9951",
   "metadata": {},
   "outputs": [
    {
     "data": {
      "text/html": [
       "<div>\n",
       "<style scoped>\n",
       "    .dataframe tbody tr th:only-of-type {\n",
       "        vertical-align: middle;\n",
       "    }\n",
       "\n",
       "    .dataframe tbody tr th {\n",
       "        vertical-align: top;\n",
       "    }\n",
       "\n",
       "    .dataframe thead th {\n",
       "        text-align: right;\n",
       "    }\n",
       "</style>\n",
       "<table border=\"1\" class=\"dataframe\">\n",
       "  <thead>\n",
       "    <tr style=\"text-align: right;\">\n",
       "      <th></th>\n",
       "      <th>Course Code</th>\n",
       "      <th>COURSE</th>\n",
       "      <th>EOS</th>\n",
       "      <th>Mid</th>\n",
       "    </tr>\n",
       "  </thead>\n",
       "  <tbody>\n",
       "    <tr>\n",
       "      <th>0</th>\n",
       "      <td>AL801</td>\n",
       "      <td>Software Design with Virtual Reality and Gaming</td>\n",
       "      <td>304</td>\n",
       "      <td>328.0</td>\n",
       "    </tr>\n",
       "    <tr>\n",
       "      <th>1</th>\n",
       "      <td>AL802</td>\n",
       "      <td>Software Design with Cloud Computing</td>\n",
       "      <td>301</td>\n",
       "      <td>306.0</td>\n",
       "    </tr>\n",
       "    <tr>\n",
       "      <th>2</th>\n",
       "      <td>AL803</td>\n",
       "      <td>Software Design with Mobile Apps and Connected...</td>\n",
       "      <td>309</td>\n",
       "      <td>337.0</td>\n",
       "    </tr>\n",
       "    <tr>\n",
       "      <th>3</th>\n",
       "      <td>AL805</td>\n",
       "      <td>Network Management and Cloud Infrastructure</td>\n",
       "      <td>329</td>\n",
       "      <td>442.0</td>\n",
       "    </tr>\n",
       "    <tr>\n",
       "      <th>4</th>\n",
       "      <td>AL810</td>\n",
       "      <td>Quantity Surveying</td>\n",
       "      <td>307</td>\n",
       "      <td>349.0</td>\n",
       "    </tr>\n",
       "    <tr>\n",
       "      <th>...</th>\n",
       "      <td>...</td>\n",
       "      <td>...</td>\n",
       "      <td>...</td>\n",
       "      <td>...</td>\n",
       "    </tr>\n",
       "    <tr>\n",
       "      <th>925</th>\n",
       "      <td>WD200</td>\n",
       "      <td>Arts (options)</td>\n",
       "      <td>221</td>\n",
       "      <td>296.0</td>\n",
       "    </tr>\n",
       "    <tr>\n",
       "      <th>926</th>\n",
       "      <td>WD210</td>\n",
       "      <td>Software Systems Development</td>\n",
       "      <td>271</td>\n",
       "      <td>329.0</td>\n",
       "    </tr>\n",
       "    <tr>\n",
       "      <th>927</th>\n",
       "      <td>WD211</td>\n",
       "      <td>Creative Computing</td>\n",
       "      <td>275</td>\n",
       "      <td>322.0</td>\n",
       "    </tr>\n",
       "    <tr>\n",
       "      <th>928</th>\n",
       "      <td>WD212</td>\n",
       "      <td>Recreation and Sport Management</td>\n",
       "      <td>274</td>\n",
       "      <td>311.0</td>\n",
       "    </tr>\n",
       "    <tr>\n",
       "      <th>929</th>\n",
       "      <td>WD230</td>\n",
       "      <td>Mechanical and Manufacturing Engineering</td>\n",
       "      <td>273</td>\n",
       "      <td>348.0</td>\n",
       "    </tr>\n",
       "  </tbody>\n",
       "</table>\n",
       "<p>930 rows × 4 columns</p>\n",
       "</div>"
      ],
      "text/plain": [
       "    Course Code                                             COURSE  EOS    Mid\n",
       "0         AL801    Software Design with Virtual Reality and Gaming  304  328.0\n",
       "1         AL802               Software Design with Cloud Computing  301  306.0\n",
       "2         AL803  Software Design with Mobile Apps and Connected...  309  337.0\n",
       "3         AL805        Network Management and Cloud Infrastructure  329  442.0\n",
       "4         AL810                                 Quantity Surveying  307  349.0\n",
       "..          ...                                                ...  ...    ...\n",
       "925       WD200                                     Arts (options)  221  296.0\n",
       "926       WD210                       Software Systems Development  271  329.0\n",
       "927       WD211                                 Creative Computing  275  322.0\n",
       "928       WD212                    Recreation and Sport Management  274  311.0\n",
       "929       WD230           Mechanical and Manufacturing Engineering  273  348.0\n",
       "\n",
       "[930 rows x 4 columns]"
      ]
     },
     "execution_count": 23,
     "metadata": {},
     "output_type": "execute_result"
    }
   ],
   "source": [
    "# check the output (top and botom of df)\n",
    "df2019"
   ]
  },
  {
   "cell_type": "markdown",
   "id": "b43fa63b-3863-4e5f-8964-8a363f3a7fdb",
   "metadata": {},
   "source": [
    " ##### Issue with original CAO coding (as per 2021)\n",
    " When trying to save the original html the following code appears: <br>\n",
    " UnicodeEncodeError: 'charmap' codec can't encode characters in position<br>\n",
    " The solution was to add encoding=\"utf-8\" to the filepath as below<br>"
   ]
  },
  {
   "cell_type": "code",
   "execution_count": 24,
   "id": "0b0b3fe6-10f3-4934-b67e-2caf6782d206",
   "metadata": {},
   "outputs": [],
   "source": [
    "#save original 2019 html file\n",
    "path2019 = 'data/cao2019_' + nowstr + '.html'\n",
    "with open(path2019, 'w', encoding=\"utf-8\") as f:\n",
    "    f.write(resp_2019.text)   "
   ]
  },
  {
   "cell_type": "code",
   "execution_count": 25,
   "id": "a9d20dfe-8c8d-4054-b7f5-5a7f0697b6b1",
   "metadata": {},
   "outputs": [],
   "source": [
    "#extract the required columns (course and points) from the dataframe\n",
    "courses2019= df2019[['Course Code' , 'COURSE']]"
   ]
  },
  {
   "cell_type": "markdown",
   "id": "613b43aa-b8c8-43e5-adbd-584871c94618",
   "metadata": {},
   "source": [
    "<br>\n",
    "\n",
    "### Concatenate 2021-2019 CAO points data into one dataframe\n",
    "\n",
    "---"
   ]
  },
  {
   "cell_type": "code",
   "execution_count": 26,
   "id": "22f52ab6-ab89-4581-892d-6f014312c945",
   "metadata": {},
   "outputs": [
    {
     "data": {
      "text/html": [
       "<div>\n",
       "<style scoped>\n",
       "    .dataframe tbody tr th:only-of-type {\n",
       "        vertical-align: middle;\n",
       "    }\n",
       "\n",
       "    .dataframe tbody tr th {\n",
       "        vertical-align: top;\n",
       "    }\n",
       "\n",
       "    .dataframe thead th {\n",
       "        text-align: right;\n",
       "    }\n",
       "</style>\n",
       "<table border=\"1\" class=\"dataframe\">\n",
       "  <thead>\n",
       "    <tr style=\"text-align: right;\">\n",
       "      <th></th>\n",
       "      <th>code</th>\n",
       "      <th>title</th>\n",
       "      <th>pointsR1</th>\n",
       "      <th>pointsR2</th>\n",
       "    </tr>\n",
       "  </thead>\n",
       "  <tbody>\n",
       "    <tr>\n",
       "      <th>0</th>\n",
       "      <td>AL801</td>\n",
       "      <td>Software Design for Virtual Reality and Gaming</td>\n",
       "      <td>300</td>\n",
       "      <td>NaN</td>\n",
       "    </tr>\n",
       "    <tr>\n",
       "      <th>1</th>\n",
       "      <td>AL802</td>\n",
       "      <td>Software Design in Artificial Intelligence for...</td>\n",
       "      <td>313</td>\n",
       "      <td>NaN</td>\n",
       "    </tr>\n",
       "    <tr>\n",
       "      <th>2</th>\n",
       "      <td>AL803</td>\n",
       "      <td>Software Design for Mobile Apps and Connected ...</td>\n",
       "      <td>350</td>\n",
       "      <td>NaN</td>\n",
       "    </tr>\n",
       "    <tr>\n",
       "      <th>3</th>\n",
       "      <td>AL805</td>\n",
       "      <td>Computer Engineering for Network Infrastructure</td>\n",
       "      <td>321</td>\n",
       "      <td>NaN</td>\n",
       "    </tr>\n",
       "    <tr>\n",
       "      <th>4</th>\n",
       "      <td>AL810</td>\n",
       "      <td>Quantity Surveying</td>\n",
       "      <td>328</td>\n",
       "      <td>NaN</td>\n",
       "    </tr>\n",
       "    <tr>\n",
       "      <th>...</th>\n",
       "      <td>...</td>\n",
       "      <td>...</td>\n",
       "      <td>...</td>\n",
       "      <td>...</td>\n",
       "    </tr>\n",
       "    <tr>\n",
       "      <th>944</th>\n",
       "      <td>WD211</td>\n",
       "      <td>Creative Computing</td>\n",
       "      <td>270</td>\n",
       "      <td>NaN</td>\n",
       "    </tr>\n",
       "    <tr>\n",
       "      <th>945</th>\n",
       "      <td>WD212</td>\n",
       "      <td>Recreation and Sport Management</td>\n",
       "      <td>262</td>\n",
       "      <td>NaN</td>\n",
       "    </tr>\n",
       "    <tr>\n",
       "      <th>946</th>\n",
       "      <td>WD230</td>\n",
       "      <td>Mechanical and Manufacturing Engineering</td>\n",
       "      <td>230</td>\n",
       "      <td>230</td>\n",
       "    </tr>\n",
       "    <tr>\n",
       "      <th>947</th>\n",
       "      <td>WD231</td>\n",
       "      <td>Early Childhood Care and Education</td>\n",
       "      <td>266</td>\n",
       "      <td>NaN</td>\n",
       "    </tr>\n",
       "    <tr>\n",
       "      <th>948</th>\n",
       "      <td>WD232</td>\n",
       "      <td>Business Information Systems</td>\n",
       "      <td>261</td>\n",
       "      <td>261</td>\n",
       "    </tr>\n",
       "  </tbody>\n",
       "</table>\n",
       "<p>949 rows × 4 columns</p>\n",
       "</div>"
      ],
      "text/plain": [
       "      code                                              title pointsR1  \\\n",
       "0    AL801     Software Design for Virtual Reality and Gaming      300   \n",
       "1    AL802  Software Design in Artificial Intelligence for...      313   \n",
       "2    AL803  Software Design for Mobile Apps and Connected ...      350   \n",
       "3    AL805    Computer Engineering for Network Infrastructure      321   \n",
       "4    AL810                                 Quantity Surveying      328   \n",
       "..     ...                                                ...      ...   \n",
       "944  WD211                                 Creative Computing      270   \n",
       "945  WD212                    Recreation and Sport Management      262   \n",
       "946  WD230           Mechanical and Manufacturing Engineering      230   \n",
       "947  WD231                 Early Childhood Care and Education      266   \n",
       "948  WD232                       Business Information Systems      261   \n",
       "\n",
       "    pointsR2  \n",
       "0        NaN  \n",
       "1        NaN  \n",
       "2        NaN  \n",
       "3        NaN  \n",
       "4        NaN  \n",
       "..       ...  \n",
       "944      NaN  \n",
       "945      NaN  \n",
       "946      230  \n",
       "947      NaN  \n",
       "948      261  \n",
       "\n",
       "[949 rows x 4 columns]"
      ]
     },
     "execution_count": 26,
     "metadata": {},
     "output_type": "execute_result"
    }
   ],
   "source": [
    "df2021"
   ]
  },
  {
   "cell_type": "code",
   "execution_count": 27,
   "id": "4565db36-0205-4f6e-b0bf-71556741eef0",
   "metadata": {},
   "outputs": [],
   "source": [
    "#extract the required columns (course and points) from the dataframe\n",
    "courses2021= df2021[['code', 'title']]"
   ]
  },
  {
   "cell_type": "code",
   "execution_count": 28,
   "id": "3a9f6935-c8e7-4891-9c7a-85eb259c37a1",
   "metadata": {},
   "outputs": [
    {
     "data": {
      "text/html": [
       "<div>\n",
       "<style scoped>\n",
       "    .dataframe tbody tr th:only-of-type {\n",
       "        vertical-align: middle;\n",
       "    }\n",
       "\n",
       "    .dataframe tbody tr th {\n",
       "        vertical-align: top;\n",
       "    }\n",
       "\n",
       "    .dataframe thead th {\n",
       "        text-align: right;\n",
       "    }\n",
       "</style>\n",
       "<table border=\"1\" class=\"dataframe\">\n",
       "  <thead>\n",
       "    <tr style=\"text-align: right;\">\n",
       "      <th></th>\n",
       "      <th>code</th>\n",
       "      <th>title</th>\n",
       "    </tr>\n",
       "  </thead>\n",
       "  <tbody>\n",
       "    <tr>\n",
       "      <th>0</th>\n",
       "      <td>AL801</td>\n",
       "      <td>Software Design for Virtual Reality and Gaming</td>\n",
       "    </tr>\n",
       "    <tr>\n",
       "      <th>1</th>\n",
       "      <td>AL802</td>\n",
       "      <td>Software Design in Artificial Intelligence for...</td>\n",
       "    </tr>\n",
       "    <tr>\n",
       "      <th>2</th>\n",
       "      <td>AL803</td>\n",
       "      <td>Software Design for Mobile Apps and Connected ...</td>\n",
       "    </tr>\n",
       "    <tr>\n",
       "      <th>3</th>\n",
       "      <td>AL805</td>\n",
       "      <td>Computer Engineering for Network Infrastructure</td>\n",
       "    </tr>\n",
       "    <tr>\n",
       "      <th>4</th>\n",
       "      <td>AL810</td>\n",
       "      <td>Quantity Surveying</td>\n",
       "    </tr>\n",
       "    <tr>\n",
       "      <th>...</th>\n",
       "      <td>...</td>\n",
       "      <td>...</td>\n",
       "    </tr>\n",
       "    <tr>\n",
       "      <th>944</th>\n",
       "      <td>WD211</td>\n",
       "      <td>Creative Computing</td>\n",
       "    </tr>\n",
       "    <tr>\n",
       "      <th>945</th>\n",
       "      <td>WD212</td>\n",
       "      <td>Recreation and Sport Management</td>\n",
       "    </tr>\n",
       "    <tr>\n",
       "      <th>946</th>\n",
       "      <td>WD230</td>\n",
       "      <td>Mechanical and Manufacturing Engineering</td>\n",
       "    </tr>\n",
       "    <tr>\n",
       "      <th>947</th>\n",
       "      <td>WD231</td>\n",
       "      <td>Early Childhood Care and Education</td>\n",
       "    </tr>\n",
       "    <tr>\n",
       "      <th>948</th>\n",
       "      <td>WD232</td>\n",
       "      <td>Business Information Systems</td>\n",
       "    </tr>\n",
       "  </tbody>\n",
       "</table>\n",
       "<p>949 rows × 2 columns</p>\n",
       "</div>"
      ],
      "text/plain": [
       "      code                                              title\n",
       "0    AL801     Software Design for Virtual Reality and Gaming\n",
       "1    AL802  Software Design in Artificial Intelligence for...\n",
       "2    AL803  Software Design for Mobile Apps and Connected ...\n",
       "3    AL805    Computer Engineering for Network Infrastructure\n",
       "4    AL810                                 Quantity Surveying\n",
       "..     ...                                                ...\n",
       "944  WD211                                 Creative Computing\n",
       "945  WD212                    Recreation and Sport Management\n",
       "946  WD230           Mechanical and Manufacturing Engineering\n",
       "947  WD231                 Early Childhood Care and Education\n",
       "948  WD232                       Business Information Systems\n",
       "\n",
       "[949 rows x 2 columns]"
      ]
     },
     "execution_count": 28,
     "metadata": {},
     "output_type": "execute_result"
    }
   ],
   "source": [
    "courses2021"
   ]
  },
  {
   "cell_type": "code",
   "execution_count": 29,
   "id": "011a00d2-e950-4bb1-bf6a-a5d3f7144f62",
   "metadata": {},
   "outputs": [],
   "source": [
    "# change the title of the columns to match 2021\n",
    "courses2020= df2020[['COURSE CODE2' , 'COURSE TITLE']]\n",
    "courses2020.columns = ['code' ,'title']"
   ]
  },
  {
   "cell_type": "code",
   "execution_count": 30,
   "id": "5f3ec77f-4ca7-4142-b654-df82baba70a5",
   "metadata": {},
   "outputs": [
    {
     "data": {
      "text/html": [
       "<div>\n",
       "<style scoped>\n",
       "    .dataframe tbody tr th:only-of-type {\n",
       "        vertical-align: middle;\n",
       "    }\n",
       "\n",
       "    .dataframe tbody tr th {\n",
       "        vertical-align: top;\n",
       "    }\n",
       "\n",
       "    .dataframe thead th {\n",
       "        text-align: right;\n",
       "    }\n",
       "</style>\n",
       "<table border=\"1\" class=\"dataframe\">\n",
       "  <thead>\n",
       "    <tr style=\"text-align: right;\">\n",
       "      <th></th>\n",
       "      <th>code</th>\n",
       "      <th>title</th>\n",
       "    </tr>\n",
       "  </thead>\n",
       "  <tbody>\n",
       "    <tr>\n",
       "      <th>0</th>\n",
       "      <td>AC120</td>\n",
       "      <td>International Business</td>\n",
       "    </tr>\n",
       "    <tr>\n",
       "      <th>1</th>\n",
       "      <td>AC137</td>\n",
       "      <td>Liberal Arts</td>\n",
       "    </tr>\n",
       "    <tr>\n",
       "      <th>2</th>\n",
       "      <td>AD101</td>\n",
       "      <td>First Year Art &amp; Design (Common Entry,portfolio)</td>\n",
       "    </tr>\n",
       "    <tr>\n",
       "      <th>3</th>\n",
       "      <td>AD102</td>\n",
       "      <td>Graphic Design and Moving Image Design (portfo...</td>\n",
       "    </tr>\n",
       "    <tr>\n",
       "      <th>4</th>\n",
       "      <td>AD103</td>\n",
       "      <td>Textile &amp; Surface Design and Jewellery &amp; Objec...</td>\n",
       "    </tr>\n",
       "    <tr>\n",
       "      <th>...</th>\n",
       "      <td>...</td>\n",
       "      <td>...</td>\n",
       "    </tr>\n",
       "    <tr>\n",
       "      <th>1459</th>\n",
       "      <td>WD208</td>\n",
       "      <td>Manufacturing Engineering</td>\n",
       "    </tr>\n",
       "    <tr>\n",
       "      <th>1460</th>\n",
       "      <td>WD210</td>\n",
       "      <td>Software Systems Development</td>\n",
       "    </tr>\n",
       "    <tr>\n",
       "      <th>1461</th>\n",
       "      <td>WD211</td>\n",
       "      <td>Creative Computing</td>\n",
       "    </tr>\n",
       "    <tr>\n",
       "      <th>1462</th>\n",
       "      <td>WD212</td>\n",
       "      <td>Recreation and Sport Management</td>\n",
       "    </tr>\n",
       "    <tr>\n",
       "      <th>1463</th>\n",
       "      <td>WD230</td>\n",
       "      <td>Mechanical and Manufacturing Engineering</td>\n",
       "    </tr>\n",
       "  </tbody>\n",
       "</table>\n",
       "<p>1464 rows × 2 columns</p>\n",
       "</div>"
      ],
      "text/plain": [
       "       code                                              title\n",
       "0     AC120                             International Business\n",
       "1     AC137                                       Liberal Arts\n",
       "2     AD101   First Year Art & Design (Common Entry,portfolio)\n",
       "3     AD102  Graphic Design and Moving Image Design (portfo...\n",
       "4     AD103  Textile & Surface Design and Jewellery & Objec...\n",
       "...     ...                                                ...\n",
       "1459  WD208                          Manufacturing Engineering\n",
       "1460  WD210                       Software Systems Development\n",
       "1461  WD211                                 Creative Computing\n",
       "1462  WD212                    Recreation and Sport Management\n",
       "1463  WD230           Mechanical and Manufacturing Engineering\n",
       "\n",
       "[1464 rows x 2 columns]"
      ]
     },
     "execution_count": 30,
     "metadata": {},
     "output_type": "execute_result"
    }
   ],
   "source": [
    "courses2020"
   ]
  },
  {
   "cell_type": "code",
   "execution_count": 31,
   "id": "572b8b34-b707-4d3e-aec2-63522b468373",
   "metadata": {},
   "outputs": [],
   "source": [
    "#extract the required columns (course and points) from the dataframe\n",
    "courses2019= df2019[['Course Code' , 'COURSE']]\n",
    "courses2019.columns = ['code', 'title']"
   ]
  },
  {
   "cell_type": "code",
   "execution_count": 32,
   "id": "4d78da73-6b3a-4ff3-9536-c7eaf108faa5",
   "metadata": {},
   "outputs": [
    {
     "data": {
      "text/html": [
       "<div>\n",
       "<style scoped>\n",
       "    .dataframe tbody tr th:only-of-type {\n",
       "        vertical-align: middle;\n",
       "    }\n",
       "\n",
       "    .dataframe tbody tr th {\n",
       "        vertical-align: top;\n",
       "    }\n",
       "\n",
       "    .dataframe thead th {\n",
       "        text-align: right;\n",
       "    }\n",
       "</style>\n",
       "<table border=\"1\" class=\"dataframe\">\n",
       "  <thead>\n",
       "    <tr style=\"text-align: right;\">\n",
       "      <th></th>\n",
       "      <th>code</th>\n",
       "      <th>title</th>\n",
       "    </tr>\n",
       "  </thead>\n",
       "  <tbody>\n",
       "    <tr>\n",
       "      <th>0</th>\n",
       "      <td>AL801</td>\n",
       "      <td>Software Design with Virtual Reality and Gaming</td>\n",
       "    </tr>\n",
       "    <tr>\n",
       "      <th>1</th>\n",
       "      <td>AL802</td>\n",
       "      <td>Software Design with Cloud Computing</td>\n",
       "    </tr>\n",
       "    <tr>\n",
       "      <th>2</th>\n",
       "      <td>AL803</td>\n",
       "      <td>Software Design with Mobile Apps and Connected...</td>\n",
       "    </tr>\n",
       "    <tr>\n",
       "      <th>3</th>\n",
       "      <td>AL805</td>\n",
       "      <td>Network Management and Cloud Infrastructure</td>\n",
       "    </tr>\n",
       "    <tr>\n",
       "      <th>4</th>\n",
       "      <td>AL810</td>\n",
       "      <td>Quantity Surveying</td>\n",
       "    </tr>\n",
       "    <tr>\n",
       "      <th>...</th>\n",
       "      <td>...</td>\n",
       "      <td>...</td>\n",
       "    </tr>\n",
       "    <tr>\n",
       "      <th>925</th>\n",
       "      <td>WD200</td>\n",
       "      <td>Arts (options)</td>\n",
       "    </tr>\n",
       "    <tr>\n",
       "      <th>926</th>\n",
       "      <td>WD210</td>\n",
       "      <td>Software Systems Development</td>\n",
       "    </tr>\n",
       "    <tr>\n",
       "      <th>927</th>\n",
       "      <td>WD211</td>\n",
       "      <td>Creative Computing</td>\n",
       "    </tr>\n",
       "    <tr>\n",
       "      <th>928</th>\n",
       "      <td>WD212</td>\n",
       "      <td>Recreation and Sport Management</td>\n",
       "    </tr>\n",
       "    <tr>\n",
       "      <th>929</th>\n",
       "      <td>WD230</td>\n",
       "      <td>Mechanical and Manufacturing Engineering</td>\n",
       "    </tr>\n",
       "  </tbody>\n",
       "</table>\n",
       "<p>930 rows × 2 columns</p>\n",
       "</div>"
      ],
      "text/plain": [
       "      code                                              title\n",
       "0    AL801    Software Design with Virtual Reality and Gaming\n",
       "1    AL802               Software Design with Cloud Computing\n",
       "2    AL803  Software Design with Mobile Apps and Connected...\n",
       "3    AL805        Network Management and Cloud Infrastructure\n",
       "4    AL810                                 Quantity Surveying\n",
       "..     ...                                                ...\n",
       "925  WD200                                     Arts (options)\n",
       "926  WD210                       Software Systems Development\n",
       "927  WD211                                 Creative Computing\n",
       "928  WD212                    Recreation and Sport Management\n",
       "929  WD230           Mechanical and Manufacturing Engineering\n",
       "\n",
       "[930 rows x 2 columns]"
      ]
     },
     "execution_count": 32,
     "metadata": {},
     "output_type": "execute_result"
    }
   ],
   "source": [
    "courses2019"
   ]
  },
  {
   "cell_type": "code",
   "execution_count": 33,
   "id": "78c4df0d-1c75-4a81-92e1-5e3c98ff0daa",
   "metadata": {},
   "outputs": [],
   "source": [
    "# merge or concatenate the two datasets into one dataframe\n",
    "# set ignore_index = True (default is False)\n",
    "# by default, it is concatenating vertically along the axis 0 and preserving all existing indices i.e. defaut ignore_index= False\n",
    "# if you wish to continue numbering for concatenated dataframe set ignore_index = True\n",
    "# To add a hierarchical index (multi-level index) keys=['2021','2020']. However this doesn't work when ignore_index=True.\n",
    "# Tally of course coe lines: 949 + 1464 + 930 = 3343\n",
    "allcourses = pd.concat([courses2021, courses2020, courses2019],ignore_index=True)"
   ]
  },
  {
   "cell_type": "code",
   "execution_count": 34,
   "id": "b32a0db6-5ab5-435e-99e3-9812328c9089",
   "metadata": {},
   "outputs": [
    {
     "data": {
      "text/html": [
       "<div>\n",
       "<style scoped>\n",
       "    .dataframe tbody tr th:only-of-type {\n",
       "        vertical-align: middle;\n",
       "    }\n",
       "\n",
       "    .dataframe tbody tr th {\n",
       "        vertical-align: top;\n",
       "    }\n",
       "\n",
       "    .dataframe thead th {\n",
       "        text-align: right;\n",
       "    }\n",
       "</style>\n",
       "<table border=\"1\" class=\"dataframe\">\n",
       "  <thead>\n",
       "    <tr style=\"text-align: right;\">\n",
       "      <th></th>\n",
       "      <th>code</th>\n",
       "      <th>title</th>\n",
       "    </tr>\n",
       "  </thead>\n",
       "  <tbody>\n",
       "    <tr>\n",
       "      <th>0</th>\n",
       "      <td>AL801</td>\n",
       "      <td>Software Design for Virtual Reality and Gaming</td>\n",
       "    </tr>\n",
       "    <tr>\n",
       "      <th>1</th>\n",
       "      <td>AL802</td>\n",
       "      <td>Software Design in Artificial Intelligence for...</td>\n",
       "    </tr>\n",
       "    <tr>\n",
       "      <th>2</th>\n",
       "      <td>AL803</td>\n",
       "      <td>Software Design for Mobile Apps and Connected ...</td>\n",
       "    </tr>\n",
       "    <tr>\n",
       "      <th>3</th>\n",
       "      <td>AL805</td>\n",
       "      <td>Computer Engineering for Network Infrastructure</td>\n",
       "    </tr>\n",
       "    <tr>\n",
       "      <th>4</th>\n",
       "      <td>AL810</td>\n",
       "      <td>Quantity Surveying</td>\n",
       "    </tr>\n",
       "    <tr>\n",
       "      <th>...</th>\n",
       "      <td>...</td>\n",
       "      <td>...</td>\n",
       "    </tr>\n",
       "    <tr>\n",
       "      <th>3338</th>\n",
       "      <td>WD200</td>\n",
       "      <td>Arts (options)</td>\n",
       "    </tr>\n",
       "    <tr>\n",
       "      <th>3339</th>\n",
       "      <td>WD210</td>\n",
       "      <td>Software Systems Development</td>\n",
       "    </tr>\n",
       "    <tr>\n",
       "      <th>3340</th>\n",
       "      <td>WD211</td>\n",
       "      <td>Creative Computing</td>\n",
       "    </tr>\n",
       "    <tr>\n",
       "      <th>3341</th>\n",
       "      <td>WD212</td>\n",
       "      <td>Recreation and Sport Management</td>\n",
       "    </tr>\n",
       "    <tr>\n",
       "      <th>3342</th>\n",
       "      <td>WD230</td>\n",
       "      <td>Mechanical and Manufacturing Engineering</td>\n",
       "    </tr>\n",
       "  </tbody>\n",
       "</table>\n",
       "<p>3343 rows × 2 columns</p>\n",
       "</div>"
      ],
      "text/plain": [
       "       code                                              title\n",
       "0     AL801     Software Design for Virtual Reality and Gaming\n",
       "1     AL802  Software Design in Artificial Intelligence for...\n",
       "2     AL803  Software Design for Mobile Apps and Connected ...\n",
       "3     AL805    Computer Engineering for Network Infrastructure\n",
       "4     AL810                                 Quantity Surveying\n",
       "...     ...                                                ...\n",
       "3338  WD200                                     Arts (options)\n",
       "3339  WD210                       Software Systems Development\n",
       "3340  WD211                                 Creative Computing\n",
       "3341  WD212                    Recreation and Sport Management\n",
       "3342  WD230           Mechanical and Manufacturing Engineering\n",
       "\n",
       "[3343 rows x 2 columns]"
      ]
     },
     "execution_count": 34,
     "metadata": {},
     "output_type": "execute_result"
    }
   ],
   "source": [
    "# print allcourses\n",
    "# data frames added end to end-3343 rows.\n",
    "# contains duplicated courses year to year\n",
    "allcourses"
   ]
  },
  {
   "cell_type": "code",
   "execution_count": 35,
   "id": "2e00f148-1e32-473a-8b5e-924070e78c42",
   "metadata": {},
   "outputs": [
    {
     "data": {
      "text/html": [
       "<div>\n",
       "<style scoped>\n",
       "    .dataframe tbody tr th:only-of-type {\n",
       "        vertical-align: middle;\n",
       "    }\n",
       "\n",
       "    .dataframe tbody tr th {\n",
       "        vertical-align: top;\n",
       "    }\n",
       "\n",
       "    .dataframe thead th {\n",
       "        text-align: right;\n",
       "    }\n",
       "</style>\n",
       "<table border=\"1\" class=\"dataframe\">\n",
       "  <thead>\n",
       "    <tr style=\"text-align: right;\">\n",
       "      <th></th>\n",
       "      <th>code</th>\n",
       "      <th>title</th>\n",
       "    </tr>\n",
       "  </thead>\n",
       "  <tbody>\n",
       "    <tr>\n",
       "      <th>175</th>\n",
       "      <td>AC120</td>\n",
       "      <td>International Business</td>\n",
       "    </tr>\n",
       "    <tr>\n",
       "      <th>949</th>\n",
       "      <td>AC120</td>\n",
       "      <td>International Business</td>\n",
       "    </tr>\n",
       "    <tr>\n",
       "      <th>2581</th>\n",
       "      <td>AC120</td>\n",
       "      <td>International Business</td>\n",
       "    </tr>\n",
       "    <tr>\n",
       "      <th>950</th>\n",
       "      <td>AC137</td>\n",
       "      <td>Liberal Arts</td>\n",
       "    </tr>\n",
       "    <tr>\n",
       "      <th>2582</th>\n",
       "      <td>AC137</td>\n",
       "      <td>Liberal Arts</td>\n",
       "    </tr>\n",
       "    <tr>\n",
       "      <th>...</th>\n",
       "      <td>...</td>\n",
       "      <td>...</td>\n",
       "    </tr>\n",
       "    <tr>\n",
       "      <th>2412</th>\n",
       "      <td>WD230</td>\n",
       "      <td>Mechanical and Manufacturing Engineering</td>\n",
       "    </tr>\n",
       "    <tr>\n",
       "      <th>946</th>\n",
       "      <td>WD230</td>\n",
       "      <td>Mechanical and Manufacturing Engineering</td>\n",
       "    </tr>\n",
       "    <tr>\n",
       "      <th>3342</th>\n",
       "      <td>WD230</td>\n",
       "      <td>Mechanical and Manufacturing Engineering</td>\n",
       "    </tr>\n",
       "    <tr>\n",
       "      <th>947</th>\n",
       "      <td>WD231</td>\n",
       "      <td>Early Childhood Care and Education</td>\n",
       "    </tr>\n",
       "    <tr>\n",
       "      <th>948</th>\n",
       "      <td>WD232</td>\n",
       "      <td>Business Information Systems</td>\n",
       "    </tr>\n",
       "  </tbody>\n",
       "</table>\n",
       "<p>3343 rows × 2 columns</p>\n",
       "</div>"
      ],
      "text/plain": [
       "       code                                     title\n",
       "175   AC120                    International Business\n",
       "949   AC120                    International Business\n",
       "2581  AC120                    International Business\n",
       "950   AC137                              Liberal Arts\n",
       "2582  AC137                              Liberal Arts\n",
       "...     ...                                       ...\n",
       "2412  WD230  Mechanical and Manufacturing Engineering\n",
       "946   WD230  Mechanical and Manufacturing Engineering\n",
       "3342  WD230  Mechanical and Manufacturing Engineering\n",
       "947   WD231        Early Childhood Care and Education\n",
       "948   WD232              Business Information Systems\n",
       "\n",
       "[3343 rows x 2 columns]"
      ]
     },
     "execution_count": 35,
     "metadata": {},
     "output_type": "execute_result"
    }
   ],
   "source": [
    "# sort the new combined dataframe by code \n",
    "# which should pick up duplicates\n",
    "# ASSUMPTION: course codes dont change year to year\n",
    "allcourses.sort_values('code')"
   ]
  },
  {
   "cell_type": "code",
   "execution_count": 36,
   "id": "80423540-55d5-43e2-9f8c-b440754ce7db",
   "metadata": {},
   "outputs": [
    {
     "data": {
      "text/plain": [
       "code                                        WD230\n",
       "title    Mechanical and Manufacturing Engineering\n",
       "Name: 3342, dtype: object"
      ]
     },
     "execution_count": 36,
     "metadata": {},
     "output_type": "execute_result"
    }
   ],
   "source": [
    "#spot check of df\n",
    "allcourses.loc[3342]"
   ]
  },
  {
   "cell_type": "code",
   "execution_count": 37,
   "id": "50691516-f667-454d-a640-e9fe24e9fe18",
   "metadata": {},
   "outputs": [
    {
     "data": {
      "text/plain": [
       "0       False\n",
       "1       False\n",
       "2       False\n",
       "3       False\n",
       "4       False\n",
       "        ...  \n",
       "3338     True\n",
       "3339     True\n",
       "3340     True\n",
       "3341     True\n",
       "3342     True\n",
       "Length: 3343, dtype: bool"
      ]
     },
     "execution_count": 37,
     "metadata": {},
     "output_type": "execute_result"
    }
   ],
   "source": [
    "# returns a false for every row that are not duplicated[boolean function]\n",
    "allcourses.duplicated()"
   ]
  },
  {
   "cell_type": "code",
   "execution_count": 38,
   "id": "1332245b-d34a-4401-9ba0-21531e93a00c",
   "metadata": {},
   "outputs": [
    {
     "data": {
      "text/html": [
       "<div>\n",
       "<style scoped>\n",
       "    .dataframe tbody tr th:only-of-type {\n",
       "        vertical-align: middle;\n",
       "    }\n",
       "\n",
       "    .dataframe tbody tr th {\n",
       "        vertical-align: top;\n",
       "    }\n",
       "\n",
       "    .dataframe thead th {\n",
       "        text-align: right;\n",
       "    }\n",
       "</style>\n",
       "<table border=\"1\" class=\"dataframe\">\n",
       "  <thead>\n",
       "    <tr style=\"text-align: right;\">\n",
       "      <th></th>\n",
       "      <th>code</th>\n",
       "      <th>title</th>\n",
       "    </tr>\n",
       "  </thead>\n",
       "  <tbody>\n",
       "    <tr>\n",
       "      <th>949</th>\n",
       "      <td>AC120</td>\n",
       "      <td>International Business</td>\n",
       "    </tr>\n",
       "    <tr>\n",
       "      <th>950</th>\n",
       "      <td>AC137</td>\n",
       "      <td>Liberal Arts</td>\n",
       "    </tr>\n",
       "    <tr>\n",
       "      <th>952</th>\n",
       "      <td>AD102</td>\n",
       "      <td>Graphic Design and Moving Image Design (portfo...</td>\n",
       "    </tr>\n",
       "    <tr>\n",
       "      <th>955</th>\n",
       "      <td>AD204</td>\n",
       "      <td>Fine Art (portfolio)</td>\n",
       "    </tr>\n",
       "    <tr>\n",
       "      <th>956</th>\n",
       "      <td>AD211</td>\n",
       "      <td>Fashion Design (portfolio)</td>\n",
       "    </tr>\n",
       "    <tr>\n",
       "      <th>...</th>\n",
       "      <td>...</td>\n",
       "      <td>...</td>\n",
       "    </tr>\n",
       "    <tr>\n",
       "      <th>3338</th>\n",
       "      <td>WD200</td>\n",
       "      <td>Arts (options)</td>\n",
       "    </tr>\n",
       "    <tr>\n",
       "      <th>3339</th>\n",
       "      <td>WD210</td>\n",
       "      <td>Software Systems Development</td>\n",
       "    </tr>\n",
       "    <tr>\n",
       "      <th>3340</th>\n",
       "      <td>WD211</td>\n",
       "      <td>Creative Computing</td>\n",
       "    </tr>\n",
       "    <tr>\n",
       "      <th>3341</th>\n",
       "      <td>WD212</td>\n",
       "      <td>Recreation and Sport Management</td>\n",
       "    </tr>\n",
       "    <tr>\n",
       "      <th>3342</th>\n",
       "      <td>WD230</td>\n",
       "      <td>Mechanical and Manufacturing Engineering</td>\n",
       "    </tr>\n",
       "  </tbody>\n",
       "</table>\n",
       "<p>1382 rows × 2 columns</p>\n",
       "</div>"
      ],
      "text/plain": [
       "       code                                              title\n",
       "949   AC120                             International Business\n",
       "950   AC137                                       Liberal Arts\n",
       "952   AD102  Graphic Design and Moving Image Design (portfo...\n",
       "955   AD204                               Fine Art (portfolio)\n",
       "956   AD211                         Fashion Design (portfolio)\n",
       "...     ...                                                ...\n",
       "3338  WD200                                     Arts (options)\n",
       "3339  WD210                       Software Systems Development\n",
       "3340  WD211                                 Creative Computing\n",
       "3341  WD212                    Recreation and Sport Management\n",
       "3342  WD230           Mechanical and Manufacturing Engineering\n",
       "\n",
       "[1382 rows x 2 columns]"
      ]
     },
     "execution_count": 38,
     "metadata": {},
     "output_type": "execute_result"
    }
   ],
   "source": [
    "# finds all extra copies of duplicated rows\n",
    "# duplicated by default doesnt set the 1st iteration of the matching rows as true (returns false)\n",
    "# returns the last iteration -duplicate i.e.row of index 2385\n",
    "# i.e. row of index 924 below is a duplicate and is not returned\n",
    "allcourses[allcourses.duplicated()] "
   ]
  },
  {
   "cell_type": "code",
   "execution_count": 39,
   "id": "996e8820-4037-48f6-b56b-5c4fcdada3d3",
   "metadata": {},
   "outputs": [
    {
     "data": {
      "text/html": [
       "<div>\n",
       "<style scoped>\n",
       "    .dataframe tbody tr th:only-of-type {\n",
       "        vertical-align: middle;\n",
       "    }\n",
       "\n",
       "    .dataframe tbody tr th {\n",
       "        vertical-align: top;\n",
       "    }\n",
       "\n",
       "    .dataframe thead th {\n",
       "        text-align: right;\n",
       "    }\n",
       "</style>\n",
       "<table border=\"1\" class=\"dataframe\">\n",
       "  <thead>\n",
       "    <tr style=\"text-align: right;\">\n",
       "      <th></th>\n",
       "      <th>code</th>\n",
       "      <th>title</th>\n",
       "    </tr>\n",
       "  </thead>\n",
       "  <tbody>\n",
       "    <tr>\n",
       "      <th>4</th>\n",
       "      <td>AL810</td>\n",
       "      <td>Quantity Surveying</td>\n",
       "    </tr>\n",
       "    <tr>\n",
       "      <th>5</th>\n",
       "      <td>AL811</td>\n",
       "      <td>Civil Engineering</td>\n",
       "    </tr>\n",
       "    <tr>\n",
       "      <th>6</th>\n",
       "      <td>AL820</td>\n",
       "      <td>Mechanical and Polymer Engineering</td>\n",
       "    </tr>\n",
       "    <tr>\n",
       "      <th>7</th>\n",
       "      <td>AL830</td>\n",
       "      <td>General Nursing</td>\n",
       "    </tr>\n",
       "    <tr>\n",
       "      <th>10</th>\n",
       "      <td>AL836</td>\n",
       "      <td>Nutrition and Health Science</td>\n",
       "    </tr>\n",
       "    <tr>\n",
       "      <th>...</th>\n",
       "      <td>...</td>\n",
       "      <td>...</td>\n",
       "    </tr>\n",
       "    <tr>\n",
       "      <th>3338</th>\n",
       "      <td>WD200</td>\n",
       "      <td>Arts (options)</td>\n",
       "    </tr>\n",
       "    <tr>\n",
       "      <th>3339</th>\n",
       "      <td>WD210</td>\n",
       "      <td>Software Systems Development</td>\n",
       "    </tr>\n",
       "    <tr>\n",
       "      <th>3340</th>\n",
       "      <td>WD211</td>\n",
       "      <td>Creative Computing</td>\n",
       "    </tr>\n",
       "    <tr>\n",
       "      <th>3341</th>\n",
       "      <td>WD212</td>\n",
       "      <td>Recreation and Sport Management</td>\n",
       "    </tr>\n",
       "    <tr>\n",
       "      <th>3342</th>\n",
       "      <td>WD230</td>\n",
       "      <td>Mechanical and Manufacturing Engineering</td>\n",
       "    </tr>\n",
       "  </tbody>\n",
       "</table>\n",
       "<p>2215 rows × 2 columns</p>\n",
       "</div>"
      ],
      "text/plain": [
       "       code                                     title\n",
       "4     AL810                        Quantity Surveying\n",
       "5     AL811                         Civil Engineering\n",
       "6     AL820        Mechanical and Polymer Engineering\n",
       "7     AL830                           General Nursing\n",
       "10    AL836              Nutrition and Health Science\n",
       "...     ...                                       ...\n",
       "3338  WD200                            Arts (options)\n",
       "3339  WD210              Software Systems Development\n",
       "3340  WD211                        Creative Computing\n",
       "3341  WD212           Recreation and Sport Management\n",
       "3342  WD230  Mechanical and Manufacturing Engineering\n",
       "\n",
       "[2215 rows x 2 columns]"
      ]
     },
     "execution_count": 39,
     "metadata": {},
     "output_type": "execute_result"
    }
   ],
   "source": [
    "# keep =‘first’ : Drop duplicates except for the first occurrence.\n",
    "# keep = ‘last’ : Drop duplicates except for the last occurrence.\n",
    "# keep = False discards all sets of duplicated entries.\n",
    "# Hence 2215 original CAO course codes in 2021-2019\n",
    "allcourses[allcourses.duplicated(keep = False)]"
   ]
  },
  {
   "cell_type": "code",
   "execution_count": 40,
   "id": "187be41e-223c-4321-89b4-3c0c0cc559eb",
   "metadata": {},
   "outputs": [
    {
     "data": {
      "text/html": [
       "<div>\n",
       "<style scoped>\n",
       "    .dataframe tbody tr th:only-of-type {\n",
       "        vertical-align: middle;\n",
       "    }\n",
       "\n",
       "    .dataframe tbody tr th {\n",
       "        vertical-align: top;\n",
       "    }\n",
       "\n",
       "    .dataframe thead th {\n",
       "        text-align: right;\n",
       "    }\n",
       "</style>\n",
       "<table border=\"1\" class=\"dataframe\">\n",
       "  <thead>\n",
       "    <tr style=\"text-align: right;\">\n",
       "      <th></th>\n",
       "      <th>code</th>\n",
       "      <th>title</th>\n",
       "    </tr>\n",
       "  </thead>\n",
       "  <tbody>\n",
       "    <tr>\n",
       "      <th>0</th>\n",
       "      <td>AL801</td>\n",
       "      <td>Software Design for Virtual Reality and Gaming</td>\n",
       "    </tr>\n",
       "    <tr>\n",
       "      <th>1</th>\n",
       "      <td>AL802</td>\n",
       "      <td>Software Design in Artificial Intelligence for...</td>\n",
       "    </tr>\n",
       "    <tr>\n",
       "      <th>2</th>\n",
       "      <td>AL803</td>\n",
       "      <td>Software Design for Mobile Apps and Connected ...</td>\n",
       "    </tr>\n",
       "    <tr>\n",
       "      <th>3</th>\n",
       "      <td>AL805</td>\n",
       "      <td>Computer Engineering for Network Infrastructure</td>\n",
       "    </tr>\n",
       "    <tr>\n",
       "      <th>4</th>\n",
       "      <td>AL810</td>\n",
       "      <td>Quantity Surveying</td>\n",
       "    </tr>\n",
       "    <tr>\n",
       "      <th>...</th>\n",
       "      <td>...</td>\n",
       "      <td>...</td>\n",
       "    </tr>\n",
       "    <tr>\n",
       "      <th>3281</th>\n",
       "      <td>TL801</td>\n",
       "      <td>Animation Visual Effects and Motion Design</td>\n",
       "    </tr>\n",
       "    <tr>\n",
       "      <th>3282</th>\n",
       "      <td>TL802</td>\n",
       "      <td>TV Radio and New Media</td>\n",
       "    </tr>\n",
       "    <tr>\n",
       "      <th>3283</th>\n",
       "      <td>TL803</td>\n",
       "      <td>Music Technology</td>\n",
       "    </tr>\n",
       "    <tr>\n",
       "      <th>3286</th>\n",
       "      <td>TL812</td>\n",
       "      <td>Computing with Digital Media</td>\n",
       "    </tr>\n",
       "    <tr>\n",
       "      <th>3324</th>\n",
       "      <td>WD148</td>\n",
       "      <td>Tourism Marketing</td>\n",
       "    </tr>\n",
       "  </tbody>\n",
       "</table>\n",
       "<p>1961 rows × 2 columns</p>\n",
       "</div>"
      ],
      "text/plain": [
       "       code                                              title\n",
       "0     AL801     Software Design for Virtual Reality and Gaming\n",
       "1     AL802  Software Design in Artificial Intelligence for...\n",
       "2     AL803  Software Design for Mobile Apps and Connected ...\n",
       "3     AL805    Computer Engineering for Network Infrastructure\n",
       "4     AL810                                 Quantity Surveying\n",
       "...     ...                                                ...\n",
       "3281  TL801         Animation Visual Effects and Motion Design\n",
       "3282  TL802                             TV Radio and New Media\n",
       "3283  TL803                                   Music Technology\n",
       "3286  TL812                       Computing with Digital Media\n",
       "3324  WD148                                  Tourism Marketing\n",
       "\n",
       "[1961 rows x 2 columns]"
      ]
     },
     "execution_count": 40,
     "metadata": {},
     "output_type": "execute_result"
    }
   ],
   "source": [
    "#returns back the dataframe with all duplicates dropped\n",
    "# 1961 course codes returned\n",
    "allcourses.drop_duplicates()"
   ]
  },
  {
   "cell_type": "code",
   "execution_count": 41,
   "id": "d15b3454-b371-4797-9d7f-4d91f2c527f3",
   "metadata": {},
   "outputs": [
    {
     "data": {
      "text/html": [
       "<div>\n",
       "<style scoped>\n",
       "    .dataframe tbody tr th:only-of-type {\n",
       "        vertical-align: middle;\n",
       "    }\n",
       "\n",
       "    .dataframe tbody tr th {\n",
       "        vertical-align: top;\n",
       "    }\n",
       "\n",
       "    .dataframe thead th {\n",
       "        text-align: right;\n",
       "    }\n",
       "</style>\n",
       "<table border=\"1\" class=\"dataframe\">\n",
       "  <thead>\n",
       "    <tr style=\"text-align: right;\">\n",
       "      <th></th>\n",
       "      <th>code</th>\n",
       "      <th>title</th>\n",
       "    </tr>\n",
       "  </thead>\n",
       "  <tbody>\n",
       "    <tr>\n",
       "      <th>949</th>\n",
       "      <td>AC120</td>\n",
       "      <td>International Business</td>\n",
       "    </tr>\n",
       "    <tr>\n",
       "      <th>950</th>\n",
       "      <td>AC137</td>\n",
       "      <td>Liberal Arts</td>\n",
       "    </tr>\n",
       "    <tr>\n",
       "      <th>951</th>\n",
       "      <td>AD101</td>\n",
       "      <td>First Year Art &amp; Design (Common Entry,portfolio)</td>\n",
       "    </tr>\n",
       "    <tr>\n",
       "      <th>952</th>\n",
       "      <td>AD102</td>\n",
       "      <td>Graphic Design and Moving Image Design (portfo...</td>\n",
       "    </tr>\n",
       "    <tr>\n",
       "      <th>953</th>\n",
       "      <td>AD103</td>\n",
       "      <td>Textile &amp; Surface Design and Jewellery &amp; Objec...</td>\n",
       "    </tr>\n",
       "    <tr>\n",
       "      <th>...</th>\n",
       "      <td>...</td>\n",
       "      <td>...</td>\n",
       "    </tr>\n",
       "    <tr>\n",
       "      <th>3338</th>\n",
       "      <td>WD200</td>\n",
       "      <td>Arts (options)</td>\n",
       "    </tr>\n",
       "    <tr>\n",
       "      <th>3339</th>\n",
       "      <td>WD210</td>\n",
       "      <td>Software Systems Development</td>\n",
       "    </tr>\n",
       "    <tr>\n",
       "      <th>3340</th>\n",
       "      <td>WD211</td>\n",
       "      <td>Creative Computing</td>\n",
       "    </tr>\n",
       "    <tr>\n",
       "      <th>3341</th>\n",
       "      <td>WD212</td>\n",
       "      <td>Recreation and Sport Management</td>\n",
       "    </tr>\n",
       "    <tr>\n",
       "      <th>3342</th>\n",
       "      <td>WD230</td>\n",
       "      <td>Mechanical and Manufacturing Engineering</td>\n",
       "    </tr>\n",
       "  </tbody>\n",
       "</table>\n",
       "<p>1692 rows × 2 columns</p>\n",
       "</div>"
      ],
      "text/plain": [
       "       code                                              title\n",
       "949   AC120                             International Business\n",
       "950   AC137                                       Liberal Arts\n",
       "951   AD101   First Year Art & Design (Common Entry,portfolio)\n",
       "952   AD102  Graphic Design and Moving Image Design (portfo...\n",
       "953   AD103  Textile & Surface Design and Jewellery & Objec...\n",
       "...     ...                                                ...\n",
       "3338  WD200                                     Arts (options)\n",
       "3339  WD210                       Software Systems Development\n",
       "3340  WD211                                 Creative Computing\n",
       "3341  WD212                    Recreation and Sport Management\n",
       "3342  WD230           Mechanical and Manufacturing Engineering\n",
       "\n",
       "[1692 rows x 2 columns]"
      ]
     },
     "execution_count": 41,
     "metadata": {},
     "output_type": "execute_result"
    }
   ],
   "source": [
    "# Returns all extra copies of duplicated rows.\n",
    "allcourses[allcourses.duplicated(subset =['code'])]"
   ]
  },
  {
   "cell_type": "code",
   "execution_count": 42,
   "id": "4f9d0783-efba-4248-b00f-8ed3db6bd85f",
   "metadata": {},
   "outputs": [
    {
     "data": {
      "text/html": [
       "<div>\n",
       "<style scoped>\n",
       "    .dataframe tbody tr th:only-of-type {\n",
       "        vertical-align: middle;\n",
       "    }\n",
       "\n",
       "    .dataframe tbody tr th {\n",
       "        vertical-align: top;\n",
       "    }\n",
       "\n",
       "    .dataframe thead th {\n",
       "        text-align: right;\n",
       "    }\n",
       "</style>\n",
       "<table border=\"1\" class=\"dataframe\">\n",
       "  <thead>\n",
       "    <tr style=\"text-align: right;\">\n",
       "      <th></th>\n",
       "      <th>code</th>\n",
       "      <th>title</th>\n",
       "    </tr>\n",
       "  </thead>\n",
       "  <tbody>\n",
       "    <tr>\n",
       "      <th>0</th>\n",
       "      <td>AL801</td>\n",
       "      <td>Software Design for Virtual Reality and Gaming</td>\n",
       "    </tr>\n",
       "    <tr>\n",
       "      <th>1</th>\n",
       "      <td>AL802</td>\n",
       "      <td>Software Design in Artificial Intelligence for...</td>\n",
       "    </tr>\n",
       "    <tr>\n",
       "      <th>2</th>\n",
       "      <td>AL803</td>\n",
       "      <td>Software Design for Mobile Apps and Connected ...</td>\n",
       "    </tr>\n",
       "    <tr>\n",
       "      <th>3</th>\n",
       "      <td>AL805</td>\n",
       "      <td>Computer Engineering for Network Infrastructure</td>\n",
       "    </tr>\n",
       "    <tr>\n",
       "      <th>4</th>\n",
       "      <td>AL810</td>\n",
       "      <td>Quantity Surveying</td>\n",
       "    </tr>\n",
       "    <tr>\n",
       "      <th>...</th>\n",
       "      <td>...</td>\n",
       "      <td>...</td>\n",
       "    </tr>\n",
       "    <tr>\n",
       "      <th>3272</th>\n",
       "      <td>SG441</td>\n",
       "      <td>Environmental Science</td>\n",
       "    </tr>\n",
       "    <tr>\n",
       "      <th>3277</th>\n",
       "      <td>SG446</td>\n",
       "      <td>Applied Archaeology</td>\n",
       "    </tr>\n",
       "    <tr>\n",
       "      <th>3283</th>\n",
       "      <td>TL803</td>\n",
       "      <td>Music Technology</td>\n",
       "    </tr>\n",
       "    <tr>\n",
       "      <th>3286</th>\n",
       "      <td>TL812</td>\n",
       "      <td>Computing with Digital Media</td>\n",
       "    </tr>\n",
       "    <tr>\n",
       "      <th>3324</th>\n",
       "      <td>WD148</td>\n",
       "      <td>Tourism Marketing</td>\n",
       "    </tr>\n",
       "  </tbody>\n",
       "</table>\n",
       "<p>1651 rows × 2 columns</p>\n",
       "</div>"
      ],
      "text/plain": [
       "       code                                              title\n",
       "0     AL801     Software Design for Virtual Reality and Gaming\n",
       "1     AL802  Software Design in Artificial Intelligence for...\n",
       "2     AL803  Software Design for Mobile Apps and Connected ...\n",
       "3     AL805    Computer Engineering for Network Infrastructure\n",
       "4     AL810                                 Quantity Surveying\n",
       "...     ...                                                ...\n",
       "3272  SG441                              Environmental Science\n",
       "3277  SG446                                Applied Archaeology\n",
       "3283  TL803                                   Music Technology\n",
       "3286  TL812                       Computing with Digital Media\n",
       "3324  WD148                                  Tourism Marketing\n",
       "\n",
       "[1651 rows x 2 columns]"
      ]
     },
     "execution_count": 42,
     "metadata": {},
     "output_type": "execute_result"
    }
   ],
   "source": [
    "# drop duplicates based on the same code\n",
    "# 1651 course codes returned\n",
    "allcourses.drop_duplicates(subset=['code'])"
   ]
  },
  {
   "cell_type": "code",
   "execution_count": 43,
   "id": "b0eb222b-67c4-4b74-9e09-bc339d570649",
   "metadata": {},
   "outputs": [],
   "source": [
    "# drop duplicates based on the same code\n",
    "# this time creates a new dataframe as by default-this is identified by 'inplace=False'\n",
    "# ignore_index cleans up the duplicates in the index i.e. counts just one of duplicates indexes\n",
    "allcourses.drop_duplicates(subset=['code'], inplace=True, ignore_index=True)"
   ]
  },
  {
   "cell_type": "code",
   "execution_count": 44,
   "id": "733ccfe3-7dda-4085-9d44-3a053c32b2bd",
   "metadata": {},
   "outputs": [
    {
     "data": {
      "text/html": [
       "<div>\n",
       "<style scoped>\n",
       "    .dataframe tbody tr th:only-of-type {\n",
       "        vertical-align: middle;\n",
       "    }\n",
       "\n",
       "    .dataframe tbody tr th {\n",
       "        vertical-align: top;\n",
       "    }\n",
       "\n",
       "    .dataframe thead th {\n",
       "        text-align: right;\n",
       "    }\n",
       "</style>\n",
       "<table border=\"1\" class=\"dataframe\">\n",
       "  <thead>\n",
       "    <tr style=\"text-align: right;\">\n",
       "      <th></th>\n",
       "      <th>code</th>\n",
       "      <th>title</th>\n",
       "    </tr>\n",
       "  </thead>\n",
       "  <tbody>\n",
       "    <tr>\n",
       "      <th>0</th>\n",
       "      <td>AL801</td>\n",
       "      <td>Software Design for Virtual Reality and Gaming</td>\n",
       "    </tr>\n",
       "    <tr>\n",
       "      <th>1</th>\n",
       "      <td>AL802</td>\n",
       "      <td>Software Design in Artificial Intelligence for...</td>\n",
       "    </tr>\n",
       "    <tr>\n",
       "      <th>2</th>\n",
       "      <td>AL803</td>\n",
       "      <td>Software Design for Mobile Apps and Connected ...</td>\n",
       "    </tr>\n",
       "    <tr>\n",
       "      <th>3</th>\n",
       "      <td>AL805</td>\n",
       "      <td>Computer Engineering for Network Infrastructure</td>\n",
       "    </tr>\n",
       "    <tr>\n",
       "      <th>4</th>\n",
       "      <td>AL810</td>\n",
       "      <td>Quantity Surveying</td>\n",
       "    </tr>\n",
       "    <tr>\n",
       "      <th>...</th>\n",
       "      <td>...</td>\n",
       "      <td>...</td>\n",
       "    </tr>\n",
       "    <tr>\n",
       "      <th>1646</th>\n",
       "      <td>SG441</td>\n",
       "      <td>Environmental Science</td>\n",
       "    </tr>\n",
       "    <tr>\n",
       "      <th>1647</th>\n",
       "      <td>SG446</td>\n",
       "      <td>Applied Archaeology</td>\n",
       "    </tr>\n",
       "    <tr>\n",
       "      <th>1648</th>\n",
       "      <td>TL803</td>\n",
       "      <td>Music Technology</td>\n",
       "    </tr>\n",
       "    <tr>\n",
       "      <th>1649</th>\n",
       "      <td>TL812</td>\n",
       "      <td>Computing with Digital Media</td>\n",
       "    </tr>\n",
       "    <tr>\n",
       "      <th>1650</th>\n",
       "      <td>WD148</td>\n",
       "      <td>Tourism Marketing</td>\n",
       "    </tr>\n",
       "  </tbody>\n",
       "</table>\n",
       "<p>1651 rows × 2 columns</p>\n",
       "</div>"
      ],
      "text/plain": [
       "       code                                              title\n",
       "0     AL801     Software Design for Virtual Reality and Gaming\n",
       "1     AL802  Software Design in Artificial Intelligence for...\n",
       "2     AL803  Software Design for Mobile Apps and Connected ...\n",
       "3     AL805    Computer Engineering for Network Infrastructure\n",
       "4     AL810                                 Quantity Surveying\n",
       "...     ...                                                ...\n",
       "1646  SG441                              Environmental Science\n",
       "1647  SG446                                Applied Archaeology\n",
       "1648  TL803                                   Music Technology\n",
       "1649  TL812                       Computing with Digital Media\n",
       "1650  WD148                                  Tourism Marketing\n",
       "\n",
       "[1651 rows x 2 columns]"
      ]
     },
     "execution_count": 44,
     "metadata": {},
     "output_type": "execute_result"
    }
   ],
   "source": [
    "# as we used inplace=True then we have permanently unduplicated the dataframe for codes\n",
    "# when run allcourses this time the default dataframe has no course code duplicates\n",
    "#1651 unique codes between 2021-2019\n",
    "allcourses"
   ]
  },
  {
   "cell_type": "markdown",
   "id": "45e0bfe6-7463-4099-af63-c98f74efa1e9",
   "metadata": {},
   "source": [
    "<br>\n",
    "\n",
    "## Join all Points to newly formed dataframe (with all the listed courses)\n",
    "***\n",
    "<br>\n"
   ]
  },
  {
   "cell_type": "code",
   "execution_count": 45,
   "id": "c988227d-1bc2-456b-bd98-98d35816f6d2",
   "metadata": {},
   "outputs": [
    {
     "data": {
      "text/html": [
       "<div>\n",
       "<style scoped>\n",
       "    .dataframe tbody tr th:only-of-type {\n",
       "        vertical-align: middle;\n",
       "    }\n",
       "\n",
       "    .dataframe tbody tr th {\n",
       "        vertical-align: top;\n",
       "    }\n",
       "\n",
       "    .dataframe thead th {\n",
       "        text-align: right;\n",
       "    }\n",
       "</style>\n",
       "<table border=\"1\" class=\"dataframe\">\n",
       "  <thead>\n",
       "    <tr style=\"text-align: right;\">\n",
       "      <th></th>\n",
       "      <th>title</th>\n",
       "      <th>points_r1_2021</th>\n",
       "      <th>points_r2_2021</th>\n",
       "    </tr>\n",
       "    <tr>\n",
       "      <th>code</th>\n",
       "      <th></th>\n",
       "      <th></th>\n",
       "      <th></th>\n",
       "    </tr>\n",
       "  </thead>\n",
       "  <tbody>\n",
       "    <tr>\n",
       "      <th>AL801</th>\n",
       "      <td>Software Design for Virtual Reality and Gaming</td>\n",
       "      <td>300</td>\n",
       "      <td>NaN</td>\n",
       "    </tr>\n",
       "    <tr>\n",
       "      <th>AL802</th>\n",
       "      <td>Software Design in Artificial Intelligence for...</td>\n",
       "      <td>313</td>\n",
       "      <td>NaN</td>\n",
       "    </tr>\n",
       "    <tr>\n",
       "      <th>AL803</th>\n",
       "      <td>Software Design for Mobile Apps and Connected ...</td>\n",
       "      <td>350</td>\n",
       "      <td>NaN</td>\n",
       "    </tr>\n",
       "    <tr>\n",
       "      <th>AL805</th>\n",
       "      <td>Computer Engineering for Network Infrastructure</td>\n",
       "      <td>321</td>\n",
       "      <td>NaN</td>\n",
       "    </tr>\n",
       "    <tr>\n",
       "      <th>AL810</th>\n",
       "      <td>Quantity Surveying</td>\n",
       "      <td>328</td>\n",
       "      <td>NaN</td>\n",
       "    </tr>\n",
       "    <tr>\n",
       "      <th>...</th>\n",
       "      <td>...</td>\n",
       "      <td>...</td>\n",
       "      <td>...</td>\n",
       "    </tr>\n",
       "    <tr>\n",
       "      <th>WD211</th>\n",
       "      <td>Creative Computing</td>\n",
       "      <td>270</td>\n",
       "      <td>NaN</td>\n",
       "    </tr>\n",
       "    <tr>\n",
       "      <th>WD212</th>\n",
       "      <td>Recreation and Sport Management</td>\n",
       "      <td>262</td>\n",
       "      <td>NaN</td>\n",
       "    </tr>\n",
       "    <tr>\n",
       "      <th>WD230</th>\n",
       "      <td>Mechanical and Manufacturing Engineering</td>\n",
       "      <td>230</td>\n",
       "      <td>230</td>\n",
       "    </tr>\n",
       "    <tr>\n",
       "      <th>WD231</th>\n",
       "      <td>Early Childhood Care and Education</td>\n",
       "      <td>266</td>\n",
       "      <td>NaN</td>\n",
       "    </tr>\n",
       "    <tr>\n",
       "      <th>WD232</th>\n",
       "      <td>Business Information Systems</td>\n",
       "      <td>261</td>\n",
       "      <td>261</td>\n",
       "    </tr>\n",
       "  </tbody>\n",
       "</table>\n",
       "<p>949 rows × 3 columns</p>\n",
       "</div>"
      ],
      "text/plain": [
       "                                                   title points_r1_2021  \\\n",
       "code                                                                      \n",
       "AL801     Software Design for Virtual Reality and Gaming            300   \n",
       "AL802  Software Design in Artificial Intelligence for...            313   \n",
       "AL803  Software Design for Mobile Apps and Connected ...            350   \n",
       "AL805    Computer Engineering for Network Infrastructure            321   \n",
       "AL810                                 Quantity Surveying            328   \n",
       "...                                                  ...            ...   \n",
       "WD211                                 Creative Computing            270   \n",
       "WD212                    Recreation and Sport Management            262   \n",
       "WD230           Mechanical and Manufacturing Engineering            230   \n",
       "WD231                 Early Childhood Care and Education            266   \n",
       "WD232                       Business Information Systems            261   \n",
       "\n",
       "      points_r2_2021  \n",
       "code                  \n",
       "AL801            NaN  \n",
       "AL802            NaN  \n",
       "AL803            NaN  \n",
       "AL805            NaN  \n",
       "AL810            NaN  \n",
       "...              ...  \n",
       "WD211            NaN  \n",
       "WD212            NaN  \n",
       "WD230            230  \n",
       "WD231            NaN  \n",
       "WD232            261  \n",
       "\n",
       "[949 rows x 3 columns]"
      ]
     },
     "execution_count": 45,
     "metadata": {},
     "output_type": "execute_result"
    }
   ],
   "source": [
    "#set the index to the code column\n",
    "df2021.set_index ('code', inplace=True)\n",
    "df2021.columns = ['title' , 'points_r1_2021', 'points_r2_2021']\n",
    "df2021"
   ]
  },
  {
   "cell_type": "markdown",
   "id": "2dee8103-0f56-4b67-bb54-760edbd0c7fe",
   "metadata": {},
   "source": [
    "##### pull in the points from 2021 and 2020\n",
    "---\n"
   ]
  },
  {
   "cell_type": "code",
   "execution_count": 46,
   "id": "3d0d798c-fdc5-4d45-a297-0f216df1b4c4",
   "metadata": {},
   "outputs": [],
   "source": [
    "#set the column as the index\n",
    "allcourses.set_index('code', inplace =True)"
   ]
  },
  {
   "cell_type": "code",
   "execution_count": 47,
   "id": "aec9957a-978d-468f-be73-9de6856e941e",
   "metadata": {},
   "outputs": [
    {
     "data": {
      "text/html": [
       "<div>\n",
       "<style scoped>\n",
       "    .dataframe tbody tr th:only-of-type {\n",
       "        vertical-align: middle;\n",
       "    }\n",
       "\n",
       "    .dataframe tbody tr th {\n",
       "        vertical-align: top;\n",
       "    }\n",
       "\n",
       "    .dataframe thead th {\n",
       "        text-align: right;\n",
       "    }\n",
       "</style>\n",
       "<table border=\"1\" class=\"dataframe\">\n",
       "  <thead>\n",
       "    <tr style=\"text-align: right;\">\n",
       "      <th></th>\n",
       "      <th>title</th>\n",
       "      <th>points_r1_2021</th>\n",
       "    </tr>\n",
       "    <tr>\n",
       "      <th>code</th>\n",
       "      <th></th>\n",
       "      <th></th>\n",
       "    </tr>\n",
       "  </thead>\n",
       "  <tbody>\n",
       "    <tr>\n",
       "      <th>AL801</th>\n",
       "      <td>Software Design for Virtual Reality and Gaming</td>\n",
       "      <td>300</td>\n",
       "    </tr>\n",
       "    <tr>\n",
       "      <th>AL802</th>\n",
       "      <td>Software Design in Artificial Intelligence for...</td>\n",
       "      <td>313</td>\n",
       "    </tr>\n",
       "    <tr>\n",
       "      <th>AL803</th>\n",
       "      <td>Software Design for Mobile Apps and Connected ...</td>\n",
       "      <td>350</td>\n",
       "    </tr>\n",
       "    <tr>\n",
       "      <th>AL805</th>\n",
       "      <td>Computer Engineering for Network Infrastructure</td>\n",
       "      <td>321</td>\n",
       "    </tr>\n",
       "    <tr>\n",
       "      <th>AL810</th>\n",
       "      <td>Quantity Surveying</td>\n",
       "      <td>328</td>\n",
       "    </tr>\n",
       "    <tr>\n",
       "      <th>...</th>\n",
       "      <td>...</td>\n",
       "      <td>...</td>\n",
       "    </tr>\n",
       "    <tr>\n",
       "      <th>SG441</th>\n",
       "      <td>Environmental Science</td>\n",
       "      <td>NaN</td>\n",
       "    </tr>\n",
       "    <tr>\n",
       "      <th>SG446</th>\n",
       "      <td>Applied Archaeology</td>\n",
       "      <td>NaN</td>\n",
       "    </tr>\n",
       "    <tr>\n",
       "      <th>TL803</th>\n",
       "      <td>Music Technology</td>\n",
       "      <td>NaN</td>\n",
       "    </tr>\n",
       "    <tr>\n",
       "      <th>TL812</th>\n",
       "      <td>Computing with Digital Media</td>\n",
       "      <td>NaN</td>\n",
       "    </tr>\n",
       "    <tr>\n",
       "      <th>WD148</th>\n",
       "      <td>Tourism Marketing</td>\n",
       "      <td>NaN</td>\n",
       "    </tr>\n",
       "  </tbody>\n",
       "</table>\n",
       "<p>1651 rows × 2 columns</p>\n",
       "</div>"
      ],
      "text/plain": [
       "                                                   title points_r1_2021\n",
       "code                                                                   \n",
       "AL801     Software Design for Virtual Reality and Gaming            300\n",
       "AL802  Software Design in Artificial Intelligence for...            313\n",
       "AL803  Software Design for Mobile Apps and Connected ...            350\n",
       "AL805    Computer Engineering for Network Infrastructure            321\n",
       "AL810                                 Quantity Surveying            328\n",
       "...                                                  ...            ...\n",
       "SG441                              Environmental Science            NaN\n",
       "SG446                                Applied Archaeology            NaN\n",
       "TL803                                   Music Technology            NaN\n",
       "TL812                       Computing with Digital Media            NaN\n",
       "WD148                                  Tourism Marketing            NaN\n",
       "\n",
       "[1651 rows x 2 columns]"
      ]
     },
     "execution_count": 47,
     "metadata": {},
     "output_type": "execute_result"
    }
   ],
   "source": [
    "#just merge what you need from the 2021 dataframe i.e. code and points\n",
    "#where NaN it defines as code that was not run in 2021\n",
    "allcourses = allcourses.join(df2021[['points_r1_2021']])\n",
    "allcourses"
   ]
  },
  {
   "cell_type": "code",
   "execution_count": 48,
   "id": "b74e5fef-6de0-4d88-8842-2e757850be49",
   "metadata": {},
   "outputs": [
    {
     "data": {
      "text/html": [
       "<div>\n",
       "<style scoped>\n",
       "    .dataframe tbody tr th:only-of-type {\n",
       "        vertical-align: middle;\n",
       "    }\n",
       "\n",
       "    .dataframe tbody tr th {\n",
       "        vertical-align: top;\n",
       "    }\n",
       "\n",
       "    .dataframe thead th {\n",
       "        text-align: right;\n",
       "    }\n",
       "</style>\n",
       "<table border=\"1\" class=\"dataframe\">\n",
       "  <thead>\n",
       "    <tr style=\"text-align: right;\">\n",
       "      <th></th>\n",
       "      <th>code</th>\n",
       "      <th>points_R1_2020</th>\n",
       "    </tr>\n",
       "  </thead>\n",
       "  <tbody>\n",
       "    <tr>\n",
       "      <th>0</th>\n",
       "      <td>AC120</td>\n",
       "      <td>209</td>\n",
       "    </tr>\n",
       "    <tr>\n",
       "      <th>1</th>\n",
       "      <td>AC137</td>\n",
       "      <td>252</td>\n",
       "    </tr>\n",
       "    <tr>\n",
       "      <th>2</th>\n",
       "      <td>AD101</td>\n",
       "      <td>#+matric</td>\n",
       "    </tr>\n",
       "    <tr>\n",
       "      <th>3</th>\n",
       "      <td>AD102</td>\n",
       "      <td>#+matric</td>\n",
       "    </tr>\n",
       "    <tr>\n",
       "      <th>4</th>\n",
       "      <td>AD103</td>\n",
       "      <td>#+matric</td>\n",
       "    </tr>\n",
       "    <tr>\n",
       "      <th>...</th>\n",
       "      <td>...</td>\n",
       "      <td>...</td>\n",
       "    </tr>\n",
       "    <tr>\n",
       "      <th>1459</th>\n",
       "      <td>WD208</td>\n",
       "      <td>188</td>\n",
       "    </tr>\n",
       "    <tr>\n",
       "      <th>1460</th>\n",
       "      <td>WD210</td>\n",
       "      <td>279</td>\n",
       "    </tr>\n",
       "    <tr>\n",
       "      <th>1461</th>\n",
       "      <td>WD211</td>\n",
       "      <td>271</td>\n",
       "    </tr>\n",
       "    <tr>\n",
       "      <th>1462</th>\n",
       "      <td>WD212</td>\n",
       "      <td>270</td>\n",
       "    </tr>\n",
       "    <tr>\n",
       "      <th>1463</th>\n",
       "      <td>WD230</td>\n",
       "      <td>253</td>\n",
       "    </tr>\n",
       "  </tbody>\n",
       "</table>\n",
       "<p>1464 rows × 2 columns</p>\n",
       "</div>"
      ],
      "text/plain": [
       "       code points_R1_2020\n",
       "0     AC120            209\n",
       "1     AC137            252\n",
       "2     AD101       #+matric\n",
       "3     AD102       #+matric\n",
       "4     AD103       #+matric\n",
       "...     ...            ...\n",
       "1459  WD208            188\n",
       "1460  WD210            279\n",
       "1461  WD211            271\n",
       "1462  WD212            270\n",
       "1463  WD230            253\n",
       "\n",
       "[1464 rows x 2 columns]"
      ]
     },
     "execution_count": 48,
     "metadata": {},
     "output_type": "execute_result"
    }
   ],
   "source": [
    "# rename the points columns in df2020 to align with allcourses nomenclature\n",
    "df2020_r1= df2020 [['COURSE CODE2', 'R1 POINTS']]\n",
    "df2020_r1.columns = ['code', 'points_R1_2020']\n",
    "df2020_r1"
   ]
  },
  {
   "cell_type": "code",
   "execution_count": 49,
   "id": "22f381eb-36aa-431b-9c31-fea06e427628",
   "metadata": {},
   "outputs": [
    {
     "data": {
      "text/html": [
       "<div>\n",
       "<style scoped>\n",
       "    .dataframe tbody tr th:only-of-type {\n",
       "        vertical-align: middle;\n",
       "    }\n",
       "\n",
       "    .dataframe tbody tr th {\n",
       "        vertical-align: top;\n",
       "    }\n",
       "\n",
       "    .dataframe thead th {\n",
       "        text-align: right;\n",
       "    }\n",
       "</style>\n",
       "<table border=\"1\" class=\"dataframe\">\n",
       "  <thead>\n",
       "    <tr style=\"text-align: right;\">\n",
       "      <th></th>\n",
       "      <th>points_R1_2020</th>\n",
       "    </tr>\n",
       "    <tr>\n",
       "      <th>code</th>\n",
       "      <th></th>\n",
       "    </tr>\n",
       "  </thead>\n",
       "  <tbody>\n",
       "    <tr>\n",
       "      <th>AC120</th>\n",
       "      <td>209</td>\n",
       "    </tr>\n",
       "    <tr>\n",
       "      <th>AC137</th>\n",
       "      <td>252</td>\n",
       "    </tr>\n",
       "    <tr>\n",
       "      <th>AD101</th>\n",
       "      <td>#+matric</td>\n",
       "    </tr>\n",
       "    <tr>\n",
       "      <th>AD102</th>\n",
       "      <td>#+matric</td>\n",
       "    </tr>\n",
       "    <tr>\n",
       "      <th>AD103</th>\n",
       "      <td>#+matric</td>\n",
       "    </tr>\n",
       "    <tr>\n",
       "      <th>...</th>\n",
       "      <td>...</td>\n",
       "    </tr>\n",
       "    <tr>\n",
       "      <th>WD208</th>\n",
       "      <td>188</td>\n",
       "    </tr>\n",
       "    <tr>\n",
       "      <th>WD210</th>\n",
       "      <td>279</td>\n",
       "    </tr>\n",
       "    <tr>\n",
       "      <th>WD211</th>\n",
       "      <td>271</td>\n",
       "    </tr>\n",
       "    <tr>\n",
       "      <th>WD212</th>\n",
       "      <td>270</td>\n",
       "    </tr>\n",
       "    <tr>\n",
       "      <th>WD230</th>\n",
       "      <td>253</td>\n",
       "    </tr>\n",
       "  </tbody>\n",
       "</table>\n",
       "<p>1464 rows × 1 columns</p>\n",
       "</div>"
      ],
      "text/plain": [
       "      points_R1_2020\n",
       "code                \n",
       "AC120            209\n",
       "AC137            252\n",
       "AD101       #+matric\n",
       "AD102       #+matric\n",
       "AD103       #+matric\n",
       "...              ...\n",
       "WD208            188\n",
       "WD210            279\n",
       "WD211            271\n",
       "WD212            270\n",
       "WD230            253\n",
       "\n",
       "[1464 rows x 1 columns]"
      ]
     },
     "execution_count": 49,
     "metadata": {},
     "output_type": "execute_result"
    }
   ],
   "source": [
    "# set the index to the code column\n",
    "df2020_r1.set_index ('code', inplace=True)\n",
    "df2020_r1                 "
   ]
  },
  {
   "cell_type": "code",
   "execution_count": 50,
   "id": "dbebaac8-ac7b-4220-92ee-7169b9151f78",
   "metadata": {},
   "outputs": [
    {
     "name": "stdout",
     "output_type": "stream",
     "text": [
      "<class 'pandas.core.frame.DataFrame'>\n",
      "Index: 1464 entries, AC120 to WD230\n",
      "Data columns (total 1 columns):\n",
      " #   Column          Non-Null Count  Dtype \n",
      "---  ------          --------------  ----- \n",
      " 0   points_R1_2020  1437 non-null   object\n",
      "dtypes: object(1)\n",
      "memory usage: 22.9+ KB\n"
     ]
    }
   ],
   "source": [
    "# check df2020 data datatype\n",
    "df2020_r1.info() "
   ]
  },
  {
   "cell_type": "markdown",
   "id": "50b3e3a5-078d-407c-9b66-f7c40c4652d2",
   "metadata": {},
   "source": [
    "<br>\n",
    "\n",
    "### merge of 2020 datapoints\n",
    "---"
   ]
  },
  {
   "cell_type": "code",
   "execution_count": 51,
   "id": "3df2efc9-ea63-433d-8e28-57ae75bf58d6",
   "metadata": {},
   "outputs": [
    {
     "data": {
      "text/html": [
       "<div>\n",
       "<style scoped>\n",
       "    .dataframe tbody tr th:only-of-type {\n",
       "        vertical-align: middle;\n",
       "    }\n",
       "\n",
       "    .dataframe tbody tr th {\n",
       "        vertical-align: top;\n",
       "    }\n",
       "\n",
       "    .dataframe thead th {\n",
       "        text-align: right;\n",
       "    }\n",
       "</style>\n",
       "<table border=\"1\" class=\"dataframe\">\n",
       "  <thead>\n",
       "    <tr style=\"text-align: right;\">\n",
       "      <th></th>\n",
       "      <th>title</th>\n",
       "      <th>points_r1_2021</th>\n",
       "      <th>points_R1_2020</th>\n",
       "    </tr>\n",
       "    <tr>\n",
       "      <th>code</th>\n",
       "      <th></th>\n",
       "      <th></th>\n",
       "      <th></th>\n",
       "    </tr>\n",
       "  </thead>\n",
       "  <tbody>\n",
       "    <tr>\n",
       "      <th>AL801</th>\n",
       "      <td>Software Design for Virtual Reality and Gaming</td>\n",
       "      <td>300</td>\n",
       "      <td>303</td>\n",
       "    </tr>\n",
       "    <tr>\n",
       "      <th>AL802</th>\n",
       "      <td>Software Design in Artificial Intelligence for...</td>\n",
       "      <td>313</td>\n",
       "      <td>332</td>\n",
       "    </tr>\n",
       "    <tr>\n",
       "      <th>AL803</th>\n",
       "      <td>Software Design for Mobile Apps and Connected ...</td>\n",
       "      <td>350</td>\n",
       "      <td>337</td>\n",
       "    </tr>\n",
       "    <tr>\n",
       "      <th>AL805</th>\n",
       "      <td>Computer Engineering for Network Infrastructure</td>\n",
       "      <td>321</td>\n",
       "      <td>333</td>\n",
       "    </tr>\n",
       "    <tr>\n",
       "      <th>AL810</th>\n",
       "      <td>Quantity Surveying</td>\n",
       "      <td>328</td>\n",
       "      <td>319</td>\n",
       "    </tr>\n",
       "    <tr>\n",
       "      <th>...</th>\n",
       "      <td>...</td>\n",
       "      <td>...</td>\n",
       "      <td>...</td>\n",
       "    </tr>\n",
       "    <tr>\n",
       "      <th>SG441</th>\n",
       "      <td>Environmental Science</td>\n",
       "      <td>NaN</td>\n",
       "      <td>NaN</td>\n",
       "    </tr>\n",
       "    <tr>\n",
       "      <th>SG446</th>\n",
       "      <td>Applied Archaeology</td>\n",
       "      <td>NaN</td>\n",
       "      <td>NaN</td>\n",
       "    </tr>\n",
       "    <tr>\n",
       "      <th>TL803</th>\n",
       "      <td>Music Technology</td>\n",
       "      <td>NaN</td>\n",
       "      <td>NaN</td>\n",
       "    </tr>\n",
       "    <tr>\n",
       "      <th>TL812</th>\n",
       "      <td>Computing with Digital Media</td>\n",
       "      <td>NaN</td>\n",
       "      <td>NaN</td>\n",
       "    </tr>\n",
       "    <tr>\n",
       "      <th>WD148</th>\n",
       "      <td>Tourism Marketing</td>\n",
       "      <td>NaN</td>\n",
       "      <td>NaN</td>\n",
       "    </tr>\n",
       "  </tbody>\n",
       "</table>\n",
       "<p>1651 rows × 3 columns</p>\n",
       "</div>"
      ],
      "text/plain": [
       "                                                   title points_r1_2021  \\\n",
       "code                                                                      \n",
       "AL801     Software Design for Virtual Reality and Gaming            300   \n",
       "AL802  Software Design in Artificial Intelligence for...            313   \n",
       "AL803  Software Design for Mobile Apps and Connected ...            350   \n",
       "AL805    Computer Engineering for Network Infrastructure            321   \n",
       "AL810                                 Quantity Surveying            328   \n",
       "...                                                  ...            ...   \n",
       "SG441                              Environmental Science            NaN   \n",
       "SG446                                Applied Archaeology            NaN   \n",
       "TL803                                   Music Technology            NaN   \n",
       "TL812                       Computing with Digital Media            NaN   \n",
       "WD148                                  Tourism Marketing            NaN   \n",
       "\n",
       "      points_R1_2020  \n",
       "code                  \n",
       "AL801            303  \n",
       "AL802            332  \n",
       "AL803            337  \n",
       "AL805            333  \n",
       "AL810            319  \n",
       "...              ...  \n",
       "SG441            NaN  \n",
       "SG446            NaN  \n",
       "TL803            NaN  \n",
       "TL812            NaN  \n",
       "WD148            NaN  \n",
       "\n",
       "[1651 rows x 3 columns]"
      ]
     },
     "execution_count": 51,
     "metadata": {},
     "output_type": "execute_result"
    }
   ],
   "source": [
    "# join 2020 points to all courses\n",
    "allcourses = allcourses.join(df2020_r1)\n",
    "allcourses"
   ]
  },
  {
   "cell_type": "markdown",
   "id": "05f790ba-5318-428a-b0b0-20d2acd9144d",
   "metadata": {},
   "source": [
    "<br>\n",
    "\n",
    "### merge of 2019 datapoints\n",
    "---"
   ]
  },
  {
   "cell_type": "code",
   "execution_count": 52,
   "id": "b4aa16d6-070a-48e7-b045-e0d0d579c50e",
   "metadata": {},
   "outputs": [
    {
     "data": {
      "text/html": [
       "<div>\n",
       "<style scoped>\n",
       "    .dataframe tbody tr th:only-of-type {\n",
       "        vertical-align: middle;\n",
       "    }\n",
       "\n",
       "    .dataframe tbody tr th {\n",
       "        vertical-align: top;\n",
       "    }\n",
       "\n",
       "    .dataframe thead th {\n",
       "        text-align: right;\n",
       "    }\n",
       "</style>\n",
       "<table border=\"1\" class=\"dataframe\">\n",
       "  <thead>\n",
       "    <tr style=\"text-align: right;\">\n",
       "      <th></th>\n",
       "      <th>Course Code</th>\n",
       "      <th>COURSE</th>\n",
       "      <th>EOS</th>\n",
       "      <th>Mid</th>\n",
       "    </tr>\n",
       "  </thead>\n",
       "  <tbody>\n",
       "    <tr>\n",
       "      <th>0</th>\n",
       "      <td>AL801</td>\n",
       "      <td>Software Design with Virtual Reality and Gaming</td>\n",
       "      <td>304</td>\n",
       "      <td>328.0</td>\n",
       "    </tr>\n",
       "    <tr>\n",
       "      <th>1</th>\n",
       "      <td>AL802</td>\n",
       "      <td>Software Design with Cloud Computing</td>\n",
       "      <td>301</td>\n",
       "      <td>306.0</td>\n",
       "    </tr>\n",
       "    <tr>\n",
       "      <th>2</th>\n",
       "      <td>AL803</td>\n",
       "      <td>Software Design with Mobile Apps and Connected...</td>\n",
       "      <td>309</td>\n",
       "      <td>337.0</td>\n",
       "    </tr>\n",
       "    <tr>\n",
       "      <th>3</th>\n",
       "      <td>AL805</td>\n",
       "      <td>Network Management and Cloud Infrastructure</td>\n",
       "      <td>329</td>\n",
       "      <td>442.0</td>\n",
       "    </tr>\n",
       "    <tr>\n",
       "      <th>4</th>\n",
       "      <td>AL810</td>\n",
       "      <td>Quantity Surveying</td>\n",
       "      <td>307</td>\n",
       "      <td>349.0</td>\n",
       "    </tr>\n",
       "    <tr>\n",
       "      <th>...</th>\n",
       "      <td>...</td>\n",
       "      <td>...</td>\n",
       "      <td>...</td>\n",
       "      <td>...</td>\n",
       "    </tr>\n",
       "    <tr>\n",
       "      <th>925</th>\n",
       "      <td>WD200</td>\n",
       "      <td>Arts (options)</td>\n",
       "      <td>221</td>\n",
       "      <td>296.0</td>\n",
       "    </tr>\n",
       "    <tr>\n",
       "      <th>926</th>\n",
       "      <td>WD210</td>\n",
       "      <td>Software Systems Development</td>\n",
       "      <td>271</td>\n",
       "      <td>329.0</td>\n",
       "    </tr>\n",
       "    <tr>\n",
       "      <th>927</th>\n",
       "      <td>WD211</td>\n",
       "      <td>Creative Computing</td>\n",
       "      <td>275</td>\n",
       "      <td>322.0</td>\n",
       "    </tr>\n",
       "    <tr>\n",
       "      <th>928</th>\n",
       "      <td>WD212</td>\n",
       "      <td>Recreation and Sport Management</td>\n",
       "      <td>274</td>\n",
       "      <td>311.0</td>\n",
       "    </tr>\n",
       "    <tr>\n",
       "      <th>929</th>\n",
       "      <td>WD230</td>\n",
       "      <td>Mechanical and Manufacturing Engineering</td>\n",
       "      <td>273</td>\n",
       "      <td>348.0</td>\n",
       "    </tr>\n",
       "  </tbody>\n",
       "</table>\n",
       "<p>930 rows × 4 columns</p>\n",
       "</div>"
      ],
      "text/plain": [
       "    Course Code                                             COURSE  EOS    Mid\n",
       "0         AL801    Software Design with Virtual Reality and Gaming  304  328.0\n",
       "1         AL802               Software Design with Cloud Computing  301  306.0\n",
       "2         AL803  Software Design with Mobile Apps and Connected...  309  337.0\n",
       "3         AL805        Network Management and Cloud Infrastructure  329  442.0\n",
       "4         AL810                                 Quantity Surveying  307  349.0\n",
       "..          ...                                                ...  ...    ...\n",
       "925       WD200                                     Arts (options)  221  296.0\n",
       "926       WD210                       Software Systems Development  271  329.0\n",
       "927       WD211                                 Creative Computing  275  322.0\n",
       "928       WD212                    Recreation and Sport Management  274  311.0\n",
       "929       WD230           Mechanical and Manufacturing Engineering  273  348.0\n",
       "\n",
       "[930 rows x 4 columns]"
      ]
     },
     "execution_count": 52,
     "metadata": {},
     "output_type": "execute_result"
    }
   ],
   "source": [
    "# check 2019 dataframe\n",
    "df2019"
   ]
  },
  {
   "cell_type": "code",
   "execution_count": 53,
   "id": "3d176862-50b2-4fe4-833c-445468aaeb05",
   "metadata": {},
   "outputs": [
    {
     "data": {
      "text/html": [
       "<div>\n",
       "<style scoped>\n",
       "    .dataframe tbody tr th:only-of-type {\n",
       "        vertical-align: middle;\n",
       "    }\n",
       "\n",
       "    .dataframe tbody tr th {\n",
       "        vertical-align: top;\n",
       "    }\n",
       "\n",
       "    .dataframe thead th {\n",
       "        text-align: right;\n",
       "    }\n",
       "</style>\n",
       "<table border=\"1\" class=\"dataframe\">\n",
       "  <thead>\n",
       "    <tr style=\"text-align: right;\">\n",
       "      <th></th>\n",
       "      <th>code</th>\n",
       "      <th>points_R1_2019</th>\n",
       "    </tr>\n",
       "  </thead>\n",
       "  <tbody>\n",
       "    <tr>\n",
       "      <th>0</th>\n",
       "      <td>AL801</td>\n",
       "      <td>304</td>\n",
       "    </tr>\n",
       "    <tr>\n",
       "      <th>1</th>\n",
       "      <td>AL802</td>\n",
       "      <td>301</td>\n",
       "    </tr>\n",
       "    <tr>\n",
       "      <th>2</th>\n",
       "      <td>AL803</td>\n",
       "      <td>309</td>\n",
       "    </tr>\n",
       "    <tr>\n",
       "      <th>3</th>\n",
       "      <td>AL805</td>\n",
       "      <td>329</td>\n",
       "    </tr>\n",
       "    <tr>\n",
       "      <th>4</th>\n",
       "      <td>AL810</td>\n",
       "      <td>307</td>\n",
       "    </tr>\n",
       "    <tr>\n",
       "      <th>...</th>\n",
       "      <td>...</td>\n",
       "      <td>...</td>\n",
       "    </tr>\n",
       "    <tr>\n",
       "      <th>925</th>\n",
       "      <td>WD200</td>\n",
       "      <td>221</td>\n",
       "    </tr>\n",
       "    <tr>\n",
       "      <th>926</th>\n",
       "      <td>WD210</td>\n",
       "      <td>271</td>\n",
       "    </tr>\n",
       "    <tr>\n",
       "      <th>927</th>\n",
       "      <td>WD211</td>\n",
       "      <td>275</td>\n",
       "    </tr>\n",
       "    <tr>\n",
       "      <th>928</th>\n",
       "      <td>WD212</td>\n",
       "      <td>274</td>\n",
       "    </tr>\n",
       "    <tr>\n",
       "      <th>929</th>\n",
       "      <td>WD230</td>\n",
       "      <td>273</td>\n",
       "    </tr>\n",
       "  </tbody>\n",
       "</table>\n",
       "<p>930 rows × 2 columns</p>\n",
       "</div>"
      ],
      "text/plain": [
       "      code points_R1_2019\n",
       "0    AL801            304\n",
       "1    AL802            301\n",
       "2    AL803            309\n",
       "3    AL805            329\n",
       "4    AL810            307\n",
       "..     ...            ...\n",
       "925  WD200            221\n",
       "926  WD210            271\n",
       "927  WD211            275\n",
       "928  WD212            274\n",
       "929  WD230            273\n",
       "\n",
       "[930 rows x 2 columns]"
      ]
     },
     "execution_count": 53,
     "metadata": {},
     "output_type": "execute_result"
    }
   ],
   "source": [
    "# rename the points columns in df2019 to align with allcourses nomenclature\n",
    "df2019_r1= df2019 [['Course Code', 'EOS']]\n",
    "df2019_r1.columns = ['code', 'points_R1_2019']\n",
    "df2019_r1"
   ]
  },
  {
   "cell_type": "code",
   "execution_count": 54,
   "id": "2baa4895-94cf-4f84-ac66-d704cae7de4e",
   "metadata": {},
   "outputs": [
    {
     "data": {
      "text/html": [
       "<div>\n",
       "<style scoped>\n",
       "    .dataframe tbody tr th:only-of-type {\n",
       "        vertical-align: middle;\n",
       "    }\n",
       "\n",
       "    .dataframe tbody tr th {\n",
       "        vertical-align: top;\n",
       "    }\n",
       "\n",
       "    .dataframe thead th {\n",
       "        text-align: right;\n",
       "    }\n",
       "</style>\n",
       "<table border=\"1\" class=\"dataframe\">\n",
       "  <thead>\n",
       "    <tr style=\"text-align: right;\">\n",
       "      <th></th>\n",
       "      <th>points_R1_2019</th>\n",
       "    </tr>\n",
       "    <tr>\n",
       "      <th>code</th>\n",
       "      <th></th>\n",
       "    </tr>\n",
       "  </thead>\n",
       "  <tbody>\n",
       "    <tr>\n",
       "      <th>AL801</th>\n",
       "      <td>304</td>\n",
       "    </tr>\n",
       "    <tr>\n",
       "      <th>AL802</th>\n",
       "      <td>301</td>\n",
       "    </tr>\n",
       "    <tr>\n",
       "      <th>AL803</th>\n",
       "      <td>309</td>\n",
       "    </tr>\n",
       "    <tr>\n",
       "      <th>AL805</th>\n",
       "      <td>329</td>\n",
       "    </tr>\n",
       "    <tr>\n",
       "      <th>AL810</th>\n",
       "      <td>307</td>\n",
       "    </tr>\n",
       "    <tr>\n",
       "      <th>...</th>\n",
       "      <td>...</td>\n",
       "    </tr>\n",
       "    <tr>\n",
       "      <th>WD200</th>\n",
       "      <td>221</td>\n",
       "    </tr>\n",
       "    <tr>\n",
       "      <th>WD210</th>\n",
       "      <td>271</td>\n",
       "    </tr>\n",
       "    <tr>\n",
       "      <th>WD211</th>\n",
       "      <td>275</td>\n",
       "    </tr>\n",
       "    <tr>\n",
       "      <th>WD212</th>\n",
       "      <td>274</td>\n",
       "    </tr>\n",
       "    <tr>\n",
       "      <th>WD230</th>\n",
       "      <td>273</td>\n",
       "    </tr>\n",
       "  </tbody>\n",
       "</table>\n",
       "<p>930 rows × 1 columns</p>\n",
       "</div>"
      ],
      "text/plain": [
       "      points_R1_2019\n",
       "code                \n",
       "AL801            304\n",
       "AL802            301\n",
       "AL803            309\n",
       "AL805            329\n",
       "AL810            307\n",
       "...              ...\n",
       "WD200            221\n",
       "WD210            271\n",
       "WD211            275\n",
       "WD212            274\n",
       "WD230            273\n",
       "\n",
       "[930 rows x 1 columns]"
      ]
     },
     "execution_count": 54,
     "metadata": {},
     "output_type": "execute_result"
    }
   ],
   "source": [
    "# set the index to the code column\n",
    "df2019_r1.set_index ('code', inplace=True)\n",
    "df2019_r1         "
   ]
  },
  {
   "cell_type": "code",
   "execution_count": 55,
   "id": "f9d2abd8-d2f1-43bd-af11-e67629eb6445",
   "metadata": {},
   "outputs": [
    {
     "data": {
      "text/html": [
       "<div>\n",
       "<style scoped>\n",
       "    .dataframe tbody tr th:only-of-type {\n",
       "        vertical-align: middle;\n",
       "    }\n",
       "\n",
       "    .dataframe tbody tr th {\n",
       "        vertical-align: top;\n",
       "    }\n",
       "\n",
       "    .dataframe thead th {\n",
       "        text-align: right;\n",
       "    }\n",
       "</style>\n",
       "<table border=\"1\" class=\"dataframe\">\n",
       "  <thead>\n",
       "    <tr style=\"text-align: right;\">\n",
       "      <th></th>\n",
       "      <th>title</th>\n",
       "      <th>points_r1_2021</th>\n",
       "      <th>points_R1_2020</th>\n",
       "      <th>points_R1_2019</th>\n",
       "    </tr>\n",
       "    <tr>\n",
       "      <th>code</th>\n",
       "      <th></th>\n",
       "      <th></th>\n",
       "      <th></th>\n",
       "      <th></th>\n",
       "    </tr>\n",
       "  </thead>\n",
       "  <tbody>\n",
       "    <tr>\n",
       "      <th>AL801</th>\n",
       "      <td>Software Design for Virtual Reality and Gaming</td>\n",
       "      <td>300</td>\n",
       "      <td>303</td>\n",
       "      <td>304</td>\n",
       "    </tr>\n",
       "    <tr>\n",
       "      <th>AL802</th>\n",
       "      <td>Software Design in Artificial Intelligence for...</td>\n",
       "      <td>313</td>\n",
       "      <td>332</td>\n",
       "      <td>301</td>\n",
       "    </tr>\n",
       "    <tr>\n",
       "      <th>AL803</th>\n",
       "      <td>Software Design for Mobile Apps and Connected ...</td>\n",
       "      <td>350</td>\n",
       "      <td>337</td>\n",
       "      <td>309</td>\n",
       "    </tr>\n",
       "    <tr>\n",
       "      <th>AL805</th>\n",
       "      <td>Computer Engineering for Network Infrastructure</td>\n",
       "      <td>321</td>\n",
       "      <td>333</td>\n",
       "      <td>329</td>\n",
       "    </tr>\n",
       "    <tr>\n",
       "      <th>AL810</th>\n",
       "      <td>Quantity Surveying</td>\n",
       "      <td>328</td>\n",
       "      <td>319</td>\n",
       "      <td>307</td>\n",
       "    </tr>\n",
       "    <tr>\n",
       "      <th>...</th>\n",
       "      <td>...</td>\n",
       "      <td>...</td>\n",
       "      <td>...</td>\n",
       "      <td>...</td>\n",
       "    </tr>\n",
       "    <tr>\n",
       "      <th>SG441</th>\n",
       "      <td>Environmental Science</td>\n",
       "      <td>NaN</td>\n",
       "      <td>NaN</td>\n",
       "      <td>297</td>\n",
       "    </tr>\n",
       "    <tr>\n",
       "      <th>SG446</th>\n",
       "      <td>Applied Archaeology</td>\n",
       "      <td>NaN</td>\n",
       "      <td>NaN</td>\n",
       "      <td>289</td>\n",
       "    </tr>\n",
       "    <tr>\n",
       "      <th>TL803</th>\n",
       "      <td>Music Technology</td>\n",
       "      <td>NaN</td>\n",
       "      <td>NaN</td>\n",
       "      <td>264</td>\n",
       "    </tr>\n",
       "    <tr>\n",
       "      <th>TL812</th>\n",
       "      <td>Computing with Digital Media</td>\n",
       "      <td>NaN</td>\n",
       "      <td>NaN</td>\n",
       "      <td>369</td>\n",
       "    </tr>\n",
       "    <tr>\n",
       "      <th>WD148</th>\n",
       "      <td>Tourism Marketing</td>\n",
       "      <td>NaN</td>\n",
       "      <td>NaN</td>\n",
       "      <td>269</td>\n",
       "    </tr>\n",
       "  </tbody>\n",
       "</table>\n",
       "<p>1651 rows × 4 columns</p>\n",
       "</div>"
      ],
      "text/plain": [
       "                                                   title points_r1_2021  \\\n",
       "code                                                                      \n",
       "AL801     Software Design for Virtual Reality and Gaming            300   \n",
       "AL802  Software Design in Artificial Intelligence for...            313   \n",
       "AL803  Software Design for Mobile Apps and Connected ...            350   \n",
       "AL805    Computer Engineering for Network Infrastructure            321   \n",
       "AL810                                 Quantity Surveying            328   \n",
       "...                                                  ...            ...   \n",
       "SG441                              Environmental Science            NaN   \n",
       "SG446                                Applied Archaeology            NaN   \n",
       "TL803                                   Music Technology            NaN   \n",
       "TL812                       Computing with Digital Media            NaN   \n",
       "WD148                                  Tourism Marketing            NaN   \n",
       "\n",
       "      points_R1_2020 points_R1_2019  \n",
       "code                                 \n",
       "AL801            303            304  \n",
       "AL802            332            301  \n",
       "AL803            337            309  \n",
       "AL805            333            329  \n",
       "AL810            319            307  \n",
       "...              ...            ...  \n",
       "SG441            NaN            297  \n",
       "SG446            NaN            289  \n",
       "TL803            NaN            264  \n",
       "TL812            NaN            369  \n",
       "WD148            NaN            269  \n",
       "\n",
       "[1651 rows x 4 columns]"
      ]
     },
     "execution_count": 55,
     "metadata": {},
     "output_type": "execute_result"
    }
   ],
   "source": [
    "# join 2019 points to all courses\n",
    "allcourses = allcourses.join(df2019_r1)\n",
    "allcourses"
   ]
  },
  {
   "cell_type": "code",
   "execution_count": 56,
   "id": "d03aa114-20a9-471a-8afd-8b0a94dceb45",
   "metadata": {},
   "outputs": [
    {
     "name": "stdout",
     "output_type": "stream",
     "text": [
      "<class 'pandas.core.frame.DataFrame'>\n",
      "Index: 1651 entries, AL801 to WD148\n",
      "Data columns (total 4 columns):\n",
      " #   Column          Non-Null Count  Dtype \n",
      "---  ------          --------------  ----- \n",
      " 0   title           1651 non-null   object\n",
      " 1   points_r1_2021  928 non-null    object\n",
      " 2   points_R1_2020  1437 non-null   object\n",
      " 3   points_R1_2019  926 non-null    object\n",
      "dtypes: object(4)\n",
      "memory usage: 129.0+ KB\n"
     ]
    }
   ],
   "source": [
    "# properties of the combined dataframe\n",
    "# note combined df is a df of objects\n",
    "allcourses.info()"
   ]
  },
  {
   "cell_type": "markdown",
   "id": "6547c9ef-edfd-4824-8317-63b697596d6c",
   "metadata": {},
   "source": [
    "allcourses.head()"
   ]
  },
  {
   "cell_type": "markdown",
   "id": "05508d04-d280-4376-a0ca-f8ca33417658",
   "metadata": {},
   "source": [
    "<br>\n",
    "\n",
    "## Comparison of CAO points in 2019,2020,2021 using the functionality in pandas\n",
    "***\n",
    "<br>"
   ]
  },
  {
   "cell_type": "code",
   "execution_count": 57,
   "id": "44cd7d26-51cc-49a5-b0f1-33ca593adb8e",
   "metadata": {},
   "outputs": [
    {
     "data": {
      "text/html": [
       "<div>\n",
       "<style scoped>\n",
       "    .dataframe tbody tr th:only-of-type {\n",
       "        vertical-align: middle;\n",
       "    }\n",
       "\n",
       "    .dataframe tbody tr th {\n",
       "        vertical-align: top;\n",
       "    }\n",
       "\n",
       "    .dataframe thead th {\n",
       "        text-align: right;\n",
       "    }\n",
       "</style>\n",
       "<table border=\"1\" class=\"dataframe\">\n",
       "  <thead>\n",
       "    <tr style=\"text-align: right;\">\n",
       "      <th></th>\n",
       "      <th>title</th>\n",
       "      <th>points_r1_2021</th>\n",
       "      <th>points_R1_2020</th>\n",
       "      <th>points_R1_2019</th>\n",
       "    </tr>\n",
       "    <tr>\n",
       "      <th>code</th>\n",
       "      <th></th>\n",
       "      <th></th>\n",
       "      <th></th>\n",
       "      <th></th>\n",
       "    </tr>\n",
       "  </thead>\n",
       "  <tbody>\n",
       "    <tr>\n",
       "      <th>SG441</th>\n",
       "      <td>Environmental Science</td>\n",
       "      <td>NaN</td>\n",
       "      <td>NaN</td>\n",
       "      <td>297</td>\n",
       "    </tr>\n",
       "    <tr>\n",
       "      <th>SG446</th>\n",
       "      <td>Applied Archaeology</td>\n",
       "      <td>NaN</td>\n",
       "      <td>NaN</td>\n",
       "      <td>289</td>\n",
       "    </tr>\n",
       "    <tr>\n",
       "      <th>TL803</th>\n",
       "      <td>Music Technology</td>\n",
       "      <td>NaN</td>\n",
       "      <td>NaN</td>\n",
       "      <td>264</td>\n",
       "    </tr>\n",
       "    <tr>\n",
       "      <th>TL812</th>\n",
       "      <td>Computing with Digital Media</td>\n",
       "      <td>NaN</td>\n",
       "      <td>NaN</td>\n",
       "      <td>369</td>\n",
       "    </tr>\n",
       "    <tr>\n",
       "      <th>WD148</th>\n",
       "      <td>Tourism Marketing</td>\n",
       "      <td>NaN</td>\n",
       "      <td>NaN</td>\n",
       "      <td>269</td>\n",
       "    </tr>\n",
       "  </tbody>\n",
       "</table>\n",
       "</div>"
      ],
      "text/plain": [
       "                              title points_r1_2021 points_R1_2020  \\\n",
       "code                                                                \n",
       "SG441         Environmental Science            NaN            NaN   \n",
       "SG446           Applied Archaeology            NaN            NaN   \n",
       "TL803              Music Technology            NaN            NaN   \n",
       "TL812  Computing with Digital Media            NaN            NaN   \n",
       "WD148             Tourism Marketing            NaN            NaN   \n",
       "\n",
       "      points_R1_2019  \n",
       "code                  \n",
       "SG441            297  \n",
       "SG446            289  \n",
       "TL803            264  \n",
       "TL812            369  \n",
       "WD148            269  "
      ]
     },
     "execution_count": 57,
     "metadata": {},
     "output_type": "execute_result"
    }
   ],
   "source": [
    "allcourses.tail()"
   ]
  },
  {
   "cell_type": "code",
   "execution_count": 58,
   "id": "fd6dbf86-2ed0-4a38-8865-c8838186af75",
   "metadata": {},
   "outputs": [
    {
     "data": {
      "text/html": [
       "<div>\n",
       "<style scoped>\n",
       "    .dataframe tbody tr th:only-of-type {\n",
       "        vertical-align: middle;\n",
       "    }\n",
       "\n",
       "    .dataframe tbody tr th {\n",
       "        vertical-align: top;\n",
       "    }\n",
       "\n",
       "    .dataframe thead th {\n",
       "        text-align: right;\n",
       "    }\n",
       "</style>\n",
       "<table border=\"1\" class=\"dataframe\">\n",
       "  <thead>\n",
       "    <tr style=\"text-align: right;\">\n",
       "      <th></th>\n",
       "      <th>title</th>\n",
       "      <th>points_r1_2021</th>\n",
       "      <th>points_R1_2020</th>\n",
       "      <th>points_R1_2019</th>\n",
       "    </tr>\n",
       "  </thead>\n",
       "  <tbody>\n",
       "    <tr>\n",
       "      <th>count</th>\n",
       "      <td>1651</td>\n",
       "      <td>928</td>\n",
       "      <td>1437</td>\n",
       "      <td>926</td>\n",
       "    </tr>\n",
       "    <tr>\n",
       "      <th>unique</th>\n",
       "      <td>1032</td>\n",
       "      <td>377</td>\n",
       "      <td>389</td>\n",
       "      <td>357</td>\n",
       "    </tr>\n",
       "    <tr>\n",
       "      <th>top</th>\n",
       "      <td>Business</td>\n",
       "      <td>300</td>\n",
       "      <td>300</td>\n",
       "      <td>300</td>\n",
       "    </tr>\n",
       "    <tr>\n",
       "      <th>freq</th>\n",
       "      <td>32</td>\n",
       "      <td>18</td>\n",
       "      <td>26</td>\n",
       "      <td>32</td>\n",
       "    </tr>\n",
       "  </tbody>\n",
       "</table>\n",
       "</div>"
      ],
      "text/plain": [
       "           title points_r1_2021  points_R1_2020 points_R1_2019\n",
       "count       1651            928            1437            926\n",
       "unique      1032            377             389            357\n",
       "top     Business            300             300            300\n",
       "freq          32             18              26             32"
      ]
     },
     "execution_count": 58,
     "metadata": {},
     "output_type": "execute_result"
    }
   ],
   "source": [
    "allcourses.describe()"
   ]
  },
  {
   "cell_type": "code",
   "execution_count": 59,
   "id": "60a10d0a-fe85-4ce7-b950-63feab7f8763",
   "metadata": {},
   "outputs": [
    {
     "name": "stdout",
     "output_type": "stream",
     "text": [
      "Data type of each column of Dataframe:\n",
      "title             object\n",
      "points_r1_2021    object\n",
      "points_R1_2020    object\n",
      "points_R1_2019    object\n",
      "dtype: object\n"
     ]
    }
   ],
   "source": [
    "# check the datatypes of the dataframe\n",
    "dataTypeSeries = allcourses.dtypes\n",
    "print('Data type of each column of Dataframe:')\n",
    "print(dataTypeSeries)"
   ]
  },
  {
   "cell_type": "markdown",
   "id": "3d599268-ba4e-42b7-b7a6-247077c04a7e",
   "metadata": {},
   "source": [
    "<br>\n",
    "\n",
    "### A check of the datatypes shows pandas recognizes the data as object not int or float\n",
    "---"
   ]
  },
  {
   "cell_type": "code",
   "execution_count": 60,
   "id": "62173cc9-0d2e-4ebf-9f7b-9549312e2b98",
   "metadata": {},
   "outputs": [
    {
     "data": {
      "text/plain": [
       "Series([], dtype: float64)"
      ]
     },
     "execution_count": 60,
     "metadata": {},
     "output_type": "execute_result"
    }
   ],
   "source": [
    "allcourses.mean()"
   ]
  },
  {
   "cell_type": "code",
   "execution_count": 61,
   "id": "b74031d3-cf34-44e7-a800-71abc3917b5f",
   "metadata": {},
   "outputs": [
    {
     "name": "stdout",
     "output_type": "stream",
     "text": [
      "<class 'pandas.core.frame.DataFrame'>\n",
      "Index: 1651 entries, AL801 to WD148\n",
      "Data columns (total 4 columns):\n",
      " #   Column          Non-Null Count  Dtype \n",
      "---  ------          --------------  ----- \n",
      " 0   title           1651 non-null   object\n",
      " 1   points_r1_2021  928 non-null    object\n",
      " 2   points_R1_2020  1437 non-null   object\n",
      " 3   points_R1_2019  926 non-null    object\n",
      "dtypes: object(4)\n",
      "memory usage: 129.0+ KB\n",
      "None\n"
     ]
    }
   ],
   "source": [
    "# confirm datatype using .info() function\n",
    "print(allcourses.info()) "
   ]
  },
  {
   "cell_type": "code",
   "execution_count": 62,
   "id": "c5e66d89-a7fd-423e-be12-f3e13ad7ef92",
   "metadata": {},
   "outputs": [
    {
     "data": {
      "text/plain": [
       "title             object\n",
       "points_r1_2021    object\n",
       "points_R1_2020    object\n",
       "points_R1_2019    object\n",
       "dtype: object"
      ]
     },
     "execution_count": 62,
     "metadata": {},
     "output_type": "execute_result"
    }
   ],
   "source": [
    "allcourses.dtypes"
   ]
  },
  {
   "cell_type": "code",
   "execution_count": 63,
   "id": "757af5c2-4fa6-414e-b756-ec8369f65564",
   "metadata": {},
   "outputs": [],
   "source": [
    "# check of the 2019 dataframe\n",
    "df = pd.read_csv('data\\cao_2019.csv')\n",
    "#print(df)"
   ]
  },
  {
   "cell_type": "markdown",
   "id": "f8c86658-2a99-454a-9951-4545ae8344ac",
   "metadata": {},
   "source": [
    "<br>\n",
    "\n",
    "### Remove special symbols from 2021 data and convert datatype to numeric\n",
    "---"
   ]
  },
  {
   "cell_type": "code",
   "execution_count": 64,
   "id": "70972b20-7b03-441e-8108-a9684c0c5ce3",
   "metadata": {},
   "outputs": [],
   "source": [
    "allcourses['points_r1_2021'] = allcourses['points_r1_2021'].str.replace('\\W', '')"
   ]
  },
  {
   "cell_type": "markdown",
   "id": "655915ca-76b9-48bd-9a58-3eae727f55b7",
   "metadata": {},
   "source": [
    "<br>\n",
    "\n",
    "### Convert the datatype for 2020 and 2019 from object to numeric\n",
    "---"
   ]
  },
  {
   "cell_type": "code",
   "execution_count": 65,
   "id": "99ae59e5-c15e-4fc1-abd4-cec00547fc24",
   "metadata": {},
   "outputs": [],
   "source": [
    "allcourses['points_r1_2021']= pd.to_numeric(allcourses['points_r1_2021'],errors='coerce')"
   ]
  },
  {
   "cell_type": "code",
   "execution_count": 66,
   "id": "2e8d5e50-802f-4e97-8691-5b94cc20c62d",
   "metadata": {},
   "outputs": [],
   "source": [
    "allcourses['points_R1_2020']= pd.to_numeric(allcourses['points_R1_2020'],errors='coerce')"
   ]
  },
  {
   "cell_type": "code",
   "execution_count": 67,
   "id": "731630be-7524-4058-a9d9-7c179bb40b4b",
   "metadata": {},
   "outputs": [],
   "source": [
    "allcourses['points_R1_2019']= pd.to_numeric(allcourses['points_R1_2019'],errors='coerce')"
   ]
  },
  {
   "cell_type": "code",
   "execution_count": 68,
   "id": "af6c6136-90c8-4a77-8665-cbcfdabaf028",
   "metadata": {},
   "outputs": [
    {
     "name": "stdout",
     "output_type": "stream",
     "text": [
      "<class 'pandas.core.frame.DataFrame'>\n",
      "Index: 1651 entries, AL801 to WD148\n",
      "Data columns (total 4 columns):\n",
      " #   Column          Non-Null Count  Dtype  \n",
      "---  ------          --------------  -----  \n",
      " 0   title           1651 non-null   object \n",
      " 1   points_r1_2021  923 non-null    float64\n",
      " 2   points_R1_2020  1387 non-null   float64\n",
      " 3   points_R1_2019  792 non-null    float64\n",
      "dtypes: float64(3), object(1)\n",
      "memory usage: 129.0+ KB\n"
     ]
    }
   ],
   "source": [
    "# re-check using df.info() functions confirms successfully transformed\n",
    "allcourses.info()"
   ]
  },
  {
   "cell_type": "code",
   "execution_count": 69,
   "id": "64973295-32f1-4a89-9a43-3719c05159b7",
   "metadata": {},
   "outputs": [],
   "source": [
    "# THE DATASETS WERE CONVERTED TO STR AND PRINTED TO CHECK DATA:\n",
    "# commented out to save processing\n",
    "# print(allcourses['points_r1_2021'].to_string())\n",
    "# print(allcourses['points_R1_2020'].to_string())\n",
    "# print(allcourses['points_R1_2019'].to_string())"
   ]
  },
  {
   "cell_type": "code",
   "execution_count": 70,
   "id": "d762ba06-2d52-444a-b616-277a92ee5d20",
   "metadata": {},
   "outputs": [
    {
     "data": {
      "text/html": [
       "<div>\n",
       "<style scoped>\n",
       "    .dataframe tbody tr th:only-of-type {\n",
       "        vertical-align: middle;\n",
       "    }\n",
       "\n",
       "    .dataframe tbody tr th {\n",
       "        vertical-align: top;\n",
       "    }\n",
       "\n",
       "    .dataframe thead th {\n",
       "        text-align: right;\n",
       "    }\n",
       "</style>\n",
       "<table border=\"1\" class=\"dataframe\">\n",
       "  <thead>\n",
       "    <tr style=\"text-align: right;\">\n",
       "      <th></th>\n",
       "      <th>title</th>\n",
       "      <th>points_r1_2021</th>\n",
       "      <th>points_R1_2020</th>\n",
       "      <th>points_R1_2019</th>\n",
       "    </tr>\n",
       "    <tr>\n",
       "      <th>code</th>\n",
       "      <th></th>\n",
       "      <th></th>\n",
       "      <th></th>\n",
       "      <th></th>\n",
       "    </tr>\n",
       "  </thead>\n",
       "  <tbody>\n",
       "    <tr>\n",
       "      <th>LY408</th>\n",
       "      <td>Design - Common Entry</td>\n",
       "      <td>301.0</td>\n",
       "      <td>320.0</td>\n",
       "      <td>NaN</td>\n",
       "    </tr>\n",
       "    <tr>\n",
       "      <th>LY508</th>\n",
       "      <td>Fire Safety Engineering</td>\n",
       "      <td>283.0</td>\n",
       "      <td>276.0</td>\n",
       "      <td>270.0</td>\n",
       "    </tr>\n",
       "    <tr>\n",
       "      <th>LY518</th>\n",
       "      <td>Quantity Surveying</td>\n",
       "      <td>304.0</td>\n",
       "      <td>301.0</td>\n",
       "      <td>307.0</td>\n",
       "    </tr>\n",
       "    <tr>\n",
       "      <th>LY528</th>\n",
       "      <td>Construction Management</td>\n",
       "      <td>262.0</td>\n",
       "      <td>271.0</td>\n",
       "      <td>267.0</td>\n",
       "    </tr>\n",
       "    <tr>\n",
       "      <th>LY538</th>\n",
       "      <td>Architectural Technology</td>\n",
       "      <td>234.0</td>\n",
       "      <td>NaN</td>\n",
       "      <td>NaN</td>\n",
       "    </tr>\n",
       "    <tr>\n",
       "      <th>LY608</th>\n",
       "      <td>Mechanical Engineering</td>\n",
       "      <td>300.0</td>\n",
       "      <td>300.0</td>\n",
       "      <td>304.0</td>\n",
       "    </tr>\n",
       "    <tr>\n",
       "      <th>LY618</th>\n",
       "      <td>Electronic Engineering</td>\n",
       "      <td>321.0</td>\n",
       "      <td>312.0</td>\n",
       "      <td>307.0</td>\n",
       "    </tr>\n",
       "    <tr>\n",
       "      <th>LY708</th>\n",
       "      <td>Applied Computing</td>\n",
       "      <td>320.0</td>\n",
       "      <td>306.0</td>\n",
       "      <td>300.0</td>\n",
       "    </tr>\n",
       "    <tr>\n",
       "      <th>LY748</th>\n",
       "      <td>Computer Science</td>\n",
       "      <td>316.0</td>\n",
       "      <td>317.0</td>\n",
       "      <td>NaN</td>\n",
       "    </tr>\n",
       "    <tr>\n",
       "      <th>LY818</th>\n",
       "      <td>Science - Common Entry</td>\n",
       "      <td>302.0</td>\n",
       "      <td>303.0</td>\n",
       "      <td>302.0</td>\n",
       "    </tr>\n",
       "    <tr>\n",
       "      <th>LY828</th>\n",
       "      <td>Agriculture - Common Entry</td>\n",
       "      <td>308.0</td>\n",
       "      <td>307.0</td>\n",
       "      <td>300.0</td>\n",
       "    </tr>\n",
       "    <tr>\n",
       "      <th>LY908</th>\n",
       "      <td>General Nursing</td>\n",
       "      <td>429.0</td>\n",
       "      <td>400.0</td>\n",
       "      <td>383.0</td>\n",
       "    </tr>\n",
       "    <tr>\n",
       "      <th>LY918</th>\n",
       "      <td>Psychiatric Nursing</td>\n",
       "      <td>367.0</td>\n",
       "      <td>357.0</td>\n",
       "      <td>NaN</td>\n",
       "    </tr>\n",
       "    <tr>\n",
       "      <th>LY928</th>\n",
       "      <td>Intellectual Disability Nursing</td>\n",
       "      <td>357.0</td>\n",
       "      <td>326.0</td>\n",
       "      <td>288.0</td>\n",
       "    </tr>\n",
       "    <tr>\n",
       "      <th>LY968</th>\n",
       "      <td>Early Childhood Care  Health and Education</td>\n",
       "      <td>288.0</td>\n",
       "      <td>303.0</td>\n",
       "      <td>300.0</td>\n",
       "    </tr>\n",
       "    <tr>\n",
       "      <th>LY978</th>\n",
       "      <td>Health and Social Care - Common Entry</td>\n",
       "      <td>279.0</td>\n",
       "      <td>280.0</td>\n",
       "      <td>260.0</td>\n",
       "    </tr>\n",
       "    <tr>\n",
       "      <th>MI001</th>\n",
       "      <td>Contemporary and Applied Theatre Studies</td>\n",
       "      <td>209.0</td>\n",
       "      <td>375.0</td>\n",
       "      <td>345.0</td>\n",
       "    </tr>\n",
       "    <tr>\n",
       "      <th>MI002</th>\n",
       "      <td>Arts</td>\n",
       "      <td>280.0</td>\n",
       "      <td>300.0</td>\n",
       "      <td>300.0</td>\n",
       "    </tr>\n",
       "    <tr>\n",
       "      <th>MI004</th>\n",
       "      <td>Education - Primary Teaching - International</td>\n",
       "      <td>589.0</td>\n",
       "      <td>577.0</td>\n",
       "      <td>NaN</td>\n",
       "    </tr>\n",
       "    <tr>\n",
       "      <th>MI005</th>\n",
       "      <td>Education - Primary Teaching</td>\n",
       "      <td>522.0</td>\n",
       "      <td>495.0</td>\n",
       "      <td>NaN</td>\n",
       "    </tr>\n",
       "  </tbody>\n",
       "</table>\n",
       "</div>"
      ],
      "text/plain": [
       "                                              title  points_r1_2021  \\\n",
       "code                                                                  \n",
       "LY408                         Design - Common Entry           301.0   \n",
       "LY508                       Fire Safety Engineering           283.0   \n",
       "LY518                            Quantity Surveying           304.0   \n",
       "LY528                       Construction Management           262.0   \n",
       "LY538                      Architectural Technology           234.0   \n",
       "LY608                        Mechanical Engineering           300.0   \n",
       "LY618                        Electronic Engineering           321.0   \n",
       "LY708                             Applied Computing           320.0   \n",
       "LY748                              Computer Science           316.0   \n",
       "LY818                        Science - Common Entry           302.0   \n",
       "LY828                    Agriculture - Common Entry           308.0   \n",
       "LY908                               General Nursing           429.0   \n",
       "LY918                           Psychiatric Nursing           367.0   \n",
       "LY928               Intellectual Disability Nursing           357.0   \n",
       "LY968    Early Childhood Care  Health and Education           288.0   \n",
       "LY978         Health and Social Care - Common Entry           279.0   \n",
       "MI001      Contemporary and Applied Theatre Studies           209.0   \n",
       "MI002                                          Arts           280.0   \n",
       "MI004  Education - Primary Teaching - International           589.0   \n",
       "MI005                  Education - Primary Teaching           522.0   \n",
       "\n",
       "       points_R1_2020  points_R1_2019  \n",
       "code                                   \n",
       "LY408           320.0             NaN  \n",
       "LY508           276.0           270.0  \n",
       "LY518           301.0           307.0  \n",
       "LY528           271.0           267.0  \n",
       "LY538             NaN             NaN  \n",
       "LY608           300.0           304.0  \n",
       "LY618           312.0           307.0  \n",
       "LY708           306.0           300.0  \n",
       "LY748           317.0             NaN  \n",
       "LY818           303.0           302.0  \n",
       "LY828           307.0           300.0  \n",
       "LY908           400.0           383.0  \n",
       "LY918           357.0             NaN  \n",
       "LY928           326.0           288.0  \n",
       "LY968           303.0           300.0  \n",
       "LY978           280.0           260.0  \n",
       "MI001           375.0           345.0  \n",
       "MI002           300.0           300.0  \n",
       "MI004           577.0             NaN  \n",
       "MI005           495.0             NaN  "
      ]
     },
     "execution_count": 70,
     "metadata": {},
     "output_type": "execute_result"
    }
   ],
   "source": [
    "# check of combined df\n",
    "allcourses.iloc[680:700]"
   ]
  },
  {
   "cell_type": "code",
   "execution_count": 71,
   "id": "d271f399-29e3-43d2-ba54-184c76395fad",
   "metadata": {},
   "outputs": [],
   "source": [
    "# save the csv file for a further check before trending\n",
    "allcourses.to_csv('data/CAO.csv')"
   ]
  },
  {
   "cell_type": "markdown",
   "id": "be276b07-8bb9-4d92-b33f-752897f289ed",
   "metadata": {},
   "source": [
    "<br>\n",
    "\n",
    "### Comparison of CAO points in 2019,2020,2021 \n",
    "---"
   ]
  },
  {
   "cell_type": "code",
   "execution_count": 72,
   "id": "e67c0e35-dfb4-437f-8baf-2c8158571b7d",
   "metadata": {},
   "outputs": [
    {
     "name": "stdout",
     "output_type": "stream",
     "text": [
      "351.45959595959596\n"
     ]
    }
   ],
   "source": [
    "x_2019 = allcourses[\"points_R1_2019\"].mean()\n",
    "print(x_2019)"
   ]
  },
  {
   "cell_type": "code",
   "execution_count": 73,
   "id": "e147d6d0-d0ad-4a6e-93e2-d2716a412eb2",
   "metadata": {},
   "outputs": [
    {
     "name": "stdout",
     "output_type": "stream",
     "text": [
      "350.21701514059123\n"
     ]
    }
   ],
   "source": [
    "# check of 2020 mean\n",
    "x_2020 = allcourses[\"points_R1_2020\"].mean()\n",
    "print(x_2020)"
   ]
  },
  {
   "cell_type": "code",
   "execution_count": 74,
   "id": "e3dbcea1-7e0c-44f0-bfde-7368f545309d",
   "metadata": {},
   "outputs": [
    {
     "name": "stdout",
     "output_type": "stream",
     "text": [
      "407.6663055254605\n"
     ]
    }
   ],
   "source": [
    "# check of 2020 mean\n",
    "x_2021 = allcourses[\"points_r1_2021\"].mean()\n",
    "print(x_2021)"
   ]
  },
  {
   "cell_type": "code",
   "execution_count": 75,
   "id": "2e667c14-b27f-4ceb-91eb-b2da2eabe80e",
   "metadata": {},
   "outputs": [
    {
     "name": "stdout",
     "output_type": "stream",
     "text": [
      "-0.3535486961487252\n"
     ]
    }
   ],
   "source": [
    "x_incr = ((x_2020-x_2019)/(x_2019)*100)\n",
    "print (x_incr)"
   ]
  },
  {
   "cell_type": "code",
   "execution_count": 76,
   "id": "e3b74d95-846f-44e2-9f6e-632eb6e9e747",
   "metadata": {},
   "outputs": [
    {
     "name": "stdout",
     "output_type": "stream",
     "text": [
      "16.403911832155494\n"
     ]
    }
   ],
   "source": [
    "x_incr = ((x_2021-x_2020)/(x_2020)*100)\n",
    "print(x_incr)"
   ]
  },
  {
   "cell_type": "markdown",
   "id": "89e9312d-5dcd-43ae-a67f-63f25bcdbb85",
   "metadata": {},
   "source": [
    "<br>\n",
    "\n",
    "###  Mean Trend 2019-2021\n",
    "A simple assessment of the CAO points data prom year using the standard mean function in PANDAS identifies an interesting trend.\n",
    "- The mean points are comparable between 2019 and 2020 (0.35% drop between 2019 and 2020)\n",
    "- There is a marked rise in the mean CAO points from 2020 2021  (16% from 2020)\n",
    "- The mean rise is to be qualified that the number of courses per year are not constant"
   ]
  },
  {
   "cell_type": "code",
   "execution_count": 77,
   "id": "92aab0bc-9ed6-4ac1-bb3d-edd79289fc12",
   "metadata": {},
   "outputs": [
    {
     "data": {
      "text/html": [
       "<div>\n",
       "<style scoped>\n",
       "    .dataframe tbody tr th:only-of-type {\n",
       "        vertical-align: middle;\n",
       "    }\n",
       "\n",
       "    .dataframe tbody tr th {\n",
       "        vertical-align: top;\n",
       "    }\n",
       "\n",
       "    .dataframe thead th {\n",
       "        text-align: right;\n",
       "    }\n",
       "</style>\n",
       "<table border=\"1\" class=\"dataframe\">\n",
       "  <thead>\n",
       "    <tr style=\"text-align: right;\">\n",
       "      <th></th>\n",
       "      <th>title</th>\n",
       "      <th>points_r1_2021</th>\n",
       "      <th>points_R1_2020</th>\n",
       "      <th>points_R1_2019</th>\n",
       "    </tr>\n",
       "    <tr>\n",
       "      <th>code</th>\n",
       "      <th></th>\n",
       "      <th></th>\n",
       "      <th></th>\n",
       "      <th></th>\n",
       "    </tr>\n",
       "  </thead>\n",
       "  <tbody>\n",
       "    <tr>\n",
       "      <th>AL801</th>\n",
       "      <td>Software Design for Virtual Reality and Gaming</td>\n",
       "      <td>300.0</td>\n",
       "      <td>303.0</td>\n",
       "      <td>304.0</td>\n",
       "    </tr>\n",
       "    <tr>\n",
       "      <th>AL802</th>\n",
       "      <td>Software Design in Artificial Intelligence for...</td>\n",
       "      <td>313.0</td>\n",
       "      <td>332.0</td>\n",
       "      <td>301.0</td>\n",
       "    </tr>\n",
       "    <tr>\n",
       "      <th>AL803</th>\n",
       "      <td>Software Design for Mobile Apps and Connected ...</td>\n",
       "      <td>350.0</td>\n",
       "      <td>337.0</td>\n",
       "      <td>309.0</td>\n",
       "    </tr>\n",
       "    <tr>\n",
       "      <th>AL805</th>\n",
       "      <td>Computer Engineering for Network Infrastructure</td>\n",
       "      <td>321.0</td>\n",
       "      <td>333.0</td>\n",
       "      <td>329.0</td>\n",
       "    </tr>\n",
       "    <tr>\n",
       "      <th>AL810</th>\n",
       "      <td>Quantity Surveying</td>\n",
       "      <td>328.0</td>\n",
       "      <td>319.0</td>\n",
       "      <td>307.0</td>\n",
       "    </tr>\n",
       "  </tbody>\n",
       "</table>\n",
       "</div>"
      ],
      "text/plain": [
       "                                                   title  points_r1_2021  \\\n",
       "code                                                                       \n",
       "AL801     Software Design for Virtual Reality and Gaming           300.0   \n",
       "AL802  Software Design in Artificial Intelligence for...           313.0   \n",
       "AL803  Software Design for Mobile Apps and Connected ...           350.0   \n",
       "AL805    Computer Engineering for Network Infrastructure           321.0   \n",
       "AL810                                 Quantity Surveying           328.0   \n",
       "\n",
       "       points_R1_2020  points_R1_2019  \n",
       "code                                   \n",
       "AL801           303.0           304.0  \n",
       "AL802           332.0           301.0  \n",
       "AL803           337.0           309.0  \n",
       "AL805           333.0           329.0  \n",
       "AL810           319.0           307.0  "
      ]
     },
     "execution_count": 77,
     "metadata": {},
     "output_type": "execute_result"
    }
   ],
   "source": [
    "allcourses.head()"
   ]
  },
  {
   "cell_type": "code",
   "execution_count": 78,
   "id": "91d6e582-683e-4662-89d1-56a97f94d8fb",
   "metadata": {},
   "outputs": [
    {
     "data": {
      "text/html": [
       "<div>\n",
       "<style scoped>\n",
       "    .dataframe tbody tr th:only-of-type {\n",
       "        vertical-align: middle;\n",
       "    }\n",
       "\n",
       "    .dataframe tbody tr th {\n",
       "        vertical-align: top;\n",
       "    }\n",
       "\n",
       "    .dataframe thead th {\n",
       "        text-align: right;\n",
       "    }\n",
       "</style>\n",
       "<table border=\"1\" class=\"dataframe\">\n",
       "  <thead>\n",
       "    <tr style=\"text-align: right;\">\n",
       "      <th></th>\n",
       "      <th>points_r1_2021</th>\n",
       "      <th>points_R1_2020</th>\n",
       "      <th>points_R1_2019</th>\n",
       "    </tr>\n",
       "  </thead>\n",
       "  <tbody>\n",
       "    <tr>\n",
       "      <th>count</th>\n",
       "      <td>923.000000</td>\n",
       "      <td>1387.000000</td>\n",
       "      <td>792.000000</td>\n",
       "    </tr>\n",
       "    <tr>\n",
       "      <th>mean</th>\n",
       "      <td>407.666306</td>\n",
       "      <td>350.217015</td>\n",
       "      <td>351.459596</td>\n",
       "    </tr>\n",
       "    <tr>\n",
       "      <th>std</th>\n",
       "      <td>128.706224</td>\n",
       "      <td>134.311616</td>\n",
       "      <td>88.269647</td>\n",
       "    </tr>\n",
       "    <tr>\n",
       "      <th>min</th>\n",
       "      <td>57.000000</td>\n",
       "      <td>55.000000</td>\n",
       "      <td>168.000000</td>\n",
       "    </tr>\n",
       "    <tr>\n",
       "      <th>25%</th>\n",
       "      <td>303.000000</td>\n",
       "      <td>252.000000</td>\n",
       "      <td>285.750000</td>\n",
       "    </tr>\n",
       "    <tr>\n",
       "      <th>50%</th>\n",
       "      <td>391.000000</td>\n",
       "      <td>316.000000</td>\n",
       "      <td>330.000000</td>\n",
       "    </tr>\n",
       "    <tr>\n",
       "      <th>75%</th>\n",
       "      <td>499.000000</td>\n",
       "      <td>430.500000</td>\n",
       "      <td>410.250000</td>\n",
       "    </tr>\n",
       "    <tr>\n",
       "      <th>max</th>\n",
       "      <td>1028.000000</td>\n",
       "      <td>1088.000000</td>\n",
       "      <td>601.000000</td>\n",
       "    </tr>\n",
       "  </tbody>\n",
       "</table>\n",
       "</div>"
      ],
      "text/plain": [
       "       points_r1_2021  points_R1_2020  points_R1_2019\n",
       "count      923.000000     1387.000000      792.000000\n",
       "mean       407.666306      350.217015      351.459596\n",
       "std        128.706224      134.311616       88.269647\n",
       "min         57.000000       55.000000      168.000000\n",
       "25%        303.000000      252.000000      285.750000\n",
       "50%        391.000000      316.000000      330.000000\n",
       "75%        499.000000      430.500000      410.250000\n",
       "max       1028.000000     1088.000000      601.000000"
      ]
     },
     "execution_count": 78,
     "metadata": {},
     "output_type": "execute_result"
    }
   ],
   "source": [
    "allcourses.describe()"
   ]
  },
  {
   "cell_type": "markdown",
   "id": "8e0c6dbb-6dfd-406e-8eec-1aacb0fb5c90",
   "metadata": {},
   "source": [
    "<br>\n",
    "\n",
    "### Detailed comparison of CAO points in 2019,2020,2021 using Histograms\n",
    "---"
   ]
  },
  {
   "cell_type": "code",
   "execution_count": 79,
   "id": "4902f95f-0949-4ed5-8fc6-183523f5a67c",
   "metadata": {},
   "outputs": [],
   "source": [
    "# import the required libraries for plotting\n",
    "import matplotlib.pyplot as plt\n",
    "%matplotlib inline\n",
    "import seaborn as sns\n",
    "import matplotlib.style as style \n",
    "sns.set_style(\"darkgrid\")"
   ]
  },
  {
   "cell_type": "code",
   "execution_count": 80,
   "id": "40de05b2-d47e-48b3-8d07-0ea03f34d65b",
   "metadata": {},
   "outputs": [
    {
     "name": "stdout",
     "output_type": "stream",
     "text": [
      "Index(['title', 'points_r1_2021', 'points_R1_2020', 'points_R1_2019'], dtype='object')\n"
     ]
    }
   ],
   "source": [
    "print(allcourses. columns)"
   ]
  },
  {
   "cell_type": "markdown",
   "id": "19e18747-7e38-4ded-bd0d-20a1f429a5c1",
   "metadata": {},
   "source": [
    "<br>\n",
    "\n",
    "### Histogram of each column in dataframe (points from year)\n",
    "---"
   ]
  },
  {
   "cell_type": "markdown",
   "id": "0d232300-9dfc-493f-9939-d1449c521be2",
   "metadata": {},
   "source": [
    "#### 2019"
   ]
  },
  {
   "cell_type": "code",
   "execution_count": 81,
   "id": "583d150d-864c-456f-96e0-40f5fff69d73",
   "metadata": {},
   "outputs": [
    {
     "data": {
      "text/plain": [
       "code\n",
       "AL801    304.0\n",
       "AL802    301.0\n",
       "AL803    309.0\n",
       "AL805    329.0\n",
       "AL810    307.0\n",
       "         ...  \n",
       "SG441    297.0\n",
       "SG446    289.0\n",
       "TL803    264.0\n",
       "TL812    369.0\n",
       "WD148    269.0\n",
       "Name: points_R1_2019, Length: 1651, dtype: float64"
      ]
     },
     "execution_count": 81,
     "metadata": {},
     "output_type": "execute_result"
    }
   ],
   "source": [
    "# isolate the 2019 course points (from allcourses)\n",
    "df_CAO_2019 = allcourses ['points_R1_2019']\n",
    "df_CAO_2019"
   ]
  },
  {
   "cell_type": "code",
   "execution_count": 82,
   "id": "8859ff2b-8916-4878-b295-5ed14536df0d",
   "metadata": {},
   "outputs": [
    {
     "data": {
      "image/png": "[encoded data removed]",
      "text/plain": [
       "<Figure size 432x288 with 1 Axes>"
      ]
     },
     "metadata": {},
     "output_type": "display_data"
    }
   ],
   "source": [
    "# plot of 2019 data from allcourses\n",
    "# HEIGHT is refelctive of number of  occurrences\n",
    "plt.hist(df_CAO_2019, bins =20)\n",
    "plt.title('Histogram of CAO score: 2019');"
   ]
  },
  {
   "cell_type": "code",
   "execution_count": 83,
   "id": "ef065345-130f-4232-a9d0-d9c931602464",
   "metadata": {},
   "outputs": [
    {
     "data": {
      "image/png": "[encoded data removed]",
      "text/plain": [
       "<Figure size 432x288 with 1 Axes>"
      ]
     },
     "metadata": {},
     "output_type": "display_data"
    }
   ],
   "source": [
    "# To normalize versus area, density = True is added\n",
    "plt.hist(df_CAO_2019, density=True, bins=20)\n",
    "plt.title('Histogram of CAO score: 2019');"
   ]
  },
  {
   "cell_type": "markdown",
   "id": "67a55c4f-0575-40c7-9db4-5599086e671f",
   "metadata": {},
   "source": [
    "##### From a review of the 2019 CAO points histogram: <br>\n",
    "\n",
    "- The observations range from 150-600\n",
    "- The data is centered around 300 course points\n",
    "- The data is unimodal.  There is no evidence of bimodality\n",
    "- This will be explored further using seaborn kernel density estimate (kde)\n",
    "- The data is skewed towards lower data points\n",
    "- This could be as a result of the preponderence of colleges offering courses with lower points requirements\n",
    "- There are no significant outliers\n"
   ]
  },
  {
   "cell_type": "markdown",
   "id": "43a6e51d-df09-42b6-824f-1ba7f5712d3e",
   "metadata": {},
   "source": [
    "#### 2020"
   ]
  },
  {
   "cell_type": "code",
   "execution_count": 84,
   "id": "3b1bc827-40c9-486c-9d96-18d361efad70",
   "metadata": {},
   "outputs": [
    {
     "data": {
      "text/plain": [
       "code\n",
       "AL801    303.0\n",
       "AL802    332.0\n",
       "AL803    337.0\n",
       "AL805    333.0\n",
       "AL810    319.0\n",
       "         ...  \n",
       "SG441      NaN\n",
       "SG446      NaN\n",
       "TL803      NaN\n",
       "TL812      NaN\n",
       "WD148      NaN\n",
       "Name: points_R1_2020, Length: 1651, dtype: float64"
      ]
     },
     "execution_count": 84,
     "metadata": {},
     "output_type": "execute_result"
    }
   ],
   "source": [
    "# isolate the 2020 course points (from allcourses)\n",
    "df_CAO_2020 = allcourses ['points_R1_2020']\n",
    "df_CAO_2020"
   ]
  },
  {
   "cell_type": "code",
   "execution_count": 85,
   "id": "890abc59-19cf-41f9-8d23-08966e0a57b2",
   "metadata": {},
   "outputs": [
    {
     "data": {
      "image/png": "[encoded data removed]",
      "text/plain": [
       "<Figure size 432x288 with 1 Axes>"
      ]
     },
     "metadata": {},
     "output_type": "display_data"
    }
   ],
   "source": [
    "# height is refelctive of number of  occurrences\n",
    "plt.hist(df_CAO_2020, bins =20)\n",
    "plt.title('Histogram of CAO score: 2020');"
   ]
  },
  {
   "cell_type": "code",
   "execution_count": 86,
   "id": "a6976f24-e453-43a1-b0e6-5c38608fdac8",
   "metadata": {},
   "outputs": [
    {
     "data": {
      "image/png": "[encoded data removed]",
      "text/plain": [
       "<Figure size 432x288 with 1 Axes>"
      ]
     },
     "metadata": {},
     "output_type": "display_data"
    }
   ],
   "source": [
    "# To normalize versus area, density = True is added\n",
    "plt.hist(df_CAO_2020, density=True, bins=20)\n",
    "plt.title('Histogram of CAO score: 2020');"
   ]
  },
  {
   "attachments": {
    "2f46493e-13ad-42be-a0ac-de2b5a366a48.png": {
     "image/png": "[encoded data removed]"
    }
   },
   "cell_type": "markdown",
   "id": "b83bde7b-aa02-4077-8b09-31a58f9c2319",
   "metadata": {},
   "source": [
    "##### From a review of the 2020 CAO points histogram: <br>\n",
    "\n",
    "- The observations range from <150 to 1000\n",
    "- Similar to 2019, points requirements are centered around 300 course points\n",
    "- The data is unimodal.  There is no evidence of bimodality. This will be explored further using seaborn kde\n",
    "- The data is skewed towards lower data points, as per 2019 likely due to preponderence of colleges offering courses with lower points requirements\n",
    "- The 2020 CAO data contains a subset of courses with higher than maximum points from 7 LC subjects whch are significant outliers\n",
    "- There is no explantation from CAO website for how these pointd are possible.  Without a rationale these courses are retained  \n",
    "- As these courses are not siginificant in number, they are not expected to skew the data analysis\n",
    "\n",
    "![image.png](attachment:2f46493e-13ad-42be-a0ac-de2b5a366a48.png)"
   ]
  },
  {
   "cell_type": "markdown",
   "id": "35de125c-55df-4a75-bd89-4719b07b3289",
   "metadata": {},
   "source": [
    "#### 2021"
   ]
  },
  {
   "cell_type": "code",
   "execution_count": 87,
   "id": "0caf8322-8bc3-4d17-9da1-b7eec29d112b",
   "metadata": {},
   "outputs": [
    {
     "data": {
      "text/plain": [
       "code\n",
       "AL801    300.0\n",
       "AL802    313.0\n",
       "AL803    350.0\n",
       "AL805    321.0\n",
       "AL810    328.0\n",
       "         ...  \n",
       "SG441      NaN\n",
       "SG446      NaN\n",
       "TL803      NaN\n",
       "TL812      NaN\n",
       "WD148      NaN\n",
       "Name: points_r1_2021, Length: 1651, dtype: float64"
      ]
     },
     "execution_count": 87,
     "metadata": {},
     "output_type": "execute_result"
    }
   ],
   "source": [
    "# isolate the 2019 course points (from allcourses)\n",
    "df_CAO_2021 = allcourses ['points_r1_2021']\n",
    "df_CAO_2021"
   ]
  },
  {
   "cell_type": "code",
   "execution_count": 88,
   "id": "9edca24d-4864-4b9d-8b9a-1c73985ac4ba",
   "metadata": {},
   "outputs": [
    {
     "data": {
      "image/png": "[encoded data removed]",
      "text/plain": [
       "<Figure size 432x288 with 1 Axes>"
      ]
     },
     "metadata": {},
     "output_type": "display_data"
    }
   ],
   "source": [
    "# height is refelctive of number of  occurrences\n",
    "plt.hist(df_CAO_2021, bins =20)\n",
    "plt.title('Histogram of CAO score: 2021');"
   ]
  },
  {
   "cell_type": "code",
   "execution_count": 89,
   "id": "58fed43d-ae13-4f3a-ab7a-0f05caa5cae0",
   "metadata": {},
   "outputs": [
    {
     "data": {
      "image/png": "[encoded data removed]",
      "text/plain": [
       "<Figure size 432x288 with 1 Axes>"
      ]
     },
     "metadata": {},
     "output_type": "display_data"
    }
   ],
   "source": [
    "# To normalize versus area:  density = True is added\n",
    "plt.hist(df_CAO_2021, density=True, bins=50)\n",
    "plt.title('Histogram of CAO score: 2021');"
   ]
  },
  {
   "attachments": {
    "f1b677f7-de02-4cca-ac45-24e55f7b2101.png": {
     "image/png": "[encoded data removed]"
    }
   },
   "cell_type": "markdown",
   "id": "dbfff63b-247b-4e37-ae38-0b55ecbf64e1",
   "metadata": {},
   "source": [
    "##### From a review of the 2021 CAO points histogram: <br>\n",
    "\n",
    "- The observations range from circa 200 to 1000\n",
    "- Requirements are centered around 400 course points which is higher than that observed for 2019,2020.\n",
    "- There is evidence of bimodality. This will be explored further using seaborn kde\n",
    "- The data is skewed towards lower data points, as per 2019 likely due to preponderence of colleges offering courses with lower points requirements\n",
    "- Similar to 2020 CAO points the 2021 CAO data contains outliers:  a subset of courses with higher than maximum points from 7 LC subjects\n",
    "- There is no explantation from CAO website for how these points are possible.  Without a rationale these courses are retained  \n",
    "- As these courses are not siginificant in number, they are not expected to skew the data analysis\n",
    "\n",
    "![image.png](attachment:f1b677f7-de02-4cca-ac45-24e55f7b2101.png)"
   ]
  },
  {
   "cell_type": "markdown",
   "id": "2e8b03d0-ef23-4fd3-96b7-67a9934b1169",
   "metadata": {},
   "source": [
    "From the above individual plots the following can be inferred:\n",
    "\n",
    "- Courses between 250 and 350 occur at the most frequency\n",
    "- This is to be expected as colleges outside the main universities are more numerous\n",
    "- These in general offer courses of lower points\n",
    "\n",
    "There are a select number of courses offered in the 2020 and 2021 course list >800 points. <br>\n",
    "For this asssessment the decision was made to retain all course points <br>\n",
    "However these courses are not numerous thus are not exepected to have a significant impact to the comparison analysis <br>\n",
    "Therefore these few courses can be considered outliers. <br>\n",
    "PANDAS Library Matplotlib (subplot pyplot) is a suitable library for basic histograms.<br>"
   ]
  },
  {
   "cell_type": "markdown",
   "id": "f9150675-a216-46e0-aed0-a70fab64b5f6",
   "metadata": {},
   "source": [
    "<br>\n",
    "\n",
    "### Array\n",
    "#### Create a combined array from 2019-2021 points for further analysis\n",
    "---"
   ]
  },
  {
   "cell_type": "code",
   "execution_count": 90,
   "id": "58bcfc1a-059b-4308-99db-bd7521a8c8be",
   "metadata": {},
   "outputs": [],
   "source": [
    "# # Split and convert 2021 points data into a numpy array\n",
    "# df_CAO_2021_numpy = allcourses['points_r1_2021'].to_numpy()"
   ]
  },
  {
   "cell_type": "code",
   "execution_count": 91,
   "id": "ec4b6878-c4b8-4c57-9d17-1df8b3ee3417",
   "metadata": {},
   "outputs": [],
   "source": [
    "# Split and convert 2019 points data into a numpy array\n",
    "df_CAO_2019_numpy = allcourses['points_R1_2019'].to_numpy()"
   ]
  },
  {
   "cell_type": "code",
   "execution_count": 92,
   "id": "5499df0d-b4eb-4a3e-a137-cfbbfbb1a2e8",
   "metadata": {},
   "outputs": [],
   "source": [
    "# # output 2021 data\n",
    "# df_CAO_2021_numpy"
   ]
  },
  {
   "cell_type": "code",
   "execution_count": 93,
   "id": "2b4c689e-9ea2-43ea-81de-a2faebc4f222",
   "metadata": {},
   "outputs": [
    {
     "data": {
      "text/plain": [
       "array([304., 301., 309., ..., 264., 369., 269.])"
      ]
     },
     "execution_count": 93,
     "metadata": {},
     "output_type": "execute_result"
    }
   ],
   "source": [
    "# output 2019 data\n",
    "df_CAO_2019_numpy"
   ]
  },
  {
   "cell_type": "code",
   "execution_count": 94,
   "id": "99bd9024-8255-433e-9587-f7e4edbd99d6",
   "metadata": {},
   "outputs": [],
   "source": [
    "# # Split and convert 2020 points data into a numpy array\n",
    "# df_CAO_2020_numpy = allcourses['points_R1_2020'].to_numpy()"
   ]
  },
  {
   "cell_type": "code",
   "execution_count": 95,
   "id": "62afd3b4-6185-4170-8328-5c66c4af49ff",
   "metadata": {},
   "outputs": [],
   "source": [
    "# Split and convert 2020 points data into a numpy array\n",
    "df_CAO_2020_numpy = allcourses['points_R1_2020'].to_numpy()"
   ]
  },
  {
   "cell_type": "code",
   "execution_count": 96,
   "id": "c4334d77-4fd4-445c-a2c7-14c083713ea0",
   "metadata": {},
   "outputs": [],
   "source": [
    "# # output 2020 data\n",
    "# df_CAO_2020_numpy"
   ]
  },
  {
   "cell_type": "code",
   "execution_count": 97,
   "id": "3e3dd122-8774-4d00-a216-587f8f68797d",
   "metadata": {},
   "outputs": [
    {
     "data": {
      "text/plain": [
       "array([303., 332., 337., ...,  nan,  nan,  nan])"
      ]
     },
     "execution_count": 97,
     "metadata": {},
     "output_type": "execute_result"
    }
   ],
   "source": [
    "# output 2020 data\n",
    "df_CAO_2020_numpy"
   ]
  },
  {
   "cell_type": "code",
   "execution_count": 98,
   "id": "0ea4dba1-5a64-44f0-bb06-fb558bad4ebc",
   "metadata": {},
   "outputs": [],
   "source": [
    "# # Split and convert 2019 points data into a numpy array\n",
    "# df_CAO_2019_numpy = allcourses['points_R1_2019'].to_numpy()"
   ]
  },
  {
   "cell_type": "code",
   "execution_count": 99,
   "id": "34ccbfaf-d61f-49b9-858b-7e124d06d4fc",
   "metadata": {},
   "outputs": [],
   "source": [
    "# Split and convert 2021 points data into a numpy array\n",
    "df_CAO_2021_numpy = allcourses['points_r1_2021'].to_numpy()"
   ]
  },
  {
   "cell_type": "code",
   "execution_count": 100,
   "id": "ec17e531-d04f-425d-94b3-dd935807d001",
   "metadata": {},
   "outputs": [],
   "source": [
    "# # output 2019 data\n",
    "# df_CAO_2019_numpy"
   ]
  },
  {
   "cell_type": "code",
   "execution_count": 101,
   "id": "536c37b6-eff1-4d77-b849-25e1c14ee93c",
   "metadata": {},
   "outputs": [
    {
     "data": {
      "text/plain": [
       "array([300., 313., 350., ...,  nan,  nan,  nan])"
      ]
     },
     "execution_count": 101,
     "metadata": {},
     "output_type": "execute_result"
    }
   ],
   "source": [
    "# output 2021 data\n",
    "df_CAO_2021_numpy"
   ]
  },
  {
   "cell_type": "markdown",
   "id": "2d03ca40-2a15-4b2c-99da-33a2d405fbd1",
   "metadata": {},
   "source": [
    "#### combine the 2019,2020,2021 arrays"
   ]
  },
  {
   "cell_type": "code",
   "execution_count": 102,
   "id": "cf488441-2f94-48b3-a48d-e26b453beade",
   "metadata": {},
   "outputs": [
    {
     "data": {
      "text/plain": [
       "array([[304., 301., 309., ..., 264., 369., 269.],\n",
       "       [303., 332., 337., ...,  nan,  nan,  nan],\n",
       "       [300., 313., 350., ...,  nan,  nan,  nan]])"
      ]
     },
     "execution_count": 102,
     "metadata": {},
     "output_type": "execute_result"
    }
   ],
   "source": [
    "#returns a two dimensional array with the same number of items in each array\n",
    "#each array has three values 1.2021 CAO Points 2. 2020 CAO Points 3. 2019 CAO Points\n",
    "df_combined = np.vstack([df_CAO_2019_numpy,df_CAO_2020_numpy,df_CAO_2021_numpy])\n",
    "df_combined"
   ]
  },
  {
   "cell_type": "code",
   "execution_count": 103,
   "id": "a743fe78-9f0d-457e-8513-41690946480f",
   "metadata": {},
   "outputs": [
    {
     "data": {
      "text/plain": [
       "array([[304., 303., 300.],\n",
       "       [301., 332., 313.],\n",
       "       [309., 337., 350.],\n",
       "       ...,\n",
       "       [264.,  nan,  nan],\n",
       "       [369.,  nan,  nan],\n",
       "       [269.,  nan,  nan]])"
      ]
     },
     "execution_count": 103,
     "metadata": {},
     "output_type": "execute_result"
    }
   ],
   "source": [
    "# 'T' is to transpose from horizontal to vertical\n",
    "df_combined = np.vstack([df_CAO_2019_numpy,df_CAO_2020_numpy,df_CAO_2021_numpy]).T\n",
    "df_combined"
   ]
  },
  {
   "cell_type": "markdown",
   "id": "8ff0bcd4-2fa5-4936-9527-4501078fbe50",
   "metadata": {},
   "source": [
    "<br>\n",
    "\n",
    "### plot the combined array\n",
    "---"
   ]
  },
  {
   "cell_type": "markdown",
   "id": "8da19be4-34b9-4bdc-9ce6-62fa370e36b0",
   "metadata": {},
   "source": [
    "##### vertical combined histogram"
   ]
  },
  {
   "cell_type": "code",
   "execution_count": 104,
   "id": "ded2b3f1-ee72-40c3-9298-04794843f298",
   "metadata": {},
   "outputs": [
    {
     "data": {
      "image/png": "[encoded data removed]",
      "text/plain": [
       "<Figure size 432x288 with 1 Axes>"
      ]
     },
     "metadata": {},
     "output_type": "display_data"
    }
   ],
   "source": [
    "# matplotlib.pyplot histograms returns the correct bin start.\n",
    "# However doesn't show the true width\n",
    "plt.hist(df_combined, 20, histtype='bar',align='mid', color = ['r', 'g', 'b'], label=['2019','2020','2021'], edgecolor='black')\n",
    "plt.legend()\n",
    "plt.title('Histogram of CAO score')\n",
    "plt.show()"
   ]
  },
  {
   "cell_type": "markdown",
   "id": "85e4ac01-bc7a-4333-be95-eedde6faa3b9",
   "metadata": {},
   "source": [
    "##### vertical combined histogram-STACKED"
   ]
  },
  {
   "cell_type": "markdown",
   "id": "19604cd0-a8ac-4a97-a329-ad7e83d65d63",
   "metadata": {},
   "source": [
    "The side by side histogram above is useful to compare the three years on one plot. <br>\n",
    "The combined plot clearly shows a gradual shift over the period analysed (2019-2021) <br>\n",
    "from course points centred on 250-300 points to a broader span for 2021 with indications of bimodal distribution. \n"
   ]
  },
  {
   "cell_type": "code",
   "execution_count": 105,
   "id": "5be2e2d8-98fc-42ca-b4a8-2caecefbf610",
   "metadata": {},
   "outputs": [
    {
     "data": {
      "image/png": "[encoded data removed]",
      "text/plain": [
       "<Figure size 432x288 with 1 Axes>"
      ]
     },
     "metadata": {},
     "output_type": "display_data"
    }
   ],
   "source": [
    "# matplotlib.pyplot histograms returns the correct bin start.\n",
    "# However doesn't show the true width\n",
    "plt.hist(df_combined,20, histtype='bar',align='mid', color = ['r', 'g', 'b'], label=['2019','2020','2021'], edgecolor='black',stacked=True)\n",
    "plt.legend()\n",
    "plt.title('Histogram of CAO score-STACKED')\n",
    "plt.show()"
   ]
  },
  {
   "cell_type": "markdown",
   "id": "f064a9b6-60dd-4898-8c90-bd979c264edd",
   "metadata": {},
   "source": [
    "An alternate plot is the stacked histogram where the bars are stacked on top of each other <br>\n",
    "In addition to the vertical plot the stacked plot shows a gradual shift over the period analysed (2019-2021)<br>\n",
    "The stacked plot shows the wider spread for 2020 and 2021 CAO points <br>\n",
    "The plot shows the 'inflation' of courses with points requiring 500+ ands 600+  for 2020-2021 compared to 2019.<br>\n",
    "Pyplot histograms returns the correct bin start but doesnt show the true width <br>\n",
    "The preference is to use Seaborn which is built on pyplot"
   ]
  },
  {
   "cell_type": "markdown",
   "id": "53db5135-2e87-4e51-8361-48482660845a",
   "metadata": {},
   "source": [
    "<br>\n",
    "\n",
    "### Assessment of CAO points using Seaborn <br>\n",
    "\n",
    "---"
   ]
  },
  {
   "cell_type": "markdown",
   "id": "4b4e043e-2c46-4141-9502-abbc1b786821",
   "metadata": {},
   "source": [
    "Seaborn is a library for making statistical graphics in Python. <br>\n",
    "It builds on top of matplotlib and integrates closely with pandas data structures.<br>\n",
    "Its plotting functions operate on dataframes and arrays containing whole datasets. <br>"
   ]
  },
  {
   "cell_type": "markdown",
   "id": "68de4a86-b54b-441f-b6be-d7aef58ab673",
   "metadata": {},
   "source": [
    "### sns histplots"
   ]
  },
  {
   "cell_type": "markdown",
   "id": "5d0d9ddc-6b7b-44c7-8d5d-46b98b15a590",
   "metadata": {},
   "source": [
    "#### Histogram v Kernel Densiy Estimate (KDE) \n",
    "A histogram aims to approximate the underlying probability density function that generated the data by binning and counting observations. Kernel density estimation (KDE) presents a different solution to the same problem. Rather than using discrete bins, a KDE plot smooths the observations with a Gaussian kernel, producing a continuous density estimate. <br>\n",
    "Seaborn library functionality permits the plotting of histograms and corresponding kernel density estimate on the same plots: histplot and distplot <br>\n",
    "The CAO data (numpy) was plotted using this functionality to explore the data further"
   ]
  },
  {
   "cell_type": "code",
   "execution_count": 106,
   "id": "5c57c980-7f3e-4be7-91d8-ddfddd087697",
   "metadata": {},
   "outputs": [
    {
     "data": {
      "image/png": "[encoded data removed]",
      "text/plain": [
       "<Figure size 432x288 with 1 Axes>"
      ]
     },
     "metadata": {},
     "output_type": "display_data"
    }
   ],
   "source": [
    "sns.histplot(data=df_CAO_2019_numpy, kde=True)\n",
    "plt.title('Histplot of CAO score: 2019');"
   ]
  },
  {
   "cell_type": "code",
   "execution_count": 107,
   "id": "c8a68b09-3501-41ab-b8fa-a9ed37db721c",
   "metadata": {},
   "outputs": [
    {
     "data": {
      "image/png": "[encoded data removed]",
      "text/plain": [
       "<Figure size 432x288 with 1 Axes>"
      ]
     },
     "metadata": {},
     "output_type": "display_data"
    }
   ],
   "source": [
    "sns.histplot(data=df_CAO_2020_numpy, kde=True)\n",
    "plt.title('Histplot of CAO score: 2020');"
   ]
  },
  {
   "cell_type": "code",
   "execution_count": 108,
   "id": "671dd8cb-b84d-4c9e-8641-ee3289b5cac3",
   "metadata": {},
   "outputs": [
    {
     "data": {
      "image/png": "[encoded data removed]",
      "text/plain": [
       "<Figure size 432x288 with 1 Axes>"
      ]
     },
     "metadata": {},
     "output_type": "display_data"
    }
   ],
   "source": [
    "sns.histplot(data=df_CAO_2021_numpy, kde=True)\n",
    "plt.title('Histplot of CAO score: 2021');"
   ]
  },
  {
   "cell_type": "markdown",
   "id": "2ebc751f-4582-468f-b7dc-a33eb21bce8d",
   "metadata": {},
   "source": [
    "The histplot reproduces the histograms earlier demonnstrated above, with the addition of the kernel density estimate superimposed<br>\n",
    "The histplot/kde shows the 'inflation' of courses with points requiring 500+ ands 600+  for 2020-2021 compared to 2019.<br>\n",
    "The kde trends show the shift from 2019 to 2021 from course points centered on lower points (300-350) to a subset of courses with higher points <br>\n",
    "This could point to CAO points inflation for a specific subset of courses, especially 2021 leading to emergence of bimodal distribution."
   ]
  },
  {
   "cell_type": "markdown",
   "id": "fb188d6f-397f-4e0f-8381-f21d026f55a2",
   "metadata": {},
   "source": [
    "### sns distplots<br>\n",
    "\n",
    "---\n"
   ]
  },
  {
   "cell_type": "markdown",
   "id": "fedfa95c-1a21-4144-980e-155f75fd279f",
   "metadata": {},
   "source": [
    "Seaborn offers the histplot which plots the data based of frequency of occurrence i.e. actual frequencies <br>\n",
    "The distplot represents the univariate distribution of data i.e.probability density of the distributions.<br>\n",
    "The seaborn.distplot() function accepts the data variable as an argument and returns the plot with the density distribution"
   ]
  },
  {
   "cell_type": "code",
   "execution_count": 109,
   "id": "903c2946-26e5-4df8-bc26-2be44f1db558",
   "metadata": {},
   "outputs": [
    {
     "data": {
      "text/plain": [
       "<AxesSubplot:xlabel='points_R1_2019', ylabel='Density'>"
      ]
     },
     "execution_count": 109,
     "metadata": {},
     "output_type": "execute_result"
    },
    {
     "data": {
      "image/png": "[encoded data removed]",
      "text/plain": [
       "<Figure size 432x288 with 1 Axes>"
      ]
     },
     "metadata": {},
     "output_type": "display_data"
    }
   ],
   "source": [
    "sns.distplot(allcourses['points_R1_2019'])"
   ]
  },
  {
   "cell_type": "code",
   "execution_count": 110,
   "id": "2e6aebc7-6188-4f64-8b08-b2fa619f8c08",
   "metadata": {},
   "outputs": [
    {
     "data": {
      "text/plain": [
       "<AxesSubplot:xlabel='points_R1_2020', ylabel='Density'>"
      ]
     },
     "execution_count": 110,
     "metadata": {},
     "output_type": "execute_result"
    },
    {
     "data": {
      "image/png": "[encoded data removed]",
      "text/plain": [
       "<Figure size 432x288 with 1 Axes>"
      ]
     },
     "metadata": {},
     "output_type": "display_data"
    }
   ],
   "source": [
    "sns.distplot(allcourses['points_R1_2020'])"
   ]
  },
  {
   "cell_type": "code",
   "execution_count": 111,
   "id": "d732d213-7747-4e47-9b9f-b43e2492d334",
   "metadata": {},
   "outputs": [
    {
     "data": {
      "text/plain": [
       "<AxesSubplot:xlabel='points_r1_2021', ylabel='Density'>"
      ]
     },
     "execution_count": 111,
     "metadata": {},
     "output_type": "execute_result"
    },
    {
     "data": {
      "image/png": "[encoded data removed]",
      "text/plain": [
       "<Figure size 432x288 with 1 Axes>"
      ]
     },
     "metadata": {},
     "output_type": "display_data"
    }
   ],
   "source": [
    "sns.distplot(allcourses['points_r1_2021'])"
   ]
  },
  {
   "cell_type": "markdown",
   "id": "aad1d6c5-4265-4c35-88f4-bc37a01551ba",
   "metadata": {},
   "source": [
    "Seaborn offers the hsitplot which plots the data based of frequency of occurrence i.e. actual frequencies <br>\n",
    "The distplot represents the univariate distribution of data i.e.probability density of the distributions.<br>\n",
    "The seaborn.distplot() function accepts the data variable as an argument and returns the plot with the density distribution"
   ]
  },
  {
   "cell_type": "markdown",
   "id": "e7d3acbc-9075-42d2-b518-734a970f556f",
   "metadata": {},
   "source": [
    "##### From a review of the above histplots/distplots/kde: <br>\n",
    "\n",
    "- The observations range from circa 200 to 1000\n",
    "- The data for 2019-2020 is skewed towards lower data points, likely due to preponderence of colleges offering courses with lower points requirements\n",
    "- For 2021 course points are centered around 400 which shows a shift for earlier years.\n",
    "- For 2021 points the apparent bimodality seen in the histplots has been confirmed. \n",
    "- The high points outliers a subset of 2020-2021 courses is seen in both kde distributions. \n",
    "- As these courses are not siginificant in number, they are not expected to skew the data analysis"
   ]
  },
  {
   "cell_type": "markdown",
   "id": "fe5f1317-1d75-4d2d-9274-bc3245d42cf3",
   "metadata": {},
   "source": [
    "<br>\n",
    "\n",
    "### side by side histplots with kernel density estimate (kde)\n",
    "---\n",
    "\n",
    "We have looked at plotting the three data sets using a combined histogram <br>\n",
    "We have also used histplot/distplot using kernel density estimate <br>\n",
    "The next step is to look at the data by combining the data in one kde plot i.e. 'overlapping distplots'\n"
   ]
  },
  {
   "cell_type": "code",
   "execution_count": 112,
   "id": "1a10a48b-1736-458d-98af-f23bdae5d976",
   "metadata": {},
   "outputs": [
    {
     "data": {
      "image/png": "[encoded data removed]",
      "text/plain": [
       "<Figure size 504x504 with 4 Axes>"
      ]
     },
     "metadata": {},
     "output_type": "display_data"
    }
   ],
   "source": [
    "fig, axs = plt.subplots(2, 2, figsize=(7, 7))\n",
    "\n",
    "sns.histplot(data=allcourses, x=\"points_R1_2019\", color=\"skyblue\", label=\"points_R1_2019\", kde=True, ax=axs[0, 0])\n",
    "sns.histplot(data=allcourses, x=\"points_R1_2020\", color=\"orange\", label=\"points_R1_2020\", kde=True, ax=axs[0, 1])\n",
    "sns.histplot(data=allcourses, x=\"points_r1_2021\", color=\"green\", label=\"points_r1_2021\", kde=True, ax=axs[1, 0])\n",
    "\n",
    "plt.show()"
   ]
  },
  {
   "cell_type": "markdown",
   "id": "1e0dfe1d-afc1-4179-bdcd-96216a381769",
   "metadata": {},
   "source": [
    "<br>\n",
    "\n",
    "### overlapping distplots for years with KDE\n",
    "\n",
    "---"
   ]
  },
  {
   "cell_type": "code",
   "execution_count": 113,
   "id": "1a420635-1d88-4bc1-a8ef-e62cd495acaa",
   "metadata": {},
   "outputs": [
    {
     "data": {
      "text/plain": [
       "<AxesSubplot:xlabel='points_r1_2021', ylabel='Density'>"
      ]
     },
     "execution_count": 113,
     "metadata": {},
     "output_type": "execute_result"
    },
    {
     "data": {
      "image/png": "[encoded data removed]",
      "text/plain": [
       "<Figure size 432x288 with 1 Axes>"
      ]
     },
     "metadata": {},
     "output_type": "display_data"
    }
   ],
   "source": [
    "sns.distplot(allcourses['points_R1_2019'])\n",
    "sns.distplot(allcourses['points_R1_2020'])\n",
    "sns.distplot(allcourses['points_r1_2021'])"
   ]
  },
  {
   "cell_type": "code",
   "execution_count": 114,
   "id": "7cb0c208-46d5-4199-a317-3a36cfd53a3f",
   "metadata": {},
   "outputs": [
    {
     "data": {
      "image/png": "[encoded data removed]",
      "text/plain": [
       "<Figure size 432x288 with 1 Axes>"
      ]
     },
     "metadata": {},
     "output_type": "display_data"
    }
   ],
   "source": [
    "sns.histplot(data=allcourses, x=\"points_R1_2019\", color=\"skyblue\", label=\"points_R1_2019\", kde=True)\n",
    "sns.histplot(data=allcourses, x=\"points_R1_2020\", color=\"orange\", label=\"points_R1_2020\", kde=True)\n",
    "sns.histplot(data=allcourses, x=\"points_r1_2021\", color=\"green\", label=\"points_r1_2021\", kde=True)\n",
    "\n",
    "plt.legend() \n",
    "plt.show()"
   ]
  },
  {
   "cell_type": "markdown",
   "id": "cddfc5a4-16ed-4187-84ea-b0c4376cfbe0",
   "metadata": {},
   "source": [
    "##### From a review of the above histplots/distplots/kde: <br>\n",
    "\n",
    "- The combined histplot-kde clearly shows the course points shift from 2019 to 2021#\n",
    "- The plot shows formation of a sub-population of higher points\n",
    "- For 2021 points the apparent bimodality seen in the histplots has been confirmed. \n",
    "- The high points outliers a subset of 2020-2021 courses is seen in both kde distributions. \n",
    "- As these courses are not siginificant in number, they are not expected to skew the data analysis"
   ]
  },
  {
   "cell_type": "markdown",
   "id": "f25634aa-4a6d-454d-904a-a0cbcdb6f251",
   "metadata": {},
   "source": [
    " A similar plot can be returned using the combined array and a histplot with kde"
   ]
  },
  {
   "cell_type": "code",
   "execution_count": 115,
   "id": "1390bf17-8c25-4bea-b36b-c1e70c095287",
   "metadata": {},
   "outputs": [
    {
     "data": {
      "text/plain": [
       "array([[304., 303., 300.],\n",
       "       [301., 332., 313.],\n",
       "       [309., 337., 350.],\n",
       "       ...,\n",
       "       [264.,  nan,  nan],\n",
       "       [369.,  nan,  nan],\n",
       "       [269.,  nan,  nan]])"
      ]
     },
     "execution_count": 115,
     "metadata": {},
     "output_type": "execute_result"
    }
   ],
   "source": [
    "df_combined"
   ]
  },
  {
   "cell_type": "code",
   "execution_count": 116,
   "id": "cac77323-6940-4063-b308-2fb24902a705",
   "metadata": {},
   "outputs": [
    {
     "data": {
      "image/png": "[encoded data removed]",
      "text/plain": [
       "<Figure size 432x288 with 1 Axes>"
      ]
     },
     "metadata": {},
     "output_type": "display_data"
    }
   ],
   "source": [
    "sns.histplot(data=df_combined, kde=True);"
   ]
  },
  {
   "cell_type": "markdown",
   "id": "b2d2e62c-7b61-434c-b904-32184c94affa",
   "metadata": {},
   "source": [
    "<br>\n",
    "\n",
    "### sns jointplots\n",
    "\n",
    "---"
   ]
  },
  {
   "cell_type": "markdown",
   "id": "88da3cda-b466-4d1d-8d86-d7d79ed7386f",
   "metadata": {},
   "source": [
    "#### further correlation analysis using sns jointplot\n",
    "\n",
    "SNS jointplots plots the joint distribution between two variables along with each variable’s marginal distribution <br>\n"
   ]
  },
  {
   "cell_type": "code",
   "execution_count": 117,
   "id": "939a0df6-fd67-4f07-af77-21c851d0706c",
   "metadata": {},
   "outputs": [
    {
     "data": {
      "image/png": "[encoded data removed]",
      "text/plain": [
       "<Figure size 432x432 with 3 Axes>"
      ]
     },
     "metadata": {},
     "output_type": "display_data"
    }
   ],
   "source": [
    "sns.jointplot(\"points_R1_2019\", \"points_R1_2020\", data=allcourses, kind='reg');"
   ]
  },
  {
   "cell_type": "markdown",
   "id": "1a4b64e5-e599-4498-9603-3d3279d3f55f",
   "metadata": {},
   "source": [
    "The jointplot (with regression) shows a strong correlation between 2019 and 2020 CAO points <br>\n",
    "This shows a correlation of the distributions across the course points"
   ]
  },
  {
   "cell_type": "code",
   "execution_count": 118,
   "id": "d17bea4f-f245-43cb-8d20-2ea8b0e4854b",
   "metadata": {},
   "outputs": [
    {
     "data": {
      "image/png": "[encoded data removed]",
      "text/plain": [
       "<Figure size 432x432 with 3 Axes>"
      ]
     },
     "metadata": {},
     "output_type": "display_data"
    }
   ],
   "source": [
    "sns.jointplot(\"points_R1_2019\", \"points_r1_2021\", data=allcourses, kind='reg');"
   ]
  },
  {
   "cell_type": "markdown",
   "id": "16a32e88-c526-4888-ba38-9991decfde09",
   "metadata": {},
   "source": [
    "The jointplot (with regression) shows a strong correlation between 2019 and 2021 CAO points <br>\n",
    "This shows despite the shift seen in the kde plot for higher level course <br>\n",
    "there is still a correlation of the distributions across the course points. <br>\n",
    "The additional scatter compared to the 2019-2020 correlation is likely due to this shift."
   ]
  },
  {
   "cell_type": "code",
   "execution_count": 119,
   "id": "2bc0da93-7fc5-455c-bd06-adb0741ed77a",
   "metadata": {},
   "outputs": [
    {
     "data": {
      "image/png": "[encoded data removed]",
      "text/plain": [
       "<Figure size 432x432 with 3 Axes>"
      ]
     },
     "metadata": {},
     "output_type": "display_data"
    }
   ],
   "source": [
    "sns.jointplot(\"points_R1_2020\", \"points_r1_2021\", data=allcourses, kind='reg');"
   ]
  },
  {
   "cell_type": "markdown",
   "id": "e240e28e-a1d5-41e3-952f-19275162d42d",
   "metadata": {},
   "source": [
    "The jointplot (with regression) shows a strong correlation between 2020 and 2021 CAO points <br>\n",
    "This shows there is a correlation of the distributions across the course points. <br>\n",
    "There is a shift of the scatter plot density to coursesd of lower points <br>\n",
    "The outliers for higher points are more apparent <br>\n",
    "The slope of the distribution is larger for 2020-2021 regression line <br>\n",
    "This may identify the apparent points 'inflation' seen in 2021 CAO courses for specific courses."
   ]
  },
  {
   "cell_type": "markdown",
   "id": "f1562917-0f72-41c5-ab04-a78fe8105a6b",
   "metadata": {},
   "source": [
    "<br>\n",
    "\n",
    "### sns pairplot\n",
    "---"
   ]
  },
  {
   "cell_type": "markdown",
   "id": "513efd11-b3d1-454f-b556-883a6b4f6499",
   "metadata": {},
   "source": [
    "sns pairplot takes a broader view: it shows joint and marginal distributions for all pairwise relationships and for each variable, respectively:"
   ]
  },
  {
   "cell_type": "code",
   "execution_count": 120,
   "id": "bd207e91-a6c5-4670-a18a-3aa3d11d4e6b",
   "metadata": {},
   "outputs": [
    {
     "data": {
      "text/plain": [
       "<seaborn.axisgrid.PairGrid at 0x1f117673cd0>"
      ]
     },
     "execution_count": 120,
     "metadata": {},
     "output_type": "execute_result"
    },
    {
     "data": {
      "image/png": "[encoded data removed]",
      "text/plain": [
       "<Figure size 540x540 with 12 Axes>"
      ]
     },
     "metadata": {},
     "output_type": "display_data"
    }
   ],
   "source": [
    "sns.pairplot(data=allcourses)"
   ]
  },
  {
   "cell_type": "markdown",
   "id": "22c64992-f1c4-43d6-82f8-fd069bbb6daf",
   "metadata": {},
   "source": [
    "The pairplot sabove displays the histograms and correlations as a summary plot <br>\n",
    "Correlations remain between each year across the distribution of the year points"
   ]
  },
  {
   "cell_type": "markdown",
   "id": "785eb836-2842-49e1-98ea-826493fe9cee",
   "metadata": {},
   "source": [
    "<br>\n",
    "\n",
    "---\n",
    "---\n",
    "## Summary"
   ]
  },
  {
   "cell_type": "markdown",
   "id": "58c51cff-cfd3-40cc-86d4-97928cef9d57",
   "metadata": {},
   "source": [
    "##### Mean\n",
    "\n",
    "A simple assessment of the CAO points data prom year using the standard mean function in PANDAS identifies an interesting trend.\n",
    "- The mean points are comparable between 2019 and 2020 (0.35% drop between 2019 and 2020)\n",
    "- There is a marked rise in the mean CAO points from 2020 2021  (16% from 2020)\n",
    "- The mean rise is to be qualified that the number of courses per year are not constant\n",
    "\n",
    "##### Combined Histogram\n",
    "The combined plot clearly shows a gradual shift over the period analysed (2019-2021) <br>\n",
    "from course points centred on 250-300 points to a broader span for 2021 with indications of bimodal distribution. \n",
    "\n",
    "#####  histplots/distplots/kde: <br>\n",
    "\n",
    "- The combined histplot-kde clearly shows the course points shift from 2019 to 2021#\n",
    "- The plot shows formation of a sub-population of higher points\n",
    "- For 2021 points the apparent bimodality seen in the histplots has been confirmed. \n",
    "- The high points outliers a subset of 2020-2021 courses is seen in both kde distributions. \n",
    "- As these courses are not siginificant in number, they are not expected to skew the data analysis\n",
    "\n",
    "##### jointplot (with regression)\n",
    "The jointplot (with regression) shows a strong correlation between 2020 and 2021 CAO points <br>\n",
    "This shows there is a correlation of the distributions across the course points. <br>\n",
    "There is a shift of the scatter plot density to coursesd of lower points <br>\n",
    "The outliers for higher points are more apparent <br>\n",
    "The slope of the distribution is larger for 2020-2021 regression line <br>\n",
    "This may identify the apparent points 'inflation' seen in 2021 CAO courses for specific courses.\n",
    "\n",
    "The above techniques establish if there is an overall trend across the years i.e. mean shift, <br>\n",
    "changes in distribution including kernel density eastimate, correlations between distributions etc <br>\n",
    "However the data analysis does not measure the change (increase/decrease) in specific course points.(br>\n",
    "This is difficult as courses offered in one year are not necessarily offered in subsequent years <br>\n",
    "\n",
    "---\n",
    "\n",
    "### Future work\n",
    "An analysis of overall course inflation by measuring the course inflation per course and summing these per year <br>\n",
    "could be an interesting analysis. Of interest is does this collate with the 'course code blind' analysis using histogram/kernel density estimates.\n"
   ]
  },
  {
   "cell_type": "markdown",
   "id": "aa91149b-ef61-4f8f-b613-a8a8005c91cb",
   "metadata": {},
   "source": [
    "<br>\n",
    "\n",
    "## References:\n",
    "---\n",
    "<br>\n",
    "https://www.prepressure.com/library/technology/ascii-binary-hex <br>\n",
    "http://www.i18nqa.com/debug/table-iso8859-1-vs-windows-1252.html <br>\n",
    "https://docs.python.org/3/library/datetime.html <br>\n",
    "https://www.ibm.com/ie-en/products/spss-statistics-gradpack <br>\n",
    "\n",
    "#### how to convert pdf to csv\n",
    "https://stackoverflow.com/questions/49560486/how-to-convert-pdf-to-csv-with-tabula-py <br>\n",
    "### utf8 encoding \n",
    "https://stackoverflow.com/questions/27092833/unicodeencodeerror-charmap-codec-cant-encode-characters <br>\n",
    "#### iterating through data using regex (itertools)\n",
    "https://stackabuse.com/pythons-itertools-count-cycle-and-chain/ <br>\n",
    "#### regular expression syntax\n",
    "https://www.w3schools.com/python/python_regex.asp <br>\n",
    "https://docs.python.org/3/library/re.html <br>\n",
    "\n",
    "#### How to remove special characters in pandas dataframe\n",
    "https://stackoverflow.com/questions/38277928/remove-special-characters-in-pandas-dataframe <br>\n",
    "https://stackoverflow.com/questions/33257344/how-to-remove-special-characers-from-a-column-of-dataframe-using-module-re <br>\n",
    "https://stackoverflow.com/questions/62550533/pandas-str-method-returns-nan-values-how-to-keep-numeric-values <br>\n",
    "https://pbpython.com/pandas_dtypes.html <br>\n",
    "\n",
    "#### Python libraries to'scrape pdf's':\n",
    "Tabula,Camelot,Excalibur\n",
    "\n",
    "#### how to use split function\n",
    "https://pynative.com/python-regex-split/#h-how-to-use-re-split-function <br>\n",
    "syntax: re.split(pattern, string, maxsplit=0, flags=0)\n",
    "\n",
    "### Concatenate and Merge dataframes <br>\n",
    "\n",
    "#### how to concatenate with pandas\n",
    "note 'ignore_index'= True <br>\n",
    "\n",
    "#### skiprows in dataframe\n",
    "https://pandas.pydata.org/docs/reference/api/pandas.read_excel.html <br> \n",
    "function signature in pandas excel webpage: (io, sheet_name=0, header=0, names=None, index_col=None, usecols=None, squeeze=False, dtype=None, engine=None, converters=None, true_values=None, false_values=None, skiprows=None, nrows=None, na_values=None, keep_default_na=True, na_filter=True, verbose=False, parse_dates=False, date_parser=None, thousands=None, comment=None, skipfooter=0, convert_float=None, mangle_dupe_cols=True, storage_options=None)¶\n",
    "\n",
    "#### reset index in pandas dataframe\n",
    "https://pandas.pydata.org/docs/reference/api/pandas.DataFrame.reset_index.html <br>\n",
    "https://pandas.pydata.org/pandas-docs/stable/user_guide/merging.html <br>\n",
    "\n",
    "#### how to undo a change in dataframe\n",
    "https://stackoverflow.com/questions/50931697/undo-a-change-that-was-performed-using-pandas<br>\n",
    "#### how to manage duplicates in a dataframe\n",
    "https://pandas.pydata.org/docs/reference/api/pandas.DataFrame.duplicated.html <br>\n",
    "#### how to return uniques in dastaframe columns \n",
    "https://pandas.pydata.org/docs/reference/api/pandas.Series.unique.html <br>\n",
    "#### how to drop duplicates in dataframe\n",
    "https://pandas.pydata.org/docs/reference/api/pandas.DataFrame.drop_duplicates.html<br>\n",
    "\n",
    "#### Plotting with PANDAS\n",
    "https://neptune.ai/blog/pandas-plot-deep-dive-into-plotting-directly-with-pandas<br>\n",
    "#### Plotting bar charts\n",
    "https://stackoverflow.com/questions/60336648/create-subplots-of-bar-chart-for-each-row-in-dataframe<br>\n",
    "https://towardsdatascience.com/4-simple-tips-for-plotting-multiple-graphs-in-python-38df2112965c<br>\n",
    "https://neptune.ai/blog/pandas-plot-deep-dive-into-plotting-directly-with-pandas<br>\n",
    "https://stackoverflow.com/questions/28830031/plotting-bar-charts-by-each-two-rows<br>\n",
    "https://stackoverflow.com/questions/42128467/matplotlib-plot-multiple-columns-of-pandas-data-frame-on-the-bar-chart<br>    \n",
    "\n",
    "#### Plotting with seaborn\n",
    "https://indianaiproduction.com/seaborn-pairplot/<br>\n",
    "https://seaborn.pydata.org/generated/seaborn.histplot.html<br>\n"
   ]
  },
  {
   "cell_type": "markdown",
   "id": "549701ff-e7df-4293-91fa-69d6ca4d5f6b",
   "metadata": {},
   "source": [
    "## End"
   ]
  }
 ],
 "metadata": {
  "kernelspec": {
   "display_name": "Python 3",
   "language": "python",
   "name": "python3"
  },
  "language_info": {
   "codemirror_mode": {
    "name": "ipython",
    "version": 3
   },
   "file_extension": ".py",
   "mimetype": "text/x-python",
   "name": "python",
   "nbconvert_exporter": "python",
   "pygments_lexer": "ipython3",
   "version": "3.8.8"
  }
 },
 "nbformat": 4,
 "nbformat_minor": 5
}
