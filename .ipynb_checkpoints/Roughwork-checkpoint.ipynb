{
 "cells": [
  {
   "cell_type": "markdown",
   "id": "0381f271-df7e-4569-b285-fbd34798996a",
   "metadata": {},
   "source": [
    "# Messing with code from W3\n",
    "\n",
    "## There are four collection data types in the Python programming language:\n",
    "\n",
    "- **List** is a collection which is ordered and changeable. Allows duplicate members.\n",
    "- **Tuple** is a collection which is ordered and unchangeable. Allows duplicate members.\n",
    "- **Set** is a collection which is unordered, unchangeable*, and unindexed. No duplicate members.\n",
    "- **Dictionary** is a collection which is ordered** and changeable. No duplicate members."
   ]
  },
  {
   "cell_type": "code",
   "execution_count": 1,
   "id": "57b6243d-5694-477c-b835-ded928d367b1",
   "metadata": {},
   "outputs": [
    {
     "name": "stdout",
     "output_type": "stream",
     "text": [
      "john\n",
      "paul\n",
      "george\n",
      "ringo\n"
     ]
    }
   ],
   "source": [
    "the_beatles = [\"john\", \"paul\", \"george\" , 'ringo']\n",
    "for i in range(len(the_beatles)):\n",
    "  print(the_beatles[i])"
   ]
  },
  {
   "cell_type": "code",
   "execution_count": 2,
   "id": "dc1fc160-72d9-4b66-8e64-786fa91fa0f4",
   "metadata": {},
   "outputs": [
    {
     "name": "stdout",
     "output_type": "stream",
     "text": [
      "john\n",
      "paul\n",
      "george\n",
      "ringo\n"
     ]
    }
   ],
   "source": [
    "i = 0\n",
    "while i < len(the_beatles):\n",
    "  print(the_beatles[i])\n",
    "  i = i + 1"
   ]
  },
  {
   "cell_type": "code",
   "execution_count": 3,
   "id": "6e621ab3-1269-4c29-abb3-7cad0f05c33d",
   "metadata": {},
   "outputs": [
    {
     "name": "stdout",
     "output_type": "stream",
     "text": [
      "john\n",
      "paul\n",
      "george\n",
      "ringo\n"
     ]
    },
    {
     "data": {
      "text/plain": [
       "[None, None, None, None]"
      ]
     },
     "execution_count": 3,
     "metadata": {},
     "output_type": "execute_result"
    }
   ],
   "source": [
    "[print(x) for x in the_beatles]"
   ]
  },
  {
   "cell_type": "markdown",
   "id": "7d181262-9fa0-417f-9ab1-acc242f7fb5b",
   "metadata": {},
   "source": [
    "newlist = [expression for item in iterable if condition == True] <br>\n",
    "**Condition** <br>\n",
    "The condition is like a filter that only accepts the items that valuate to True."
   ]
  },
  {
   "cell_type": "code",
   "execution_count": 4,
   "id": "f910936d-f5d5-4c8c-98e0-54cb83bf0755",
   "metadata": {},
   "outputs": [
    {
     "name": "stdout",
     "output_type": "stream",
     "text": [
      "['paul']\n"
     ]
    }
   ],
   "source": [
    "newlist = []\n",
    "\n",
    "for x in the_beatles:\n",
    "  if \"a\" in x:\n",
    "    newlist.append(x)\n",
    "\n",
    "print(newlist)"
   ]
  },
  {
   "cell_type": "code",
   "execution_count": 5,
   "id": "faa933d2-3e36-4232-877d-abbd5084ce18",
   "metadata": {},
   "outputs": [
    {
     "name": "stdout",
     "output_type": "stream",
     "text": [
      "['george']\n"
     ]
    }
   ],
   "source": [
    "newlist = []\n",
    "\n",
    "for x in the_beatles:\n",
    "  if \"e\" in x:\n",
    "    newlist.append(x)\n",
    "\n",
    "print(newlist)"
   ]
  },
  {
   "cell_type": "code",
   "execution_count": 6,
   "id": "a791c0b2-9192-4e32-93ff-6f99bf3dca3b",
   "metadata": {},
   "outputs": [
    {
     "name": "stdout",
     "output_type": "stream",
     "text": [
      "['john', 'george', 'ringo']\n"
     ]
    }
   ],
   "source": [
    "newlist = []\n",
    "\n",
    "for x in the_beatles:\n",
    "  if \"o\" in x:\n",
    "    newlist.append(x)\n",
    "\n",
    "print(newlist)"
   ]
  },
  {
   "cell_type": "code",
   "execution_count": 7,
   "id": "7416e976-5afc-414a-ab7b-ae4875749d9b",
   "metadata": {},
   "outputs": [
    {
     "name": "stdout",
     "output_type": "stream",
     "text": [
      "['paul', 'george', 'ringo']\n"
     ]
    }
   ],
   "source": [
    "newlist = [x for x in the_beatles if x != \"john\"]\n",
    "print(newlist)"
   ]
  },
  {
   "cell_type": "markdown",
   "id": "3fcd8e9b-f47e-4502-9fbe-17ee1b48ac9c",
   "metadata": {},
   "source": [
    "### Iterable\n",
    "The iterable can be any iterable object, like a list, tuple, set etc"
   ]
  },
  {
   "cell_type": "code",
   "execution_count": 8,
   "id": "81a33cdc-d024-4f03-a82e-b37d323aad8a",
   "metadata": {},
   "outputs": [
    {
     "name": "stdout",
     "output_type": "stream",
     "text": [
      "[0, 1, 2, 3]\n"
     ]
    }
   ],
   "source": [
    "newlist = [x for x in range(4)]\n",
    "print(newlist)"
   ]
  },
  {
   "cell_type": "markdown",
   "id": "2f45544c-510a-4556-a892-965d142d4250",
   "metadata": {},
   "source": [
    "# Expression\n",
    "The expression is the current item in the iteration, but it is also the outcome, which you can manipulate before it ends up like a list item in the new list:"
   ]
  },
  {
   "cell_type": "code",
   "execution_count": 9,
   "id": "37ee5252-1c5c-4b52-ade1-0b62a26c1ad5",
   "metadata": {},
   "outputs": [
    {
     "name": "stdout",
     "output_type": "stream",
     "text": [
      "['brian', 'brian', 'brian', 'brian']\n"
     ]
    }
   ],
   "source": [
    "newlist = ['brian' for x in the_beatles]\n",
    "print(newlist)"
   ]
  },
  {
   "cell_type": "code",
   "execution_count": 10,
   "id": "2425ada9-1958-4962-b2e8-6eb850bf05c1",
   "metadata": {},
   "outputs": [
    {
     "name": "stdout",
     "output_type": "stream",
     "text": [
      "['brian', 'paul', 'george', 'ringo']\n"
     ]
    }
   ],
   "source": [
    "#return (replace) john with brian\n",
    "newlist = [x if x != \"john\" else \"brian\" for x in the_beatles]\n",
    "print(newlist)                 "
   ]
  },
  {
   "cell_type": "code",
   "execution_count": 11,
   "id": "7a74e4df-e61b-4cbd-86d3-f7b10375e972",
   "metadata": {},
   "outputs": [
    {
     "name": "stdout",
     "output_type": "stream",
     "text": [
      "['george', 'john', 'paul', 'ringo']\n"
     ]
    }
   ],
   "source": [
    "#sort list alphabetically. Note works with numbers too!\n",
    "the_beatles = [\"john\", \"paul\", \"george\" , 'ringo']\n",
    "the_beatles.sort()\n",
    "print(the_beatles)"
   ]
  },
  {
   "cell_type": "code",
   "execution_count": 12,
   "id": "ab40138b-edba-444e-8aa3-25ee6bee83fd",
   "metadata": {},
   "outputs": [
    {
     "name": "stdout",
     "output_type": "stream",
     "text": [
      "['ringo', 'paul', 'john', 'george']\n"
     ]
    }
   ],
   "source": [
    "#sort list alphabetically but reverse order. Note works with numbers too!\n",
    "the_beatles = [\"john\", \"paul\", \"george\" , 'ringo']\n",
    "the_beatles.sort(reverse =True)\n",
    "print(the_beatles)"
   ]
  },
  {
   "cell_type": "code",
   "execution_count": 13,
   "id": "de4f7ab0-69d4-4246-9422-74e97c32ef3d",
   "metadata": {},
   "outputs": [
    {
     "name": "stdout",
     "output_type": "stream",
     "text": [
      "['john', 'paul', 'george', 'ringo']\n"
     ]
    }
   ],
   "source": [
    "# use list() to create a copy\n",
    "the_beatles = [\"john\", \"paul\", \"george\" , 'ringo']\n",
    "the_new_beatles= list(the_beatles)\n",
    "print(the_new_beatles)"
   ]
  },
  {
   "cell_type": "code",
   "execution_count": 14,
   "id": "3edc629d-0183-4e36-a295-7b69f198e53e",
   "metadata": {},
   "outputs": [
    {
     "name": "stdout",
     "output_type": "stream",
     "text": [
      "['john', 'paul', 'george', 'ringo', 'john', 'paul', 'george', 'ringo']\n"
     ]
    }
   ],
   "source": [
    "# add lists\n",
    "both_bands = (the_beatles + the_new_beatles)\n",
    "print(both_bands)"
   ]
  },
  {
   "cell_type": "markdown",
   "id": "6835f10c-0380-408c-a2ce-4221a4601617",
   "metadata": {},
   "source": [
    "**Method\tDescription**\n",
    "- append()\tAdds an element at the end of the list\n",
    "- clear()\tRemoves all the elements from the list\n",
    "- copy()\tReturns a copy of the list\n",
    "- count()\tReturns the number of elements with the specified value\n",
    "- extend()\tAdd the elements of a list (or any iterable), to the end of the current list\n",
    "- index()\tReturns the index of the first element with the specified value\n",
    "- insert()\tAdds an element at the specified position\n",
    "- pop()\tRemoves the element at the specified position\n",
    "- remove()\tRemoves the item with the specified value\n",
    "- reverse()\tReverses the order of the list\n",
    "- sort()\tSorts the list"
   ]
  },
  {
   "cell_type": "markdown",
   "id": "3bd12c1b-5332-44b8-b2d4-d6672241c8ad",
   "metadata": {},
   "source": [
    "# Tuples\n",
    "- ( )\n",
    "- ordered\n",
    "- unchangeable\n",
    "- indexed (so can have duplicates)\n",
    "- To create a tuple with only one item, you have to add a comma after the item, otherwise Python will not recognize it as a tuple."
   ]
  },
  {
   "cell_type": "code",
   "execution_count": 15,
   "id": "a21d5024-6121-4b84-a306-f4f2b3bdef5a",
   "metadata": {},
   "outputs": [
    {
     "name": "stdout",
     "output_type": "stream",
     "text": [
      "<class 'tuple'>\n"
     ]
    }
   ],
   "source": [
    "tuple0 = ('apple')\n",
    "tuple1 = (\"john\", \"paul\", \"george\" , 'ringo')\n",
    "tuple2 = (1, 5, 7, 9, 3)\n",
    "tuple3 = (True, False, False)\n",
    "tuple4 = ('john', True, 6,)\n",
    "print(type(tuple4))"
   ]
  },
  {
   "cell_type": "markdown",
   "id": "aeaf7e4f-0c4e-4c8c-b83e-a5400da726f3",
   "metadata": {},
   "source": [
    "# Dictionaries\n",
    "\n",
    "- { }\n",
    "- Dictionary items are ordered, changeable, and does not allow duplicates.\n",
    "- Dictionary items are presented in **key:value** pairs, and can be referred to by using the key name"
   ]
  },
  {
   "cell_type": "code",
   "execution_count": 16,
   "id": "9b58c804-52bc-4e7f-b76e-1494c2beb576",
   "metadata": {},
   "outputs": [
    {
     "name": "stdout",
     "output_type": "stream",
     "text": [
      "{'Lead': 'John', 'Bass': 'Paul', 'year': 1965}\n"
     ]
    }
   ],
   "source": [
    "thisband = {\n",
    "  \"Lead\": \"John\",\n",
    "  \"Bass\": \"Paul\",\n",
    "  \"year\": 1964,\n",
    "    \"year\": 1965\n",
    "}\n",
    "print(thisband)"
   ]
  },
  {
   "cell_type": "code",
   "execution_count": 17,
   "id": "d33c2265-629a-4a65-bc32-5d318d59d976",
   "metadata": {},
   "outputs": [
    {
     "name": "stdout",
     "output_type": "stream",
     "text": [
      "John\n"
     ]
    }
   ],
   "source": [
    "#case sensitive\n",
    "print(thisband[\"Lead\"])"
   ]
  },
  {
   "cell_type": "markdown",
   "id": "e6ed19e8-5ea1-4d46-a9ad-bce08b559b82",
   "metadata": {},
   "source": [
    "## NumPy"
   ]
  },
  {
   "cell_type": "markdown",
   "id": "ad41050b-26ef-4b98-8bf2-b75931084201",
   "metadata": {},
   "source": [
    "NumPy is a Python library.<br>\n",
    "NumPy is used for working with **arrays**.<br>\n",
    "NumPy is short for \"Numerical Python\"."
   ]
  },
  {
   "cell_type": "code",
   "execution_count": null,
   "id": "8128030e-966f-4859-9b74-b71f27f3ba4e",
   "metadata": {},
   "outputs": [],
   "source": []
  },
  {
   "cell_type": "markdown",
   "id": "ad87e21b-804c-44b7-afc3-0b87f329063f",
   "metadata": {},
   "source": [
    "## Pandas\n",
    "- Pandas is a Python library.\n",
    "- Pandas is used to analyze **data**."
   ]
  },
  {
   "cell_type": "code",
   "execution_count": null,
   "id": "f9c34777-b4b4-4b58-b085-a65cf7e38199",
   "metadata": {},
   "outputs": [],
   "source": []
  },
  {
   "cell_type": "markdown",
   "id": "a0dfa032-a3bd-47ba-8512-d725b9354950",
   "metadata": {},
   "source": [
    "## SciPy\n",
    "- SciPy is a scientific computation library that uses NumPy underneath.\n",
    "- SciPy stands for Scientific Python."
   ]
  },
  {
   "cell_type": "code",
   "execution_count": null,
   "id": "806f7cc6-c9f4-43ca-a6ec-d425561b56b6",
   "metadata": {},
   "outputs": [],
   "source": []
  },
  {
   "cell_type": "markdown",
   "id": "5813cc98-29f0-4a2d-a6de-42616f0e3736",
   "metadata": {},
   "source": [
    "## Matplotlib\n",
    "\n",
    "- Matplotlib is a low level graph plotting library in python that serves as a visualization utility.\n",
    "- Matplotlib was created by John D. Hunter.\n",
    "- Matplotlib is open source and we can use it freely.\n",
    "- Matplotlib is mostly written in python, a few segments are written in C, Objective-C and Javascript for Platform compatibility.\n"
   ]
  },
  {
   "cell_type": "code",
   "execution_count": null,
   "id": "1fa080fc-3e4f-43e9-bf45-3a7cfe484870",
   "metadata": {},
   "outputs": [],
   "source": []
  },
  {
   "cell_type": "code",
   "execution_count": null,
   "id": "395c2eb2-37ad-4cce-80d6-3d67cb96caf5",
   "metadata": {},
   "outputs": [],
   "source": []
  },
  {
   "cell_type": "markdown",
   "id": "5516be20-ae01-41e6-ba68-029df004d17f",
   "metadata": {},
   "source": [
    "#### Regular Expressions"
   ]
  },
  {
   "cell_type": "markdown",
   "id": "77455a0a-8a58-41d0-84af-1378185485f3",
   "metadata": {},
   "source": [
    "**findall**\tReturns a list containing all matches <br>\n",
    "**search**\tReturns a Match object if there is a match anywhere in the string <br>\n",
    "**split**\tReturns a list where the string has been split at each match <br>\n",
    "**sub**\tReplaces one or many matches with a string"
   ]
  },
  {
   "cell_type": "markdown",
   "id": "4c9a5d2a-c004-488d-8c65-37d4f267ed6c",
   "metadata": {},
   "source": [
    "\"[ ]\"\tA set of characters\t\"[a-m]\"\t<br>\n",
    "\"\\\"\tSignals a special sequence (can also be used to escape special characters)\t\"\\d\"\t<br>\n",
    "\".\"\tAny character (except newline character)\t\"he..o\"\t<br>\n",
    "\"^\"\tStarts with\t\"^hello\"\t<br>\n",
    "\"\"$\"\"\tEnds with\t\"planet$\"\"\t<br>\n",
    "\"*\"\tZero or more occurrences\t\"he.*o\"\t<br>\n",
    "\"+\"\tOne or more occurrences\t\"he.+o\"\t<br>\n",
    "\"?\"\tZero or one occurrences\t\"he.?o\"\t<br>\n",
    "\"{ }\"\tExactly the specified number of occurrences\t\"he{2}o\"\t<br>\n",
    "\"|\"\tEither or\t\"falls|stays\"\t<br>\n",
    "\"( )\"\tCapture and group"
   ]
  },
  {
   "cell_type": "markdown",
   "id": "88ac1634-be32-4f0f-a5aa-986de3c28359",
   "metadata": {},
   "source": [
    "**\\A**\tReturns a match if the specified characters are at the beginning of the string\t\"\\AThe\"\t\n",
    "**\\b**\tReturns a match where the specified characters are at the beginning or at the end of a word\n",
    "(the \"r\" in the beginning is making sure that the string is being treated as a \"raw string\")\tr\"\\bain\"\n",
    "r\"ain\\b\"\t\n",
    "**\\B**\tReturns a match where the specified characters are present, but NOT at the beginning (or at the end) of a word\n",
    "(the \"r\" in the beginning is making sure that the string is being treated as a \"raw string\")\tr\"\\Bain\"\n",
    "r\"ain\\B\"\t\n",
    "**\\d**\tReturns a match where the string contains digits (numbers from 0-9)\t\"\\d\"\t\n",
    "**\\D**\tReturns a match where the string DOES NOT contain digits\t\"\\D\"\t\n",
    "**\\s**\tReturns a match where the string contains a white space character\t\"\\s\"\t\n",
    "**\\S**\tReturns a match where the string DOES NOT contain a white space character\t\"\\S\"\t\n",
    "**\\w**\tReturns a match where the string contains any word characters (characters from a to Z, digits from 0-9, and the underscore _ character)\t\"\\w\"\t\n",
    "**\\W**\tReturns a match where the string DOES NOT contain any word characters\t\"\\W\"\t\n",
    "**\\Z**\tReturns a match if the specified characters are at the end of the string"
   ]
  },
  {
   "cell_type": "code",
   "execution_count": 18,
   "id": "5dec5460-95ff-404e-99ee-e3b6eb49fc8a",
   "metadata": {},
   "outputs": [
    {
     "name": "stdout",
     "output_type": "stream",
     "text": [
      "['i', 'i', 'i']\n",
      "Yes, there is at least one match!\n"
     ]
    }
   ],
   "source": [
    "import re\n",
    "\n",
    "txt = \"The rain in Spain\"\n",
    "\n",
    "#Return a match at every white-space character:\n",
    "\n",
    "x = re.findall(\"i\",txt)\n",
    "\n",
    "print(x)\n",
    "\n",
    "if x:\n",
    "  print(\"Yes, there is at least one match!\")\n",
    "else:\n",
    "  print(\"No match\")"
   ]
  },
  {
   "cell_type": "code",
   "execution_count": 94,
   "id": "17a81886-e68e-4e1b-a6a9-b08c941820ba",
   "metadata": {},
   "outputs": [
    {
     "name": "stdout",
     "output_type": "stream",
     "text": [
      "x1 is  ['t', 't', 't', 't', 's', 't', 's']\n",
      "x1b is  ['C', 'T', 'T', 'P', 'R', 'P', 'R']\n",
      "x1c is  ['o', 'd', 'e', 'i', 't', 'l', 'e', 'i', 't', 't', 'l', 'e', 'o', 'i', 'n', 't', 's', 'o', 'i', 'n', 't', 's']\n",
      "x1d is  []\n",
      "x1e is  ['ittle', 'oints', 'oints']\n",
      "x1f is  ['R1', 'R2']\n",
      "x1g is  []\n",
      "x2 is  ['1', '2']\n",
      "x3 is  ['2']\n",
      "x4 is  []\n",
      "x5 is  ['Title']\n",
      "x6 is  ['Cod']\n",
      "x7 is  ['PointsR2']\n",
      "x8 is  ['Title Tittle PointsR1 Point']\n",
      "x9 is  ['Title Tittle PointsR1 Point']\n",
      "x10 is  ['Title']\n",
      "x11 is  ['Title']\n",
      "x12 is  ['Title', 'Tittle']\n",
      "x13 is  ['C', 'o', 'd', 'e', 'T', 'i', 't', 'l', 'e', 'T', 'i', 't', 't', 'l', 'e', 'P', 'o', 'i', 'n', 't', 's', 'R', '1', 'P', 'o', 'i', 'n', 't', 's', 'R', '2']\n",
      "x14 is  [' ', ' ', ' ', ' ']\n",
      "x15 is  ['PointsR2']\n",
      "x16 is  []\n",
      "x17 is  ['ode']\n",
      "x18 is  ['1', '2']\n",
      "x19 is  ['C', 'o', 'd', 'e', ' ', 'T', 'i', 't', 'l', 'e', ' ', 'T', 'i', 't', 't', 'l', 'e', ' ', 'P', 'o', 'i', 'n', 't', 's', 'R', ' ', 'P', 'o', 'i', 'n', 't', 's', 'R']\n",
      "x20 is  [' ', ' ', ' ', ' ']\n",
      "x21 is  ['C', 'o', 'd', 'e', 'T', 'i', 't', 'l', 'e', 'T', 'i', 't', 't', 'l', 'e', 'P', 'o', 'i', 'n', 't', 's', 'R', '1', 'P', 'o', 'i', 'n', 't', 's', 'R', '2']\n",
      "x22 is  ['Code', 'Title', 'Tittle', 'PointsR1', 'PointsR2']\n",
      "x23 is  ['', '', '', '', ' ', '', '', '', '', ' ', '', '', '', '', '', ' ', '', '', '', '', '', '', '', ' ', '', '', '', '', '', '', '', '']\n",
      "x24 is  ['Code', 'Title Tittle PointsR1 PointsR2']\n",
      "x25 is  None\n",
      "x26 is  (4, 5)\n",
      "The first white-space character is located in position: 4\n",
      "x27 is  <re.Match object; span=(5, 10), match='Title'>\n",
      "x27 full word where the character is contained is :\t Title\n",
      "x27 full string where the character is contained is :\t Code Title Tittle PointsR1 PointsR2\n",
      "x27 tuple where the character is contained is :\t (5, 10)\n",
      "x28 is  Code*Title*Tittle*PointsR1*PointsR2\n",
      "x29 is  Code*Title*Tittle PointsR1 PointsR2\n"
     ]
    }
   ],
   "source": [
    "import re\n",
    "\n",
    "#Split the string at every white-space character:\n",
    "# \\s Returns a match where the string contains a white space character\n",
    "# returns an array\n",
    "cao = \"Code Title Tittle PointsR1 PointsR2\"\n",
    "#FINDALL\n",
    "\n",
    "#find set of characters between but not including\n",
    "x1 = re.findall(\"[q-t]\", cao)\n",
    "\n",
    "#find set of characters - upper case only\n",
    "x1b = re.findall(\"[A-Z]\", cao)\n",
    "\n",
    "#find set of characters- lowercase only\n",
    "x1c = re.findall(\"[a-z]\", cao)\n",
    "\n",
    "#find set of characters - uppercase only- first four\n",
    "x1d = re.findall(\"[A-Z]{4}\", cao)\n",
    "\n",
    "#find set of characters - lowercase only - first 5\n",
    "x1e = re.findall(\"[a-z]{5}\", cao)\n",
    "\n",
    "#find set of characters - uppercase followed by one number\n",
    "x1f = re.findall(\"[A-Z][0-9]{1}\", cao)\n",
    "\n",
    "#find set of characters - lowercase followed by one number\n",
    "x1g = re.findall(\"[a-z][0-9]{1}\", cao)\n",
    "\n",
    "\n",
    "#find set of digits between 0,1,2,3\n",
    "x2 = re.findall(\"[0123]\", cao)\n",
    "\n",
    "#find set of digits in range 2-5\n",
    "x3 = re.findall(\"[2-5]\", cao)\n",
    "\n",
    "#find set of two digits in range 2-5 and 6-8\n",
    "x4 = re.findall(\"[2-5][6-8]\", cao)\n",
    "\n",
    "#find characters between (same # charascters as dots)\n",
    "x5 = re.findall(\"Ti..e\", cao)\n",
    "\n",
    "# ^ check where string starts with not 2nd or further word\n",
    "x6 = re.findall(\"^Cod\", cao)\n",
    "\n",
    "# $ find if full string ends in \"R2\"\n",
    "x7 = re.findall(\"PointsR2$\", cao)\n",
    "\n",
    "# .* find all sequence with ZERO or more characters between \"Ti\" and \"t\"\n",
    "x8 = re.findall(\"Ti.*t\", cao)\n",
    "\n",
    "# .+ find all sequence with ONE or more characters between \"Ti\" and \"t\"\n",
    "x9 = re.findall(\"Ti.+t\", cao)\n",
    "\n",
    "# .? check if ZERO or ONE character between \"Ti and le\". Return the full word\n",
    "x10 = re.findall(\"Ti.?le\", cao)\n",
    "\n",
    "#find all exactly the same number of character occurrences- returns Title but not Tittle\n",
    "x11 = re.findall(\"Ti.{2}e\", cao)\n",
    "\n",
    "#find either Title or Tittle\n",
    "x12 = re.findall(\"Title|Tittle\", cao)\n",
    "\n",
    "#find all string contains word characters (inc num, underscore etc)\n",
    "x13 = re.findall(\"\\w\", cao)\n",
    "\n",
    "#find all string does not contain word characters\n",
    "x14 = re.findall(\"\\W\", cao)\n",
    "\n",
    "#Returns a match if the specified characters are at the end of the string- e.f returns empty id 'POINTSR1'\n",
    "x15 = re.findall(\"PointsR2\\Z\", cao)\n",
    "\n",
    "# str is present at the start of a word\n",
    "# r at front ensure that the string is being treated as a \"raw string\"\n",
    "x16 = re.findall(r\"\\bode\", cao)\n",
    "\n",
    "# str is NOT present at the start of a word i.e. mid & end\n",
    "x17 = re.findall(r\"\\Bode\", cao)\n",
    "\n",
    "# returns digits\n",
    "x18 = re.findall(\"\\d\", cao)\n",
    "\n",
    "#returns all NOT digits\n",
    "x19 = re.findall(\"\\D\", cao)\n",
    "\n",
    "# returns a match where string is white space           \n",
    "x20 = re.findall(\"\\s\", cao)\n",
    "\n",
    "# returns a match where string is NOT white space            \n",
    "x21 = re.findall(\"\\S\", cao)\n",
    "\n",
    "\n",
    "#SPLIT\n",
    "# Returns a list where string is white space\n",
    "x22 = re.split(\"\\s\", cao)\n",
    "\n",
    "# returns a list where string is NOT white space\n",
    "x23 = re.split(\"\\S\", cao)\n",
    "\n",
    "# Returns a list where string is white space but just 1st occurrence\n",
    "x24 = re.split(\"\\s\", cao, 1)\n",
    "\n",
    "\n",
    "#SEARCH\n",
    "# The search() function searches the string for a match, and returns a Match object if there is a match\n",
    "x25 = re.search(\"apple\", cao)\n",
    "\n",
    "# The search() function searches the string for a match, and returns a Match object if there is a match\n",
    "x26 = re.search(\"\\s\", cao)\n",
    "\n",
    "# Search for an upper case \"T\" character in the beginning of a word, and print its position:\n",
    "x27 = re.search(r\"\\bT\\w+\", cao)\n",
    "\n",
    "\n",
    "# SUB\n",
    "#The sub() function replaces the matches with the text of your choice:\n",
    "x28 = re.sub(\"\\s\", \"*\", cao)\n",
    "\n",
    "#The sub() function replaces the matches with the text of your choice:\n",
    "x29 = re.sub(\"\\s\", \"*\", cao, 2)\n",
    "\n",
    "print(\"x1 is \", (x1))\n",
    "print(\"x1b is \", (x1b))\n",
    "print(\"x1c is \", (x1c))\n",
    "print(\"x1d is \", (x1d))\n",
    "print(\"x1e is \", (x1e))\n",
    "print(\"x1f is \", (x1f))\n",
    "print(\"x1g is \", (x1g))\n",
    "\n",
    "print(\"x2 is \", (x2))\n",
    "print(\"x3 is \", (x3))\n",
    "print(\"x4 is \", (x4))\n",
    "print(\"x5 is \", (x5))\n",
    "print(\"x6 is \", (x6))\n",
    "print(\"x7 is \", (x7))\n",
    "print(\"x8 is \", (x8))\n",
    "print(\"x9 is \", (x9))\n",
    "print(\"x10 is \", (x10))\n",
    "print(\"x11 is \", (x11))\n",
    "print(\"x12 is \", (x12))\n",
    "print(\"x13 is \", (x13))\n",
    "print(\"x14 is \", (x14))\n",
    "print(\"x15 is \", (x15))\n",
    "print(\"x16 is \", (x16))\n",
    "print(\"x17 is \", (x17))\n",
    "print(\"x18 is \", (x18))\n",
    "print(\"x19 is \", (x19))\n",
    "print(\"x20 is \", (x20))\n",
    "print(\"x21 is \", (x21))\n",
    "print(\"x22 is \", (x22))\n",
    "print(\"x23 is \", (x23))\n",
    "print(\"x24 is \", (x24))\n",
    "print(\"x25 is \", (x25))\n",
    "print(\"x26 is \", (x26.span())) #span outputs the str position\n",
    "print(\"The first white-space character is located in position:\", x26.start())   \n",
    "print(\"x27 is \", (x27))\n",
    "print(\"x27 full word where the character is contained is :\\t\", (x27).group())\n",
    "print(\"x27 full string where the character is contained is :\\t\", (x27).string)\n",
    "print(\"x27 tuple where the character is contained is :\\t\", (x27).span())\n",
    "print(\"x28 is \", (x28))\n",
    "print(\"x29 is \", (x29))"
   ]
  },
  {
   "cell_type": "code",
   "execution_count": null,
   "id": "6f9df553-214e-41c5-9d14-79b1214e3b25",
   "metadata": {},
   "outputs": [],
   "source": []
  },
  {
   "cell_type": "markdown",
   "id": "3ded2153-6458-4a02-bdcd-d8d678a8e121",
   "metadata": {},
   "source": [
    "https://realpython.com/python-operators-expressions/#logical-expressions-involving-boolean-operands\n",
    "\n",
    "**Comparison Operators**<br>\n",
    "*Operator\tExample\tMeaning\tResult*<br>\n",
    "==\ta == b\tEqual to\tTrue if the value of a is equal to the value of b\n",
    "False otherwise<br>\n",
    "!=\ta != b\tNot equal to\tTrue if a is not equal to b\n",
    "False otherwise<br>\n",
    "<\ta < b\tLess than\tTrue if a is less than b\n",
    "False otherwise<br>\n",
    "<=\ta <= b\tLess than or equal to\tTrue if a is less than or equal to b\n",
    "False otherwise<br>\n",
    "\"\">\ta > b\tGreater than\tTrue if a is greater than b\n",
    "False otherwise\"\"<br>\n",
    "\"\">=\ta >= b\tGreater than or equal to\tTrue if a is greater than or equal to b\n",
    "False otherwise\"\"<br>"
   ]
  },
  {
   "cell_type": "code",
   "execution_count": 26,
   "id": "a9a92c1c-baca-4970-820d-a2d88df4d07f",
   "metadata": {},
   "outputs": [
    {
     "data": {
      "text/plain": [
       "False"
      ]
     },
     "execution_count": 26,
     "metadata": {},
     "output_type": "execute_result"
    }
   ],
   "source": [
    "a = 10\n",
    "b = 20\n",
    "#a == b\n",
    "#a != b\n",
    "#a <= b\n",
    "a >= b"
   ]
  },
  {
   "cell_type": "code",
   "execution_count": 28,
   "id": "51c6a723-2294-40b0-9926-ce3360a7398c",
   "metadata": {},
   "outputs": [
    {
     "data": {
      "text/plain": [
       "True"
      ]
     },
     "execution_count": 28,
     "metadata": {},
     "output_type": "execute_result"
    }
   ],
   "source": [
    "a = 30\n",
    "b = 30\n",
    "a == b\n",
    "#a <= b\n",
    "#a >= b"
   ]
  },
  {
   "cell_type": "code",
   "execution_count": 29,
   "id": "8d745c2e-c995-4db3-b46f-9c36205d07a8",
   "metadata": {},
   "outputs": [
    {
     "data": {
      "text/plain": [
       "False"
      ]
     },
     "execution_count": 29,
     "metadata": {},
     "output_type": "execute_result"
    }
   ],
   "source": [
    "x = 1.1 + 2.2\n",
    "x == 3.3"
   ]
  },
  {
   "cell_type": "code",
   "execution_count": 30,
   "id": "0b43f3ed-90ef-4267-a48a-470d96c04fc4",
   "metadata": {},
   "outputs": [
    {
     "data": {
      "text/plain": [
       "True"
      ]
     },
     "execution_count": 30,
     "metadata": {},
     "output_type": "execute_result"
    }
   ],
   "source": [
    "tolerance = 0.00000001\n",
    "x = 1.1 + 2.2\n",
    "abs (x-3.3) < tolerance"
   ]
  },
  {
   "cell_type": "code",
   "execution_count": null,
   "id": "e378b6b3-6584-4a04-bcba-529d30e3b976",
   "metadata": {},
   "outputs": [],
   "source": []
  },
  {
   "cell_type": "code",
   "execution_count": null,
   "id": "d5d801eb-f3e0-41ef-ba83-8ff77e0be352",
   "metadata": {},
   "outputs": [],
   "source": []
  }
 ],
 "metadata": {
  "kernelspec": {
   "display_name": "Python 3",
   "language": "python",
   "name": "python3"
  },
  "language_info": {
   "codemirror_mode": {
    "name": "ipython",
    "version": 3
   },
   "file_extension": ".py",
   "mimetype": "text/x-python",
   "name": "python",
   "nbconvert_exporter": "python",
   "pygments_lexer": "ipython3",
   "version": "3.8.8"
  }
 },
 "nbformat": 4,
 "nbformat_minor": 5
}
