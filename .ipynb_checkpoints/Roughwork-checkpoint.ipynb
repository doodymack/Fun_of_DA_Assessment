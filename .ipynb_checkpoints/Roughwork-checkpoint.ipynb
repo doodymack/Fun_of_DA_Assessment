{
 "cells": [
  {
   "cell_type": "markdown",
   "id": "0381f271-df7e-4569-b285-fbd34798996a",
   "metadata": {},
   "source": [
    "# Messing with code from W3\n",
    "\n",
    "## There are four collection data types in the Python programming language:\n",
    "\n",
    "- **List** is a collection which is ordered and changeable. Allows duplicate members.\n",
    "- **Tuple** is a collection which is ordered and unchangeable. Allows duplicate members.\n",
    "- **Set** is a collection which is unordered, unchangeable*, and unindexed. No duplicate members.\n",
    "- **Dictionary** is a collection which is ordered** and changeable. No duplicate members."
   ]
  },
  {
   "cell_type": "code",
   "execution_count": 1,
   "id": "57b6243d-5694-477c-b835-ded928d367b1",
   "metadata": {},
   "outputs": [
    {
     "name": "stdout",
     "output_type": "stream",
     "text": [
      "john\n",
      "paul\n",
      "george\n",
      "ringo\n"
     ]
    }
   ],
   "source": [
    "the_beatles = [\"john\", \"paul\", \"george\" , 'ringo']\n",
    "for i in range(len(the_beatles)):\n",
    "  print(the_beatles[i])"
   ]
  },
  {
   "cell_type": "code",
   "execution_count": 5,
   "id": "dc1fc160-72d9-4b66-8e64-786fa91fa0f4",
   "metadata": {},
   "outputs": [
    {
     "name": "stdout",
     "output_type": "stream",
     "text": [
      "john\n",
      "paul\n",
      "george\n",
      "ringo\n"
     ]
    }
   ],
   "source": [
    "i = 0\n",
    "while i < len(the_beatles):\n",
    "  print(the_beatles[i])\n",
    "  i = i + 1"
   ]
  },
  {
   "cell_type": "code",
   "execution_count": 4,
   "id": "6e621ab3-1269-4c29-abb3-7cad0f05c33d",
   "metadata": {},
   "outputs": [
    {
     "name": "stdout",
     "output_type": "stream",
     "text": [
      "john\n",
      "paul\n",
      "george\n",
      "ringo\n"
     ]
    },
    {
     "data": {
      "text/plain": [
       "[None, None, None, None]"
      ]
     },
     "execution_count": 4,
     "metadata": {},
     "output_type": "execute_result"
    }
   ],
   "source": [
    "[print(x) for x in the_beatles]"
   ]
  },
  {
   "cell_type": "markdown",
   "id": "7d181262-9fa0-417f-9ab1-acc242f7fb5b",
   "metadata": {},
   "source": [
    "newlist = [expression for item in iterable if condition == True] <br>\n",
    "**Condition** <br>\n",
    "The condition is like a filter that only accepts the items that valuate to True."
   ]
  },
  {
   "cell_type": "code",
   "execution_count": 6,
   "id": "f910936d-f5d5-4c8c-98e0-54cb83bf0755",
   "metadata": {},
   "outputs": [
    {
     "name": "stdout",
     "output_type": "stream",
     "text": [
      "['paul']\n"
     ]
    }
   ],
   "source": [
    "newlist = []\n",
    "\n",
    "for x in the_beatles:\n",
    "  if \"a\" in x:\n",
    "    newlist.append(x)\n",
    "\n",
    "print(newlist)"
   ]
  },
  {
   "cell_type": "code",
   "execution_count": 12,
   "id": "faa933d2-3e36-4232-877d-abbd5084ce18",
   "metadata": {},
   "outputs": [
    {
     "name": "stdout",
     "output_type": "stream",
     "text": [
      "['george']\n"
     ]
    }
   ],
   "source": [
    "newlist = []\n",
    "\n",
    "for x in the_beatles:\n",
    "  if \"e\" in x:\n",
    "    newlist.append(x)\n",
    "\n",
    "print(newlist)"
   ]
  },
  {
   "cell_type": "code",
   "execution_count": 13,
   "id": "a791c0b2-9192-4e32-93ff-6f99bf3dca3b",
   "metadata": {},
   "outputs": [
    {
     "name": "stdout",
     "output_type": "stream",
     "text": [
      "['john', 'george', 'ringo']\n"
     ]
    }
   ],
   "source": [
    "newlist = []\n",
    "\n",
    "for x in the_beatles:\n",
    "  if \"o\" in x:\n",
    "    newlist.append(x)\n",
    "\n",
    "print(newlist)"
   ]
  },
  {
   "cell_type": "code",
   "execution_count": 14,
   "id": "7416e976-5afc-414a-ab7b-ae4875749d9b",
   "metadata": {},
   "outputs": [
    {
     "name": "stdout",
     "output_type": "stream",
     "text": [
      "['paul', 'george', 'ringo']\n"
     ]
    }
   ],
   "source": [
    "newlist = [x for x in the_beatles if x != \"john\"]\n",
    "print(newlist)"
   ]
  },
  {
   "cell_type": "markdown",
   "id": "3fcd8e9b-f47e-4502-9fbe-17ee1b48ac9c",
   "metadata": {},
   "source": [
    "### Iterable\n",
    "The iterable can be any iterable object, like a list, tuple, set etc"
   ]
  },
  {
   "cell_type": "code",
   "execution_count": 19,
   "id": "81a33cdc-d024-4f03-a82e-b37d323aad8a",
   "metadata": {},
   "outputs": [
    {
     "name": "stdout",
     "output_type": "stream",
     "text": [
      "[0, 1, 2, 3]\n"
     ]
    }
   ],
   "source": [
    "newlist = [x for x in range(4)]\n",
    "print(newlist)"
   ]
  },
  {
   "cell_type": "markdown",
   "id": "2f45544c-510a-4556-a892-965d142d4250",
   "metadata": {},
   "source": [
    "# Expression\n",
    "The expression is the current item in the iteration, but it is also the outcome, which you can manipulate before it ends up like a list item in the new list:"
   ]
  },
  {
   "cell_type": "code",
   "execution_count": 22,
   "id": "37ee5252-1c5c-4b52-ade1-0b62a26c1ad5",
   "metadata": {},
   "outputs": [
    {
     "name": "stdout",
     "output_type": "stream",
     "text": [
      "['brian', 'brian', 'brian', 'brian']\n"
     ]
    }
   ],
   "source": [
    "newlist = ['brian' for x in the_beatles]\n",
    "print(newlist)"
   ]
  },
  {
   "cell_type": "code",
   "execution_count": 25,
   "id": "2425ada9-1958-4962-b2e8-6eb850bf05c1",
   "metadata": {},
   "outputs": [
    {
     "name": "stdout",
     "output_type": "stream",
     "text": [
      "['brian', 'paul', 'george', 'ringo']\n"
     ]
    }
   ],
   "source": [
    "#return (replace) john with brian\n",
    "newlist = [x if x != \"john\" else \"brian\" for x in the_beatles]\n",
    "print(newlist)                 "
   ]
  },
  {
   "cell_type": "code",
   "execution_count": 26,
   "id": "7a74e4df-e61b-4cbd-86d3-f7b10375e972",
   "metadata": {},
   "outputs": [
    {
     "name": "stdout",
     "output_type": "stream",
     "text": [
      "['george', 'john', 'paul', 'ringo']\n"
     ]
    }
   ],
   "source": [
    "#sort list alphabetically. Note works with numbers too!\n",
    "the_beatles = [\"john\", \"paul\", \"george\" , 'ringo']\n",
    "the_beatles.sort()\n",
    "print(the_beatles)"
   ]
  },
  {
   "cell_type": "code",
   "execution_count": 27,
   "id": "ab40138b-edba-444e-8aa3-25ee6bee83fd",
   "metadata": {},
   "outputs": [
    {
     "name": "stdout",
     "output_type": "stream",
     "text": [
      "['ringo', 'paul', 'john', 'george']\n"
     ]
    }
   ],
   "source": [
    "#sort list alphabetically but reverse order. Note works with numbers too!\n",
    "the_beatles = [\"john\", \"paul\", \"george\" , 'ringo']\n",
    "the_beatles.sort(reverse =True)\n",
    "print(the_beatles)"
   ]
  },
  {
   "cell_type": "code",
   "execution_count": 29,
   "id": "de4f7ab0-69d4-4246-9422-74e97c32ef3d",
   "metadata": {},
   "outputs": [
    {
     "name": "stdout",
     "output_type": "stream",
     "text": [
      "['john', 'paul', 'george', 'ringo']\n"
     ]
    }
   ],
   "source": [
    "# use list() to create a copy\n",
    "the_beatles = [\"john\", \"paul\", \"george\" , 'ringo']\n",
    "the_new_beatles= list(the_beatles)\n",
    "print(the_new_beatles)"
   ]
  },
  {
   "cell_type": "code",
   "execution_count": 32,
   "id": "3edc629d-0183-4e36-a295-7b69f198e53e",
   "metadata": {},
   "outputs": [
    {
     "name": "stdout",
     "output_type": "stream",
     "text": [
      "['john', 'paul', 'george', 'ringo', 'john', 'paul', 'george', 'ringo']\n"
     ]
    }
   ],
   "source": [
    "# add lists\n",
    "both_bands = (the_beatles + the_new_beatles)\n",
    "print(both_bands)"
   ]
  },
  {
   "cell_type": "markdown",
   "id": "6835f10c-0380-408c-a2ce-4221a4601617",
   "metadata": {},
   "source": [
    "**Method\tDescription**\n",
    "- append()\tAdds an element at the end of the list\n",
    "- clear()\tRemoves all the elements from the list\n",
    "- copy()\tReturns a copy of the list\n",
    "- count()\tReturns the number of elements with the specified value\n",
    "- extend()\tAdd the elements of a list (or any iterable), to the end of the current list\n",
    "- index()\tReturns the index of the first element with the specified value\n",
    "- insert()\tAdds an element at the specified position\n",
    "- pop()\tRemoves the element at the specified position\n",
    "- remove()\tRemoves the item with the specified value\n",
    "- reverse()\tReverses the order of the list\n",
    "- sort()\tSorts the list"
   ]
  },
  {
   "cell_type": "markdown",
   "id": "3bd12c1b-5332-44b8-b2d4-d6672241c8ad",
   "metadata": {},
   "source": [
    "# Tuples\n",
    "- ( )\n",
    "- ordered\n",
    "- unchangeable\n",
    "- indexed (so can have duplicates)\n",
    "- To create a tuple with only one item, you have to add a comma after the item, otherwise Python will not recognize it as a tuple."
   ]
  },
  {
   "cell_type": "code",
   "execution_count": 41,
   "id": "a21d5024-6121-4b84-a306-f4f2b3bdef5a",
   "metadata": {},
   "outputs": [
    {
     "name": "stdout",
     "output_type": "stream",
     "text": [
      "<class 'tuple'>\n"
     ]
    }
   ],
   "source": [
    "tuple0 = ('apple')\n",
    "tuple1 = (\"john\", \"paul\", \"george\" , 'ringo')\n",
    "tuple2 = (1, 5, 7, 9, 3)\n",
    "tuple3 = (True, False, False)\n",
    "tuple4 = ('john', True, 6,)\n",
    "print(type(tuple4))"
   ]
  },
  {
   "cell_type": "markdown",
   "id": "aeaf7e4f-0c4e-4c8c-b83e-a5400da726f3",
   "metadata": {},
   "source": [
    "# Dictionaries\n",
    "\n",
    "- { }\n",
    "- Dictionary items are ordered, changeable, and does not allow duplicates.\n",
    "- Dictionary items are presented in **key:value** pairs, and can be referred to by using the key name"
   ]
  },
  {
   "cell_type": "code",
   "execution_count": 10,
   "id": "9b58c804-52bc-4e7f-b76e-1494c2beb576",
   "metadata": {},
   "outputs": [
    {
     "name": "stdout",
     "output_type": "stream",
     "text": [
      "{'Lead': 'John', 'Bass': 'Paul', 'year': 1965}\n"
     ]
    }
   ],
   "source": [
    "thisband = {\n",
    "  \"Lead\": \"John\",\n",
    "  \"Bass\": \"Paul\",\n",
    "  \"year\": 1964,\n",
    "    \"year\": 1965\n",
    "}\n",
    "print(thisband)"
   ]
  },
  {
   "cell_type": "code",
   "execution_count": 9,
   "id": "d33c2265-629a-4a65-bc32-5d318d59d976",
   "metadata": {},
   "outputs": [
    {
     "name": "stdout",
     "output_type": "stream",
     "text": [
      "John\n"
     ]
    }
   ],
   "source": [
    "#case sensitive\n",
    "print(thisband[\"Lead\"])"
   ]
  },
  {
   "cell_type": "code",
   "execution_count": null,
   "id": "39c51e2f-fd3c-43f2-aa66-1477a241b777",
   "metadata": {},
   "outputs": [],
   "source": []
  }
 ],
 "metadata": {
  "kernelspec": {
   "display_name": "Python 3",
   "language": "python",
   "name": "python3"
  },
  "language_info": {
   "codemirror_mode": {
    "name": "ipython",
    "version": 3
   },
   "file_extension": ".py",
   "mimetype": "text/x-python",
   "name": "python",
   "nbconvert_exporter": "python",
   "pygments_lexer": "ipython3",
   "version": "3.8.8"
  }
 },
 "nbformat": 4,
 "nbformat_minor": 5
}
