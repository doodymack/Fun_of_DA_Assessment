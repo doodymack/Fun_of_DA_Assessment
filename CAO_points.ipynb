{
 "cells": [
  {
   "cell_type": "raw",
   "id": "be73e9b8-6497-4af5-973a-4b7f41cda73a",
   "metadata": {},
   "source": [
    " ## CAO Points Notebook\n",
    " \n",
    " - clear and concise overview of how to load CAO points info from the CAO website into a PANDAS dataframe\n",
    " - Detailed comparison of CAO points in 2019,2020,2021 using the functionality in pandas\n",
    " - Appropriate plots and other visuaizations to enhance your notebook for viewers"
   ]
  },
  {
   "cell_type": "markdown",
   "id": "d68dfe20-0244-46d7-b5e4-3b94baed31a7",
   "metadata": {},
   "source": [
    "http://www2.cao.ie/points/l8.php\n",
    "\n",
    "***\n",
    "'PHP' indicates that the webpage has been programmed using PHP, a server side scripting language."
   ]
  },
  {
   "cell_type": "code",
   "execution_count": 1,
   "id": "aa310ef9-c0c1-41e2-80c2-93a0b0ce333a",
   "metadata": {},
   "outputs": [],
   "source": [
    "#convenient http requests\n",
    "import requests as rq\n",
    "\n",
    "# regular expressions\n",
    "import re\n",
    "\n",
    "#dates and times\n",
    "import datetime as dt\n",
    "\n",
    "# for dataframes import pandas\n",
    "# v useful to get data from spreadsheets\n",
    "import pandas as pd\n",
    "\n",
    "#for downloading files to python\n",
    "import urllib.request as urlrq\n",
    "\n"
   ]
  },
  {
   "cell_type": "code",
   "execution_count": 2,
   "id": "a0758b41-4462-421d-82d1-e3d7a77d428a",
   "metadata": {},
   "outputs": [],
   "source": [
    "#now = dt.datetime.now()"
   ]
  },
  {
   "cell_type": "code",
   "execution_count": 3,
   "id": "399626a3-4075-4c6d-8c12-8ca93557b3e9",
   "metadata": {},
   "outputs": [
    {
     "data": {
      "text/plain": [
       "datetime.datetime(2021, 12, 11, 12, 38, 35, 197127)"
      ]
     },
     "execution_count": 3,
     "metadata": {},
     "output_type": "execute_result"
    }
   ],
   "source": [
    "#datetime function has a data structure called datetime\n",
    "#field for time, day ,month etc\n",
    "#dt.datetime.now()\n",
    "now = dt.datetime.now()\n",
    "now"
   ]
  },
  {
   "cell_type": "code",
   "execution_count": 4,
   "id": "430df60b-1073-431b-b72d-2bf14791e32d",
   "metadata": {},
   "outputs": [],
   "source": [
    "# format now as a string\n",
    "#if have datetimestamp as separate and unique at the start of the notebook\n",
    "# then potentially can overwrite but on positive side all files \n",
    "# created in logbook run will have the same datetimestamp so neater and can track\n",
    "#2020 datafile saved as'now' file is equivalent to corresponding 2021 saved as same'now' etc\n",
    "nowstr = now.strftime('%Y%m%d_%H%M%S')"
   ]
  },
  {
   "cell_type": "code",
   "execution_count": 5,
   "id": "fc02c6bd-28e1-4ad1-b9d9-a7e9a063854b",
   "metadata": {},
   "outputs": [
    {
     "name": "stdout",
     "output_type": "stream",
     "text": [
      "2021-12-11 12:38:35.197127\n"
     ]
    }
   ],
   "source": [
    "print(now)"
   ]
  },
  {
   "cell_type": "markdown",
   "id": "c44f6192-45a8-4b85-a378-960f019feaf5",
   "metadata": {},
   "source": [
    "# 2021 points\n",
    "\n",
    "http://www2.cao.ie/points/l8.php\n",
    "\n",
    "***\n"
   ]
  },
  {
   "cell_type": "code",
   "execution_count": 6,
   "id": "38fe408f-2e6c-4bed-818a-2c6bd017383a",
   "metadata": {},
   "outputs": [
    {
     "ename": "ChunkedEncodingError",
     "evalue": "(\"Connection broken: ConnectionResetError(10054, 'An existing connection was forcibly closed by the remote host', None, 10054, None)\", ConnectionResetError(10054, 'An existing connection was forcibly closed by the remote host', None, 10054, None))",
     "output_type": "error",
     "traceback": [
      "\u001b[1;31m---------------------------------------------------------------------------\u001b[0m",
      "\u001b[1;31mConnectionResetError\u001b[0m                      Traceback (most recent call last)",
      "\u001b[1;32m~\\anaconda3\\lib\\site-packages\\urllib3\\response.py\u001b[0m in \u001b[0;36m_error_catcher\u001b[1;34m(self)\u001b[0m\n\u001b[0;32m    437\u001b[0m             \u001b[1;32mtry\u001b[0m\u001b[1;33m:\u001b[0m\u001b[1;33m\u001b[0m\u001b[1;33m\u001b[0m\u001b[0m\n\u001b[1;32m--> 438\u001b[1;33m                 \u001b[1;32myield\u001b[0m\u001b[1;33m\u001b[0m\u001b[1;33m\u001b[0m\u001b[0m\n\u001b[0m\u001b[0;32m    439\u001b[0m \u001b[1;33m\u001b[0m\u001b[0m\n",
      "\u001b[1;32m~\\anaconda3\\lib\\site-packages\\urllib3\\response.py\u001b[0m in \u001b[0;36mread_chunked\u001b[1;34m(self, amt, decode_content)\u001b[0m\n\u001b[0;32m    766\u001b[0m                     \u001b[1;32mbreak\u001b[0m\u001b[1;33m\u001b[0m\u001b[1;33m\u001b[0m\u001b[0m\n\u001b[1;32m--> 767\u001b[1;33m                 \u001b[0mchunk\u001b[0m \u001b[1;33m=\u001b[0m \u001b[0mself\u001b[0m\u001b[1;33m.\u001b[0m\u001b[0m_handle_chunk\u001b[0m\u001b[1;33m(\u001b[0m\u001b[0mamt\u001b[0m\u001b[1;33m)\u001b[0m\u001b[1;33m\u001b[0m\u001b[1;33m\u001b[0m\u001b[0m\n\u001b[0m\u001b[0;32m    768\u001b[0m                 decoded = self._decode(\n",
      "\u001b[1;32m~\\anaconda3\\lib\\site-packages\\urllib3\\response.py\u001b[0m in \u001b[0;36m_handle_chunk\u001b[1;34m(self, amt)\u001b[0m\n\u001b[0;32m    710\u001b[0m         \u001b[1;32melif\u001b[0m \u001b[0mamt\u001b[0m \u001b[1;33m<\u001b[0m \u001b[0mself\u001b[0m\u001b[1;33m.\u001b[0m\u001b[0mchunk_left\u001b[0m\u001b[1;33m:\u001b[0m\u001b[1;33m\u001b[0m\u001b[1;33m\u001b[0m\u001b[0m\n\u001b[1;32m--> 711\u001b[1;33m             \u001b[0mvalue\u001b[0m \u001b[1;33m=\u001b[0m \u001b[0mself\u001b[0m\u001b[1;33m.\u001b[0m\u001b[0m_fp\u001b[0m\u001b[1;33m.\u001b[0m\u001b[0m_safe_read\u001b[0m\u001b[1;33m(\u001b[0m\u001b[0mamt\u001b[0m\u001b[1;33m)\u001b[0m\u001b[1;33m\u001b[0m\u001b[1;33m\u001b[0m\u001b[0m\n\u001b[0m\u001b[0;32m    712\u001b[0m             \u001b[0mself\u001b[0m\u001b[1;33m.\u001b[0m\u001b[0mchunk_left\u001b[0m \u001b[1;33m=\u001b[0m \u001b[0mself\u001b[0m\u001b[1;33m.\u001b[0m\u001b[0mchunk_left\u001b[0m \u001b[1;33m-\u001b[0m \u001b[0mamt\u001b[0m\u001b[1;33m\u001b[0m\u001b[1;33m\u001b[0m\u001b[0m\n",
      "\u001b[1;32m~\\anaconda3\\lib\\http\\client.py\u001b[0m in \u001b[0;36m_safe_read\u001b[1;34m(self, amt)\u001b[0m\n\u001b[0;32m    611\u001b[0m         \"\"\"\n\u001b[1;32m--> 612\u001b[1;33m         \u001b[0mdata\u001b[0m \u001b[1;33m=\u001b[0m \u001b[0mself\u001b[0m\u001b[1;33m.\u001b[0m\u001b[0mfp\u001b[0m\u001b[1;33m.\u001b[0m\u001b[0mread\u001b[0m\u001b[1;33m(\u001b[0m\u001b[0mamt\u001b[0m\u001b[1;33m)\u001b[0m\u001b[1;33m\u001b[0m\u001b[1;33m\u001b[0m\u001b[0m\n\u001b[0m\u001b[0;32m    613\u001b[0m         \u001b[1;32mif\u001b[0m \u001b[0mlen\u001b[0m\u001b[1;33m(\u001b[0m\u001b[0mdata\u001b[0m\u001b[1;33m)\u001b[0m \u001b[1;33m<\u001b[0m \u001b[0mamt\u001b[0m\u001b[1;33m:\u001b[0m\u001b[1;33m\u001b[0m\u001b[1;33m\u001b[0m\u001b[0m\n",
      "\u001b[1;32m~\\anaconda3\\lib\\socket.py\u001b[0m in \u001b[0;36mreadinto\u001b[1;34m(self, b)\u001b[0m\n\u001b[0;32m    668\u001b[0m             \u001b[1;32mtry\u001b[0m\u001b[1;33m:\u001b[0m\u001b[1;33m\u001b[0m\u001b[1;33m\u001b[0m\u001b[0m\n\u001b[1;32m--> 669\u001b[1;33m                 \u001b[1;32mreturn\u001b[0m \u001b[0mself\u001b[0m\u001b[1;33m.\u001b[0m\u001b[0m_sock\u001b[0m\u001b[1;33m.\u001b[0m\u001b[0mrecv_into\u001b[0m\u001b[1;33m(\u001b[0m\u001b[0mb\u001b[0m\u001b[1;33m)\u001b[0m\u001b[1;33m\u001b[0m\u001b[1;33m\u001b[0m\u001b[0m\n\u001b[0m\u001b[0;32m    670\u001b[0m             \u001b[1;32mexcept\u001b[0m \u001b[0mtimeout\u001b[0m\u001b[1;33m:\u001b[0m\u001b[1;33m\u001b[0m\u001b[1;33m\u001b[0m\u001b[0m\n",
      "\u001b[1;31mConnectionResetError\u001b[0m: [WinError 10054] An existing connection was forcibly closed by the remote host",
      "\nDuring handling of the above exception, another exception occurred:\n",
      "\u001b[1;31mProtocolError\u001b[0m                             Traceback (most recent call last)",
      "\u001b[1;32m~\\anaconda3\\lib\\site-packages\\requests\\models.py\u001b[0m in \u001b[0;36mgenerate\u001b[1;34m()\u001b[0m\n\u001b[0;32m    752\u001b[0m                 \u001b[1;32mtry\u001b[0m\u001b[1;33m:\u001b[0m\u001b[1;33m\u001b[0m\u001b[1;33m\u001b[0m\u001b[0m\n\u001b[1;32m--> 753\u001b[1;33m                     \u001b[1;32mfor\u001b[0m \u001b[0mchunk\u001b[0m \u001b[1;32min\u001b[0m \u001b[0mself\u001b[0m\u001b[1;33m.\u001b[0m\u001b[0mraw\u001b[0m\u001b[1;33m.\u001b[0m\u001b[0mstream\u001b[0m\u001b[1;33m(\u001b[0m\u001b[0mchunk_size\u001b[0m\u001b[1;33m,\u001b[0m \u001b[0mdecode_content\u001b[0m\u001b[1;33m=\u001b[0m\u001b[1;32mTrue\u001b[0m\u001b[1;33m)\u001b[0m\u001b[1;33m:\u001b[0m\u001b[1;33m\u001b[0m\u001b[1;33m\u001b[0m\u001b[0m\n\u001b[0m\u001b[0;32m    754\u001b[0m                         \u001b[1;32myield\u001b[0m \u001b[0mchunk\u001b[0m\u001b[1;33m\u001b[0m\u001b[1;33m\u001b[0m\u001b[0m\n",
      "\u001b[1;32m~\\anaconda3\\lib\\site-packages\\urllib3\\response.py\u001b[0m in \u001b[0;36mstream\u001b[1;34m(self, amt, decode_content)\u001b[0m\n\u001b[0;32m    571\u001b[0m         \u001b[1;32mif\u001b[0m \u001b[0mself\u001b[0m\u001b[1;33m.\u001b[0m\u001b[0mchunked\u001b[0m \u001b[1;32mand\u001b[0m \u001b[0mself\u001b[0m\u001b[1;33m.\u001b[0m\u001b[0msupports_chunked_reads\u001b[0m\u001b[1;33m(\u001b[0m\u001b[1;33m)\u001b[0m\u001b[1;33m:\u001b[0m\u001b[1;33m\u001b[0m\u001b[1;33m\u001b[0m\u001b[0m\n\u001b[1;32m--> 572\u001b[1;33m             \u001b[1;32mfor\u001b[0m \u001b[0mline\u001b[0m \u001b[1;32min\u001b[0m \u001b[0mself\u001b[0m\u001b[1;33m.\u001b[0m\u001b[0mread_chunked\u001b[0m\u001b[1;33m(\u001b[0m\u001b[0mamt\u001b[0m\u001b[1;33m,\u001b[0m \u001b[0mdecode_content\u001b[0m\u001b[1;33m=\u001b[0m\u001b[0mdecode_content\u001b[0m\u001b[1;33m)\u001b[0m\u001b[1;33m:\u001b[0m\u001b[1;33m\u001b[0m\u001b[1;33m\u001b[0m\u001b[0m\n\u001b[0m\u001b[0;32m    573\u001b[0m                 \u001b[1;32myield\u001b[0m \u001b[0mline\u001b[0m\u001b[1;33m\u001b[0m\u001b[1;33m\u001b[0m\u001b[0m\n",
      "\u001b[1;32m~\\anaconda3\\lib\\site-packages\\urllib3\\response.py\u001b[0m in \u001b[0;36mread_chunked\u001b[1;34m(self, amt, decode_content)\u001b[0m\n\u001b[0;32m    792\u001b[0m             \u001b[1;32mif\u001b[0m \u001b[0mself\u001b[0m\u001b[1;33m.\u001b[0m\u001b[0m_original_response\u001b[0m\u001b[1;33m:\u001b[0m\u001b[1;33m\u001b[0m\u001b[1;33m\u001b[0m\u001b[0m\n\u001b[1;32m--> 793\u001b[1;33m                 \u001b[0mself\u001b[0m\u001b[1;33m.\u001b[0m\u001b[0m_original_response\u001b[0m\u001b[1;33m.\u001b[0m\u001b[0mclose\u001b[0m\u001b[1;33m(\u001b[0m\u001b[1;33m)\u001b[0m\u001b[1;33m\u001b[0m\u001b[1;33m\u001b[0m\u001b[0m\n\u001b[0m\u001b[0;32m    794\u001b[0m \u001b[1;33m\u001b[0m\u001b[0m\n",
      "\u001b[1;32m~\\anaconda3\\lib\\contextlib.py\u001b[0m in \u001b[0;36m__exit__\u001b[1;34m(self, type, value, traceback)\u001b[0m\n\u001b[0;32m    130\u001b[0m             \u001b[1;32mtry\u001b[0m\u001b[1;33m:\u001b[0m\u001b[1;33m\u001b[0m\u001b[1;33m\u001b[0m\u001b[0m\n\u001b[1;32m--> 131\u001b[1;33m                 \u001b[0mself\u001b[0m\u001b[1;33m.\u001b[0m\u001b[0mgen\u001b[0m\u001b[1;33m.\u001b[0m\u001b[0mthrow\u001b[0m\u001b[1;33m(\u001b[0m\u001b[0mtype\u001b[0m\u001b[1;33m,\u001b[0m \u001b[0mvalue\u001b[0m\u001b[1;33m,\u001b[0m \u001b[0mtraceback\u001b[0m\u001b[1;33m)\u001b[0m\u001b[1;33m\u001b[0m\u001b[1;33m\u001b[0m\u001b[0m\n\u001b[0m\u001b[0;32m    132\u001b[0m             \u001b[1;32mexcept\u001b[0m \u001b[0mStopIteration\u001b[0m \u001b[1;32mas\u001b[0m \u001b[0mexc\u001b[0m\u001b[1;33m:\u001b[0m\u001b[1;33m\u001b[0m\u001b[1;33m\u001b[0m\u001b[0m\n",
      "\u001b[1;32m~\\anaconda3\\lib\\site-packages\\urllib3\\response.py\u001b[0m in \u001b[0;36m_error_catcher\u001b[1;34m(self)\u001b[0m\n\u001b[0;32m    454\u001b[0m                 \u001b[1;31m# This includes IncompleteRead.\u001b[0m\u001b[1;33m\u001b[0m\u001b[1;33m\u001b[0m\u001b[1;33m\u001b[0m\u001b[0m\n\u001b[1;32m--> 455\u001b[1;33m                 \u001b[1;32mraise\u001b[0m \u001b[0mProtocolError\u001b[0m\u001b[1;33m(\u001b[0m\u001b[1;34m\"Connection broken: %r\"\u001b[0m \u001b[1;33m%\u001b[0m \u001b[0me\u001b[0m\u001b[1;33m,\u001b[0m \u001b[0me\u001b[0m\u001b[1;33m)\u001b[0m\u001b[1;33m\u001b[0m\u001b[1;33m\u001b[0m\u001b[0m\n\u001b[0m\u001b[0;32m    456\u001b[0m \u001b[1;33m\u001b[0m\u001b[0m\n",
      "\u001b[1;31mProtocolError\u001b[0m: (\"Connection broken: ConnectionResetError(10054, 'An existing connection was forcibly closed by the remote host', None, 10054, None)\", ConnectionResetError(10054, 'An existing connection was forcibly closed by the remote host', None, 10054, None))",
      "\nDuring handling of the above exception, another exception occurred:\n",
      "\u001b[1;31mChunkedEncodingError\u001b[0m                      Traceback (most recent call last)",
      "\u001b[1;32m<ipython-input-6-aed40921e9e6>\u001b[0m in \u001b[0;36m<module>\u001b[1;34m\u001b[0m\n\u001b[0;32m      3\u001b[0m \u001b[1;31m# rq= request library\u001b[0m\u001b[1;33m\u001b[0m\u001b[1;33m\u001b[0m\u001b[1;33m\u001b[0m\u001b[0m\n\u001b[0;32m      4\u001b[0m \u001b[1;31m# get= get the url (NB: gets the HTTP version!)\u001b[0m\u001b[1;33m\u001b[0m\u001b[1;33m\u001b[0m\u001b[1;33m\u001b[0m\u001b[0m\n\u001b[1;32m----> 5\u001b[1;33m \u001b[0mresp\u001b[0m \u001b[1;33m=\u001b[0m \u001b[0mrq\u001b[0m\u001b[1;33m.\u001b[0m\u001b[0mget\u001b[0m \u001b[1;33m(\u001b[0m\u001b[1;34m'http://www2.cao.ie/points/l8.php'\u001b[0m\u001b[1;33m)\u001b[0m\u001b[1;33m\u001b[0m\u001b[1;33m\u001b[0m\u001b[0m\n\u001b[0m\u001b[0;32m      6\u001b[0m \u001b[1;31m#have a quick peek\u001b[0m\u001b[1;33m\u001b[0m\u001b[1;33m\u001b[0m\u001b[1;33m\u001b[0m\u001b[0m\n\u001b[0;32m      7\u001b[0m \u001b[0mresp\u001b[0m\u001b[1;33m\u001b[0m\u001b[1;33m\u001b[0m\u001b[0m\n",
      "\u001b[1;32m~\\anaconda3\\lib\\site-packages\\requests\\api.py\u001b[0m in \u001b[0;36mget\u001b[1;34m(url, params, **kwargs)\u001b[0m\n\u001b[0;32m     74\u001b[0m \u001b[1;33m\u001b[0m\u001b[0m\n\u001b[0;32m     75\u001b[0m     \u001b[0mkwargs\u001b[0m\u001b[1;33m.\u001b[0m\u001b[0msetdefault\u001b[0m\u001b[1;33m(\u001b[0m\u001b[1;34m'allow_redirects'\u001b[0m\u001b[1;33m,\u001b[0m \u001b[1;32mTrue\u001b[0m\u001b[1;33m)\u001b[0m\u001b[1;33m\u001b[0m\u001b[1;33m\u001b[0m\u001b[0m\n\u001b[1;32m---> 76\u001b[1;33m     \u001b[1;32mreturn\u001b[0m \u001b[0mrequest\u001b[0m\u001b[1;33m(\u001b[0m\u001b[1;34m'get'\u001b[0m\u001b[1;33m,\u001b[0m \u001b[0murl\u001b[0m\u001b[1;33m,\u001b[0m \u001b[0mparams\u001b[0m\u001b[1;33m=\u001b[0m\u001b[0mparams\u001b[0m\u001b[1;33m,\u001b[0m \u001b[1;33m**\u001b[0m\u001b[0mkwargs\u001b[0m\u001b[1;33m)\u001b[0m\u001b[1;33m\u001b[0m\u001b[1;33m\u001b[0m\u001b[0m\n\u001b[0m\u001b[0;32m     77\u001b[0m \u001b[1;33m\u001b[0m\u001b[0m\n\u001b[0;32m     78\u001b[0m \u001b[1;33m\u001b[0m\u001b[0m\n",
      "\u001b[1;32m~\\anaconda3\\lib\\site-packages\\requests\\api.py\u001b[0m in \u001b[0;36mrequest\u001b[1;34m(method, url, **kwargs)\u001b[0m\n\u001b[0;32m     59\u001b[0m     \u001b[1;31m# cases, and look like a memory leak in others.\u001b[0m\u001b[1;33m\u001b[0m\u001b[1;33m\u001b[0m\u001b[1;33m\u001b[0m\u001b[0m\n\u001b[0;32m     60\u001b[0m     \u001b[1;32mwith\u001b[0m \u001b[0msessions\u001b[0m\u001b[1;33m.\u001b[0m\u001b[0mSession\u001b[0m\u001b[1;33m(\u001b[0m\u001b[1;33m)\u001b[0m \u001b[1;32mas\u001b[0m \u001b[0msession\u001b[0m\u001b[1;33m:\u001b[0m\u001b[1;33m\u001b[0m\u001b[1;33m\u001b[0m\u001b[0m\n\u001b[1;32m---> 61\u001b[1;33m         \u001b[1;32mreturn\u001b[0m \u001b[0msession\u001b[0m\u001b[1;33m.\u001b[0m\u001b[0mrequest\u001b[0m\u001b[1;33m(\u001b[0m\u001b[0mmethod\u001b[0m\u001b[1;33m=\u001b[0m\u001b[0mmethod\u001b[0m\u001b[1;33m,\u001b[0m \u001b[0murl\u001b[0m\u001b[1;33m=\u001b[0m\u001b[0murl\u001b[0m\u001b[1;33m,\u001b[0m \u001b[1;33m**\u001b[0m\u001b[0mkwargs\u001b[0m\u001b[1;33m)\u001b[0m\u001b[1;33m\u001b[0m\u001b[1;33m\u001b[0m\u001b[0m\n\u001b[0m\u001b[0;32m     62\u001b[0m \u001b[1;33m\u001b[0m\u001b[0m\n\u001b[0;32m     63\u001b[0m \u001b[1;33m\u001b[0m\u001b[0m\n",
      "\u001b[1;32m~\\anaconda3\\lib\\site-packages\\requests\\sessions.py\u001b[0m in \u001b[0;36mrequest\u001b[1;34m(self, method, url, params, data, headers, cookies, files, auth, timeout, allow_redirects, proxies, hooks, stream, verify, cert, json)\u001b[0m\n\u001b[0;32m    540\u001b[0m         }\n\u001b[0;32m    541\u001b[0m         \u001b[0msend_kwargs\u001b[0m\u001b[1;33m.\u001b[0m\u001b[0mupdate\u001b[0m\u001b[1;33m(\u001b[0m\u001b[0msettings\u001b[0m\u001b[1;33m)\u001b[0m\u001b[1;33m\u001b[0m\u001b[1;33m\u001b[0m\u001b[0m\n\u001b[1;32m--> 542\u001b[1;33m         \u001b[0mresp\u001b[0m \u001b[1;33m=\u001b[0m \u001b[0mself\u001b[0m\u001b[1;33m.\u001b[0m\u001b[0msend\u001b[0m\u001b[1;33m(\u001b[0m\u001b[0mprep\u001b[0m\u001b[1;33m,\u001b[0m \u001b[1;33m**\u001b[0m\u001b[0msend_kwargs\u001b[0m\u001b[1;33m)\u001b[0m\u001b[1;33m\u001b[0m\u001b[1;33m\u001b[0m\u001b[0m\n\u001b[0m\u001b[0;32m    543\u001b[0m \u001b[1;33m\u001b[0m\u001b[0m\n\u001b[0;32m    544\u001b[0m         \u001b[1;32mreturn\u001b[0m \u001b[0mresp\u001b[0m\u001b[1;33m\u001b[0m\u001b[1;33m\u001b[0m\u001b[0m\n",
      "\u001b[1;32m~\\anaconda3\\lib\\site-packages\\requests\\sessions.py\u001b[0m in \u001b[0;36msend\u001b[1;34m(self, request, **kwargs)\u001b[0m\n\u001b[0;32m    695\u001b[0m \u001b[1;33m\u001b[0m\u001b[0m\n\u001b[0;32m    696\u001b[0m         \u001b[1;32mif\u001b[0m \u001b[1;32mnot\u001b[0m \u001b[0mstream\u001b[0m\u001b[1;33m:\u001b[0m\u001b[1;33m\u001b[0m\u001b[1;33m\u001b[0m\u001b[0m\n\u001b[1;32m--> 697\u001b[1;33m             \u001b[0mr\u001b[0m\u001b[1;33m.\u001b[0m\u001b[0mcontent\u001b[0m\u001b[1;33m\u001b[0m\u001b[1;33m\u001b[0m\u001b[0m\n\u001b[0m\u001b[0;32m    698\u001b[0m \u001b[1;33m\u001b[0m\u001b[0m\n\u001b[0;32m    699\u001b[0m         \u001b[1;32mreturn\u001b[0m \u001b[0mr\u001b[0m\u001b[1;33m\u001b[0m\u001b[1;33m\u001b[0m\u001b[0m\n",
      "\u001b[1;32m~\\anaconda3\\lib\\site-packages\\requests\\models.py\u001b[0m in \u001b[0;36mcontent\u001b[1;34m(self)\u001b[0m\n\u001b[0;32m    829\u001b[0m                 \u001b[0mself\u001b[0m\u001b[1;33m.\u001b[0m\u001b[0m_content\u001b[0m \u001b[1;33m=\u001b[0m \u001b[1;32mNone\u001b[0m\u001b[1;33m\u001b[0m\u001b[1;33m\u001b[0m\u001b[0m\n\u001b[0;32m    830\u001b[0m             \u001b[1;32melse\u001b[0m\u001b[1;33m:\u001b[0m\u001b[1;33m\u001b[0m\u001b[1;33m\u001b[0m\u001b[0m\n\u001b[1;32m--> 831\u001b[1;33m                 \u001b[0mself\u001b[0m\u001b[1;33m.\u001b[0m\u001b[0m_content\u001b[0m \u001b[1;33m=\u001b[0m \u001b[1;34mb''\u001b[0m\u001b[1;33m.\u001b[0m\u001b[0mjoin\u001b[0m\u001b[1;33m(\u001b[0m\u001b[0mself\u001b[0m\u001b[1;33m.\u001b[0m\u001b[0miter_content\u001b[0m\u001b[1;33m(\u001b[0m\u001b[0mCONTENT_CHUNK_SIZE\u001b[0m\u001b[1;33m)\u001b[0m\u001b[1;33m)\u001b[0m \u001b[1;32mor\u001b[0m \u001b[1;34mb''\u001b[0m\u001b[1;33m\u001b[0m\u001b[1;33m\u001b[0m\u001b[0m\n\u001b[0m\u001b[0;32m    832\u001b[0m \u001b[1;33m\u001b[0m\u001b[0m\n\u001b[0;32m    833\u001b[0m         \u001b[0mself\u001b[0m\u001b[1;33m.\u001b[0m\u001b[0m_content_consumed\u001b[0m \u001b[1;33m=\u001b[0m \u001b[1;32mTrue\u001b[0m\u001b[1;33m\u001b[0m\u001b[1;33m\u001b[0m\u001b[0m\n",
      "\u001b[1;32m~\\anaconda3\\lib\\site-packages\\requests\\models.py\u001b[0m in \u001b[0;36mgenerate\u001b[1;34m()\u001b[0m\n\u001b[0;32m    754\u001b[0m                         \u001b[1;32myield\u001b[0m \u001b[0mchunk\u001b[0m\u001b[1;33m\u001b[0m\u001b[1;33m\u001b[0m\u001b[0m\n\u001b[0;32m    755\u001b[0m                 \u001b[1;32mexcept\u001b[0m \u001b[0mProtocolError\u001b[0m \u001b[1;32mas\u001b[0m \u001b[0me\u001b[0m\u001b[1;33m:\u001b[0m\u001b[1;33m\u001b[0m\u001b[1;33m\u001b[0m\u001b[0m\n\u001b[1;32m--> 756\u001b[1;33m                     \u001b[1;32mraise\u001b[0m \u001b[0mChunkedEncodingError\u001b[0m\u001b[1;33m(\u001b[0m\u001b[0me\u001b[0m\u001b[1;33m)\u001b[0m\u001b[1;33m\u001b[0m\u001b[1;33m\u001b[0m\u001b[0m\n\u001b[0m\u001b[0;32m    757\u001b[0m                 \u001b[1;32mexcept\u001b[0m \u001b[0mDecodeError\u001b[0m \u001b[1;32mas\u001b[0m \u001b[0me\u001b[0m\u001b[1;33m:\u001b[0m\u001b[1;33m\u001b[0m\u001b[1;33m\u001b[0m\u001b[0m\n\u001b[0;32m    758\u001b[0m                     \u001b[1;32mraise\u001b[0m \u001b[0mContentDecodingError\u001b[0m\u001b[1;33m(\u001b[0m\u001b[0me\u001b[0m\u001b[1;33m)\u001b[0m\u001b[1;33m\u001b[0m\u001b[1;33m\u001b[0m\u001b[0m\n",
      "\u001b[1;31mChunkedEncodingError\u001b[0m: (\"Connection broken: ConnectionResetError(10054, 'An existing connection was forcibly closed by the remote host', None, 10054, None)\", ConnectionResetError(10054, 'An existing connection was forcibly closed by the remote host', None, 10054, None))"
     ]
    }
   ],
   "source": [
    "# fetch the CAO points URL\n",
    "# resp= response from the URL\n",
    "# rq= request library\n",
    "# get= get the url (NB: gets the HTTP version!)\n",
    "resp = rq.get ('http://www2.cao.ie/points/l8.php')\n",
    "#have a quick peek\n",
    "resp\n",
    "# resp [200] means html response is in order.  [404] if returns means it is not found .  These are http codes"
   ]
  },
  {
   "cell_type": "markdown",
   "id": "c249bc87-f081-4e75-973b-3e4841a2673b",
   "metadata": {},
   "source": [
    "## Save the original dataset\n",
    "#### use the current time (changed to str above) as a filename"
   ]
  },
  {
   "cell_type": "code",
   "execution_count": null,
   "id": "c235c6e6-c5d5-4c7b-9153-4383e3404956",
   "metadata": {},
   "outputs": [],
   "source": [
    "# good programmers use only alphanumeric characters,dash and dot in file names\n",
    "#create a filepath for the original data\n",
    "#use year at start to ensure alphabetic sorted when filed\n",
    "# below creates the EMPTY html file and saves it in a new 'data' folder in active location  ie. \\repo\\Fun_of..\n",
    "path2021html = 'data/cao2021_' + nowstr + '.html'"
   ]
  },
  {
   "cell_type": "markdown",
   "id": "5d6cb10c-9ba2-4526-994d-150440842351",
   "metadata": {},
   "source": [
    "### the server uses the wrong encoding fix it before saving"
   ]
  },
  {
   "cell_type": "code",
   "execution_count": null,
   "id": "602ab426-3d20-4773-94dd-1fc72f2b6cc4",
   "metadata": {},
   "outputs": [],
   "source": [
    "#RESP = RESPONSE\n",
    "#'resp.text' takes the response and converts it to text- but still has original errors\n",
    "#thus not best way to save THIS original file\n",
    "#but resp.text is a typical way to save"
   ]
  },
  {
   "cell_type": "code",
   "execution_count": null,
   "id": "0e4567c7-682e-432e-97ce-c40f3de452d5",
   "metadata": {},
   "outputs": [],
   "source": [
    "# The server uses the wrong encoding, fix it\n",
    "original_encoding = resp.encoding\n",
    "\n",
    "# Change to cp1252\n",
    "resp.encoding = 'cp1252'"
   ]
  },
  {
   "cell_type": "code",
   "execution_count": null,
   "id": "d1835331-dbf7-471a-a0ca-173f7c4f4b73",
   "metadata": {},
   "outputs": [],
   "source": [
    "#save the original html file:\n",
    "# using the updated coding cp1252 as a TEXT file\n",
    "#this file is not used in the regular expression script but saved as a record \n",
    "\n",
    "with open(path2021html, 'w') as f:\n",
    "    f.write(resp.text)    "
   ]
  },
  {
   "cell_type": "code",
   "execution_count": null,
   "id": "101e4289-992b-4698-a768-9906d1f557cf",
   "metadata": {},
   "outputs": [],
   "source": [
    "# python looks for html codes such as \\n \\t\n",
    "#\\n is a new line (common Unix command)\n",
    "#resp.text"
   ]
  },
  {
   "cell_type": "markdown",
   "id": "ac5cb7f4-e306-459c-be40-f29e2a2e9aad",
   "metadata": {},
   "source": [
    "https://stackabuse.com/pythons-itertools-count-cycle-and-chain/"
   ]
  },
  {
   "cell_type": "code",
   "execution_count": null,
   "id": "6c64b862-8c9f-42fc-8e2c-550fb004727b",
   "metadata": {},
   "outputs": [],
   "source": [
    "# how to loop through (iterate through) the lines in request. \n",
    "# outputs the raw html\n",
    "#for line in resp.iter_lines(): \n",
    "    #print(line)"
   ]
  },
  {
   "cell_type": "code",
   "execution_count": null,
   "id": "814bb1a8-947b-4530-a360-1accabfe4b3a",
   "metadata": {},
   "outputs": [],
   "source": [
    "#compile the regular expression for matching lines\n",
    "# re= regular expression. Each character is a string but together form an instruction.\n",
    "# r' = 'raw' used in python. It means don't evaluate backslashes in encountered string literals  i.e. \\n \\t i.e \n",
    "#\\*? = if compiler encounters a three number pattern followed by an asterisk- that is acceptable and include in the compliler\n",
    "# the following asterisk ('wild card') means zero or more characters after this are allowed\n",
    "\n",
    "#re_course = re.compile(r'([A-Z]{2}[0-9]{3})  (.*)([0-9]{3})(.*)')\n",
    "re_course = re.compile(r'([A-Z]{2}[0-9]{3})  (.*)([0-9]{3})(\\*?) *')\n",
    "\n",
    "#shortened RE to simplify i.e. does the line have two alphabetic characters followed by three numbers followed by anything else\n",
    "#re_course = re.compile(r'([A-Z]{2}[0-9]{3})(.*)')"
   ]
  },
  {
   "cell_type": "markdown",
   "id": "9e3b8682-fb4a-417a-8286-aea3e3269044",
   "metadata": {},
   "source": [
    "#### cao2021 course count anomalies:\n",
    "\n",
    "when use re_course = re.compile(r'([A-Z]{2}[0-9]{3})(.*)') course count = 949\n",
    "re_course = re.compile(r'([A-Z]{2}[0-9]{3})  (.*)([0-9]{3})(\\*?) *')  course count = 922\n",
    "\n",
    "The difference is the simpler 1st regular expression returns courses (code and course title) without an associated points entry e.g. \n",
    "AL811,Civil Engineering,,\n",
    "\n",
    "<img src=\"images/CAOhtmlscreenshot.png\" width=\"500\"/>\n",
    "\n",
    "A direct comparison of the two files in Notepad ++ identified the following lines returned with the simpler regular expression which accounts for the difference\n",
    "1.\tAL811,Civil Engineering,,\n",
    "2.\tCK114,Social Science (Youth and Community Work),#,\n",
    "3.\tCK115,Social Work - Mature Applicants only,,\n",
    "4.\tCK791,Medicine  - Graduate Entry (GAMSAT required),#60*,#60*\n",
    "5.\tDB503,Computing (Software Development),,\n",
    "6.\tDB504,Computing (Web and Mobile Technology),,\n",
    "7.\tGC402,Business (HRM),,\n",
    "8.\tID001,Accounting and Finance,,\n",
    "9.\tID002,Business Studies,,\n",
    "10.\tRC101,Medicine - Graduate Entry (GAMSAT required),,\n",
    "11.\tDN301,Veterinary Medicine - Graduate Entry (GAMSAT requi,,\n",
    "12.\tDN401,Medicine - Graduate Entry (GAMSAT required),#61*,\n",
    "13.\tDN411,Radiography - Graduate Entry,#,\n",
    "14.\tDK885,Agri-Food Production,,\n",
    "15.\tGA892,Community Development and Youth Work (Level 8),,\n",
    "16.\tGA983,Furniture and Digital Manufacturing,,\n",
    "17.\tLM101,Medicine  - Graduate Entry (GAMSAT required),#57*,\n",
    "18.\tMU002,Theology,,\n",
    "19.\tMH002,Education - Primary Teaching - Gaeltacht Applicant,,\n",
    "20.\tMH103,Music,#,\n",
    "21.\tMH116,Community and Youth Work (Full-Time),#,\n",
    "22.\tMH801,Early Childhood - Teaching and Learning (part-time,AQA,AQA\n",
    "23.\tMH802,Community and Youth Work (part-time  in service),,#\n",
    "24.\tMH803,Local Studies/Community Studies (part-time  evenin,,#\n",
    "25.\tSG349,Electronics and Self Driving Technologies,,\n",
    "26.\tTL842,Construction Management,,\n",
    "27.\tTL889,Counselling with Addiction - Mature applicants onl,,\n",
    "\n",
    "Therefore the longer regular expression which matches to lines with course points is the recommended course to use. <br>\n",
    "However other year CAO points to be checked for consistency with courses."
   ]
  },
  {
   "cell_type": "markdown",
   "id": "9632ef87-993f-4f2d-9663-2c6d60a5933b",
   "metadata": {},
   "source": [
    "# Notes: \n",
    "### Open two csv files in notepad and compare (plugins).\n",
    "- This could be used to compare between years and identify added, missing courses, anomalies that need the RE modified"
   ]
  },
  {
   "cell_type": "markdown",
   "id": "0badf134-5209-44f1-8793-98bf3f1b20d4",
   "metadata": {},
   "source": [
    "<br>\n",
    "\n",
    "**error on the server= way to fix**\n",
    "\n",
    "match only the lines we want -the ones representing courses \n",
    " technically the server says we should decode as:\n",
    " \n",
    "content-type: text/html; charset: iso-8859-1\n",
    "\n",
    "  but\n",
    "    -one line uses /x96 which isn't defined in iso-8859-1\n",
    "    -therefore we used the similiar decoding standard (codec) cp-1252 which is very similar but includes \\x96"
   ]
  },
  {
   "cell_type": "markdown",
   "id": "e79da0d0-5bab-48f9-9086-27e607abb1be",
   "metadata": {},
   "source": [
    "### loop through the lines of the response\n",
    "***"
   ]
  },
  {
   "cell_type": "code",
   "execution_count": null,
   "id": "49b2130b-f8ca-42ad-8e82-6a9f3e6bddf1",
   "metadata": {},
   "outputs": [],
   "source": [
    "#the filepath for the csv file- which is the output of the below script\n",
    "#path2021csv = 'data/cao2021_csv' + now.strftime('%Y%m%d_%H%M%S')  + '.csv'\n",
    "path2021csv = 'data/cao2021_csv' + nowstr + '.csv'"
   ]
  },
  {
   "cell_type": "code",
   "execution_count": null,
   "id": "46603dcf-4b0c-44d8-8806-d5dd71de1fca",
   "metadata": {},
   "outputs": [],
   "source": [
    "#PASTED IN FROM IMcL NOTEBOOK FROM COURSEBOOK\n",
    "# Keep track of how many courses we process.\n",
    "no_lines = 0\n",
    "\n",
    "# Open the csv file for writing.\n",
    "with open(path2021csv, 'w') as f:\n",
    "    # Write a header row.\n",
    "    f.write(','.join(['code', 'title', 'pointsR1', 'pointsR2']) + '\\n')\n",
    "    # Loop through lines of the response.\n",
    "    for line in resp.iter_lines():\n",
    "        # Decode the line, using the wrong encoding!\n",
    "        dline = line.decode('cp1252')\n",
    "        # Match only the lines representing courses.\n",
    "        if re_course.fullmatch(dline):\n",
    "            # Add one to the lines counter.\n",
    "            no_lines = no_lines + 1\n",
    "            print(line)\n",
    "            # The course code.\n",
    "            course_code = dline[:5]\n",
    "            # The course title.\n",
    "            course_title = dline[7:57].strip()\n",
    "            # Round one points.\n",
    "            course_points = re.split(' +', dline[60:])\n",
    "            if len(course_points) != 2:\n",
    "                course_points = course_points[:2]\n",
    "            # Join the fields using a comma.\n",
    "            linesplit = [course_code, course_title, course_points[0], course_points[1]]\n",
    "            # Rejoin the substrings with commas in between.\n",
    "            f.write(','.join(linesplit) + '\\n')\n",
    "\n",
    "# Print the total number of processed lines.\n",
    "print(f\"Total number of lines is {no_lines}.\")"
   ]
  },
  {
   "cell_type": "code",
   "execution_count": null,
   "id": "59526e48-1993-495e-bd8f-6bd7f82288c4",
   "metadata": {},
   "outputs": [],
   "source": [
    "df2021 = pd.read_csv(path2021csv, encoding='cp1252')"
   ]
  },
  {
   "cell_type": "code",
   "execution_count": null,
   "id": "30bbeb68-2de5-4ec1-abcc-c53cc2a71793",
   "metadata": {},
   "outputs": [],
   "source": [
    "df2021[20:50]"
   ]
  },
  {
   "cell_type": "code",
   "execution_count": null,
   "id": "17cb2fc8-e504-42b4-aedf-519df31c7c04",
   "metadata": {},
   "outputs": [],
   "source": [
    "#the filepath for the csv file- which is the output of the below script\n",
    "path2021csvB = 'data/cao2021_csvB' + nowstr + '.csv'"
   ]
  },
  {
   "cell_type": "code",
   "execution_count": null,
   "id": "8a6369c2-cb38-48b6-859b-b9706dd36231",
   "metadata": {},
   "outputs": [],
   "source": [
    "#for the below if used in assessment should be cleaned up. Check regular expressions are working properly\n",
    "# if want to save output of this then need a filepath and file format like the original data above\n",
    "\n",
    "no_lines = 0\n",
    "#open the csv file for writing\n",
    "with open(path2021csvB, 'w') as f:\n",
    "    # write a header row\n",
    "    f.write(','.join(['code', 'title', 'pointsR1', 'pointsR2']) + '\\n')\n",
    "   # f.write(resp.text)   \n",
    "    #loop through the lines of the response content\n",
    "    for line in resp.iter_lines():\n",
    "        #decode the line using the encoding not flagged by the response from CAO\n",
    "        dline = line.decode('cp1252')\n",
    "        #match only the lines representing the requirements of the regular expression (i.e. line containing course)\n",
    "        if re_course.fullmatch(dline):\n",
    "            #add one to the line counter\n",
    "            no_lines = no_lines + 1\n",
    "            print(line)\n",
    "            # to check the output- can be commented out as required\n",
    "\n",
    "        # version 1 using regular expression\n",
    "        # csv_version = re_course.sub(r'\\1,\\2,\\3,\\4', dline)\n",
    "        #version 1 using re commented out\n",
    "        #print(csv_version) no need to print so commented out\n",
    "        #alternate way than regular expression is to use python in built split function\n",
    "        # 'split' splits the line\n",
    "        #(+ ) instructs to do this where two or more spaces- NB the spaces represented before the '+' below are v important\n",
    "            linesplit = re.split('  +', dline)\n",
    "            f.write(','.join(linesplit) + '\\n') \n",
    "print(f\"total number of lines is {no_lines}.\")  \n",
    "# long outputs are a pain in github as will render without the abiliity to scroll. \n",
    "# Therefore don't print it all out.   \n",
    "# Can use scikit learn. Suggestion below\n"
   ]
  },
  {
   "cell_type": "code",
   "execution_count": null,
   "id": "59db0765-04a0-4a84-845c-9e54f42fd589",
   "metadata": {},
   "outputs": [],
   "source": [
    "#df2021B = pd.read_csv(path2021csvB, encoding='cp1252')"
   ]
  },
  {
   "cell_type": "code",
   "execution_count": null,
   "id": "82a5d7fe-9eef-4af4-8859-f018b463b52e",
   "metadata": {},
   "outputs": [],
   "source": [
    "#df2021B"
   ]
  },
  {
   "cell_type": "markdown",
   "id": "24d3420c-f87e-4043-9b1b-939e341d7b43",
   "metadata": {},
   "source": [
    "#### regular expression syntax\n",
    "https://www.w3schools.com/python/python_regex.asp\n",
    "\n",
    "https://docs.python.org/3/library/re.html\n",
    "\n",
    "#### how to use split function\n",
    "https://pynative.com/python-regex-split/#h-how-to-use-re-split-function\n",
    "\n",
    "syntax: re.split(pattern, string, maxsplit=0, flags=0)"
   ]
  },
  {
   "cell_type": "code",
   "execution_count": null,
   "id": "05fa60ab-6203-422a-8e2f-1c9b5fbc8c2e",
   "metadata": {},
   "outputs": [],
   "source": [
    "# linspace:\n",
    "\n",
    "#The numpy.linspace() function returns number spaces evenly w.r.t interval. Similar to numpy.arrange() function but instead of step it uses sample number. \n",
    "# Syntax : numpy.linspace(start,stop,num = 50,endpoint = True,retstep = False,dtype = None)\n",
    "#e.g.:\n",
    "# import numpy as np\n",
    "# print(\"B\\n\", np.linspace(2.0, 3.0, num=5, retstep=True), \"\\n\")\n",
    "# To evaluate sin() in long range\n",
    "# x = np.linspace(0, 2, 10)\n",
    "# print(\"A\\n\", np.sin(x))\n",
    "# https://www.geeksforgeeks.org/numpy-linspace-python/\n",
    "\n",
    "\n",
    "# print out every 'th value in an array:\n",
    "# e.g. for a super long list i.e. here 10000 print only evertyime i is a multiple of 1000\n",
    "# i = 0 (not needed)\n",
    "# for i in x  (not needed)\n",
    "\n",
    "import numpy as np\n",
    "x = np.linspace(-20.0, 10.0,10000)\n",
    "for i in range (len(x)):\n",
    "    if (i % 1000) == 0:\n",
    "            print (f\"{x[i]:.1}\")\n",
    "# this will avoid the length cell especially in github notebook renderer and nbv viewer"
   ]
  },
  {
   "cell_type": "markdown",
   "id": "15a4925b-c59b-4e40-ba81-9bc23e50ab6e",
   "metadata": {},
   "source": [
    "<br>\n",
    "\n",
    "#### helper function"
   ]
  },
  {
   "cell_type": "code",
   "execution_count": null,
   "id": "ecfae5fb-c982-406a-ac3f-930c8de07448",
   "metadata": {},
   "outputs": [],
   "source": [
    "# takes in s (str) - checks is 1st character #? \n",
    "#if yes then stores in portfolio a\n",
    "# otherwise it stores an empty string\n",
    "def points_to_array(s):\n",
    "    portfolio = ''\n",
    "    if s[0] == '#':\n",
    "        portfolio = '#'\n",
    "        random = ''\n",
    "        #checks the last character  if its an asterisk then it stores \n",
    "        if s[-1] == '*':\n",
    "            random = '*'\n",
    "            # loops through each characters in string for i in s\n",
    "            # + is string concatenation \n",
    "            # + is not addition\n",
    "        points = ''\n",
    "        for i in s:\n",
    "            if i.isdigit():\n",
    "                points = points + 1\n",
    "                return [points, portfolio, random]\n",
    "            \n",
    "# 'would recommend changing course _points[0], course_points[1]] into arrays with three things in them\n",
    "#hash character , empty string, points ,random has-\n",
    "# maybe don't need if read in pandas'"
   ]
  },
  {
   "cell_type": "markdown",
   "id": "01087dbc-03d7-45e0-881c-fd46073c97e9",
   "metadata": {},
   "source": [
    "#### Extra lines in html- how to reconcile the # lines of html vs the csv\n",
    "- i.e. total number of lines output in jupyter code\n",
    "- open VSC\n",
    "- delete all the lines that don't want\n",
    "- delete preamble & sections within colleges\n",
    "\n",
    "####  find \\n\\n and replace with \\n\n",
    "in RE turned on : ^ looks for start of line $ looks for end of line <br>\n",
    "cant find and replace with these but can find S&F of lines\n"
   ]
  },
  {
   "cell_type": "markdown",
   "id": "8a125451-d860-4b31-b7fb-a96b41212252",
   "metadata": {},
   "source": [
    "#### alternate way to sort\n",
    "- different to RE but similar result\n",
    "- more manual\n"
   ]
  },
  {
   "cell_type": "code",
   "execution_count": null,
   "id": "2a2d5f37-c917-4d26-866e-5f6cca161c36",
   "metadata": {},
   "outputs": [],
   "source": [
    "#the filepath for the alternate csv file- which is the output of the below script that uses a more 1st principles approach\n",
    "#path2021csv2 = 'data/cao2021_csv(2)' + now.strftime('%Y%m%d_%H%M%S')  + '.csv'\n",
    "path2021csv2 = 'data/cao2021_csv(2)' + nowstr + '.csv'"
   ]
  },
  {
   "cell_type": "code",
   "execution_count": null,
   "id": "d475fa96-f538-4041-b686-a0f64abffc63",
   "metadata": {},
   "outputs": [],
   "source": [
    "# older version of code\n",
    "\n",
    "no_lines = 0\n",
    "#open the csv file for writing\n",
    "with open(path2021csv2, 'w') as f:\n",
    "    # write a header row\n",
    "    f.write(','.join(['code', 'title', 'pointsR1', 'pointsR2']) + '\\n')\n",
    "    #debug:\n",
    "            ##print(len(linesplit), linesplit ,dline)\n",
    "            #this will show you how the RE is splitting \n",
    "            #i.e. expect '4' for len(length) of linesplit, then in square brackets how it splits 'xxx', then outside square brackets the string- 'dline'\n",
    "            \n",
    "            #print out just the course code # :5b means simply print out the characters up to position 5 (0-4 in python)\n",
    "            #course_code = dline[:5]\n",
    "            #print (course_code)\n",
    "            \n",
    "            #print out just the course title- starts at 7n in..trial and error re run until get longest course title\n",
    "            #course_title = dline[7:57]\n",
    "            #print (course_title)     \n",
    "            \n",
    "            #round one points - prints out both round 1 and round 2  Note: can't separate 'round' and '1'\n",
    "            #course_round1 = dline[60:]\n",
    "            #print (course_round1)\n",
    "            \n",
    "            #can edit the RE and re-run these to debug further\n",
    "            \n",
    "            #further debugging\n",
    "            #split on the space. Has a look for one ore more space and splits it\n",
    "            #course_points = re.split('  +' , dline[60:])\n",
    "            #print(f\"'{course_code} {course_points}'\")\n",
    "            \n",
    "            #last line is returning anything but two substrings back- create an exception\n",
    "           # if len(course_points) != 2:\n",
    "                #course_points = course_points[:2]\n",
    "               # join the fields usign a comma\n",
    "               # linesplit = [course_code,course_title, course _points[0], course_points[1]]\n",
    "                \n",
    "            #print(','.join(linesplit))\n",
    "            #f.write(csv_version + '\\n') - saving of old RE way\n",
    "            #rejoin the substrings with commas in-between\n",
    "            #f.write(','.join(linesplit) + '\\n')\n",
    "            \n",
    "            #result - output is a csv file!\n",
    "    for line in resp.iter_lines():\n",
    "        dline = line.decode('cp1252')\n",
    "        if re_course.fullmatch(dline):\n",
    "            no_lines = no_lines + 1\n",
    "            course_code = dline[:5]\n",
    "            course_title = dline[7:57].strip()\n",
    "            course_points = re.split('  +' , dline[60:])\n",
    "            if len(course_points) != 2:\n",
    "                course_points = course_points[:2]\n",
    "            linesplit = [course_code,course_title, course_points[0], course_points[1]]\n",
    "            f.write(','.join(linesplit) + '\\n') \n",
    "            print(line) # to check the output- can be commented out as required\n",
    "print(f\"total number of lines is {no_lines}.\")\n",
    "\n",
    "# output path2021 is a csv file\n",
    "#note pandas coud convert html to csv but better to use own code and save as csv- use pandas thereafter"
   ]
  },
  {
   "cell_type": "markdown",
   "id": "8a2709c6-c422-4ce0-bd41-9649cf1cd642",
   "metadata": {},
   "source": [
    "stripstrings = ' abc     ' <br>\n",
    "**s.strip()** strips the white space** <br>"
   ]
  },
  {
   "cell_type": "markdown",
   "id": "056ced06-ee21-4420-b152-6ad3ca0e8b2e",
   "metadata": {},
   "source": [
    "<br>\n",
    "\n",
    "**NB** it was verfied as pof  xx yy zz that there were  949 courses exactly in the CAO 2021 points list"
   ]
  },
  {
   "cell_type": "code",
   "execution_count": null,
   "id": "598d03af-4353-48c3-bfd3-c5606119c1b8",
   "metadata": {},
   "outputs": [],
   "source": [
    "#old code\n",
    "#how to loop throught the linesv in request. iterate through the lines in request using a regular expression\n",
    "#for line in resp.iter_lines():\n",
    "   # if re.match('[A-Z]{2}[0-9]{3}  .* *(0-9){3} *', line.decode('utf-8') ):\n",
    "               # print(line)"
   ]
  },
  {
   "cell_type": "code",
   "execution_count": null,
   "id": "a24d2efc-4b5c-484e-a1bb-fcc72255dbf1",
   "metadata": {},
   "outputs": [],
   "source": [
    "df2021B = pd.read_csv(path2021csv2, encoding='cp1252')"
   ]
  },
  {
   "cell_type": "code",
   "execution_count": null,
   "id": "643a2d01-4258-4093-890b-c3d5ea77f330",
   "metadata": {},
   "outputs": [],
   "source": [
    "df2021B"
   ]
  },
  {
   "cell_type": "markdown",
   "id": "e14377b3-09e6-4865-a270-03fcda1ed403",
   "metadata": {},
   "source": [
    "<br>\n",
    "\n",
    "# 2020 points\n",
    "\n",
    "http://www.cao.ie/index.php?page=points&p=2020\n",
    "\n",
    "***"
   ]
  },
  {
   "cell_type": "markdown",
   "id": "d3547d5f-c92c-4c18-adb5-ae88829f4c62",
   "metadata": {},
   "source": [
    "### download and parse the excel spreadsheet using pandas"
   ]
  },
  {
   "cell_type": "code",
   "execution_count": null,
   "id": "7b349e84-e5e9-48bf-be11-6cafa08f7216",
   "metadata": {},
   "outputs": [],
   "source": [
    "#create a variable for the url to keep it neat\n",
    "url2020 = 'http://www2.cao.ie/points/CAOPointsCharts2020.xlsx'"
   ]
  },
  {
   "cell_type": "code",
   "execution_count": null,
   "id": "f4594b3e-1b1a-410a-9214-a632a295dd81",
   "metadata": {},
   "outputs": [],
   "source": [
    "#download and parse the excel spreadsheet\n",
    "#skip the 1st 10 preamble rows\n",
    "df2020 = pd.read_excel (url2020, skiprows = 10)\n",
    "# however it reads the 1st 10 preamble headings \n",
    "# could save file and manually delete 1st 10 rows but better to use pandas functionality"
   ]
  },
  {
   "cell_type": "code",
   "execution_count": null,
   "id": "b4815874-5719-466a-a538-417a3c467618",
   "metadata": {},
   "outputs": [],
   "source": [
    "df2020"
   ]
  },
  {
   "cell_type": "code",
   "execution_count": null,
   "id": "135a88a8-32cc-450e-9589-74a27909e51e",
   "metadata": {},
   "outputs": [],
   "source": [
    "#spot check of data (row)\n",
    "# use loc or iloc functionality to check data\n",
    "df2020.iloc[12:15]\n",
    "#check the final line in the spreadsheet\n",
    "# reminder 1st 11 rows are heading #excel identifies 1st row as zero\n",
    "#df2020.iloc[753]\n",
    "# can also count backwards to last row\n",
    "#df2020.iloc[-1]"
   ]
  },
  {
   "cell_type": "markdown",
   "id": "dd208447-3c48-4ab9-b923-ec2c9f2c4afa",
   "metadata": {},
   "source": [
    "<br>\n",
    "\n",
    "### save original file \n",
    "\n",
    "***"
   ]
  },
  {
   "cell_type": "code",
   "execution_count": null,
   "id": "fa405efd-b47a-4d9d-a4d1-eb3195de7f5c",
   "metadata": {},
   "outputs": [],
   "source": [
    "# Create a file path for the pandas data.\n",
    "pathxlsx = 'data/cao2020_' + nowstr + '.xlsx'\n",
    "\n",
    "# retrieve the original excel data from CAO website and save to new xlsx file (time stamped)\n",
    "urlrq.urlretrieve (url2020, pathxlsx)\n",
    "\n",
    "#pathxlsx = 'data/cao2020_' + now.strftime('%Y%m%d_%H%M%S')  + '.xlsx'\n",
    "#now.strftime('%Y%m%d_%H%M%S')\n",
    "#save the original html file\n",
    "#with open(pathxlsx, 'w') as f:\n",
    "   # f.write(resp.text)   "
   ]
  },
  {
   "cell_type": "markdown",
   "id": "24badb73-d367-4784-9d81-a096d81d6743",
   "metadata": {},
   "source": [
    "<br>\n",
    "\n",
    "#### create a filepath for pandas data\n",
    "***\n"
   ]
  },
  {
   "cell_type": "code",
   "execution_count": null,
   "id": "0a7f7367-e39d-47fb-a44f-67822ae7d4be",
   "metadata": {},
   "outputs": [],
   "source": [
    "#save the output to a csv file\n",
    "#path2020 = 'data/cao2020_' + now.strftime('%Y%m%d_%H%M%S')  + '.csv'\n",
    "path2020 = 'data/cao2020_' + nowstr + '.csv'\n"
   ]
  },
  {
   "cell_type": "code",
   "execution_count": null,
   "id": "e97c0999-621d-4544-a6f5-542321180ab5",
   "metadata": {},
   "outputs": [],
   "source": [
    "# Save pandas data frame to disk.\n",
    "df2020.to_csv(path2020)"
   ]
  },
  {
   "cell_type": "markdown",
   "id": "88608396-a2cc-4ce5-b11f-a5eb7f7a23e0",
   "metadata": {},
   "source": [
    "<br>\n",
    "\n",
    "https://pandas.pydata.org/docs/reference/api/pandas.read_excel.htmlpandas.read_excel <br> function signature in pandas excel webpage: (io, sheet_name=0, header=0, names=None, index_col=None, usecols=None, squeeze=False, dtype=None, engine=None, converters=None, true_values=None, false_values=None, skiprows=None, nrows=None, na_values=None, keep_default_na=True, na_filter=True, verbose=False, parse_dates=False, date_parser=None, thousands=None, comment=None, skipfooter=0, convert_float=None, mangle_dupe_cols=True, storage_options=None)¶\n",
    "skiprows is what we need"
   ]
  },
  {
   "cell_type": "markdown",
   "id": "d21013d1-0794-4779-97d8-ef5fed6aab59",
   "metadata": {},
   "source": [
    "## fetch earlier year points data and save in data files"
   ]
  },
  {
   "cell_type": "markdown",
   "id": "f241ccb2-a3bf-4ded-b45a-be29d2db2581",
   "metadata": {},
   "source": [
    "<br>\n",
    "\n",
    "## 2019 points\n",
    "-as pdf option here is to read do it manually before getting pandas to read it as a csv\n",
    "\n",
    "http://www.cao.ie/index.php?page=points&p=2019\n",
    "\n",
    "***"
   ]
  },
  {
   "cell_type": "markdown",
   "id": "95ebe4cb-0553-4268-af07-bcab507a9990",
   "metadata": {},
   "source": [
    "-Note the 2019 and earlier points are in pdf format<br>\n",
    "Main points index url: <br>\n",
    "https://www.cao.ie/index.php?page=points\n",
    "direct link tp pointsd tablr (pdf) <br>\n",
    "http://www2.cao.ie/points/lvl8_19.pdf\n"
   ]
  },
  {
   "cell_type": "markdown",
   "id": "b117640c-f8a2-489a-a8c6-7e1535f46995",
   "metadata": {},
   "source": [
    "<br>\n",
    "\n",
    "### steps to reproduce the 2019 editable:\n",
    "****\n"
   ]
  },
  {
   "cell_type": "raw",
   "id": "50a66103-ea8c-47d7-afc9-5ee02a57a103",
   "metadata": {},
   "source": [
    "Python libraries to check out to 'scrape pdf's':\n",
    "\n",
    "Tabula,Camelot,Excalibur"
   ]
  },
  {
   "cell_type": "markdown",
   "id": "61c907b3-429f-43e4-987c-8064b60caa86",
   "metadata": {},
   "source": [
    "Manual way of extracting:\n",
    "1. save pdf in repository\n",
    "2. open original with MS Word (may need to 'choose other app to open' in dropdown\n",
    "3. MS Word converts pdf to Word\n",
    "4. Save file as xxxxx.docx format\n",
    "5. Resave a copy to edit in repo as xxxxx_edited.docx\n",
    "6. Delete headers and footers\n",
    "7. delete preamble on page 1\n",
    "8. Ctrl 'A', Ctrl 'C' to copy all data in the 21 separate tables\n",
    "9. Open notepad++ and paste 'Ctrl V'\n",
    "\n",
    "\n",
    "### Steps to reproduce \\textcolor{red}{red} <br>\n",
    "<span style=\"color:blue\">NB: for the video I truncated the CSV file to save time. <br></span>\n",
    "\n",
    "<mark>After the video, I went back and changed some of the following to make it cleaner.<mark>\n",
    "- Download original pdf file.\n",
    "- Open original pdf file in Microsoft Word.\n",
    "- Save Microsoft Word's converted PDF in docx format.\n",
    "- Re-save Word document for editing.\n",
    "- Delete headers and footers.\n",
    "- Delete preamble on page 1.\n",
    "- Select all and copy.\n",
    "- Paste into Visual Studio Code.\n",
    "- Remove HEI name lines and black lines.\n",
    "- Change column heading \"COURSE AND INSTITUTION\" to \"Course\".\n",
    "- Change backticks to apostrophes.\n",
    "- Replaced double tab charater at on line 28 with single tab.\n",
    "-Delete tabs at end of lines 604, 670, 700, 701, 793, and 830.\n"
   ]
  },
  {
   "cell_type": "markdown",
   "id": "f1b839e7-1407-40c7-ad09-2ad26172639e",
   "metadata": {},
   "source": [
    "### Creating CSV file from the original pdf\n",
    "\n",
    "- The original pdf was downloaded and saved as a pdf in repository\n",
    "- The original file was opened with MS Word ass follows:\n",
    "- Select file > open with > other programs > MSWord >\n",
    "- open for editing\n",
    "- Save the editable file in repository under data as as xxxxx.docx format: \n",
    "- Resaved a copy to edit in repo as cao2019_edited.docx\n",
    "- Deleted headers and footers\n",
    "- deleted the preamble on page 1\n",
    "- Ctrl 'A', Ctrl 'C' to copy all data in the 21 separate tables\n",
    "- Opened notepad++ and pasted in the content of the 21 tables 'Ctrl V'\n",
    "\n",
    "#### manual editing in notepad ++\n",
    " \n",
    "- Removed HEI name lines and black lines\n",
    "- Removed all Irish fadas: e.g. Gn**ó** agus Gaeilge \n",
    "- Delete blank lines\n",
    "- Change backticks to apostrophes\n",
    "- Remove all Irish fadas: e.g. Gn**ó** agus Gaeilge \n",
    "- find \\\\t replace with \\t finds the double tabs and removes them\n",
    "- Replaced double tab charater at on line 28 with single tab.\n",
    "- Delete tabs at end of lines 604, 670, 700, 701, 793, and 830.\n",
    "- save file\n",
    "\n",
    "\n",
    "Note: Institutions not required for data frame as institution is identifiable from the course code 1st two letters.<br>  Thus the below not required: <br>\n",
    "1. Select the 'College/Institute' i.e. 'Athlone Institute of Technology' and cut\n",
    "2. Move cursor to in front of AIT 1st course line\n",
    "3. Hold down ALT key and drag cursor down to all AIT courses\n",
    "4. Ctrl V to paste - click 'tab' key to create tabs\n",
    "5. Put double quotes around college names as they have commas [select start of string with cursor-alt-type \"]\n",
    "6. Also: \\t  in extended file 'replace all' with comma: replaces all the tabs with commas <br> however not recommended here as commas elsewhere will confuse. <br> best to leave tabs as delimiters  e.g. in effect its as 'tsv' tab serapated file but can save as csv\n"
   ]
  },
  {
   "cell_type": "code",
   "execution_count": 7,
   "id": "53ddad8d-61f0-46a3-9d21-195fac01a6a9",
   "metadata": {},
   "outputs": [],
   "source": [
    "df2019 = pd.read_csv('data/cao2019_20211102_191031_edited.csv', sep ='\\t') "
   ]
  },
  {
   "cell_type": "code",
   "execution_count": 8,
   "id": "32471d98-9b9e-4a95-bb1f-8ad32a2e9951",
   "metadata": {},
   "outputs": [
    {
     "data": {
      "text/html": [
       "<div>\n",
       "<style scoped>\n",
       "    .dataframe tbody tr th:only-of-type {\n",
       "        vertical-align: middle;\n",
       "    }\n",
       "\n",
       "    .dataframe tbody tr th {\n",
       "        vertical-align: top;\n",
       "    }\n",
       "\n",
       "    .dataframe thead th {\n",
       "        text-align: right;\n",
       "    }\n",
       "</style>\n",
       "<table border=\"1\" class=\"dataframe\">\n",
       "  <thead>\n",
       "    <tr style=\"text-align: right;\">\n",
       "      <th></th>\n",
       "      <th>HEI</th>\n",
       "      <th>Course Code</th>\n",
       "      <th>INSTITUTION and COURSE</th>\n",
       "      <th>EOS</th>\n",
       "      <th>Mid</th>\n",
       "    </tr>\n",
       "  </thead>\n",
       "  <tbody>\n",
       "    <tr>\n",
       "      <th>0</th>\n",
       "      <td></td>\n",
       "      <td>NaN</td>\n",
       "      <td>NaN</td>\n",
       "      <td>NaN</td>\n",
       "      <td>NaN</td>\n",
       "    </tr>\n",
       "    <tr>\n",
       "      <th>1</th>\n",
       "      <td>Athlone Institute of Technology</td>\n",
       "      <td>AL801</td>\n",
       "      <td>Software Design with Virtual Reality and Gaming</td>\n",
       "      <td>304</td>\n",
       "      <td>328.0</td>\n",
       "    </tr>\n",
       "    <tr>\n",
       "      <th>2</th>\n",
       "      <td>Athlone Institute of Technology</td>\n",
       "      <td>AL802</td>\n",
       "      <td>Software Design with Cloud Computing</td>\n",
       "      <td>301</td>\n",
       "      <td>306.0</td>\n",
       "    </tr>\n",
       "    <tr>\n",
       "      <th>3</th>\n",
       "      <td>Athlone Institute of Technology</td>\n",
       "      <td>AL803</td>\n",
       "      <td>Software Design with Mobile Apps and Connected...</td>\n",
       "      <td>309</td>\n",
       "      <td>337.0</td>\n",
       "    </tr>\n",
       "    <tr>\n",
       "      <th>4</th>\n",
       "      <td>Athlone Institute of Technology</td>\n",
       "      <td>AL805</td>\n",
       "      <td>Network Management and Cloud Infrastructure</td>\n",
       "      <td>329</td>\n",
       "      <td>442.0</td>\n",
       "    </tr>\n",
       "    <tr>\n",
       "      <th>...</th>\n",
       "      <td>...</td>\n",
       "      <td>...</td>\n",
       "      <td>...</td>\n",
       "      <td>...</td>\n",
       "      <td>...</td>\n",
       "    </tr>\n",
       "    <tr>\n",
       "      <th>974</th>\n",
       "      <td>Waterford Institute of Technology</td>\n",
       "      <td>WD200</td>\n",
       "      <td>Arts (options)</td>\n",
       "      <td>221</td>\n",
       "      <td>296.0</td>\n",
       "    </tr>\n",
       "    <tr>\n",
       "      <th>975</th>\n",
       "      <td>Waterford Institute of Technology</td>\n",
       "      <td>WD210</td>\n",
       "      <td>Software Systems Development</td>\n",
       "      <td>271</td>\n",
       "      <td>329.0</td>\n",
       "    </tr>\n",
       "    <tr>\n",
       "      <th>976</th>\n",
       "      <td>Waterford Institute of Technology</td>\n",
       "      <td>WD211</td>\n",
       "      <td>Creative Computing</td>\n",
       "      <td>275</td>\n",
       "      <td>322.0</td>\n",
       "    </tr>\n",
       "    <tr>\n",
       "      <th>977</th>\n",
       "      <td>Waterford Institute of Technology</td>\n",
       "      <td>WD212</td>\n",
       "      <td>Recreation and Sport Management</td>\n",
       "      <td>274</td>\n",
       "      <td>311.0</td>\n",
       "    </tr>\n",
       "    <tr>\n",
       "      <th>978</th>\n",
       "      <td>Waterford Institute of Technology</td>\n",
       "      <td>WD230</td>\n",
       "      <td>Mechanical and Manufacturing Engineering</td>\n",
       "      <td>273</td>\n",
       "      <td>348.0</td>\n",
       "    </tr>\n",
       "  </tbody>\n",
       "</table>\n",
       "<p>979 rows × 5 columns</p>\n",
       "</div>"
      ],
      "text/plain": [
       "                                   HEI Course Code  \\\n",
       "0                                              NaN   \n",
       "1      Athlone Institute of Technology       AL801   \n",
       "2      Athlone Institute of Technology       AL802   \n",
       "3      Athlone Institute of Technology       AL803   \n",
       "4      Athlone Institute of Technology       AL805   \n",
       "..                                 ...         ...   \n",
       "974  Waterford Institute of Technology       WD200   \n",
       "975  Waterford Institute of Technology       WD210   \n",
       "976  Waterford Institute of Technology       WD211   \n",
       "977  Waterford Institute of Technology       WD212   \n",
       "978  Waterford Institute of Technology       WD230   \n",
       "\n",
       "                                INSTITUTION and COURSE  EOS    Mid  \n",
       "0                                                  NaN  NaN    NaN  \n",
       "1      Software Design with Virtual Reality and Gaming  304  328.0  \n",
       "2                 Software Design with Cloud Computing  301  306.0  \n",
       "3    Software Design with Mobile Apps and Connected...  309  337.0  \n",
       "4          Network Management and Cloud Infrastructure  329  442.0  \n",
       "..                                                 ...  ...    ...  \n",
       "974                                     Arts (options)  221  296.0  \n",
       "975                       Software Systems Development  271  329.0  \n",
       "976                                 Creative Computing  275  322.0  \n",
       "977                    Recreation and Sport Management  274  311.0  \n",
       "978           Mechanical and Manufacturing Engineering  273  348.0  \n",
       "\n",
       "[979 rows x 5 columns]"
      ]
     },
     "execution_count": 8,
     "metadata": {},
     "output_type": "execute_result"
    }
   ],
   "source": [
    "df2019"
   ]
  },
  {
   "cell_type": "code",
   "execution_count": 9,
   "id": "ad216265-9b61-4b3d-96c7-d1334ccb694f",
   "metadata": {},
   "outputs": [
    {
     "data": {
      "text/html": [
       "<div>\n",
       "<style scoped>\n",
       "    .dataframe tbody tr th:only-of-type {\n",
       "        vertical-align: middle;\n",
       "    }\n",
       "\n",
       "    .dataframe tbody tr th {\n",
       "        vertical-align: top;\n",
       "    }\n",
       "\n",
       "    .dataframe thead th {\n",
       "        text-align: right;\n",
       "    }\n",
       "</style>\n",
       "<table border=\"1\" class=\"dataframe\">\n",
       "  <thead>\n",
       "    <tr style=\"text-align: right;\">\n",
       "      <th></th>\n",
       "      <th>HEI</th>\n",
       "      <th>Course Code</th>\n",
       "      <th>INSTITUTION and COURSE</th>\n",
       "      <th>EOS</th>\n",
       "      <th>Mid</th>\n",
       "    </tr>\n",
       "  </thead>\n",
       "  <tbody>\n",
       "    <tr>\n",
       "      <th>12</th>\n",
       "      <td>Athlone Institute of Technology</td>\n",
       "      <td>AL839</td>\n",
       "      <td>Microbiology</td>\n",
       "      <td>322</td>\n",
       "      <td>371.0</td>\n",
       "    </tr>\n",
       "    <tr>\n",
       "      <th>13</th>\n",
       "      <td>Athlone Institute of Technology</td>\n",
       "      <td>AL840</td>\n",
       "      <td>Pharmaceutical Sciences</td>\n",
       "      <td>328</td>\n",
       "      <td>411.0</td>\n",
       "    </tr>\n",
       "    <tr>\n",
       "      <th>14</th>\n",
       "      <td>Athlone Institute of Technology</td>\n",
       "      <td>AL841</td>\n",
       "      <td>Athletic and Rehabilitation Therapy</td>\n",
       "      <td>423</td>\n",
       "      <td>430.0</td>\n",
       "    </tr>\n",
       "  </tbody>\n",
       "</table>\n",
       "</div>"
      ],
      "text/plain": [
       "                                HEI Course Code  \\\n",
       "12  Athlone Institute of Technology       AL839   \n",
       "13  Athlone Institute of Technology       AL840   \n",
       "14  Athlone Institute of Technology       AL841   \n",
       "\n",
       "                 INSTITUTION and COURSE  EOS    Mid  \n",
       "12                         Microbiology  322  371.0  \n",
       "13              Pharmaceutical Sciences  328  411.0  \n",
       "14  Athletic and Rehabilitation Therapy  423  430.0  "
      ]
     },
     "execution_count": 9,
     "metadata": {},
     "output_type": "execute_result"
    }
   ],
   "source": [
    "#spot check of data (row)\n",
    "# use loc or iloc functionality to check data\n",
    "df2019.iloc[12:15]\n",
    "#check the final line in the spreadsheet\n",
    "# reminder 1st 11 rows are heading #excel identifies 1st row as zero\n",
    "#df2019.iloc[753]\n",
    "# can also count backwards to last row\n",
    "#df2019.iloc[-1]"
   ]
  },
  {
   "cell_type": "code",
   "execution_count": 10,
   "id": "be24f14d-8f57-481e-a4a5-e81a7aebfe08",
   "metadata": {},
   "outputs": [
    {
     "ename": "ChunkedEncodingError",
     "evalue": "(\"Connection broken: ConnectionResetError(10054, 'An existing connection was forcibly closed by the remote host', None, 10054, None)\", ConnectionResetError(10054, 'An existing connection was forcibly closed by the remote host', None, 10054, None))",
     "output_type": "error",
     "traceback": [
      "\u001b[1;31m---------------------------------------------------------------------------\u001b[0m",
      "\u001b[1;31mConnectionResetError\u001b[0m                      Traceback (most recent call last)",
      "\u001b[1;32m~\\anaconda3\\lib\\site-packages\\urllib3\\response.py\u001b[0m in \u001b[0;36m_error_catcher\u001b[1;34m(self)\u001b[0m\n\u001b[0;32m    437\u001b[0m             \u001b[1;32mtry\u001b[0m\u001b[1;33m:\u001b[0m\u001b[1;33m\u001b[0m\u001b[1;33m\u001b[0m\u001b[0m\n\u001b[1;32m--> 438\u001b[1;33m                 \u001b[1;32myield\u001b[0m\u001b[1;33m\u001b[0m\u001b[1;33m\u001b[0m\u001b[0m\n\u001b[0m\u001b[0;32m    439\u001b[0m \u001b[1;33m\u001b[0m\u001b[0m\n",
      "\u001b[1;32m~\\anaconda3\\lib\\site-packages\\urllib3\\response.py\u001b[0m in \u001b[0;36mread\u001b[1;34m(self, amt, decode_content, cache_content)\u001b[0m\n\u001b[0;32m    518\u001b[0m                 \u001b[0mcache_content\u001b[0m \u001b[1;33m=\u001b[0m \u001b[1;32mFalse\u001b[0m\u001b[1;33m\u001b[0m\u001b[1;33m\u001b[0m\u001b[0m\n\u001b[1;32m--> 519\u001b[1;33m                 \u001b[0mdata\u001b[0m \u001b[1;33m=\u001b[0m \u001b[0mself\u001b[0m\u001b[1;33m.\u001b[0m\u001b[0m_fp\u001b[0m\u001b[1;33m.\u001b[0m\u001b[0mread\u001b[0m\u001b[1;33m(\u001b[0m\u001b[0mamt\u001b[0m\u001b[1;33m)\u001b[0m \u001b[1;32mif\u001b[0m \u001b[1;32mnot\u001b[0m \u001b[0mfp_closed\u001b[0m \u001b[1;32melse\u001b[0m \u001b[1;34mb\"\"\u001b[0m\u001b[1;33m\u001b[0m\u001b[1;33m\u001b[0m\u001b[0m\n\u001b[0m\u001b[0;32m    520\u001b[0m                 if (\n",
      "\u001b[1;32m~\\anaconda3\\lib\\http\\client.py\u001b[0m in \u001b[0;36mread\u001b[1;34m(self, amt)\u001b[0m\n\u001b[0;32m    457\u001b[0m             \u001b[0mb\u001b[0m \u001b[1;33m=\u001b[0m \u001b[0mbytearray\u001b[0m\u001b[1;33m(\u001b[0m\u001b[0mamt\u001b[0m\u001b[1;33m)\u001b[0m\u001b[1;33m\u001b[0m\u001b[1;33m\u001b[0m\u001b[0m\n\u001b[1;32m--> 458\u001b[1;33m             \u001b[0mn\u001b[0m \u001b[1;33m=\u001b[0m \u001b[0mself\u001b[0m\u001b[1;33m.\u001b[0m\u001b[0mreadinto\u001b[0m\u001b[1;33m(\u001b[0m\u001b[0mb\u001b[0m\u001b[1;33m)\u001b[0m\u001b[1;33m\u001b[0m\u001b[1;33m\u001b[0m\u001b[0m\n\u001b[0m\u001b[0;32m    459\u001b[0m             \u001b[1;32mreturn\u001b[0m \u001b[0mmemoryview\u001b[0m\u001b[1;33m(\u001b[0m\u001b[0mb\u001b[0m\u001b[1;33m)\u001b[0m\u001b[1;33m[\u001b[0m\u001b[1;33m:\u001b[0m\u001b[0mn\u001b[0m\u001b[1;33m]\u001b[0m\u001b[1;33m.\u001b[0m\u001b[0mtobytes\u001b[0m\u001b[1;33m(\u001b[0m\u001b[1;33m)\u001b[0m\u001b[1;33m\u001b[0m\u001b[1;33m\u001b[0m\u001b[0m\n",
      "\u001b[1;32m~\\anaconda3\\lib\\http\\client.py\u001b[0m in \u001b[0;36mreadinto\u001b[1;34m(self, b)\u001b[0m\n\u001b[0;32m    501\u001b[0m         \u001b[1;31m# (for example, reading in 1k chunks)\u001b[0m\u001b[1;33m\u001b[0m\u001b[1;33m\u001b[0m\u001b[1;33m\u001b[0m\u001b[0m\n\u001b[1;32m--> 502\u001b[1;33m         \u001b[0mn\u001b[0m \u001b[1;33m=\u001b[0m \u001b[0mself\u001b[0m\u001b[1;33m.\u001b[0m\u001b[0mfp\u001b[0m\u001b[1;33m.\u001b[0m\u001b[0mreadinto\u001b[0m\u001b[1;33m(\u001b[0m\u001b[0mb\u001b[0m\u001b[1;33m)\u001b[0m\u001b[1;33m\u001b[0m\u001b[1;33m\u001b[0m\u001b[0m\n\u001b[0m\u001b[0;32m    503\u001b[0m         \u001b[1;32mif\u001b[0m \u001b[1;32mnot\u001b[0m \u001b[0mn\u001b[0m \u001b[1;32mand\u001b[0m \u001b[0mb\u001b[0m\u001b[1;33m:\u001b[0m\u001b[1;33m\u001b[0m\u001b[1;33m\u001b[0m\u001b[0m\n",
      "\u001b[1;32m~\\anaconda3\\lib\\socket.py\u001b[0m in \u001b[0;36mreadinto\u001b[1;34m(self, b)\u001b[0m\n\u001b[0;32m    668\u001b[0m             \u001b[1;32mtry\u001b[0m\u001b[1;33m:\u001b[0m\u001b[1;33m\u001b[0m\u001b[1;33m\u001b[0m\u001b[0m\n\u001b[1;32m--> 669\u001b[1;33m                 \u001b[1;32mreturn\u001b[0m \u001b[0mself\u001b[0m\u001b[1;33m.\u001b[0m\u001b[0m_sock\u001b[0m\u001b[1;33m.\u001b[0m\u001b[0mrecv_into\u001b[0m\u001b[1;33m(\u001b[0m\u001b[0mb\u001b[0m\u001b[1;33m)\u001b[0m\u001b[1;33m\u001b[0m\u001b[1;33m\u001b[0m\u001b[0m\n\u001b[0m\u001b[0;32m    670\u001b[0m             \u001b[1;32mexcept\u001b[0m \u001b[0mtimeout\u001b[0m\u001b[1;33m:\u001b[0m\u001b[1;33m\u001b[0m\u001b[1;33m\u001b[0m\u001b[0m\n",
      "\u001b[1;31mConnectionResetError\u001b[0m: [WinError 10054] An existing connection was forcibly closed by the remote host",
      "\nDuring handling of the above exception, another exception occurred:\n",
      "\u001b[1;31mProtocolError\u001b[0m                             Traceback (most recent call last)",
      "\u001b[1;32m~\\anaconda3\\lib\\site-packages\\requests\\models.py\u001b[0m in \u001b[0;36mgenerate\u001b[1;34m()\u001b[0m\n\u001b[0;32m    752\u001b[0m                 \u001b[1;32mtry\u001b[0m\u001b[1;33m:\u001b[0m\u001b[1;33m\u001b[0m\u001b[1;33m\u001b[0m\u001b[0m\n\u001b[1;32m--> 753\u001b[1;33m                     \u001b[1;32mfor\u001b[0m \u001b[0mchunk\u001b[0m \u001b[1;32min\u001b[0m \u001b[0mself\u001b[0m\u001b[1;33m.\u001b[0m\u001b[0mraw\u001b[0m\u001b[1;33m.\u001b[0m\u001b[0mstream\u001b[0m\u001b[1;33m(\u001b[0m\u001b[0mchunk_size\u001b[0m\u001b[1;33m,\u001b[0m \u001b[0mdecode_content\u001b[0m\u001b[1;33m=\u001b[0m\u001b[1;32mTrue\u001b[0m\u001b[1;33m)\u001b[0m\u001b[1;33m:\u001b[0m\u001b[1;33m\u001b[0m\u001b[1;33m\u001b[0m\u001b[0m\n\u001b[0m\u001b[0;32m    754\u001b[0m                         \u001b[1;32myield\u001b[0m \u001b[0mchunk\u001b[0m\u001b[1;33m\u001b[0m\u001b[1;33m\u001b[0m\u001b[0m\n",
      "\u001b[1;32m~\\anaconda3\\lib\\site-packages\\urllib3\\response.py\u001b[0m in \u001b[0;36mstream\u001b[1;34m(self, amt, decode_content)\u001b[0m\n\u001b[0;32m    575\u001b[0m             \u001b[1;32mwhile\u001b[0m \u001b[1;32mnot\u001b[0m \u001b[0mis_fp_closed\u001b[0m\u001b[1;33m(\u001b[0m\u001b[0mself\u001b[0m\u001b[1;33m.\u001b[0m\u001b[0m_fp\u001b[0m\u001b[1;33m)\u001b[0m\u001b[1;33m:\u001b[0m\u001b[1;33m\u001b[0m\u001b[1;33m\u001b[0m\u001b[0m\n\u001b[1;32m--> 576\u001b[1;33m                 \u001b[0mdata\u001b[0m \u001b[1;33m=\u001b[0m \u001b[0mself\u001b[0m\u001b[1;33m.\u001b[0m\u001b[0mread\u001b[0m\u001b[1;33m(\u001b[0m\u001b[0mamt\u001b[0m\u001b[1;33m=\u001b[0m\u001b[0mamt\u001b[0m\u001b[1;33m,\u001b[0m \u001b[0mdecode_content\u001b[0m\u001b[1;33m=\u001b[0m\u001b[0mdecode_content\u001b[0m\u001b[1;33m)\u001b[0m\u001b[1;33m\u001b[0m\u001b[1;33m\u001b[0m\u001b[0m\n\u001b[0m\u001b[0;32m    577\u001b[0m \u001b[1;33m\u001b[0m\u001b[0m\n",
      "\u001b[1;32m~\\anaconda3\\lib\\site-packages\\urllib3\\response.py\u001b[0m in \u001b[0;36mread\u001b[1;34m(self, amt, decode_content, cache_content)\u001b[0m\n\u001b[0;32m    540\u001b[0m                         \u001b[1;31m# Content-Length are caught.\u001b[0m\u001b[1;33m\u001b[0m\u001b[1;33m\u001b[0m\u001b[1;33m\u001b[0m\u001b[0m\n\u001b[1;32m--> 541\u001b[1;33m                         \u001b[1;32mraise\u001b[0m \u001b[0mIncompleteRead\u001b[0m\u001b[1;33m(\u001b[0m\u001b[0mself\u001b[0m\u001b[1;33m.\u001b[0m\u001b[0m_fp_bytes_read\u001b[0m\u001b[1;33m,\u001b[0m \u001b[0mself\u001b[0m\u001b[1;33m.\u001b[0m\u001b[0mlength_remaining\u001b[0m\u001b[1;33m)\u001b[0m\u001b[1;33m\u001b[0m\u001b[1;33m\u001b[0m\u001b[0m\n\u001b[0m\u001b[0;32m    542\u001b[0m \u001b[1;33m\u001b[0m\u001b[0m\n",
      "\u001b[1;32m~\\anaconda3\\lib\\contextlib.py\u001b[0m in \u001b[0;36m__exit__\u001b[1;34m(self, type, value, traceback)\u001b[0m\n\u001b[0;32m    130\u001b[0m             \u001b[1;32mtry\u001b[0m\u001b[1;33m:\u001b[0m\u001b[1;33m\u001b[0m\u001b[1;33m\u001b[0m\u001b[0m\n\u001b[1;32m--> 131\u001b[1;33m                 \u001b[0mself\u001b[0m\u001b[1;33m.\u001b[0m\u001b[0mgen\u001b[0m\u001b[1;33m.\u001b[0m\u001b[0mthrow\u001b[0m\u001b[1;33m(\u001b[0m\u001b[0mtype\u001b[0m\u001b[1;33m,\u001b[0m \u001b[0mvalue\u001b[0m\u001b[1;33m,\u001b[0m \u001b[0mtraceback\u001b[0m\u001b[1;33m)\u001b[0m\u001b[1;33m\u001b[0m\u001b[1;33m\u001b[0m\u001b[0m\n\u001b[0m\u001b[0;32m    132\u001b[0m             \u001b[1;32mexcept\u001b[0m \u001b[0mStopIteration\u001b[0m \u001b[1;32mas\u001b[0m \u001b[0mexc\u001b[0m\u001b[1;33m:\u001b[0m\u001b[1;33m\u001b[0m\u001b[1;33m\u001b[0m\u001b[0m\n",
      "\u001b[1;32m~\\anaconda3\\lib\\site-packages\\urllib3\\response.py\u001b[0m in \u001b[0;36m_error_catcher\u001b[1;34m(self)\u001b[0m\n\u001b[0;32m    454\u001b[0m                 \u001b[1;31m# This includes IncompleteRead.\u001b[0m\u001b[1;33m\u001b[0m\u001b[1;33m\u001b[0m\u001b[1;33m\u001b[0m\u001b[0m\n\u001b[1;32m--> 455\u001b[1;33m                 \u001b[1;32mraise\u001b[0m \u001b[0mProtocolError\u001b[0m\u001b[1;33m(\u001b[0m\u001b[1;34m\"Connection broken: %r\"\u001b[0m \u001b[1;33m%\u001b[0m \u001b[0me\u001b[0m\u001b[1;33m,\u001b[0m \u001b[0me\u001b[0m\u001b[1;33m)\u001b[0m\u001b[1;33m\u001b[0m\u001b[1;33m\u001b[0m\u001b[0m\n\u001b[0m\u001b[0;32m    456\u001b[0m \u001b[1;33m\u001b[0m\u001b[0m\n",
      "\u001b[1;31mProtocolError\u001b[0m: (\"Connection broken: ConnectionResetError(10054, 'An existing connection was forcibly closed by the remote host', None, 10054, None)\", ConnectionResetError(10054, 'An existing connection was forcibly closed by the remote host', None, 10054, None))",
      "\nDuring handling of the above exception, another exception occurred:\n",
      "\u001b[1;31mChunkedEncodingError\u001b[0m                      Traceback (most recent call last)",
      "\u001b[1;32m<ipython-input-10-699578045d99>\u001b[0m in \u001b[0;36m<module>\u001b[1;34m\u001b[0m\n\u001b[0;32m      1\u001b[0m \u001b[1;31m# fetch the CAO points URL.  The url for earlier years takes you to a pdf version\u001b[0m\u001b[1;33m\u001b[0m\u001b[1;33m\u001b[0m\u001b[1;33m\u001b[0m\u001b[0m\n\u001b[0;32m      2\u001b[0m \u001b[1;31m# However the python code to fetch appears to work\u001b[0m\u001b[1;33m\u001b[0m\u001b[1;33m\u001b[0m\u001b[1;33m\u001b[0m\u001b[0m\n\u001b[1;32m----> 3\u001b[1;33m \u001b[0mresp\u001b[0m \u001b[1;33m=\u001b[0m \u001b[0mrq\u001b[0m\u001b[1;33m.\u001b[0m\u001b[0mget\u001b[0m \u001b[1;33m(\u001b[0m\u001b[1;34m'http://www2.cao.ie/points/lvl8_19.pdf'\u001b[0m\u001b[1;33m)\u001b[0m\u001b[1;33m\u001b[0m\u001b[1;33m\u001b[0m\u001b[0m\n\u001b[0m\u001b[0;32m      4\u001b[0m \u001b[1;31m#have a quick peek\u001b[0m\u001b[1;33m\u001b[0m\u001b[1;33m\u001b[0m\u001b[1;33m\u001b[0m\u001b[0m\n\u001b[0;32m      5\u001b[0m \u001b[0mresp\u001b[0m\u001b[1;33m\u001b[0m\u001b[1;33m\u001b[0m\u001b[0m\n",
      "\u001b[1;32m~\\anaconda3\\lib\\site-packages\\requests\\api.py\u001b[0m in \u001b[0;36mget\u001b[1;34m(url, params, **kwargs)\u001b[0m\n\u001b[0;32m     74\u001b[0m \u001b[1;33m\u001b[0m\u001b[0m\n\u001b[0;32m     75\u001b[0m     \u001b[0mkwargs\u001b[0m\u001b[1;33m.\u001b[0m\u001b[0msetdefault\u001b[0m\u001b[1;33m(\u001b[0m\u001b[1;34m'allow_redirects'\u001b[0m\u001b[1;33m,\u001b[0m \u001b[1;32mTrue\u001b[0m\u001b[1;33m)\u001b[0m\u001b[1;33m\u001b[0m\u001b[1;33m\u001b[0m\u001b[0m\n\u001b[1;32m---> 76\u001b[1;33m     \u001b[1;32mreturn\u001b[0m \u001b[0mrequest\u001b[0m\u001b[1;33m(\u001b[0m\u001b[1;34m'get'\u001b[0m\u001b[1;33m,\u001b[0m \u001b[0murl\u001b[0m\u001b[1;33m,\u001b[0m \u001b[0mparams\u001b[0m\u001b[1;33m=\u001b[0m\u001b[0mparams\u001b[0m\u001b[1;33m,\u001b[0m \u001b[1;33m**\u001b[0m\u001b[0mkwargs\u001b[0m\u001b[1;33m)\u001b[0m\u001b[1;33m\u001b[0m\u001b[1;33m\u001b[0m\u001b[0m\n\u001b[0m\u001b[0;32m     77\u001b[0m \u001b[1;33m\u001b[0m\u001b[0m\n\u001b[0;32m     78\u001b[0m \u001b[1;33m\u001b[0m\u001b[0m\n",
      "\u001b[1;32m~\\anaconda3\\lib\\site-packages\\requests\\api.py\u001b[0m in \u001b[0;36mrequest\u001b[1;34m(method, url, **kwargs)\u001b[0m\n\u001b[0;32m     59\u001b[0m     \u001b[1;31m# cases, and look like a memory leak in others.\u001b[0m\u001b[1;33m\u001b[0m\u001b[1;33m\u001b[0m\u001b[1;33m\u001b[0m\u001b[0m\n\u001b[0;32m     60\u001b[0m     \u001b[1;32mwith\u001b[0m \u001b[0msessions\u001b[0m\u001b[1;33m.\u001b[0m\u001b[0mSession\u001b[0m\u001b[1;33m(\u001b[0m\u001b[1;33m)\u001b[0m \u001b[1;32mas\u001b[0m \u001b[0msession\u001b[0m\u001b[1;33m:\u001b[0m\u001b[1;33m\u001b[0m\u001b[1;33m\u001b[0m\u001b[0m\n\u001b[1;32m---> 61\u001b[1;33m         \u001b[1;32mreturn\u001b[0m \u001b[0msession\u001b[0m\u001b[1;33m.\u001b[0m\u001b[0mrequest\u001b[0m\u001b[1;33m(\u001b[0m\u001b[0mmethod\u001b[0m\u001b[1;33m=\u001b[0m\u001b[0mmethod\u001b[0m\u001b[1;33m,\u001b[0m \u001b[0murl\u001b[0m\u001b[1;33m=\u001b[0m\u001b[0murl\u001b[0m\u001b[1;33m,\u001b[0m \u001b[1;33m**\u001b[0m\u001b[0mkwargs\u001b[0m\u001b[1;33m)\u001b[0m\u001b[1;33m\u001b[0m\u001b[1;33m\u001b[0m\u001b[0m\n\u001b[0m\u001b[0;32m     62\u001b[0m \u001b[1;33m\u001b[0m\u001b[0m\n\u001b[0;32m     63\u001b[0m \u001b[1;33m\u001b[0m\u001b[0m\n",
      "\u001b[1;32m~\\anaconda3\\lib\\site-packages\\requests\\sessions.py\u001b[0m in \u001b[0;36mrequest\u001b[1;34m(self, method, url, params, data, headers, cookies, files, auth, timeout, allow_redirects, proxies, hooks, stream, verify, cert, json)\u001b[0m\n\u001b[0;32m    540\u001b[0m         }\n\u001b[0;32m    541\u001b[0m         \u001b[0msend_kwargs\u001b[0m\u001b[1;33m.\u001b[0m\u001b[0mupdate\u001b[0m\u001b[1;33m(\u001b[0m\u001b[0msettings\u001b[0m\u001b[1;33m)\u001b[0m\u001b[1;33m\u001b[0m\u001b[1;33m\u001b[0m\u001b[0m\n\u001b[1;32m--> 542\u001b[1;33m         \u001b[0mresp\u001b[0m \u001b[1;33m=\u001b[0m \u001b[0mself\u001b[0m\u001b[1;33m.\u001b[0m\u001b[0msend\u001b[0m\u001b[1;33m(\u001b[0m\u001b[0mprep\u001b[0m\u001b[1;33m,\u001b[0m \u001b[1;33m**\u001b[0m\u001b[0msend_kwargs\u001b[0m\u001b[1;33m)\u001b[0m\u001b[1;33m\u001b[0m\u001b[1;33m\u001b[0m\u001b[0m\n\u001b[0m\u001b[0;32m    543\u001b[0m \u001b[1;33m\u001b[0m\u001b[0m\n\u001b[0;32m    544\u001b[0m         \u001b[1;32mreturn\u001b[0m \u001b[0mresp\u001b[0m\u001b[1;33m\u001b[0m\u001b[1;33m\u001b[0m\u001b[0m\n",
      "\u001b[1;32m~\\anaconda3\\lib\\site-packages\\requests\\sessions.py\u001b[0m in \u001b[0;36msend\u001b[1;34m(self, request, **kwargs)\u001b[0m\n\u001b[0;32m    695\u001b[0m \u001b[1;33m\u001b[0m\u001b[0m\n\u001b[0;32m    696\u001b[0m         \u001b[1;32mif\u001b[0m \u001b[1;32mnot\u001b[0m \u001b[0mstream\u001b[0m\u001b[1;33m:\u001b[0m\u001b[1;33m\u001b[0m\u001b[1;33m\u001b[0m\u001b[0m\n\u001b[1;32m--> 697\u001b[1;33m             \u001b[0mr\u001b[0m\u001b[1;33m.\u001b[0m\u001b[0mcontent\u001b[0m\u001b[1;33m\u001b[0m\u001b[1;33m\u001b[0m\u001b[0m\n\u001b[0m\u001b[0;32m    698\u001b[0m \u001b[1;33m\u001b[0m\u001b[0m\n\u001b[0;32m    699\u001b[0m         \u001b[1;32mreturn\u001b[0m \u001b[0mr\u001b[0m\u001b[1;33m\u001b[0m\u001b[1;33m\u001b[0m\u001b[0m\n",
      "\u001b[1;32m~\\anaconda3\\lib\\site-packages\\requests\\models.py\u001b[0m in \u001b[0;36mcontent\u001b[1;34m(self)\u001b[0m\n\u001b[0;32m    829\u001b[0m                 \u001b[0mself\u001b[0m\u001b[1;33m.\u001b[0m\u001b[0m_content\u001b[0m \u001b[1;33m=\u001b[0m \u001b[1;32mNone\u001b[0m\u001b[1;33m\u001b[0m\u001b[1;33m\u001b[0m\u001b[0m\n\u001b[0;32m    830\u001b[0m             \u001b[1;32melse\u001b[0m\u001b[1;33m:\u001b[0m\u001b[1;33m\u001b[0m\u001b[1;33m\u001b[0m\u001b[0m\n\u001b[1;32m--> 831\u001b[1;33m                 \u001b[0mself\u001b[0m\u001b[1;33m.\u001b[0m\u001b[0m_content\u001b[0m \u001b[1;33m=\u001b[0m \u001b[1;34mb''\u001b[0m\u001b[1;33m.\u001b[0m\u001b[0mjoin\u001b[0m\u001b[1;33m(\u001b[0m\u001b[0mself\u001b[0m\u001b[1;33m.\u001b[0m\u001b[0miter_content\u001b[0m\u001b[1;33m(\u001b[0m\u001b[0mCONTENT_CHUNK_SIZE\u001b[0m\u001b[1;33m)\u001b[0m\u001b[1;33m)\u001b[0m \u001b[1;32mor\u001b[0m \u001b[1;34mb''\u001b[0m\u001b[1;33m\u001b[0m\u001b[1;33m\u001b[0m\u001b[0m\n\u001b[0m\u001b[0;32m    832\u001b[0m \u001b[1;33m\u001b[0m\u001b[0m\n\u001b[0;32m    833\u001b[0m         \u001b[0mself\u001b[0m\u001b[1;33m.\u001b[0m\u001b[0m_content_consumed\u001b[0m \u001b[1;33m=\u001b[0m \u001b[1;32mTrue\u001b[0m\u001b[1;33m\u001b[0m\u001b[1;33m\u001b[0m\u001b[0m\n",
      "\u001b[1;32m~\\anaconda3\\lib\\site-packages\\requests\\models.py\u001b[0m in \u001b[0;36mgenerate\u001b[1;34m()\u001b[0m\n\u001b[0;32m    754\u001b[0m                         \u001b[1;32myield\u001b[0m \u001b[0mchunk\u001b[0m\u001b[1;33m\u001b[0m\u001b[1;33m\u001b[0m\u001b[0m\n\u001b[0;32m    755\u001b[0m                 \u001b[1;32mexcept\u001b[0m \u001b[0mProtocolError\u001b[0m \u001b[1;32mas\u001b[0m \u001b[0me\u001b[0m\u001b[1;33m:\u001b[0m\u001b[1;33m\u001b[0m\u001b[1;33m\u001b[0m\u001b[0m\n\u001b[1;32m--> 756\u001b[1;33m                     \u001b[1;32mraise\u001b[0m \u001b[0mChunkedEncodingError\u001b[0m\u001b[1;33m(\u001b[0m\u001b[0me\u001b[0m\u001b[1;33m)\u001b[0m\u001b[1;33m\u001b[0m\u001b[1;33m\u001b[0m\u001b[0m\n\u001b[0m\u001b[0;32m    757\u001b[0m                 \u001b[1;32mexcept\u001b[0m \u001b[0mDecodeError\u001b[0m \u001b[1;32mas\u001b[0m \u001b[0me\u001b[0m\u001b[1;33m:\u001b[0m\u001b[1;33m\u001b[0m\u001b[1;33m\u001b[0m\u001b[0m\n\u001b[0;32m    758\u001b[0m                     \u001b[1;32mraise\u001b[0m \u001b[0mContentDecodingError\u001b[0m\u001b[1;33m(\u001b[0m\u001b[0me\u001b[0m\u001b[1;33m)\u001b[0m\u001b[1;33m\u001b[0m\u001b[1;33m\u001b[0m\u001b[0m\n",
      "\u001b[1;31mChunkedEncodingError\u001b[0m: (\"Connection broken: ConnectionResetError(10054, 'An existing connection was forcibly closed by the remote host', None, 10054, None)\", ConnectionResetError(10054, 'An existing connection was forcibly closed by the remote host', None, 10054, None))"
     ]
    }
   ],
   "source": [
    "# fetch the CAO points URL.  The url for earlier years takes you to a pdf version\n",
    "# However the python code to fetch appears to work\n",
    "resp = rq.get ('http://www2.cao.ie/points/lvl8_19.pdf')\n",
    "#have a quick peek\n",
    "resp\n",
    "# resp [200] means html response is in order.  [404] if returns means it is not found .  These are http codes"
   ]
  },
  {
   "cell_type": "code",
   "execution_count": null,
   "id": "0b0b3fe6-10f3-4934-b67e-2caf6782d206",
   "metadata": {},
   "outputs": [],
   "source": [
    "#path2019 = 'data/cao2019_' + now.strftime('%Y%m%d_%H%M%S')  + '.html'\n",
    "path2019 = 'data/cao2019_' + nowstr + '.html'\n",
    "#now.strftime('%Y%m%d_%H%M%S')\n",
    "#save the original html file\n",
    "with open(path2019, 'w') as f:\n",
    "    f.write(resp.text)   "
   ]
  },
  {
   "cell_type": "code",
   "execution_count": 12,
   "id": "2aa55fa4-88bd-489b-aa7e-c2a0acc13779",
   "metadata": {},
   "outputs": [],
   "source": [
    "df2019 = pd.read_csv('data/cao_2019.csv', sep ='\\t') "
   ]
  },
  {
   "cell_type": "code",
   "execution_count": 13,
   "id": "fd7e42a0-53a5-44c0-a427-9f60ce3ef71a",
   "metadata": {},
   "outputs": [
    {
     "data": {
      "text/html": [
       "<div>\n",
       "<style scoped>\n",
       "    .dataframe tbody tr th:only-of-type {\n",
       "        vertical-align: middle;\n",
       "    }\n",
       "\n",
       "    .dataframe tbody tr th {\n",
       "        vertical-align: top;\n",
       "    }\n",
       "\n",
       "    .dataframe thead th {\n",
       "        text-align: right;\n",
       "    }\n",
       "</style>\n",
       "<table border=\"1\" class=\"dataframe\">\n",
       "  <thead>\n",
       "    <tr style=\"text-align: right;\">\n",
       "      <th></th>\n",
       "      <th>Course Code</th>\n",
       "      <th>COURSE</th>\n",
       "      <th>EOS</th>\n",
       "      <th>Mid</th>\n",
       "    </tr>\n",
       "  </thead>\n",
       "  <tbody>\n",
       "    <tr>\n",
       "      <th>0</th>\n",
       "      <td>AL801</td>\n",
       "      <td>Software Design with Virtual Reality and Gaming</td>\n",
       "      <td>304</td>\n",
       "      <td>328.0</td>\n",
       "    </tr>\n",
       "    <tr>\n",
       "      <th>1</th>\n",
       "      <td>AL802</td>\n",
       "      <td>Software Design with Cloud Computing</td>\n",
       "      <td>301</td>\n",
       "      <td>306.0</td>\n",
       "    </tr>\n",
       "    <tr>\n",
       "      <th>2</th>\n",
       "      <td>AL803</td>\n",
       "      <td>Software Design with Mobile Apps and Connected...</td>\n",
       "      <td>309</td>\n",
       "      <td>337.0</td>\n",
       "    </tr>\n",
       "    <tr>\n",
       "      <th>3</th>\n",
       "      <td>AL805</td>\n",
       "      <td>Network Management and Cloud Infrastructure</td>\n",
       "      <td>329</td>\n",
       "      <td>442.0</td>\n",
       "    </tr>\n",
       "    <tr>\n",
       "      <th>4</th>\n",
       "      <td>AL810</td>\n",
       "      <td>Quantity Surveying</td>\n",
       "      <td>307</td>\n",
       "      <td>349.0</td>\n",
       "    </tr>\n",
       "    <tr>\n",
       "      <th>...</th>\n",
       "      <td>...</td>\n",
       "      <td>...</td>\n",
       "      <td>...</td>\n",
       "      <td>...</td>\n",
       "    </tr>\n",
       "    <tr>\n",
       "      <th>925</th>\n",
       "      <td>WD200</td>\n",
       "      <td>Arts (options)</td>\n",
       "      <td>221</td>\n",
       "      <td>296.0</td>\n",
       "    </tr>\n",
       "    <tr>\n",
       "      <th>926</th>\n",
       "      <td>WD210</td>\n",
       "      <td>Software Systems Development</td>\n",
       "      <td>271</td>\n",
       "      <td>329.0</td>\n",
       "    </tr>\n",
       "    <tr>\n",
       "      <th>927</th>\n",
       "      <td>WD211</td>\n",
       "      <td>Creative Computing</td>\n",
       "      <td>275</td>\n",
       "      <td>322.0</td>\n",
       "    </tr>\n",
       "    <tr>\n",
       "      <th>928</th>\n",
       "      <td>WD212</td>\n",
       "      <td>Recreation and Sport Management</td>\n",
       "      <td>274</td>\n",
       "      <td>311.0</td>\n",
       "    </tr>\n",
       "    <tr>\n",
       "      <th>929</th>\n",
       "      <td>WD230</td>\n",
       "      <td>Mechanical and Manufacturing Engineering</td>\n",
       "      <td>273</td>\n",
       "      <td>348.0</td>\n",
       "    </tr>\n",
       "  </tbody>\n",
       "</table>\n",
       "<p>930 rows × 4 columns</p>\n",
       "</div>"
      ],
      "text/plain": [
       "    Course Code                                             COURSE  EOS    Mid\n",
       "0         AL801    Software Design with Virtual Reality and Gaming  304  328.0\n",
       "1         AL802               Software Design with Cloud Computing  301  306.0\n",
       "2         AL803  Software Design with Mobile Apps and Connected...  309  337.0\n",
       "3         AL805        Network Management and Cloud Infrastructure  329  442.0\n",
       "4         AL810                                 Quantity Surveying  307  349.0\n",
       "..          ...                                                ...  ...    ...\n",
       "925       WD200                                     Arts (options)  221  296.0\n",
       "926       WD210                       Software Systems Development  271  329.0\n",
       "927       WD211                                 Creative Computing  275  322.0\n",
       "928       WD212                    Recreation and Sport Management  274  311.0\n",
       "929       WD230           Mechanical and Manufacturing Engineering  273  348.0\n",
       "\n",
       "[930 rows x 4 columns]"
      ]
     },
     "execution_count": 13,
     "metadata": {},
     "output_type": "execute_result"
    }
   ],
   "source": [
    "df2019"
   ]
  },
  {
   "cell_type": "code",
   "execution_count": null,
   "id": "88a9a2f5-b95c-45ee-9349-df53e9e2d7ab",
   "metadata": {},
   "outputs": [],
   "source": []
  },
  {
   "cell_type": "markdown",
   "id": "a832b31a-cc88-48c5-a8d9-634307c2772c",
   "metadata": {},
   "source": [
    "#### fetch 2018"
   ]
  },
  {
   "cell_type": "markdown",
   "id": "a2910fba-8bad-4609-b2c6-2baa4bdfddd0",
   "metadata": {},
   "source": [
    "**propose to go through the same process as 2019**"
   ]
  },
  {
   "cell_type": "code",
   "execution_count": null,
   "id": "431e3d55-b7f0-4695-8aa0-627f78676a9f",
   "metadata": {},
   "outputs": [],
   "source": [
    "resp = rq.get ('http://www2.cao.ie/points/lvl8_18.pdf')\n",
    "resp"
   ]
  },
  {
   "cell_type": "code",
   "execution_count": null,
   "id": "eb094ba2-7fcf-4466-aea7-5425a15978dc",
   "metadata": {},
   "outputs": [],
   "source": [
    "path2018 = 'data/cao2018_' + now.strftime('%Y%m%d_%H%M%S')  + '.html'\n",
    "now.strftime('%Y%m%d_%H%M%S')\n",
    "#save the original html file\n",
    "with open(path2018, 'w') as f:\n",
    "    f.write(resp.text) "
   ]
  },
  {
   "cell_type": "code",
   "execution_count": null,
   "id": "5e9f972d-0be4-4880-a528-f448d70e46b5",
   "metadata": {},
   "outputs": [],
   "source": []
  },
  {
   "cell_type": "markdown",
   "id": "422e3ef6-77e9-4a89-a83b-2c5b63c5da6a",
   "metadata": {},
   "source": [
    "###How to convert pdf to csv in python- further reading: <br>\n",
    "-https://stackoverflow.com/questions/49560486/how-to-convert-pdf-to-csv-with-tabula-py"
   ]
  },
  {
   "cell_type": "markdown",
   "id": "7f9cc42b-990f-4cdc-addc-85833ae5492e",
   "metadata": {},
   "source": [
    "<br>\n",
    "\n",
    "### Concatenate and Merge dataframes"
   ]
  },
  {
   "cell_type": "markdown",
   "id": "b656ab20-5b2a-4e9a-b1fa-991912d62fa3",
   "metadata": {},
   "source": [
    "how to concatenate with pandas <br>\n",
    "note 'ignore_index'= True <br>\n",
    "https://pandas.pydata.org/pandas-docs/stable/user_guide/merging.html <br>\n",
    "how to manage duplicates in a dataframe <br>\n",
    "https://pandas.pydata.org/docs/reference/api/pandas.DataFrame.duplicated.html <br>\n",
    "how to return uniques in dastaframe columns <br>\n",
    "https://pandas.pydata.org/docs/reference/api/pandas.Series.unique.html <br>\n",
    "how to drop duplicates in dataframe <br>\n",
    "https://pandas.pydata.org/docs/reference/api/pandas.DataFrame.drop_duplicates.html"
   ]
  },
  {
   "cell_type": "code",
   "execution_count": null,
   "id": "4565db36-0205-4f6e-b0bf-71556741eef0",
   "metadata": {},
   "outputs": [],
   "source": [
    "#extract the required columns (course and points) from the dataframe\n",
    "courses2021= df2021[['code' , 'title']]"
   ]
  },
  {
   "cell_type": "code",
   "execution_count": null,
   "id": "3a9f6935-c8e7-4891-9c7a-85eb259c37a1",
   "metadata": {},
   "outputs": [],
   "source": [
    "courses2021"
   ]
  },
  {
   "cell_type": "code",
   "execution_count": null,
   "id": "a860a122-bdda-4daa-895a-05579119118e",
   "metadata": {},
   "outputs": [],
   "source": [
    "courses2020= df2020[['COURSE CODE2' , 'COURSE TITLE']]\n",
    "# change the title of the columns to match 2021\n",
    "courses2020.columns = ['code' ,'title']"
   ]
  },
  {
   "cell_type": "code",
   "execution_count": null,
   "id": "5c8c9727-cb63-462f-8171-adcfd3cd46f3",
   "metadata": {},
   "outputs": [],
   "source": [
    "courses2020"
   ]
  },
  {
   "cell_type": "code",
   "execution_count": null,
   "id": "78c4df0d-1c75-4a81-92e1-5e3c98ff0daa",
   "metadata": {},
   "outputs": [],
   "source": [
    "#merge or concatenate the two datasets into one dataframe\n",
    "#set ignore_index = True (default is False)\n",
    "allcourses = pd.concat([courses2021, courses2020], ignore_index=True)"
   ]
  },
  {
   "cell_type": "code",
   "execution_count": null,
   "id": "b32a0db6-5ab5-435e-99e3-9812328c9089",
   "metadata": {},
   "outputs": [],
   "source": [
    "allcourses"
   ]
  },
  {
   "cell_type": "code",
   "execution_count": null,
   "id": "50691516-f667-454d-a640-e9fe24e9fe18",
   "metadata": {},
   "outputs": [],
   "source": [
    "# returns a false for every row that are not duplicated\n",
    "allcourses.duplicated()"
   ]
  },
  {
   "cell_type": "code",
   "execution_count": null,
   "id": "1332245b-d34a-4401-9ba0-21531e93a00c",
   "metadata": {},
   "outputs": [],
   "source": [
    "#finds all extra copies of duplicated rows\n",
    "#duplicated by default doesnt set the 1st iteration of the matching rows as true (returns false)\n",
    "allcourses[allcourses.duplicated()] "
   ]
  },
  {
   "cell_type": "code",
   "execution_count": null,
   "id": "996e8820-4037-48f6-b56b-5c4fcdada3d3",
   "metadata": {},
   "outputs": [],
   "source": [
    "allcourses[allcourses.duplicated(keep = False)]"
   ]
  },
  {
   "cell_type": "code",
   "execution_count": null,
   "id": "187be41e-223c-4321-89b4-3c0c0cc559eb",
   "metadata": {},
   "outputs": [],
   "source": [
    "#returns back the dataframe with all duplicates dropped\n",
    "allcourses.drop_duplicates()"
   ]
  },
  {
   "cell_type": "code",
   "execution_count": null,
   "id": "d15b3454-b371-4797-9d7f-4d91f2c527f3",
   "metadata": {},
   "outputs": [],
   "source": [
    "# just look for duplicates of the code- as the course titles are likely different from year to year\n",
    "allcourses[allcourses.duplicated(subset =['code'])]"
   ]
  },
  {
   "cell_type": "code",
   "execution_count": null,
   "id": "4f9d0783-efba-4248-b00f-8ed3db6bd85f",
   "metadata": {},
   "outputs": [],
   "source": [
    "#drop duplicates based on the same code\n",
    "allcourses.drop_duplicates(subset=['code'])"
   ]
  },
  {
   "cell_type": "code",
   "execution_count": null,
   "id": "b0eb222b-67c4-4b74-9e09-bc339d570649",
   "metadata": {},
   "outputs": [],
   "source": [
    "#drop duplicates based on the same code\n",
    "#creates a new dataframe as by default-this is identified by 'inplace=False'\n",
    "#ignore_index cleans up the duplicates in the index i.e. counts just one of duplicates indexes\n",
    "allcourses.drop_duplicates(subset=['code'], inplace=True, ignore_index=True)"
   ]
  },
  {
   "cell_type": "code",
   "execution_count": null,
   "id": "733ccfe3-7dda-4085-9d44-3a053c32b2bd",
   "metadata": {},
   "outputs": [],
   "source": [
    "#as we used inplace=True then we have permanentlty unduplicated the dataframe for codes\n",
    "#when run allcourses this time the default dtaframe has no course code duplicates\n",
    "allcourses"
   ]
  },
  {
   "cell_type": "markdown",
   "id": "c6288b68-dc70-4bc3-b4a0-83928c4405cb",
   "metadata": {},
   "source": [
    "reset index in pandas dataframe<br>\n",
    "https://pandas.pydata.org/docs/reference/api/pandas.DataFrame.reset_index.html"
   ]
  },
  {
   "cell_type": "code",
   "execution_count": null,
   "id": "b7da5dad-4ad7-469e-9300-ac0d7c9f032a",
   "metadata": {},
   "outputs": [],
   "source": [
    "#sort by courses\n",
    "allcourses.sort_values ('code')"
   ]
  },
  {
   "cell_type": "code",
   "execution_count": null,
   "id": "69236410-8c47-4967-8bbc-25a03be1eb23",
   "metadata": {},
   "outputs": [],
   "source": [
    "allcourses.loc[0]"
   ]
  },
  {
   "cell_type": "code",
   "execution_count": null,
   "id": "5b9f6903-c6eb-4844-9fee-f950149b3f08",
   "metadata": {},
   "outputs": [],
   "source": [
    "allcourses.iloc[0]"
   ]
  },
  {
   "cell_type": "code",
   "execution_count": null,
   "id": "68b2465c-b5f5-4bea-a084-d34889652e82",
   "metadata": {},
   "outputs": [],
   "source": []
  },
  {
   "cell_type": "markdown",
   "id": "45e0bfe6-7463-4099-af63-c98f74efa1e9",
   "metadata": {},
   "source": [
    "<br>\n",
    "\n",
    "## Join to the Points \n",
    "***\n",
    "<br>\n"
   ]
  },
  {
   "cell_type": "markdown",
   "id": "6609154e-7c26-4a39-8700-1a391eb25616",
   "metadata": {},
   "source": [
    "worth knowing: pandas dataframe.join\n",
    "how:\n",
    "**main event is left**\n",
    "- left join: - whatever df is on the left (join call) the other is on the right . keeps everything from the left\n",
    "- only join: keeps values in BOTH dataframes\n",
    "- right join: keeps everything in the right dataframe\n",
    "- full-outer join merges everything- (have a lot of NaN's)"
   ]
  },
  {
   "cell_type": "code",
   "execution_count": null,
   "id": "dfd5bd6c-0f24-4b6e-95cb-2374c0f56ff2",
   "metadata": {},
   "outputs": [],
   "source": []
  },
  {
   "cell_type": "code",
   "execution_count": null,
   "id": "c988227d-1bc2-456b-bd98-98d35816f6d2",
   "metadata": {},
   "outputs": [],
   "source": [
    "#set the index to the code column\n",
    "df2021.set_index ('code', inplace=True)\n",
    "df2021.columns = ['title' , 'points_r1_2021', 'points_r2_2021']\n",
    "df2021"
   ]
  },
  {
   "cell_type": "code",
   "execution_count": null,
   "id": "e88b6297-281e-4d46-a116-7bb2006b3076",
   "metadata": {},
   "outputs": [],
   "source": []
  },
  {
   "cell_type": "code",
   "execution_count": null,
   "id": "3464057a-1b63-4d82-92ae-340c8ad01da2",
   "metadata": {},
   "outputs": [],
   "source": [
    "#pull in the points from 2021 and 2020\n",
    "#see pandas concatenate reference above"
   ]
  },
  {
   "cell_type": "code",
   "execution_count": null,
   "id": "3d0d798c-fdc5-4d45-a297-0f216df1b4c4",
   "metadata": {},
   "outputs": [],
   "source": [
    "#set the column as the index\n",
    "allcourses.set_index('code', inplace =True)"
   ]
  },
  {
   "cell_type": "code",
   "execution_count": null,
   "id": "aec9957a-978d-468f-be73-9de6856e941e",
   "metadata": {},
   "outputs": [],
   "source": [
    "#just merge what you need from the 2021 dataframe i.e. code and points\n",
    "#where NaN it defines as code that was not run in 2021\n",
    "allcourses = allcourses.join(df2021[['points_r1_2021']])\n",
    "allcourses"
   ]
  },
  {
   "cell_type": "code",
   "execution_count": null,
   "id": "b74e5fef-6de0-4d88-8842-2e757850be49",
   "metadata": {},
   "outputs": [],
   "source": [
    "# just need to join the pointd from 2020\n",
    "df2020_r1= df2020 [['COURSE CODE2', 'R1 POINTS']]\n",
    "df2020_r1.columns = ['code', 'points_R1_2020']\n",
    "df2020_r1"
   ]
  },
  {
   "cell_type": "code",
   "execution_count": null,
   "id": "22f381eb-36aa-431b-9c31-fea06e427628",
   "metadata": {},
   "outputs": [],
   "source": [
    "# set the index to the code column\n",
    "df2020_r1.set_index ('code', inplace=True)\n",
    "df2020_r1                 "
   ]
  },
  {
   "cell_type": "code",
   "execution_count": null,
   "id": "b5d1cfd4-d762-483c-b1b2-f49b06ba23f6",
   "metadata": {},
   "outputs": [],
   "source": [
    "#just merge what you need from the 2021 dataframe i.e. code and points\n",
    "#where NaN it defines as code that was not run in 2021\n",
    "#join2020 points to all courses\n",
    "#allcourses = allcourses.join(df2021[['pointsR1']])\n",
    "#allcourses"
   ]
  },
  {
   "cell_type": "code",
   "execution_count": null,
   "id": "3df2efc9-ea63-433d-8e28-57ae75bf58d6",
   "metadata": {},
   "outputs": [],
   "source": [
    "# join 2020 points to all courses\n",
    "allcourses = allcourses.join(df2020_r1)\n",
    "allcourses"
   ]
  },
  {
   "cell_type": "markdown",
   "id": "38e5b09b-171c-421b-896f-2e02660618bb",
   "metadata": {},
   "source": [
    "https://www.prepressure.com/library/technology/ascii-binary-hex\n",
    "\n",
    "http://www.i18nqa.com/debug/table-iso8859-1-vs-windows-1252.html\n",
    "\n",
    "https://docs.python.org/3/library/datetime.html\n",
    "\n",
    "https://www.ibm.com/ie-en/products/spss-statistics-gradpack"
   ]
  },
  {
   "cell_type": "code",
   "execution_count": null,
   "id": "f0907a72-bf96-4e2d-a5d1-988f0bcd35eb",
   "metadata": {},
   "outputs": [],
   "source": [
    "#strftime turns datetime to strings\n",
    "#strptime turns strings into datetime"
   ]
  },
  {
   "cell_type": "code",
   "execution_count": null,
   "id": "0306abfc-99ad-456f-bf1b-71f94a7e4f16",
   "metadata": {},
   "outputs": [],
   "source": []
  },
  {
   "cell_type": "code",
   "execution_count": null,
   "id": "cbe6967d-af3c-4533-a98a-a08c17dd02f2",
   "metadata": {},
   "outputs": [],
   "source": []
  },
  {
   "cell_type": "code",
   "execution_count": null,
   "id": "df6a7bc9-9f46-4f7b-963f-a9fb7091d0b6",
   "metadata": {},
   "outputs": [],
   "source": []
  },
  {
   "cell_type": "markdown",
   "id": "13a2ea82-860d-4447-b01c-736e700c6223",
   "metadata": {},
   "source": [
    "#### SPSS\n",
    "SPSS currently owned by IBM <br> \n",
    "All click and point <br>\n",
    "Not as powerful as Python <br>\n",
    "'Level of Measurement'<br>\n",
    "Typically dealing with one table of data <br>\n",
    "Similar functionality but less friendly than Excel <br>\n",
    "clone function (open source) called PSPP <br>\n",
    "Laerd: Really high quality stastistical explanations <br>\n",
    " to e.g. get a good explanation of e..g. One Way Anova type 'Laerd One Way Anova' etc\n",
    "\n",
    "https://www.ibm.com/ie-en/products/spss-statistics-gradpack <br>\n",
    "https://www.gnu.org/software/pspp/ (PSPP) <br>\n",
    "https://statistics.laerd.com/ (Laerd) <br>"
   ]
  },
  {
   "cell_type": "markdown",
   "id": "6a42812f-025e-4474-b766-14c0be3ed911",
   "metadata": {},
   "source": [
    "### Categorical (Variables)\n",
    "- similar to qualitative data\n",
    "- sex\n",
    "- job description\n",
    "- opinion\n",
    "##### Nominal: no inherent order\n",
    "- job category: doctor, accountant\n",
    "##### Ordinal: there is a meaningful order but not a measurable distance between categories\n",
    "-items can be ranked <br>\n",
    "- 1st, 2nd, 3rd<br>\n",
    "- strongle disagree, disagree, neutral, strongly agree<br>\n",
    "- does not allow for relative degree of difference between them\n",
    "### Scale (Variables)\n",
    "typically as INTERVAL or RATIO <br>\n",
    "values can be ordered <br>\n",
    "suggest a distance between values <br>\n",
    "age, salary <br>\n",
    "##### INTERVAL\n",
    "-20C is not twice as hot as 10C<br>\n",
    "##### RATIO\n",
    "-20K is not twice as hot as 10K<br>\n",
    "-true zero point\n",
    "-numercial values can be transfprmed by multiplying each value by a constant\n",
    "\n",
    "\n",
    "##### Further reading\n",
    "1 Stanley Stevens: Invented classifications related to:<br>\n",
    "Level of Measurement <br>\n",
    "Scales of Measurement\n",
    " his original 1946 paper can still be sourced\n",
    "2. Aelph Number\n",
    "3. Cantors Diagonal Argument <br>\n",
    "certain infite sets 0,1,2,3 v 2,4,6,8.. must have same size as can be paired <br>\n",
    " but are actually not the same size\n",
    "4. Ordinal Numbers <br>\n",
    "natural numbers \n",
    "\n",
    "- NOMINAL/ORDINAL/INTERVAL/RATIO <br>\n",
    "\n",
    "-https://symbiosiscollege.edu.in/assets/pdf/e-learning/tyba/Economics/Scales-of-Measurement-6.pdf\n"
   ]
  },
  {
   "cell_type": "code",
   "execution_count": null,
   "id": "d6924065-ce76-4242-89f5-4fbbf0bc1b37",
   "metadata": {},
   "outputs": [],
   "source": []
  }
 ],
 "metadata": {
  "kernelspec": {
   "display_name": "Python 3",
   "language": "python",
   "name": "python3"
  },
  "language_info": {
   "codemirror_mode": {
    "name": "ipython",
    "version": 3
   },
   "file_extension": ".py",
   "mimetype": "text/x-python",
   "name": "python",
   "nbconvert_exporter": "python",
   "pygments_lexer": "ipython3",
   "version": "3.8.8"
  }
 },
 "nbformat": 4,
 "nbformat_minor": 5
}
