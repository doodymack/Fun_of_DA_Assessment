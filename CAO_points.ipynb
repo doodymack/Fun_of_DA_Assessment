{
 "cells": [
  {
   "cell_type": "markdown",
   "id": "cc544b01-7d5f-4a20-b67a-bdc32f9ecf74",
   "metadata": {},
   "source": [
    " ## CAO Points Notebook\n",
    " \n",
    " - clear and concise overview of how to load CAO points info from the CAO website into a PANDAS dataframe\n",
    " - Detailed comparison of CAO points in 2019,2020,2021 using the functionality in pandas\n",
    " - Appropriate plots and other visuaizations to enhance your notebook for viewers"
   ]
  },
  {
   "cell_type": "markdown",
   "id": "93b8acac-cf09-46cb-bb14-925ec53520cc",
   "metadata": {},
   "source": [
    "### CAO points URL:\n",
    "http://www2.cao.ie/points/l8.php <br>\n",
    "Note: 'PHP' indicates that the webpage has been programmed using PHP, a server side scripting language."
   ]
  },
  {
   "cell_type": "code",
   "execution_count": 1,
   "id": "aa310ef9-c0c1-41e2-80c2-93a0b0ce333a",
   "metadata": {},
   "outputs": [],
   "source": [
    "#convenient http requests\n",
    "import requests as rq\n",
    "\n",
    "# regular expressions\n",
    "import re\n",
    "\n",
    "#dates and times\n",
    "import datetime as dt\n",
    "\n",
    "# for dataframes import pandas\n",
    "# v useful to get data from spreadsheets\n",
    "import pandas as pd\n",
    "\n",
    "#for downloading files to python\n",
    "import urllib.request as urlrq\n",
    "\n",
    "# for plotting\n",
    "import numpy as np\n",
    "\n",
    "import warnings;\n",
    "warnings.filterwarnings('ignore');\n"
   ]
  },
  {
   "cell_type": "code",
   "execution_count": 2,
   "id": "399626a3-4075-4c6d-8c12-8ca93557b3e9",
   "metadata": {},
   "outputs": [
    {
     "data": {
      "text/plain": [
       "datetime.datetime(2021, 12, 31, 20, 22, 58, 922436)"
      ]
     },
     "execution_count": 2,
     "metadata": {},
     "output_type": "execute_result"
    }
   ],
   "source": [
    "#datetime function has a data structure called datetime\n",
    "#field for time, day ,month etc\n",
    "#dt.datetime.now()\n",
    "now = dt.datetime.now()\n",
    "now"
   ]
  },
  {
   "cell_type": "code",
   "execution_count": 3,
   "id": "430df60b-1073-431b-b72d-2bf14791e32d",
   "metadata": {},
   "outputs": [],
   "source": [
    "# format now as a string\n",
    "#if have datetimestamp as separate and unique at the start of the notebook\n",
    "# then potentially can overwrite but on positive side all files \n",
    "# created in logbook run will have the same datetimestamp so neater and can track\n",
    "#2020 datafile saved as'now' file is equivalent to corresponding 2021 saved as same'now' etc\n",
    "nowstr = now.strftime('%Y%m%d_%H%M%S')"
   ]
  },
  {
   "cell_type": "code",
   "execution_count": 4,
   "id": "fc02c6bd-28e1-4ad1-b9d9-a7e9a063854b",
   "metadata": {},
   "outputs": [
    {
     "name": "stdout",
     "output_type": "stream",
     "text": [
      "2021-12-31 20:22:58.922436\n"
     ]
    }
   ],
   "source": [
    "print(now)"
   ]
  },
  {
   "cell_type": "markdown",
   "id": "c44f6192-45a8-4b85-a378-960f019feaf5",
   "metadata": {},
   "source": [
    "<br>\n",
    "\n",
    "## 2021 points\n",
    "\n",
    "***\n"
   ]
  },
  {
   "cell_type": "code",
   "execution_count": 5,
   "id": "38fe408f-2e6c-4bed-818a-2c6bd017383a",
   "metadata": {},
   "outputs": [
    {
     "data": {
      "text/plain": [
       "<Response [200]>"
      ]
     },
     "execution_count": 5,
     "metadata": {},
     "output_type": "execute_result"
    }
   ],
   "source": [
    "# fetch the CAO points URL\n",
    "# resp= response from the URL\n",
    "# rq= request library\n",
    "# get= get the URL (HTTP)\n",
    "resp_2021 = rq.get ('http://www2.cao.ie/points/l8.php')\n",
    "#have a quick peek\n",
    "resp_2021\n",
    "# response [200] means html response is in order. [404] if returns means it is not found. "
   ]
  },
  {
   "cell_type": "markdown",
   "id": "c249bc87-f081-4e75-973b-3e4841a2673b",
   "metadata": {},
   "source": [
    "### Save the original dataset\n",
    "Use the current time (changed to str above) as a filename"
   ]
  },
  {
   "cell_type": "code",
   "execution_count": 6,
   "id": "c235c6e6-c5d5-4c7b-9153-4383e3404956",
   "metadata": {},
   "outputs": [],
   "source": [
    "# use only alphanumeric characters,dash and dot in file names\n",
    "# create a filepath for the original data\n",
    "# use year at start to ensure alphabetic sorted when filed\n",
    "# below creates the EMPTY html file and saves it in a new 'data' folder in active location  ie. \\repo\\Fun_of..\n",
    "path2021html = 'data/cao2021_' + nowstr + '.html'"
   ]
  },
  {
   "cell_type": "markdown",
   "id": "5d6cb10c-9ba2-4526-994d-150440842351",
   "metadata": {},
   "source": [
    "<br>\n",
    "\n",
    "### Fix of encoding\n",
    "\n",
    "The server uses the wrong encoding fix it before saving\n",
    "\n",
    "---"
   ]
  },
  {
   "cell_type": "code",
   "execution_count": 7,
   "id": "602ab426-3d20-4773-94dd-1fc72f2b6cc4",
   "metadata": {},
   "outputs": [],
   "source": [
    "#RESP = RESPONSE\n",
    "#'resp.text' takes the response and converts it to text- but still has original errors\n",
    "#thus not best way to save THIS original file\n",
    "#but resp.text is a typical way to save"
   ]
  },
  {
   "cell_type": "markdown",
   "id": "37dacac1-a7ad-4d93-857f-25065757ae83",
   "metadata": {},
   "source": [
    "<br>\n",
    "\n",
    "**error on the server= way to fix**\n",
    "\n",
    "match only the lines we want -the ones representing courses \n",
    " technically the server says we should decode as:\n",
    " \n",
    "content-type: text/html; charset: iso-8859-1\n",
    "\n",
    "  but\n",
    "    -one line uses /x96 which isn't defined in iso-8859-1\n",
    "    -therefore we used the similiar decoding standard (codec) cp-1252 which is very similar but includes \\x96"
   ]
  },
  {
   "cell_type": "code",
   "execution_count": 8,
   "id": "0e4567c7-682e-432e-97ce-c40f3de452d5",
   "metadata": {},
   "outputs": [],
   "source": [
    "# The server uses the wrong encoding, fix it\n",
    "original_encoding = resp_2021.encoding\n",
    "\n",
    "# Change to cp1252\n",
    "resp_2021.encoding = 'cp1252'"
   ]
  },
  {
   "cell_type": "code",
   "execution_count": 9,
   "id": "d1835331-dbf7-471a-a0ca-173f7c4f4b73",
   "metadata": {},
   "outputs": [],
   "source": [
    "#save the original html file:\n",
    "# using the updated coding cp1252 as a TEXT file\n",
    "#this file is not used in the regular expression script but saved as a record \n",
    "\n",
    "with open(path2021html, 'w') as f:\n",
    "    f.write(resp_2021.text)    "
   ]
  },
  {
   "cell_type": "markdown",
   "id": "9482012f-b7c9-49d6-ac1c-72998c198848",
   "metadata": {},
   "source": [
    "#### Looping/scraping through html\n",
    "python looks for html codes such as \\n \\t <br>\n",
    "i.e. \\n is a new line (common Unix command)<br>\n",
    "<resp.text><br>\n",
    "how to loop through (iterate through) the lines in request: <br>\n",
    "<for line in resp.iter_lines():> <br>\n",
    "    <print(line)><br>\n",
    ":outputs the raw html<br>"
   ]
  },
  {
   "cell_type": "markdown",
   "id": "8e3b8e48-c5f9-4cc9-91c3-894c77ba952a",
   "metadata": {},
   "source": [
    "#### compile the regular expression for matching lines\n",
    "re= regular expression. Each character is a string but together form an instruction<br>\n",
    "r' = 'raw' used in python. It means don't evaluate backslashes in encountered string literals  i.e. \\n \\t i.e <br>\n",
    "\\*? = if compiler encounters a three number pattern followed by an asterisk- that is acceptable and include in the compliler<br>\n",
    "the following asterisk ('wild card') means zero or more characters after this are allowed<br>\n",
    "examples for 2021 CAO html:<br>\n",
    "<re_course = re.compile(r'([A-Z]{2}[0-9]{3})  (.*)([0-9]{3})(.*)')><br>\n",
    "<re_course = re.compile(r'([A-Z]{2}[0-9]{3})  (.*)([0-9]{3})(\\*?) *')>"
   ]
  },
  {
   "cell_type": "code",
   "execution_count": 10,
   "id": "814bb1a8-947b-4530-a360-1accabfe4b3a",
   "metadata": {},
   "outputs": [],
   "source": [
    "#compile the regular expression for matching lines\n",
    "#shortened RE to simplify i.e. does the line have two alphabetic characters followed by three numbers followed by anything else\n",
    "re_course = re.compile(r'([A-Z]{2}[0-9]{3})(.*)')"
   ]
  },
  {
   "cell_type": "markdown",
   "id": "a1ff1304-aef3-474c-b67e-7dd55dcd4003",
   "metadata": {},
   "source": [
    "<br>\n",
    "\n",
    "#### 2021 course count anomaly\n",
    "\n",
    "***\n"
   ]
  },
  {
   "cell_type": "markdown",
   "id": "9e3b8682-fb4a-417a-8286-aea3e3269044",
   "metadata": {},
   "source": [
    "<br>\n",
    " \n",
    "when use re_course = re.compile(r'([A-Z]{2}[0-9]{3})(.*)') course count = 949\n",
    "re_course = re.compile(r'([A-Z]{2}[0-9]{3})  (.*)([0-9]{3})(\\*?) *')  course count = 922\n",
    "\n",
    "The difference is the simpler 1st regular expression returns courses (code and course title) without an associated points entry e.g. \n",
    "AL811,Civil Engineering,,\n",
    "\n",
    "<img src=\"images/CAOhtmlscreenshot.png\" width=\"300\"/>\n",
    "\n",
    "A direct comparison of the two files in Notepad ++ identified the following lines returned with the simpler regular expression which accounts for the difference:\n",
    "1.\tAL811,Civil Engineering,,\n",
    "2.\tCK114,Social Science (Youth and Community Work),#,\n",
    "3.\tCK115,Social Work - Mature Applicants only,,\n",
    "4.\tCK791,Medicine  - Graduate Entry (GAMSAT required),#60*,#60*\n",
    "5.\tDB503,Computing (Software Development),,\n",
    "6.\tDB504,Computing (Web and Mobile Technology),,\n",
    "7.\tGC402,Business (HRM),,\n",
    "8.\tID001,Accounting and Finance,,\n",
    "9.\tID002,Business Studies,,\n",
    "10.\tRC101,Medicine - Graduate Entry (GAMSAT required),,\n",
    "11.\tDN301,Veterinary Medicine - Graduate Entry (GAMSAT requi,,\n",
    "12.\tDN401,Medicine - Graduate Entry (GAMSAT required),#61*,\n",
    "13.\tDN411,Radiography - Graduate Entry,#,\n",
    "14.\tDK885,Agri-Food Production,,\n",
    "15.\tGA892,Community Development and Youth Work (Level 8),,\n",
    "16.\tGA983,Furniture and Digital Manufacturing,,\n",
    "17.\tLM101,Medicine  - Graduate Entry (GAMSAT required),#57*,\n",
    "18.\tMU002,Theology,,\n",
    "19.\tMH002,Education - Primary Teaching - Gaeltacht Applicant,,\n",
    "20.\tMH103,Music,#,\n",
    "21.\tMH116,Community and Youth Work (Full-Time),#,\n",
    "22.\tMH801,Early Childhood - Teaching and Learning (part-time,AQA,AQA\n",
    "23.\tMH802,Community and Youth Work (part-time  in service),,#\n",
    "24.\tMH803,Local Studies/Community Studies (part-time  evenin,,#\n",
    "25.\tSG349,Electronics and Self Driving Technologies,,\n",
    "26.\tTL842,Construction Management,,\n",
    "27.\tTL889,Counselling with Addiction - Mature applicants onl,,\n",
    "\n",
    "**However there is no guarantee that these courses do have points for latter years.**<br>\n",
    "**Therefore the shorter regular expression which matches to both lines with course/course points listed.**<br>\n",
    "**Lines with just course listed is the recommended regular expression to use.**"
   ]
  },
  {
   "cell_type": "markdown",
   "id": "e79da0d0-5bab-48f9-9086-27e607abb1be",
   "metadata": {},
   "source": [
    "<br>\n",
    "\n",
    "### Loop through the lines of the response\n",
    "Use the regular expression in code to create dataset\n",
    "\n",
    "---"
   ]
  },
  {
   "cell_type": "code",
   "execution_count": 11,
   "id": "49b2130b-f8ca-42ad-8e82-6a9f3e6bddf1",
   "metadata": {},
   "outputs": [],
   "source": [
    "#the filepath for the csv file- which is the output of the below script\n",
    "#path2021csv = 'data/cao2021_csv' + now.strftime('%Y%m%d_%H%M%S')  + '.csv'\n",
    "path2021csv = 'data/cao2021_csv' + nowstr + '.csv'"
   ]
  },
  {
   "cell_type": "code",
   "execution_count": 12,
   "id": "46603dcf-4b0c-44d8-8806-d5dd71de1fca",
   "metadata": {},
   "outputs": [
    {
     "name": "stdout",
     "output_type": "stream",
     "text": [
      "Total number of lines is 949.\n"
     ]
    }
   ],
   "source": [
    "#loop through the html using the regular expression returning the required data into a comma separated file (csv)\n",
    "no_lines = 0\n",
    "with open(path2021csv, 'w') as f:    \n",
    "    f.write(','.join(['code', 'title', 'pointsR1', 'pointsR2']) + '\\n')    \n",
    "    for line in resp_2021.iter_lines():        \n",
    "        dline = line.decode('cp1252')        \n",
    "        if re_course.fullmatch(dline):            \n",
    "            no_lines = no_lines + 1  \n",
    "            course_code = dline[:5]                          \n",
    "            course_title = dline[7:57].strip()            \n",
    "            course_points = re.split(' +', dline[60:])                     \n",
    "            if len(course_points) != 2:\n",
    "                course_points = course_points[:2]            \n",
    "            linesplit = [course_code, course_title, course_points[0], course_points[1]]                        \n",
    "            f.write(','.join(linesplit) + '\\n')\n",
    "print(f\"Total number of lines is {no_lines}.\")"
   ]
  },
  {
   "cell_type": "markdown",
   "id": "ae814b01-c0f8-4852-829a-2c1e9a4c7c99",
   "metadata": {},
   "source": [
    "<br>\n",
    "\n",
    "**Note: it was verfied at time of running the code that there were 949 courses exactly in the CAO 2021 points list as per URL**\n",
    "\n",
    "---"
   ]
  },
  {
   "cell_type": "markdown",
   "id": "10eec7e8-b621-4fe6-84fe-44ac600c6b87",
   "metadata": {},
   "source": [
    "#### Create a pandas dataframe with 2021 csv data"
   ]
  },
  {
   "cell_type": "code",
   "execution_count": 13,
   "id": "59526e48-1993-495e-bd8f-6bd7f82288c4",
   "metadata": {},
   "outputs": [],
   "source": [
    "df2021 = pd.read_csv(path2021csv, encoding='cp1252')"
   ]
  },
  {
   "cell_type": "code",
   "execution_count": 14,
   "id": "30bbeb68-2de5-4ec1-abcc-c53cc2a71793",
   "metadata": {},
   "outputs": [
    {
     "data": {
      "text/html": [
       "<div>\n",
       "<style scoped>\n",
       "    .dataframe tbody tr th:only-of-type {\n",
       "        vertical-align: middle;\n",
       "    }\n",
       "\n",
       "    .dataframe tbody tr th {\n",
       "        vertical-align: top;\n",
       "    }\n",
       "\n",
       "    .dataframe thead th {\n",
       "        text-align: right;\n",
       "    }\n",
       "</style>\n",
       "<table border=\"1\" class=\"dataframe\">\n",
       "  <thead>\n",
       "    <tr style=\"text-align: right;\">\n",
       "      <th></th>\n",
       "      <th>code</th>\n",
       "      <th>title</th>\n",
       "      <th>pointsR1</th>\n",
       "      <th>pointsR2</th>\n",
       "    </tr>\n",
       "  </thead>\n",
       "  <tbody>\n",
       "    <tr>\n",
       "      <th>0</th>\n",
       "      <td>AL801</td>\n",
       "      <td>Software Design for Virtual Reality and Gaming</td>\n",
       "      <td>300</td>\n",
       "      <td>NaN</td>\n",
       "    </tr>\n",
       "    <tr>\n",
       "      <th>1</th>\n",
       "      <td>AL802</td>\n",
       "      <td>Software Design in Artificial Intelligence for...</td>\n",
       "      <td>313</td>\n",
       "      <td>NaN</td>\n",
       "    </tr>\n",
       "    <tr>\n",
       "      <th>2</th>\n",
       "      <td>AL803</td>\n",
       "      <td>Software Design for Mobile Apps and Connected ...</td>\n",
       "      <td>350</td>\n",
       "      <td>NaN</td>\n",
       "    </tr>\n",
       "    <tr>\n",
       "      <th>3</th>\n",
       "      <td>AL805</td>\n",
       "      <td>Computer Engineering for Network Infrastructure</td>\n",
       "      <td>321</td>\n",
       "      <td>NaN</td>\n",
       "    </tr>\n",
       "    <tr>\n",
       "      <th>4</th>\n",
       "      <td>AL810</td>\n",
       "      <td>Quantity Surveying</td>\n",
       "      <td>328</td>\n",
       "      <td>NaN</td>\n",
       "    </tr>\n",
       "    <tr>\n",
       "      <th>...</th>\n",
       "      <td>...</td>\n",
       "      <td>...</td>\n",
       "      <td>...</td>\n",
       "      <td>...</td>\n",
       "    </tr>\n",
       "    <tr>\n",
       "      <th>944</th>\n",
       "      <td>WD211</td>\n",
       "      <td>Creative Computing</td>\n",
       "      <td>270</td>\n",
       "      <td>NaN</td>\n",
       "    </tr>\n",
       "    <tr>\n",
       "      <th>945</th>\n",
       "      <td>WD212</td>\n",
       "      <td>Recreation and Sport Management</td>\n",
       "      <td>262</td>\n",
       "      <td>NaN</td>\n",
       "    </tr>\n",
       "    <tr>\n",
       "      <th>946</th>\n",
       "      <td>WD230</td>\n",
       "      <td>Mechanical and Manufacturing Engineering</td>\n",
       "      <td>230</td>\n",
       "      <td>230</td>\n",
       "    </tr>\n",
       "    <tr>\n",
       "      <th>947</th>\n",
       "      <td>WD231</td>\n",
       "      <td>Early Childhood Care and Education</td>\n",
       "      <td>266</td>\n",
       "      <td>NaN</td>\n",
       "    </tr>\n",
       "    <tr>\n",
       "      <th>948</th>\n",
       "      <td>WD232</td>\n",
       "      <td>Business Information Systems</td>\n",
       "      <td>261</td>\n",
       "      <td>261</td>\n",
       "    </tr>\n",
       "  </tbody>\n",
       "</table>\n",
       "<p>949 rows × 4 columns</p>\n",
       "</div>"
      ],
      "text/plain": [
       "      code                                              title pointsR1  \\\n",
       "0    AL801     Software Design for Virtual Reality and Gaming      300   \n",
       "1    AL802  Software Design in Artificial Intelligence for...      313   \n",
       "2    AL803  Software Design for Mobile Apps and Connected ...      350   \n",
       "3    AL805    Computer Engineering for Network Infrastructure      321   \n",
       "4    AL810                                 Quantity Surveying      328   \n",
       "..     ...                                                ...      ...   \n",
       "944  WD211                                 Creative Computing      270   \n",
       "945  WD212                    Recreation and Sport Management      262   \n",
       "946  WD230           Mechanical and Manufacturing Engineering      230   \n",
       "947  WD231                 Early Childhood Care and Education      266   \n",
       "948  WD232                       Business Information Systems      261   \n",
       "\n",
       "    pointsR2  \n",
       "0        NaN  \n",
       "1        NaN  \n",
       "2        NaN  \n",
       "3        NaN  \n",
       "4        NaN  \n",
       "..       ...  \n",
       "944      NaN  \n",
       "945      NaN  \n",
       "946      230  \n",
       "947      NaN  \n",
       "948      261  \n",
       "\n",
       "[949 rows x 4 columns]"
      ]
     },
     "execution_count": 14,
     "metadata": {},
     "output_type": "execute_result"
    }
   ],
   "source": [
    "# check the data (output of df2021)\n",
    "pd.options.display.max_rows = 20\n",
    "df2021"
   ]
  },
  {
   "cell_type": "markdown",
   "id": "e14377b3-09e6-4865-a270-03fcda1ed403",
   "metadata": {},
   "source": [
    "<br>\n",
    "\n",
    "## 2020 points\n",
    "\n",
    "***"
   ]
  },
  {
   "cell_type": "markdown",
   "id": "d3547d5f-c92c-4c18-adb5-ae88829f4c62",
   "metadata": {},
   "source": [
    "<br>\n",
    "\n",
    "##### 2020 Points URL: \n",
    "http://www.cao.ie/index.php?page=points&p=2020\n",
    "\n",
    "---"
   ]
  },
  {
   "cell_type": "markdown",
   "id": "e37672d2-651c-4586-8db7-e3de315baece",
   "metadata": {},
   "source": [
    "<br>\n",
    "\n",
    "### download and parse the excel spreadsheet using pandas\n",
    "\n",
    "---"
   ]
  },
  {
   "cell_type": "code",
   "execution_count": 15,
   "id": "7b349e84-e5e9-48bf-be11-6cafa08f7216",
   "metadata": {},
   "outputs": [],
   "source": [
    "#create a variable for the url to keep it neat\n",
    "url2020 = 'http://www2.cao.ie/points/CAOPointsCharts2020.xlsx'"
   ]
  },
  {
   "cell_type": "code",
   "execution_count": 16,
   "id": "f4594b3e-1b1a-410a-9214-a632a295dd81",
   "metadata": {},
   "outputs": [],
   "source": [
    "#download and parse the excel spreadsheet\n",
    "#skip the 1st 10 preamble rows\n",
    "df2020 = pd.read_excel (url2020, skiprows = 10)\n",
    "# however it reads the 1st 10 preamble headings \n",
    "# could save file and manually delete 1st 10 rows but better to use pandas functionality"
   ]
  },
  {
   "cell_type": "code",
   "execution_count": 17,
   "id": "b4815874-5719-466a-a538-417a3c467618",
   "metadata": {},
   "outputs": [
    {
     "data": {
      "text/html": [
       "<div>\n",
       "<style scoped>\n",
       "    .dataframe tbody tr th:only-of-type {\n",
       "        vertical-align: middle;\n",
       "    }\n",
       "\n",
       "    .dataframe tbody tr th {\n",
       "        vertical-align: top;\n",
       "    }\n",
       "\n",
       "    .dataframe thead th {\n",
       "        text-align: right;\n",
       "    }\n",
       "</style>\n",
       "<table border=\"1\" class=\"dataframe\">\n",
       "  <thead>\n",
       "    <tr style=\"text-align: right;\">\n",
       "      <th></th>\n",
       "      <th>CATEGORY (i.e.ISCED description)</th>\n",
       "      <th>COURSE TITLE</th>\n",
       "      <th>COURSE CODE2</th>\n",
       "      <th>R1 POINTS</th>\n",
       "      <th>R1 Random *</th>\n",
       "      <th>R2 POINTS</th>\n",
       "      <th>R2 Random*</th>\n",
       "      <th>EOS</th>\n",
       "      <th>EOS Random *</th>\n",
       "      <th>EOS Mid-point</th>\n",
       "      <th>...</th>\n",
       "      <th>avp</th>\n",
       "      <th>v</th>\n",
       "      <th>Column1</th>\n",
       "      <th>Column2</th>\n",
       "      <th>Column3</th>\n",
       "      <th>Column4</th>\n",
       "      <th>Column5</th>\n",
       "      <th>Column6</th>\n",
       "      <th>Column7</th>\n",
       "      <th>Column8</th>\n",
       "    </tr>\n",
       "  </thead>\n",
       "  <tbody>\n",
       "    <tr>\n",
       "      <th>0</th>\n",
       "      <td>Business and administration</td>\n",
       "      <td>International Business</td>\n",
       "      <td>AC120</td>\n",
       "      <td>209</td>\n",
       "      <td>NaN</td>\n",
       "      <td>NaN</td>\n",
       "      <td>NaN</td>\n",
       "      <td>209</td>\n",
       "      <td>NaN</td>\n",
       "      <td>280</td>\n",
       "      <td>...</td>\n",
       "      <td>NaN</td>\n",
       "      <td>NaN</td>\n",
       "      <td>NaN</td>\n",
       "      <td>NaN</td>\n",
       "      <td>NaN</td>\n",
       "      <td>NaN</td>\n",
       "      <td>NaN</td>\n",
       "      <td>NaN</td>\n",
       "      <td>NaN</td>\n",
       "      <td>NaN</td>\n",
       "    </tr>\n",
       "    <tr>\n",
       "      <th>1</th>\n",
       "      <td>Humanities (except languages)</td>\n",
       "      <td>Liberal Arts</td>\n",
       "      <td>AC137</td>\n",
       "      <td>252</td>\n",
       "      <td>NaN</td>\n",
       "      <td>NaN</td>\n",
       "      <td>NaN</td>\n",
       "      <td>252</td>\n",
       "      <td>NaN</td>\n",
       "      <td>270</td>\n",
       "      <td>...</td>\n",
       "      <td>NaN</td>\n",
       "      <td>NaN</td>\n",
       "      <td>NaN</td>\n",
       "      <td>NaN</td>\n",
       "      <td>NaN</td>\n",
       "      <td>NaN</td>\n",
       "      <td>NaN</td>\n",
       "      <td>NaN</td>\n",
       "      <td>NaN</td>\n",
       "      <td>NaN</td>\n",
       "    </tr>\n",
       "    <tr>\n",
       "      <th>2</th>\n",
       "      <td>Arts</td>\n",
       "      <td>First Year Art &amp; Design (Common Entry,portfolio)</td>\n",
       "      <td>AD101</td>\n",
       "      <td>#+matric</td>\n",
       "      <td>NaN</td>\n",
       "      <td>NaN</td>\n",
       "      <td>NaN</td>\n",
       "      <td>#+matric</td>\n",
       "      <td>NaN</td>\n",
       "      <td>#+matric</td>\n",
       "      <td>...</td>\n",
       "      <td>NaN</td>\n",
       "      <td>NaN</td>\n",
       "      <td>NaN</td>\n",
       "      <td>NaN</td>\n",
       "      <td>NaN</td>\n",
       "      <td>NaN</td>\n",
       "      <td>NaN</td>\n",
       "      <td>NaN</td>\n",
       "      <td>NaN</td>\n",
       "      <td>NaN</td>\n",
       "    </tr>\n",
       "    <tr>\n",
       "      <th>3</th>\n",
       "      <td>Arts</td>\n",
       "      <td>Graphic Design and Moving Image Design (portfo...</td>\n",
       "      <td>AD102</td>\n",
       "      <td>#+matric</td>\n",
       "      <td>NaN</td>\n",
       "      <td>NaN</td>\n",
       "      <td>NaN</td>\n",
       "      <td>#+matric</td>\n",
       "      <td>NaN</td>\n",
       "      <td>#+matric</td>\n",
       "      <td>...</td>\n",
       "      <td>NaN</td>\n",
       "      <td>NaN</td>\n",
       "      <td>NaN</td>\n",
       "      <td>NaN</td>\n",
       "      <td>NaN</td>\n",
       "      <td>NaN</td>\n",
       "      <td>NaN</td>\n",
       "      <td>NaN</td>\n",
       "      <td>NaN</td>\n",
       "      <td>NaN</td>\n",
       "    </tr>\n",
       "    <tr>\n",
       "      <th>4</th>\n",
       "      <td>Arts</td>\n",
       "      <td>Textile &amp; Surface Design and Jewellery &amp; Objec...</td>\n",
       "      <td>AD103</td>\n",
       "      <td>#+matric</td>\n",
       "      <td>NaN</td>\n",
       "      <td>NaN</td>\n",
       "      <td>NaN</td>\n",
       "      <td>#+matric</td>\n",
       "      <td>NaN</td>\n",
       "      <td>#+matric</td>\n",
       "      <td>...</td>\n",
       "      <td>NaN</td>\n",
       "      <td>NaN</td>\n",
       "      <td>NaN</td>\n",
       "      <td>NaN</td>\n",
       "      <td>NaN</td>\n",
       "      <td>NaN</td>\n",
       "      <td>NaN</td>\n",
       "      <td>NaN</td>\n",
       "      <td>NaN</td>\n",
       "      <td>NaN</td>\n",
       "    </tr>\n",
       "    <tr>\n",
       "      <th>...</th>\n",
       "      <td>...</td>\n",
       "      <td>...</td>\n",
       "      <td>...</td>\n",
       "      <td>...</td>\n",
       "      <td>...</td>\n",
       "      <td>...</td>\n",
       "      <td>...</td>\n",
       "      <td>...</td>\n",
       "      <td>...</td>\n",
       "      <td>...</td>\n",
       "      <td>...</td>\n",
       "      <td>...</td>\n",
       "      <td>...</td>\n",
       "      <td>...</td>\n",
       "      <td>...</td>\n",
       "      <td>...</td>\n",
       "      <td>...</td>\n",
       "      <td>...</td>\n",
       "      <td>...</td>\n",
       "      <td>...</td>\n",
       "      <td>...</td>\n",
       "    </tr>\n",
       "    <tr>\n",
       "      <th>1459</th>\n",
       "      <td>Manufacturing and processing</td>\n",
       "      <td>Manufacturing Engineering</td>\n",
       "      <td>WD208</td>\n",
       "      <td>188</td>\n",
       "      <td>NaN</td>\n",
       "      <td>NaN</td>\n",
       "      <td>NaN</td>\n",
       "      <td>188</td>\n",
       "      <td>NaN</td>\n",
       "      <td>339</td>\n",
       "      <td>...</td>\n",
       "      <td>NaN</td>\n",
       "      <td>NaN</td>\n",
       "      <td>NaN</td>\n",
       "      <td>NaN</td>\n",
       "      <td>NaN</td>\n",
       "      <td>NaN</td>\n",
       "      <td>NaN</td>\n",
       "      <td>NaN</td>\n",
       "      <td>NaN</td>\n",
       "      <td>NaN</td>\n",
       "    </tr>\n",
       "    <tr>\n",
       "      <th>1460</th>\n",
       "      <td>Information and Communication Technologies (ICTs)</td>\n",
       "      <td>Software Systems Development</td>\n",
       "      <td>WD210</td>\n",
       "      <td>279</td>\n",
       "      <td>NaN</td>\n",
       "      <td>NaN</td>\n",
       "      <td>NaN</td>\n",
       "      <td>279</td>\n",
       "      <td>NaN</td>\n",
       "      <td>337</td>\n",
       "      <td>...</td>\n",
       "      <td>NaN</td>\n",
       "      <td>NaN</td>\n",
       "      <td>NaN</td>\n",
       "      <td>NaN</td>\n",
       "      <td>NaN</td>\n",
       "      <td>NaN</td>\n",
       "      <td>NaN</td>\n",
       "      <td>NaN</td>\n",
       "      <td>NaN</td>\n",
       "      <td>NaN</td>\n",
       "    </tr>\n",
       "    <tr>\n",
       "      <th>1461</th>\n",
       "      <td>Information and Communication Technologies (ICTs)</td>\n",
       "      <td>Creative Computing</td>\n",
       "      <td>WD211</td>\n",
       "      <td>271</td>\n",
       "      <td>NaN</td>\n",
       "      <td>NaN</td>\n",
       "      <td>NaN</td>\n",
       "      <td>271</td>\n",
       "      <td>NaN</td>\n",
       "      <td>318</td>\n",
       "      <td>...</td>\n",
       "      <td>NaN</td>\n",
       "      <td>NaN</td>\n",
       "      <td>NaN</td>\n",
       "      <td>NaN</td>\n",
       "      <td>NaN</td>\n",
       "      <td>NaN</td>\n",
       "      <td>NaN</td>\n",
       "      <td>NaN</td>\n",
       "      <td>NaN</td>\n",
       "      <td>NaN</td>\n",
       "    </tr>\n",
       "    <tr>\n",
       "      <th>1462</th>\n",
       "      <td>Personal services</td>\n",
       "      <td>Recreation and Sport Management</td>\n",
       "      <td>WD212</td>\n",
       "      <td>270</td>\n",
       "      <td>NaN</td>\n",
       "      <td>NaN</td>\n",
       "      <td>NaN</td>\n",
       "      <td>270</td>\n",
       "      <td>NaN</td>\n",
       "      <td>349</td>\n",
       "      <td>...</td>\n",
       "      <td>NaN</td>\n",
       "      <td>NaN</td>\n",
       "      <td>NaN</td>\n",
       "      <td>NaN</td>\n",
       "      <td>NaN</td>\n",
       "      <td>NaN</td>\n",
       "      <td>NaN</td>\n",
       "      <td>NaN</td>\n",
       "      <td>NaN</td>\n",
       "      <td>NaN</td>\n",
       "    </tr>\n",
       "    <tr>\n",
       "      <th>1463</th>\n",
       "      <td>Engineering and engineering trades</td>\n",
       "      <td>Mechanical and Manufacturing Engineering</td>\n",
       "      <td>WD230</td>\n",
       "      <td>253</td>\n",
       "      <td>NaN</td>\n",
       "      <td>NaN</td>\n",
       "      <td>NaN</td>\n",
       "      <td>253</td>\n",
       "      <td>NaN</td>\n",
       "      <td>369</td>\n",
       "      <td>...</td>\n",
       "      <td>NaN</td>\n",
       "      <td>NaN</td>\n",
       "      <td>NaN</td>\n",
       "      <td>NaN</td>\n",
       "      <td>NaN</td>\n",
       "      <td>NaN</td>\n",
       "      <td>NaN</td>\n",
       "      <td>NaN</td>\n",
       "      <td>NaN</td>\n",
       "      <td>NaN</td>\n",
       "    </tr>\n",
       "  </tbody>\n",
       "</table>\n",
       "<p>1464 rows × 23 columns</p>\n",
       "</div>"
      ],
      "text/plain": [
       "                       CATEGORY (i.e.ISCED description)  \\\n",
       "0                           Business and administration   \n",
       "1                         Humanities (except languages)   \n",
       "2                                                  Arts   \n",
       "3                                                  Arts   \n",
       "4                                                  Arts   \n",
       "...                                                 ...   \n",
       "1459                       Manufacturing and processing   \n",
       "1460  Information and Communication Technologies (ICTs)   \n",
       "1461  Information and Communication Technologies (ICTs)   \n",
       "1462                                  Personal services   \n",
       "1463                 Engineering and engineering trades   \n",
       "\n",
       "                                           COURSE TITLE COURSE CODE2  \\\n",
       "0                                International Business        AC120   \n",
       "1                                          Liberal Arts        AC137   \n",
       "2      First Year Art & Design (Common Entry,portfolio)        AD101   \n",
       "3     Graphic Design and Moving Image Design (portfo...        AD102   \n",
       "4     Textile & Surface Design and Jewellery & Objec...        AD103   \n",
       "...                                                 ...          ...   \n",
       "1459                          Manufacturing Engineering        WD208   \n",
       "1460                       Software Systems Development        WD210   \n",
       "1461                                 Creative Computing        WD211   \n",
       "1462                    Recreation and Sport Management        WD212   \n",
       "1463           Mechanical and Manufacturing Engineering        WD230   \n",
       "\n",
       "     R1 POINTS R1 Random * R2 POINTS R2 Random*       EOS EOS Random *  \\\n",
       "0          209         NaN       NaN        NaN       209          NaN   \n",
       "1          252         NaN       NaN        NaN       252          NaN   \n",
       "2     #+matric         NaN       NaN        NaN  #+matric          NaN   \n",
       "3     #+matric         NaN       NaN        NaN  #+matric          NaN   \n",
       "4     #+matric         NaN       NaN        NaN  #+matric          NaN   \n",
       "...        ...         ...       ...        ...       ...          ...   \n",
       "1459       188         NaN       NaN        NaN       188          NaN   \n",
       "1460       279         NaN       NaN        NaN       279          NaN   \n",
       "1461       271         NaN       NaN        NaN       271          NaN   \n",
       "1462       270         NaN       NaN        NaN       270          NaN   \n",
       "1463       253         NaN       NaN        NaN       253          NaN   \n",
       "\n",
       "     EOS Mid-point  ...  avp    v Column1 Column2 Column3  Column4  Column5  \\\n",
       "0              280  ...  NaN  NaN     NaN     NaN     NaN      NaN      NaN   \n",
       "1              270  ...  NaN  NaN     NaN     NaN     NaN      NaN      NaN   \n",
       "2         #+matric  ...  NaN  NaN     NaN     NaN     NaN      NaN      NaN   \n",
       "3         #+matric  ...  NaN  NaN     NaN     NaN     NaN      NaN      NaN   \n",
       "4         #+matric  ...  NaN  NaN     NaN     NaN     NaN      NaN      NaN   \n",
       "...            ...  ...  ...  ...     ...     ...     ...      ...      ...   \n",
       "1459           339  ...  NaN  NaN     NaN     NaN     NaN      NaN      NaN   \n",
       "1460           337  ...  NaN  NaN     NaN     NaN     NaN      NaN      NaN   \n",
       "1461           318  ...  NaN  NaN     NaN     NaN     NaN      NaN      NaN   \n",
       "1462           349  ...  NaN  NaN     NaN     NaN     NaN      NaN      NaN   \n",
       "1463           369  ...  NaN  NaN     NaN     NaN     NaN      NaN      NaN   \n",
       "\n",
       "      Column6  Column7  Column8  \n",
       "0         NaN      NaN      NaN  \n",
       "1         NaN      NaN      NaN  \n",
       "2         NaN      NaN      NaN  \n",
       "3         NaN      NaN      NaN  \n",
       "4         NaN      NaN      NaN  \n",
       "...       ...      ...      ...  \n",
       "1459      NaN      NaN      NaN  \n",
       "1460      NaN      NaN      NaN  \n",
       "1461      NaN      NaN      NaN  \n",
       "1462      NaN      NaN      NaN  \n",
       "1463      NaN      NaN      NaN  \n",
       "\n",
       "[1464 rows x 23 columns]"
      ]
     },
     "execution_count": 17,
     "metadata": {},
     "output_type": "execute_result"
    }
   ],
   "source": [
    "pd.options.display.max_rows = 20\n",
    "df2020"
   ]
  },
  {
   "cell_type": "markdown",
   "id": "b3781df1-b6ce-495e-abfd-e561b63ec8d5",
   "metadata": {},
   "source": [
    "<br>\n",
    "\n",
    "##### Note: Additional cleanup of df2020 prior to concatenating 2020 df to 2021 df was not required. <br>\n",
    "---"
   ]
  },
  {
   "cell_type": "markdown",
   "id": "dd208447-3c48-4ab9-b923-ec2c9f2c4afa",
   "metadata": {},
   "source": [
    "<br>\n",
    "\n",
    "### save original 2020 file (excel)\n",
    "\n",
    "---"
   ]
  },
  {
   "cell_type": "code",
   "execution_count": 18,
   "id": "fa405efd-b47a-4d9d-a4d1-eb3195de7f5c",
   "metadata": {},
   "outputs": [
    {
     "data": {
      "text/plain": [
       "('data/cao2020_20211231_202258.xlsx',\n",
       " <http.client.HTTPMessage at 0x27a1b5c0160>)"
      ]
     },
     "execution_count": 18,
     "metadata": {},
     "output_type": "execute_result"
    }
   ],
   "source": [
    "# Create a file path for the pandas data.\n",
    "pathxlsx = 'data/cao2020_' + nowstr + '.xlsx'\n",
    "\n",
    "# retrieve the original excel data from CAO website and save to new xlsx file (time stamped)\n",
    "urlrq.urlretrieve (url2020, pathxlsx)\n"
   ]
  },
  {
   "cell_type": "markdown",
   "id": "24badb73-d367-4784-9d81-a096d81d6743",
   "metadata": {},
   "source": [
    "<br>\n",
    "\n",
    "### create a filepath for 2020 pandas data (for csv)\n",
    "\n",
    "---"
   ]
  },
  {
   "cell_type": "code",
   "execution_count": 19,
   "id": "0a7f7367-e39d-47fb-a44f-67822ae7d4be",
   "metadata": {},
   "outputs": [],
   "source": [
    "#save the output to a csv file\n",
    "#path2020 = 'data/cao2020_' + now.strftime('%Y%m%d_%H%M%S')  + '.csv'\n",
    "path2020 = 'data/cao2020_' + nowstr + '.csv'"
   ]
  },
  {
   "cell_type": "code",
   "execution_count": 20,
   "id": "e97c0999-621d-4544-a6f5-542321180ab5",
   "metadata": {},
   "outputs": [],
   "source": [
    "# Save pandas data frame to disk.\n",
    "df2020.to_csv(path2020)"
   ]
  },
  {
   "cell_type": "markdown",
   "id": "0e1656b5-63ff-4326-b78b-a3b765bd96eb",
   "metadata": {},
   "source": [
    "<br>\n",
    "\n",
    "## 2019 points\n",
    "\n",
    "***"
   ]
  },
  {
   "cell_type": "markdown",
   "id": "48bbcd8f-409c-42ca-8215-9dff757b7cac",
   "metadata": {},
   "source": [
    "<br>\n",
    "\n",
    "##### 2019 Points URL: \n",
    "http://www.cao.ie/index.php?page=points&p=2019\n",
    "\n",
    "direct link to points table (pdf) <br>\n",
    "http://www2.cao.ie/points/lvl8_19.pdf\n",
    "\n",
    "\n",
    "---"
   ]
  },
  {
   "cell_type": "markdown",
   "id": "95ebe4cb-0553-4268-af07-bcab507a9990",
   "metadata": {},
   "source": [
    "**As 2019 data is pdf format the decision is to read do it manually before getting pandas to read it as a csv**"
   ]
  },
  {
   "cell_type": "markdown",
   "id": "b117640c-f8a2-489a-a8c6-7e1535f46995",
   "metadata": {},
   "source": [
    "<br>\n",
    "\n",
    "### steps to reproduce the 2019 editable:\n",
    "****\n"
   ]
  },
  {
   "cell_type": "code",
   "execution_count": 21,
   "id": "1a631599-4134-470b-8a76-d509638918be",
   "metadata": {},
   "outputs": [
    {
     "data": {
      "text/plain": [
       "<Response [200]>"
      ]
     },
     "execution_count": 21,
     "metadata": {},
     "output_type": "execute_result"
    }
   ],
   "source": [
    "# fetch the CAO points URL.  The url for earlier years takes you to a pdf version\n",
    "# However the python code to fetch appears to work\n",
    "resp_2019 = rq.get ('http://www2.cao.ie/points/lvl8_19.pdf')\n",
    "resp_2019"
   ]
  },
  {
   "cell_type": "markdown",
   "id": "f1b839e7-1407-40c7-ad09-2ad26172639e",
   "metadata": {},
   "source": [
    "### Creating CSV file from the original pdf:\n",
    "\n",
    "- The original pdf was downloaded and saved as a pdf in repository\n",
    "- The original file was opened with MS Word as follows:\n",
    "- Select file > open with > other programs > MSWord >\n",
    "- open for editing\n",
    "- Save the editable file in repository under data as as xxxxx.docx format: \n",
    "- Resaved a copy to edit in repo as cao2019_edited.docx\n",
    "- Deleted headers and footers\n",
    "- deleted the preamble on page 1\n",
    "- Ctrl 'A', Ctrl 'C' to copy all data in the 21 separate tables\n",
    "- Opened notepad++ and pasted in the content of the 21 tables 'Ctrl V'\n",
    "<br>\n",
    "\n",
    "---\n",
    "\n",
    "##### further manual editing in notepad ++ as below before resave\n",
    " \n",
    "- Removed HEI name lines and black lines\n",
    "- Removed all Irish fadas: e.g. Gn**ó** agus Gaeilge \n",
    "- Delete blank lines\n",
    "- Change backticks to apostrophes\n",
    "- Remove all Irish fadas: e.g. Gn**ó** agus Gaeilge \n",
    "- find \\\\t replace with \\t finds the double tabs and removes them <br>\n",
    "- save file<br>\n",
    " <br>\n",
    "\n",
    "---\n",
    "##### Institutions not required for data frame as institution is identifiable from the course code 1st two letters.<br>  Thus the below was not required:\n",
    "1. Select the 'College/Institute' i.e. 'Athlone Institute of Technology' and cut\n",
    "2. Move cursor to in front of AIT 1st course line\n",
    "3. Hold down ALT key and drag cursor down to all AIT courses\n",
    "4. Ctrl V to paste - click 'tab' key to create tabs\n",
    "5. Put double quotes around college names as they have commas [select start of string with cursor-alt-type \"]\n",
    "6. Also: \\t  in extended file 'replace all' with comma: replaces all the tabs with commas <br> however not recommended here as commas elsewhere will confuse. <br> best to leave tabs as delimiters  e.g. in effect its as 'tsv' tab serapated file but can save as csv\n",
    "<br>\n",
    "\n",
    "---"
   ]
  },
  {
   "cell_type": "markdown",
   "id": "68aa5555-abdb-4049-839e-bb0dafb324bd",
   "metadata": {},
   "source": [
    " ##### due to the below errors when creating the dataframe the 2019 csv was reviewed in Notepad++ and additional commas were deleted\n",
    " \n",
    "ParserError:\n",
    "i.e. (options, portfolio) to (options portfolio)<br>\n",
    "<font size=\"1\"> Error tokenizing data. C error: Expected 1 fields in line 32, saw 2</font><br>\n",
    "<font size=\"1\">Error tokenizing data. C error: Expected 1 fields in line 59, saw 2</font><br>\n",
    "<font size=\"1\">Error tokenizing data. C error: Expected 1 fields in line 63, saw 2</font><br>\n",
    "<font size=\"1\">Error tokenizing data. C error: Expected 1 fields in line 81, saw 3</font><br>\n",
    "<font size=\"1\">Error tokenizing data. C error: Expected 1 fields in line 144, saw 2</font><br>\n",
    "<font size=\"1\">Error tokenizing data. C error: Expected 1 fields in line 258, saw 2</font><br>\n",
    "<font size=\"1\">Error tokenizing data. C error: Expected 1 fields in line 263, saw 2</font><br>\n",
    "<font size=\"1\">Error tokenizing data. C error: Expected 1 fields in line 337, saw 2v<br>\n",
    "<font size=\"1\">Error tokenizing data. C error: Expected 1 fields in line 343, saw 2</font><br>\n",
    "<font size=\"1\">Error tokenizing data. C error: Expected 1 fields in line 359, saw 2</font><br>\n",
    "<font size=\"1\">Error tokenizing data. C error: Expected 1 fields in line 363, saw 2</font><br>\n",
    "<font size=\"1\">Error tokenizing data. C error: Expected 1 fields in line 366, saw 2</font><br>\n",
    "<font size=\"1\">Error tokenizing data. C error: Expected 1 fields in line 392, saw 2</font><br>\n",
    "<font size=\"1\">Error tokenizing data. C error: Expected 1 fields in line 447, saw 3</font><br>\n",
    "<font size=\"1\">Error tokenizing data. C error: Expected 1 fields in line 453, saw 2</font><br>\n",
    "<font size=\"1\">Error tokenizing data. C error: Expected 1 fields in line 481, saw 2</font><br>\n",
    "<font size=\"1\">Error tokenizing data. C error: Expected 1 fields in line 509, saw 2</font><br>\n",
    "<font size=\"1\">Error tokenizing data. C error: Expected 1 fields in line 520, saw 2</font><br>\n",
    "<font size=\"1\">Error tokenizing data. C error: Expected 1 fields in line 616, saw 2</font><br>\n",
    "<font size=\"1\">Error tokenizing data. C error: Expected 1 fields in line 618, saw 2</font><br>\n",
    "<font size=\"1\">Error tokenizing data. C error: Expected 1 fields in line 630, saw 2</font><br>\n",
    "<font size=\"1\">Error tokenizing data. C error: Expected 1 fields in line 643, saw 2</font><br>\n",
    "<font size=\"1\">Error tokenizing data. C error: Expected 1 fields in line 644, saw 2</font><br>\n",
    "<font size=\"1\">Error tokenizing data. C error: Expected 1 fields in line 655, saw 4</font><br>\n",
    "<font size=\"1\">Error tokenizing data. C error: Expected 1 fields in line 655, saw 3</font><br>\n",
    "<font size=\"1\">Error tokenizing data. C error: Expected 1 fields in line 665, saw 2</font><br>\n",
    "<font size=\"1\">Error tokenizing data. C error: Expected 1 fields in line 697,698,699,670 saw 2</font><br>\n",
    "<font size=\"1\">Error tokenizing data. C error: Expected 1 fields in line 703, saw 2</font><br>\n",
    "<font size=\"1\">Error tokenizing data. C error: Expected 1 fields in line 749, saw 2</font><br>\n",
    "<font size=\"1\">Error tokenizing data. C error: Expected 1 fields in line 751, saw 2</font><br>\n",
    "<font size=\"1\">Error tokenizing data. C error: Expected 1 fields in line 830, saw 2</font><br>\n",
    "<font size=\"1\">Error tokenizing data. C error: Expected 1 fields in line 872, saw 2</font>\n",
    "<br>\n",
    "\n",
    "---"
   ]
  },
  {
   "cell_type": "code",
   "execution_count": 22,
   "id": "53ddad8d-61f0-46a3-9d21-195fac01a6a9",
   "metadata": {},
   "outputs": [],
   "source": [
    "#df2019 = pd.read_csv('data/cao2019_20211102_191031_edited.csv', sep ='\\t') \n",
    "df2019 = pd.read_csv('data/cao_2019.csv', sep ='\\t') "
   ]
  },
  {
   "cell_type": "code",
   "execution_count": 23,
   "id": "32471d98-9b9e-4a95-bb1f-8ad32a2e9951",
   "metadata": {},
   "outputs": [
    {
     "data": {
      "text/html": [
       "<div>\n",
       "<style scoped>\n",
       "    .dataframe tbody tr th:only-of-type {\n",
       "        vertical-align: middle;\n",
       "    }\n",
       "\n",
       "    .dataframe tbody tr th {\n",
       "        vertical-align: top;\n",
       "    }\n",
       "\n",
       "    .dataframe thead th {\n",
       "        text-align: right;\n",
       "    }\n",
       "</style>\n",
       "<table border=\"1\" class=\"dataframe\">\n",
       "  <thead>\n",
       "    <tr style=\"text-align: right;\">\n",
       "      <th></th>\n",
       "      <th>Course Code</th>\n",
       "      <th>COURSE</th>\n",
       "      <th>EOS</th>\n",
       "      <th>Mid</th>\n",
       "    </tr>\n",
       "  </thead>\n",
       "  <tbody>\n",
       "    <tr>\n",
       "      <th>0</th>\n",
       "      <td>AL801</td>\n",
       "      <td>Software Design with Virtual Reality and Gaming</td>\n",
       "      <td>304</td>\n",
       "      <td>328.0</td>\n",
       "    </tr>\n",
       "    <tr>\n",
       "      <th>1</th>\n",
       "      <td>AL802</td>\n",
       "      <td>Software Design with Cloud Computing</td>\n",
       "      <td>301</td>\n",
       "      <td>306.0</td>\n",
       "    </tr>\n",
       "    <tr>\n",
       "      <th>2</th>\n",
       "      <td>AL803</td>\n",
       "      <td>Software Design with Mobile Apps and Connected...</td>\n",
       "      <td>309</td>\n",
       "      <td>337.0</td>\n",
       "    </tr>\n",
       "    <tr>\n",
       "      <th>3</th>\n",
       "      <td>AL805</td>\n",
       "      <td>Network Management and Cloud Infrastructure</td>\n",
       "      <td>329</td>\n",
       "      <td>442.0</td>\n",
       "    </tr>\n",
       "    <tr>\n",
       "      <th>4</th>\n",
       "      <td>AL810</td>\n",
       "      <td>Quantity Surveying</td>\n",
       "      <td>307</td>\n",
       "      <td>349.0</td>\n",
       "    </tr>\n",
       "    <tr>\n",
       "      <th>...</th>\n",
       "      <td>...</td>\n",
       "      <td>...</td>\n",
       "      <td>...</td>\n",
       "      <td>...</td>\n",
       "    </tr>\n",
       "    <tr>\n",
       "      <th>925</th>\n",
       "      <td>WD200</td>\n",
       "      <td>Arts (options)</td>\n",
       "      <td>221</td>\n",
       "      <td>296.0</td>\n",
       "    </tr>\n",
       "    <tr>\n",
       "      <th>926</th>\n",
       "      <td>WD210</td>\n",
       "      <td>Software Systems Development</td>\n",
       "      <td>271</td>\n",
       "      <td>329.0</td>\n",
       "    </tr>\n",
       "    <tr>\n",
       "      <th>927</th>\n",
       "      <td>WD211</td>\n",
       "      <td>Creative Computing</td>\n",
       "      <td>275</td>\n",
       "      <td>322.0</td>\n",
       "    </tr>\n",
       "    <tr>\n",
       "      <th>928</th>\n",
       "      <td>WD212</td>\n",
       "      <td>Recreation and Sport Management</td>\n",
       "      <td>274</td>\n",
       "      <td>311.0</td>\n",
       "    </tr>\n",
       "    <tr>\n",
       "      <th>929</th>\n",
       "      <td>WD230</td>\n",
       "      <td>Mechanical and Manufacturing Engineering</td>\n",
       "      <td>273</td>\n",
       "      <td>348.0</td>\n",
       "    </tr>\n",
       "  </tbody>\n",
       "</table>\n",
       "<p>930 rows × 4 columns</p>\n",
       "</div>"
      ],
      "text/plain": [
       "    Course Code                                             COURSE  EOS    Mid\n",
       "0         AL801    Software Design with Virtual Reality and Gaming  304  328.0\n",
       "1         AL802               Software Design with Cloud Computing  301  306.0\n",
       "2         AL803  Software Design with Mobile Apps and Connected...  309  337.0\n",
       "3         AL805        Network Management and Cloud Infrastructure  329  442.0\n",
       "4         AL810                                 Quantity Surveying  307  349.0\n",
       "..          ...                                                ...  ...    ...\n",
       "925       WD200                                     Arts (options)  221  296.0\n",
       "926       WD210                       Software Systems Development  271  329.0\n",
       "927       WD211                                 Creative Computing  275  322.0\n",
       "928       WD212                    Recreation and Sport Management  274  311.0\n",
       "929       WD230           Mechanical and Manufacturing Engineering  273  348.0\n",
       "\n",
       "[930 rows x 4 columns]"
      ]
     },
     "execution_count": 23,
     "metadata": {},
     "output_type": "execute_result"
    }
   ],
   "source": [
    "# check the output (top and botom of df)\n",
    "df2019"
   ]
  },
  {
   "cell_type": "markdown",
   "id": "b43fa63b-3863-4e5f-8964-8a363f3a7fdb",
   "metadata": {},
   "source": [
    " ##### Issue with original CAO coding (as per 2021)\n",
    " When trying to save the original html the following code appears: <br>\n",
    " UnicodeEncodeError: 'charmap' codec can't encode characters in position<br>\n",
    " The solution was to add encoding=\"utf-8\" to the filepath as below<br>"
   ]
  },
  {
   "cell_type": "code",
   "execution_count": 24,
   "id": "0b0b3fe6-10f3-4934-b67e-2caf6782d206",
   "metadata": {},
   "outputs": [],
   "source": [
    "#save original 2019 html file\n",
    "path2019 = 'data/cao2019_' + nowstr + '.html'\n",
    "with open(path2019, 'w', encoding=\"utf-8\") as f:\n",
    "    f.write(resp_2019.text)   "
   ]
  },
  {
   "cell_type": "code",
   "execution_count": 25,
   "id": "a9d20dfe-8c8d-4054-b7f5-5a7f0697b6b1",
   "metadata": {},
   "outputs": [],
   "source": [
    "#extract the required columns (course and points) from the dataframe\n",
    "courses2019= df2019[['Course Code' , 'COURSE']]"
   ]
  },
  {
   "cell_type": "markdown",
   "id": "613b43aa-b8c8-43e5-adbd-584871c94618",
   "metadata": {},
   "source": [
    "<br>\n",
    "\n",
    "### Concatenate 2021-2019 CAO points data into one dataframe\n",
    "\n",
    "---"
   ]
  },
  {
   "cell_type": "code",
   "execution_count": 26,
   "id": "22f52ab6-ab89-4581-892d-6f014312c945",
   "metadata": {},
   "outputs": [
    {
     "data": {
      "text/html": [
       "<div>\n",
       "<style scoped>\n",
       "    .dataframe tbody tr th:only-of-type {\n",
       "        vertical-align: middle;\n",
       "    }\n",
       "\n",
       "    .dataframe tbody tr th {\n",
       "        vertical-align: top;\n",
       "    }\n",
       "\n",
       "    .dataframe thead th {\n",
       "        text-align: right;\n",
       "    }\n",
       "</style>\n",
       "<table border=\"1\" class=\"dataframe\">\n",
       "  <thead>\n",
       "    <tr style=\"text-align: right;\">\n",
       "      <th></th>\n",
       "      <th>code</th>\n",
       "      <th>title</th>\n",
       "      <th>pointsR1</th>\n",
       "      <th>pointsR2</th>\n",
       "    </tr>\n",
       "  </thead>\n",
       "  <tbody>\n",
       "    <tr>\n",
       "      <th>0</th>\n",
       "      <td>AL801</td>\n",
       "      <td>Software Design for Virtual Reality and Gaming</td>\n",
       "      <td>300</td>\n",
       "      <td>NaN</td>\n",
       "    </tr>\n",
       "    <tr>\n",
       "      <th>1</th>\n",
       "      <td>AL802</td>\n",
       "      <td>Software Design in Artificial Intelligence for...</td>\n",
       "      <td>313</td>\n",
       "      <td>NaN</td>\n",
       "    </tr>\n",
       "    <tr>\n",
       "      <th>2</th>\n",
       "      <td>AL803</td>\n",
       "      <td>Software Design for Mobile Apps and Connected ...</td>\n",
       "      <td>350</td>\n",
       "      <td>NaN</td>\n",
       "    </tr>\n",
       "    <tr>\n",
       "      <th>3</th>\n",
       "      <td>AL805</td>\n",
       "      <td>Computer Engineering for Network Infrastructure</td>\n",
       "      <td>321</td>\n",
       "      <td>NaN</td>\n",
       "    </tr>\n",
       "    <tr>\n",
       "      <th>4</th>\n",
       "      <td>AL810</td>\n",
       "      <td>Quantity Surveying</td>\n",
       "      <td>328</td>\n",
       "      <td>NaN</td>\n",
       "    </tr>\n",
       "    <tr>\n",
       "      <th>...</th>\n",
       "      <td>...</td>\n",
       "      <td>...</td>\n",
       "      <td>...</td>\n",
       "      <td>...</td>\n",
       "    </tr>\n",
       "    <tr>\n",
       "      <th>944</th>\n",
       "      <td>WD211</td>\n",
       "      <td>Creative Computing</td>\n",
       "      <td>270</td>\n",
       "      <td>NaN</td>\n",
       "    </tr>\n",
       "    <tr>\n",
       "      <th>945</th>\n",
       "      <td>WD212</td>\n",
       "      <td>Recreation and Sport Management</td>\n",
       "      <td>262</td>\n",
       "      <td>NaN</td>\n",
       "    </tr>\n",
       "    <tr>\n",
       "      <th>946</th>\n",
       "      <td>WD230</td>\n",
       "      <td>Mechanical and Manufacturing Engineering</td>\n",
       "      <td>230</td>\n",
       "      <td>230</td>\n",
       "    </tr>\n",
       "    <tr>\n",
       "      <th>947</th>\n",
       "      <td>WD231</td>\n",
       "      <td>Early Childhood Care and Education</td>\n",
       "      <td>266</td>\n",
       "      <td>NaN</td>\n",
       "    </tr>\n",
       "    <tr>\n",
       "      <th>948</th>\n",
       "      <td>WD232</td>\n",
       "      <td>Business Information Systems</td>\n",
       "      <td>261</td>\n",
       "      <td>261</td>\n",
       "    </tr>\n",
       "  </tbody>\n",
       "</table>\n",
       "<p>949 rows × 4 columns</p>\n",
       "</div>"
      ],
      "text/plain": [
       "      code                                              title pointsR1  \\\n",
       "0    AL801     Software Design for Virtual Reality and Gaming      300   \n",
       "1    AL802  Software Design in Artificial Intelligence for...      313   \n",
       "2    AL803  Software Design for Mobile Apps and Connected ...      350   \n",
       "3    AL805    Computer Engineering for Network Infrastructure      321   \n",
       "4    AL810                                 Quantity Surveying      328   \n",
       "..     ...                                                ...      ...   \n",
       "944  WD211                                 Creative Computing      270   \n",
       "945  WD212                    Recreation and Sport Management      262   \n",
       "946  WD230           Mechanical and Manufacturing Engineering      230   \n",
       "947  WD231                 Early Childhood Care and Education      266   \n",
       "948  WD232                       Business Information Systems      261   \n",
       "\n",
       "    pointsR2  \n",
       "0        NaN  \n",
       "1        NaN  \n",
       "2        NaN  \n",
       "3        NaN  \n",
       "4        NaN  \n",
       "..       ...  \n",
       "944      NaN  \n",
       "945      NaN  \n",
       "946      230  \n",
       "947      NaN  \n",
       "948      261  \n",
       "\n",
       "[949 rows x 4 columns]"
      ]
     },
     "execution_count": 26,
     "metadata": {},
     "output_type": "execute_result"
    }
   ],
   "source": [
    "df2021"
   ]
  },
  {
   "cell_type": "code",
   "execution_count": 27,
   "id": "4565db36-0205-4f6e-b0bf-71556741eef0",
   "metadata": {},
   "outputs": [],
   "source": [
    "#extract the required columns (course and points) from the dataframe\n",
    "courses2021= df2021[['code', 'title']]"
   ]
  },
  {
   "cell_type": "code",
   "execution_count": 28,
   "id": "3a9f6935-c8e7-4891-9c7a-85eb259c37a1",
   "metadata": {},
   "outputs": [
    {
     "data": {
      "text/html": [
       "<div>\n",
       "<style scoped>\n",
       "    .dataframe tbody tr th:only-of-type {\n",
       "        vertical-align: middle;\n",
       "    }\n",
       "\n",
       "    .dataframe tbody tr th {\n",
       "        vertical-align: top;\n",
       "    }\n",
       "\n",
       "    .dataframe thead th {\n",
       "        text-align: right;\n",
       "    }\n",
       "</style>\n",
       "<table border=\"1\" class=\"dataframe\">\n",
       "  <thead>\n",
       "    <tr style=\"text-align: right;\">\n",
       "      <th></th>\n",
       "      <th>code</th>\n",
       "      <th>title</th>\n",
       "    </tr>\n",
       "  </thead>\n",
       "  <tbody>\n",
       "    <tr>\n",
       "      <th>0</th>\n",
       "      <td>AL801</td>\n",
       "      <td>Software Design for Virtual Reality and Gaming</td>\n",
       "    </tr>\n",
       "    <tr>\n",
       "      <th>1</th>\n",
       "      <td>AL802</td>\n",
       "      <td>Software Design in Artificial Intelligence for...</td>\n",
       "    </tr>\n",
       "    <tr>\n",
       "      <th>2</th>\n",
       "      <td>AL803</td>\n",
       "      <td>Software Design for Mobile Apps and Connected ...</td>\n",
       "    </tr>\n",
       "    <tr>\n",
       "      <th>3</th>\n",
       "      <td>AL805</td>\n",
       "      <td>Computer Engineering for Network Infrastructure</td>\n",
       "    </tr>\n",
       "    <tr>\n",
       "      <th>4</th>\n",
       "      <td>AL810</td>\n",
       "      <td>Quantity Surveying</td>\n",
       "    </tr>\n",
       "    <tr>\n",
       "      <th>...</th>\n",
       "      <td>...</td>\n",
       "      <td>...</td>\n",
       "    </tr>\n",
       "    <tr>\n",
       "      <th>944</th>\n",
       "      <td>WD211</td>\n",
       "      <td>Creative Computing</td>\n",
       "    </tr>\n",
       "    <tr>\n",
       "      <th>945</th>\n",
       "      <td>WD212</td>\n",
       "      <td>Recreation and Sport Management</td>\n",
       "    </tr>\n",
       "    <tr>\n",
       "      <th>946</th>\n",
       "      <td>WD230</td>\n",
       "      <td>Mechanical and Manufacturing Engineering</td>\n",
       "    </tr>\n",
       "    <tr>\n",
       "      <th>947</th>\n",
       "      <td>WD231</td>\n",
       "      <td>Early Childhood Care and Education</td>\n",
       "    </tr>\n",
       "    <tr>\n",
       "      <th>948</th>\n",
       "      <td>WD232</td>\n",
       "      <td>Business Information Systems</td>\n",
       "    </tr>\n",
       "  </tbody>\n",
       "</table>\n",
       "<p>949 rows × 2 columns</p>\n",
       "</div>"
      ],
      "text/plain": [
       "      code                                              title\n",
       "0    AL801     Software Design for Virtual Reality and Gaming\n",
       "1    AL802  Software Design in Artificial Intelligence for...\n",
       "2    AL803  Software Design for Mobile Apps and Connected ...\n",
       "3    AL805    Computer Engineering for Network Infrastructure\n",
       "4    AL810                                 Quantity Surveying\n",
       "..     ...                                                ...\n",
       "944  WD211                                 Creative Computing\n",
       "945  WD212                    Recreation and Sport Management\n",
       "946  WD230           Mechanical and Manufacturing Engineering\n",
       "947  WD231                 Early Childhood Care and Education\n",
       "948  WD232                       Business Information Systems\n",
       "\n",
       "[949 rows x 2 columns]"
      ]
     },
     "execution_count": 28,
     "metadata": {},
     "output_type": "execute_result"
    }
   ],
   "source": [
    "courses2021"
   ]
  },
  {
   "cell_type": "code",
   "execution_count": 29,
   "id": "011a00d2-e950-4bb1-bf6a-a5d3f7144f62",
   "metadata": {},
   "outputs": [],
   "source": [
    "# change the title of the columns to match 2021\n",
    "courses2020= df2020[['COURSE CODE2' , 'COURSE TITLE']]\n",
    "courses2020.columns = ['code' ,'title']"
   ]
  },
  {
   "cell_type": "code",
   "execution_count": 30,
   "id": "5f3ec77f-4ca7-4142-b654-df82baba70a5",
   "metadata": {},
   "outputs": [
    {
     "data": {
      "text/html": [
       "<div>\n",
       "<style scoped>\n",
       "    .dataframe tbody tr th:only-of-type {\n",
       "        vertical-align: middle;\n",
       "    }\n",
       "\n",
       "    .dataframe tbody tr th {\n",
       "        vertical-align: top;\n",
       "    }\n",
       "\n",
       "    .dataframe thead th {\n",
       "        text-align: right;\n",
       "    }\n",
       "</style>\n",
       "<table border=\"1\" class=\"dataframe\">\n",
       "  <thead>\n",
       "    <tr style=\"text-align: right;\">\n",
       "      <th></th>\n",
       "      <th>code</th>\n",
       "      <th>title</th>\n",
       "    </tr>\n",
       "  </thead>\n",
       "  <tbody>\n",
       "    <tr>\n",
       "      <th>0</th>\n",
       "      <td>AC120</td>\n",
       "      <td>International Business</td>\n",
       "    </tr>\n",
       "    <tr>\n",
       "      <th>1</th>\n",
       "      <td>AC137</td>\n",
       "      <td>Liberal Arts</td>\n",
       "    </tr>\n",
       "    <tr>\n",
       "      <th>2</th>\n",
       "      <td>AD101</td>\n",
       "      <td>First Year Art &amp; Design (Common Entry,portfolio)</td>\n",
       "    </tr>\n",
       "    <tr>\n",
       "      <th>3</th>\n",
       "      <td>AD102</td>\n",
       "      <td>Graphic Design and Moving Image Design (portfo...</td>\n",
       "    </tr>\n",
       "    <tr>\n",
       "      <th>4</th>\n",
       "      <td>AD103</td>\n",
       "      <td>Textile &amp; Surface Design and Jewellery &amp; Objec...</td>\n",
       "    </tr>\n",
       "    <tr>\n",
       "      <th>...</th>\n",
       "      <td>...</td>\n",
       "      <td>...</td>\n",
       "    </tr>\n",
       "    <tr>\n",
       "      <th>1459</th>\n",
       "      <td>WD208</td>\n",
       "      <td>Manufacturing Engineering</td>\n",
       "    </tr>\n",
       "    <tr>\n",
       "      <th>1460</th>\n",
       "      <td>WD210</td>\n",
       "      <td>Software Systems Development</td>\n",
       "    </tr>\n",
       "    <tr>\n",
       "      <th>1461</th>\n",
       "      <td>WD211</td>\n",
       "      <td>Creative Computing</td>\n",
       "    </tr>\n",
       "    <tr>\n",
       "      <th>1462</th>\n",
       "      <td>WD212</td>\n",
       "      <td>Recreation and Sport Management</td>\n",
       "    </tr>\n",
       "    <tr>\n",
       "      <th>1463</th>\n",
       "      <td>WD230</td>\n",
       "      <td>Mechanical and Manufacturing Engineering</td>\n",
       "    </tr>\n",
       "  </tbody>\n",
       "</table>\n",
       "<p>1464 rows × 2 columns</p>\n",
       "</div>"
      ],
      "text/plain": [
       "       code                                              title\n",
       "0     AC120                             International Business\n",
       "1     AC137                                       Liberal Arts\n",
       "2     AD101   First Year Art & Design (Common Entry,portfolio)\n",
       "3     AD102  Graphic Design and Moving Image Design (portfo...\n",
       "4     AD103  Textile & Surface Design and Jewellery & Objec...\n",
       "...     ...                                                ...\n",
       "1459  WD208                          Manufacturing Engineering\n",
       "1460  WD210                       Software Systems Development\n",
       "1461  WD211                                 Creative Computing\n",
       "1462  WD212                    Recreation and Sport Management\n",
       "1463  WD230           Mechanical and Manufacturing Engineering\n",
       "\n",
       "[1464 rows x 2 columns]"
      ]
     },
     "execution_count": 30,
     "metadata": {},
     "output_type": "execute_result"
    }
   ],
   "source": [
    "courses2020"
   ]
  },
  {
   "cell_type": "code",
   "execution_count": 31,
   "id": "572b8b34-b707-4d3e-aec2-63522b468373",
   "metadata": {},
   "outputs": [],
   "source": [
    "#extract the required columns (course and points) from the dataframe\n",
    "courses2019= df2019[['Course Code' , 'COURSE']]\n",
    "courses2019.columns = ['code', 'title']"
   ]
  },
  {
   "cell_type": "code",
   "execution_count": 32,
   "id": "4d78da73-6b3a-4ff3-9536-c7eaf108faa5",
   "metadata": {},
   "outputs": [
    {
     "data": {
      "text/html": [
       "<div>\n",
       "<style scoped>\n",
       "    .dataframe tbody tr th:only-of-type {\n",
       "        vertical-align: middle;\n",
       "    }\n",
       "\n",
       "    .dataframe tbody tr th {\n",
       "        vertical-align: top;\n",
       "    }\n",
       "\n",
       "    .dataframe thead th {\n",
       "        text-align: right;\n",
       "    }\n",
       "</style>\n",
       "<table border=\"1\" class=\"dataframe\">\n",
       "  <thead>\n",
       "    <tr style=\"text-align: right;\">\n",
       "      <th></th>\n",
       "      <th>code</th>\n",
       "      <th>title</th>\n",
       "    </tr>\n",
       "  </thead>\n",
       "  <tbody>\n",
       "    <tr>\n",
       "      <th>0</th>\n",
       "      <td>AL801</td>\n",
       "      <td>Software Design with Virtual Reality and Gaming</td>\n",
       "    </tr>\n",
       "    <tr>\n",
       "      <th>1</th>\n",
       "      <td>AL802</td>\n",
       "      <td>Software Design with Cloud Computing</td>\n",
       "    </tr>\n",
       "    <tr>\n",
       "      <th>2</th>\n",
       "      <td>AL803</td>\n",
       "      <td>Software Design with Mobile Apps and Connected...</td>\n",
       "    </tr>\n",
       "    <tr>\n",
       "      <th>3</th>\n",
       "      <td>AL805</td>\n",
       "      <td>Network Management and Cloud Infrastructure</td>\n",
       "    </tr>\n",
       "    <tr>\n",
       "      <th>4</th>\n",
       "      <td>AL810</td>\n",
       "      <td>Quantity Surveying</td>\n",
       "    </tr>\n",
       "    <tr>\n",
       "      <th>...</th>\n",
       "      <td>...</td>\n",
       "      <td>...</td>\n",
       "    </tr>\n",
       "    <tr>\n",
       "      <th>925</th>\n",
       "      <td>WD200</td>\n",
       "      <td>Arts (options)</td>\n",
       "    </tr>\n",
       "    <tr>\n",
       "      <th>926</th>\n",
       "      <td>WD210</td>\n",
       "      <td>Software Systems Development</td>\n",
       "    </tr>\n",
       "    <tr>\n",
       "      <th>927</th>\n",
       "      <td>WD211</td>\n",
       "      <td>Creative Computing</td>\n",
       "    </tr>\n",
       "    <tr>\n",
       "      <th>928</th>\n",
       "      <td>WD212</td>\n",
       "      <td>Recreation and Sport Management</td>\n",
       "    </tr>\n",
       "    <tr>\n",
       "      <th>929</th>\n",
       "      <td>WD230</td>\n",
       "      <td>Mechanical and Manufacturing Engineering</td>\n",
       "    </tr>\n",
       "  </tbody>\n",
       "</table>\n",
       "<p>930 rows × 2 columns</p>\n",
       "</div>"
      ],
      "text/plain": [
       "      code                                              title\n",
       "0    AL801    Software Design with Virtual Reality and Gaming\n",
       "1    AL802               Software Design with Cloud Computing\n",
       "2    AL803  Software Design with Mobile Apps and Connected...\n",
       "3    AL805        Network Management and Cloud Infrastructure\n",
       "4    AL810                                 Quantity Surveying\n",
       "..     ...                                                ...\n",
       "925  WD200                                     Arts (options)\n",
       "926  WD210                       Software Systems Development\n",
       "927  WD211                                 Creative Computing\n",
       "928  WD212                    Recreation and Sport Management\n",
       "929  WD230           Mechanical and Manufacturing Engineering\n",
       "\n",
       "[930 rows x 2 columns]"
      ]
     },
     "execution_count": 32,
     "metadata": {},
     "output_type": "execute_result"
    }
   ],
   "source": [
    "courses2019"
   ]
  },
  {
   "cell_type": "code",
   "execution_count": 33,
   "id": "78c4df0d-1c75-4a81-92e1-5e3c98ff0daa",
   "metadata": {},
   "outputs": [],
   "source": [
    "# merge or concatenate the two datasets into one dataframe\n",
    "# set ignore_index = True (default is False)\n",
    "# by default, it is concatenating vertically along the axis 0 and preserving all existing indices i.e. defaut ignore_index= False\n",
    "# if you wish to continue numbering for concatenated dataframe set ignore_index = True\n",
    "# To add a hierarchical index (multi-level index) keys=['2021','2020']. However this doesn't work when ignore_index=True.\n",
    "# Tally of course coe lines: 949 + 1464 + 930 = 3343\n",
    "allcourses = pd.concat([courses2021, courses2020, courses2019],ignore_index=True)"
   ]
  },
  {
   "cell_type": "code",
   "execution_count": 34,
   "id": "b32a0db6-5ab5-435e-99e3-9812328c9089",
   "metadata": {},
   "outputs": [
    {
     "data": {
      "text/html": [
       "<div>\n",
       "<style scoped>\n",
       "    .dataframe tbody tr th:only-of-type {\n",
       "        vertical-align: middle;\n",
       "    }\n",
       "\n",
       "    .dataframe tbody tr th {\n",
       "        vertical-align: top;\n",
       "    }\n",
       "\n",
       "    .dataframe thead th {\n",
       "        text-align: right;\n",
       "    }\n",
       "</style>\n",
       "<table border=\"1\" class=\"dataframe\">\n",
       "  <thead>\n",
       "    <tr style=\"text-align: right;\">\n",
       "      <th></th>\n",
       "      <th>code</th>\n",
       "      <th>title</th>\n",
       "    </tr>\n",
       "  </thead>\n",
       "  <tbody>\n",
       "    <tr>\n",
       "      <th>0</th>\n",
       "      <td>AL801</td>\n",
       "      <td>Software Design for Virtual Reality and Gaming</td>\n",
       "    </tr>\n",
       "    <tr>\n",
       "      <th>1</th>\n",
       "      <td>AL802</td>\n",
       "      <td>Software Design in Artificial Intelligence for...</td>\n",
       "    </tr>\n",
       "    <tr>\n",
       "      <th>2</th>\n",
       "      <td>AL803</td>\n",
       "      <td>Software Design for Mobile Apps and Connected ...</td>\n",
       "    </tr>\n",
       "    <tr>\n",
       "      <th>3</th>\n",
       "      <td>AL805</td>\n",
       "      <td>Computer Engineering for Network Infrastructure</td>\n",
       "    </tr>\n",
       "    <tr>\n",
       "      <th>4</th>\n",
       "      <td>AL810</td>\n",
       "      <td>Quantity Surveying</td>\n",
       "    </tr>\n",
       "    <tr>\n",
       "      <th>...</th>\n",
       "      <td>...</td>\n",
       "      <td>...</td>\n",
       "    </tr>\n",
       "    <tr>\n",
       "      <th>3338</th>\n",
       "      <td>WD200</td>\n",
       "      <td>Arts (options)</td>\n",
       "    </tr>\n",
       "    <tr>\n",
       "      <th>3339</th>\n",
       "      <td>WD210</td>\n",
       "      <td>Software Systems Development</td>\n",
       "    </tr>\n",
       "    <tr>\n",
       "      <th>3340</th>\n",
       "      <td>WD211</td>\n",
       "      <td>Creative Computing</td>\n",
       "    </tr>\n",
       "    <tr>\n",
       "      <th>3341</th>\n",
       "      <td>WD212</td>\n",
       "      <td>Recreation and Sport Management</td>\n",
       "    </tr>\n",
       "    <tr>\n",
       "      <th>3342</th>\n",
       "      <td>WD230</td>\n",
       "      <td>Mechanical and Manufacturing Engineering</td>\n",
       "    </tr>\n",
       "  </tbody>\n",
       "</table>\n",
       "<p>3343 rows × 2 columns</p>\n",
       "</div>"
      ],
      "text/plain": [
       "       code                                              title\n",
       "0     AL801     Software Design for Virtual Reality and Gaming\n",
       "1     AL802  Software Design in Artificial Intelligence for...\n",
       "2     AL803  Software Design for Mobile Apps and Connected ...\n",
       "3     AL805    Computer Engineering for Network Infrastructure\n",
       "4     AL810                                 Quantity Surveying\n",
       "...     ...                                                ...\n",
       "3338  WD200                                     Arts (options)\n",
       "3339  WD210                       Software Systems Development\n",
       "3340  WD211                                 Creative Computing\n",
       "3341  WD212                    Recreation and Sport Management\n",
       "3342  WD230           Mechanical and Manufacturing Engineering\n",
       "\n",
       "[3343 rows x 2 columns]"
      ]
     },
     "execution_count": 34,
     "metadata": {},
     "output_type": "execute_result"
    }
   ],
   "source": [
    "# print allcourses\n",
    "# data frames added end to end-3343 rows.\n",
    "# contains duplicated courses year to year\n",
    "allcourses"
   ]
  },
  {
   "cell_type": "code",
   "execution_count": 35,
   "id": "2e00f148-1e32-473a-8b5e-924070e78c42",
   "metadata": {},
   "outputs": [
    {
     "data": {
      "text/html": [
       "<div>\n",
       "<style scoped>\n",
       "    .dataframe tbody tr th:only-of-type {\n",
       "        vertical-align: middle;\n",
       "    }\n",
       "\n",
       "    .dataframe tbody tr th {\n",
       "        vertical-align: top;\n",
       "    }\n",
       "\n",
       "    .dataframe thead th {\n",
       "        text-align: right;\n",
       "    }\n",
       "</style>\n",
       "<table border=\"1\" class=\"dataframe\">\n",
       "  <thead>\n",
       "    <tr style=\"text-align: right;\">\n",
       "      <th></th>\n",
       "      <th>code</th>\n",
       "      <th>title</th>\n",
       "    </tr>\n",
       "  </thead>\n",
       "  <tbody>\n",
       "    <tr>\n",
       "      <th>175</th>\n",
       "      <td>AC120</td>\n",
       "      <td>International Business</td>\n",
       "    </tr>\n",
       "    <tr>\n",
       "      <th>949</th>\n",
       "      <td>AC120</td>\n",
       "      <td>International Business</td>\n",
       "    </tr>\n",
       "    <tr>\n",
       "      <th>2581</th>\n",
       "      <td>AC120</td>\n",
       "      <td>International Business</td>\n",
       "    </tr>\n",
       "    <tr>\n",
       "      <th>950</th>\n",
       "      <td>AC137</td>\n",
       "      <td>Liberal Arts</td>\n",
       "    </tr>\n",
       "    <tr>\n",
       "      <th>2582</th>\n",
       "      <td>AC137</td>\n",
       "      <td>Liberal Arts</td>\n",
       "    </tr>\n",
       "    <tr>\n",
       "      <th>...</th>\n",
       "      <td>...</td>\n",
       "      <td>...</td>\n",
       "    </tr>\n",
       "    <tr>\n",
       "      <th>2412</th>\n",
       "      <td>WD230</td>\n",
       "      <td>Mechanical and Manufacturing Engineering</td>\n",
       "    </tr>\n",
       "    <tr>\n",
       "      <th>946</th>\n",
       "      <td>WD230</td>\n",
       "      <td>Mechanical and Manufacturing Engineering</td>\n",
       "    </tr>\n",
       "    <tr>\n",
       "      <th>3342</th>\n",
       "      <td>WD230</td>\n",
       "      <td>Mechanical and Manufacturing Engineering</td>\n",
       "    </tr>\n",
       "    <tr>\n",
       "      <th>947</th>\n",
       "      <td>WD231</td>\n",
       "      <td>Early Childhood Care and Education</td>\n",
       "    </tr>\n",
       "    <tr>\n",
       "      <th>948</th>\n",
       "      <td>WD232</td>\n",
       "      <td>Business Information Systems</td>\n",
       "    </tr>\n",
       "  </tbody>\n",
       "</table>\n",
       "<p>3343 rows × 2 columns</p>\n",
       "</div>"
      ],
      "text/plain": [
       "       code                                     title\n",
       "175   AC120                    International Business\n",
       "949   AC120                    International Business\n",
       "2581  AC120                    International Business\n",
       "950   AC137                              Liberal Arts\n",
       "2582  AC137                              Liberal Arts\n",
       "...     ...                                       ...\n",
       "2412  WD230  Mechanical and Manufacturing Engineering\n",
       "946   WD230  Mechanical and Manufacturing Engineering\n",
       "3342  WD230  Mechanical and Manufacturing Engineering\n",
       "947   WD231        Early Childhood Care and Education\n",
       "948   WD232              Business Information Systems\n",
       "\n",
       "[3343 rows x 2 columns]"
      ]
     },
     "execution_count": 35,
     "metadata": {},
     "output_type": "execute_result"
    }
   ],
   "source": [
    "# sort the new combined dataframe by code \n",
    "# which should pick up duplicates\n",
    "# ASSUMPTION: course codes dont change year to year\n",
    "allcourses.sort_values('code')"
   ]
  },
  {
   "cell_type": "code",
   "execution_count": 36,
   "id": "80423540-55d5-43e2-9f8c-b440754ce7db",
   "metadata": {},
   "outputs": [
    {
     "data": {
      "text/plain": [
       "code                                        WD230\n",
       "title    Mechanical and Manufacturing Engineering\n",
       "Name: 3342, dtype: object"
      ]
     },
     "execution_count": 36,
     "metadata": {},
     "output_type": "execute_result"
    }
   ],
   "source": [
    "#spot check of df\n",
    "allcourses.loc[3342]"
   ]
  },
  {
   "cell_type": "code",
   "execution_count": 37,
   "id": "50691516-f667-454d-a640-e9fe24e9fe18",
   "metadata": {},
   "outputs": [
    {
     "data": {
      "text/plain": [
       "0       False\n",
       "1       False\n",
       "2       False\n",
       "3       False\n",
       "4       False\n",
       "        ...  \n",
       "3338     True\n",
       "3339     True\n",
       "3340     True\n",
       "3341     True\n",
       "3342     True\n",
       "Length: 3343, dtype: bool"
      ]
     },
     "execution_count": 37,
     "metadata": {},
     "output_type": "execute_result"
    }
   ],
   "source": [
    "# returns a false for every row that are not duplicated[boolean function]\n",
    "allcourses.duplicated()"
   ]
  },
  {
   "cell_type": "code",
   "execution_count": 38,
   "id": "1332245b-d34a-4401-9ba0-21531e93a00c",
   "metadata": {},
   "outputs": [
    {
     "data": {
      "text/html": [
       "<div>\n",
       "<style scoped>\n",
       "    .dataframe tbody tr th:only-of-type {\n",
       "        vertical-align: middle;\n",
       "    }\n",
       "\n",
       "    .dataframe tbody tr th {\n",
       "        vertical-align: top;\n",
       "    }\n",
       "\n",
       "    .dataframe thead th {\n",
       "        text-align: right;\n",
       "    }\n",
       "</style>\n",
       "<table border=\"1\" class=\"dataframe\">\n",
       "  <thead>\n",
       "    <tr style=\"text-align: right;\">\n",
       "      <th></th>\n",
       "      <th>code</th>\n",
       "      <th>title</th>\n",
       "    </tr>\n",
       "  </thead>\n",
       "  <tbody>\n",
       "    <tr>\n",
       "      <th>949</th>\n",
       "      <td>AC120</td>\n",
       "      <td>International Business</td>\n",
       "    </tr>\n",
       "    <tr>\n",
       "      <th>950</th>\n",
       "      <td>AC137</td>\n",
       "      <td>Liberal Arts</td>\n",
       "    </tr>\n",
       "    <tr>\n",
       "      <th>952</th>\n",
       "      <td>AD102</td>\n",
       "      <td>Graphic Design and Moving Image Design (portfo...</td>\n",
       "    </tr>\n",
       "    <tr>\n",
       "      <th>955</th>\n",
       "      <td>AD204</td>\n",
       "      <td>Fine Art (portfolio)</td>\n",
       "    </tr>\n",
       "    <tr>\n",
       "      <th>956</th>\n",
       "      <td>AD211</td>\n",
       "      <td>Fashion Design (portfolio)</td>\n",
       "    </tr>\n",
       "    <tr>\n",
       "      <th>...</th>\n",
       "      <td>...</td>\n",
       "      <td>...</td>\n",
       "    </tr>\n",
       "    <tr>\n",
       "      <th>3338</th>\n",
       "      <td>WD200</td>\n",
       "      <td>Arts (options)</td>\n",
       "    </tr>\n",
       "    <tr>\n",
       "      <th>3339</th>\n",
       "      <td>WD210</td>\n",
       "      <td>Software Systems Development</td>\n",
       "    </tr>\n",
       "    <tr>\n",
       "      <th>3340</th>\n",
       "      <td>WD211</td>\n",
       "      <td>Creative Computing</td>\n",
       "    </tr>\n",
       "    <tr>\n",
       "      <th>3341</th>\n",
       "      <td>WD212</td>\n",
       "      <td>Recreation and Sport Management</td>\n",
       "    </tr>\n",
       "    <tr>\n",
       "      <th>3342</th>\n",
       "      <td>WD230</td>\n",
       "      <td>Mechanical and Manufacturing Engineering</td>\n",
       "    </tr>\n",
       "  </tbody>\n",
       "</table>\n",
       "<p>1382 rows × 2 columns</p>\n",
       "</div>"
      ],
      "text/plain": [
       "       code                                              title\n",
       "949   AC120                             International Business\n",
       "950   AC137                                       Liberal Arts\n",
       "952   AD102  Graphic Design and Moving Image Design (portfo...\n",
       "955   AD204                               Fine Art (portfolio)\n",
       "956   AD211                         Fashion Design (portfolio)\n",
       "...     ...                                                ...\n",
       "3338  WD200                                     Arts (options)\n",
       "3339  WD210                       Software Systems Development\n",
       "3340  WD211                                 Creative Computing\n",
       "3341  WD212                    Recreation and Sport Management\n",
       "3342  WD230           Mechanical and Manufacturing Engineering\n",
       "\n",
       "[1382 rows x 2 columns]"
      ]
     },
     "execution_count": 38,
     "metadata": {},
     "output_type": "execute_result"
    }
   ],
   "source": [
    "# finds all extra copies of duplicated rows\n",
    "# duplicated by default doesnt set the 1st iteration of the matching rows as true (returns false)\n",
    "# returns the last iteration -duplicate i.e.row of index 2385\n",
    "# i.e. row of index 924 below is a duplicate and is not returned\n",
    "allcourses[allcourses.duplicated()] "
   ]
  },
  {
   "cell_type": "code",
   "execution_count": 39,
   "id": "996e8820-4037-48f6-b56b-5c4fcdada3d3",
   "metadata": {},
   "outputs": [
    {
     "data": {
      "text/html": [
       "<div>\n",
       "<style scoped>\n",
       "    .dataframe tbody tr th:only-of-type {\n",
       "        vertical-align: middle;\n",
       "    }\n",
       "\n",
       "    .dataframe tbody tr th {\n",
       "        vertical-align: top;\n",
       "    }\n",
       "\n",
       "    .dataframe thead th {\n",
       "        text-align: right;\n",
       "    }\n",
       "</style>\n",
       "<table border=\"1\" class=\"dataframe\">\n",
       "  <thead>\n",
       "    <tr style=\"text-align: right;\">\n",
       "      <th></th>\n",
       "      <th>code</th>\n",
       "      <th>title</th>\n",
       "    </tr>\n",
       "  </thead>\n",
       "  <tbody>\n",
       "    <tr>\n",
       "      <th>4</th>\n",
       "      <td>AL810</td>\n",
       "      <td>Quantity Surveying</td>\n",
       "    </tr>\n",
       "    <tr>\n",
       "      <th>5</th>\n",
       "      <td>AL811</td>\n",
       "      <td>Civil Engineering</td>\n",
       "    </tr>\n",
       "    <tr>\n",
       "      <th>6</th>\n",
       "      <td>AL820</td>\n",
       "      <td>Mechanical and Polymer Engineering</td>\n",
       "    </tr>\n",
       "    <tr>\n",
       "      <th>7</th>\n",
       "      <td>AL830</td>\n",
       "      <td>General Nursing</td>\n",
       "    </tr>\n",
       "    <tr>\n",
       "      <th>10</th>\n",
       "      <td>AL836</td>\n",
       "      <td>Nutrition and Health Science</td>\n",
       "    </tr>\n",
       "    <tr>\n",
       "      <th>...</th>\n",
       "      <td>...</td>\n",
       "      <td>...</td>\n",
       "    </tr>\n",
       "    <tr>\n",
       "      <th>3338</th>\n",
       "      <td>WD200</td>\n",
       "      <td>Arts (options)</td>\n",
       "    </tr>\n",
       "    <tr>\n",
       "      <th>3339</th>\n",
       "      <td>WD210</td>\n",
       "      <td>Software Systems Development</td>\n",
       "    </tr>\n",
       "    <tr>\n",
       "      <th>3340</th>\n",
       "      <td>WD211</td>\n",
       "      <td>Creative Computing</td>\n",
       "    </tr>\n",
       "    <tr>\n",
       "      <th>3341</th>\n",
       "      <td>WD212</td>\n",
       "      <td>Recreation and Sport Management</td>\n",
       "    </tr>\n",
       "    <tr>\n",
       "      <th>3342</th>\n",
       "      <td>WD230</td>\n",
       "      <td>Mechanical and Manufacturing Engineering</td>\n",
       "    </tr>\n",
       "  </tbody>\n",
       "</table>\n",
       "<p>2215 rows × 2 columns</p>\n",
       "</div>"
      ],
      "text/plain": [
       "       code                                     title\n",
       "4     AL810                        Quantity Surveying\n",
       "5     AL811                         Civil Engineering\n",
       "6     AL820        Mechanical and Polymer Engineering\n",
       "7     AL830                           General Nursing\n",
       "10    AL836              Nutrition and Health Science\n",
       "...     ...                                       ...\n",
       "3338  WD200                            Arts (options)\n",
       "3339  WD210              Software Systems Development\n",
       "3340  WD211                        Creative Computing\n",
       "3341  WD212           Recreation and Sport Management\n",
       "3342  WD230  Mechanical and Manufacturing Engineering\n",
       "\n",
       "[2215 rows x 2 columns]"
      ]
     },
     "execution_count": 39,
     "metadata": {},
     "output_type": "execute_result"
    }
   ],
   "source": [
    "# keep =‘first’ : Drop duplicates except for the first occurrence.\n",
    "# keep = ‘last’ : Drop duplicates except for the last occurrence.\n",
    "# keep = False discards all sets of duplicated entries.\n",
    "# Hence 2215 original CAO course codes in 2021-2019\n",
    "allcourses[allcourses.duplicated(keep = False)]"
   ]
  },
  {
   "cell_type": "code",
   "execution_count": 40,
   "id": "187be41e-223c-4321-89b4-3c0c0cc559eb",
   "metadata": {},
   "outputs": [
    {
     "data": {
      "text/html": [
       "<div>\n",
       "<style scoped>\n",
       "    .dataframe tbody tr th:only-of-type {\n",
       "        vertical-align: middle;\n",
       "    }\n",
       "\n",
       "    .dataframe tbody tr th {\n",
       "        vertical-align: top;\n",
       "    }\n",
       "\n",
       "    .dataframe thead th {\n",
       "        text-align: right;\n",
       "    }\n",
       "</style>\n",
       "<table border=\"1\" class=\"dataframe\">\n",
       "  <thead>\n",
       "    <tr style=\"text-align: right;\">\n",
       "      <th></th>\n",
       "      <th>code</th>\n",
       "      <th>title</th>\n",
       "    </tr>\n",
       "  </thead>\n",
       "  <tbody>\n",
       "    <tr>\n",
       "      <th>0</th>\n",
       "      <td>AL801</td>\n",
       "      <td>Software Design for Virtual Reality and Gaming</td>\n",
       "    </tr>\n",
       "    <tr>\n",
       "      <th>1</th>\n",
       "      <td>AL802</td>\n",
       "      <td>Software Design in Artificial Intelligence for...</td>\n",
       "    </tr>\n",
       "    <tr>\n",
       "      <th>2</th>\n",
       "      <td>AL803</td>\n",
       "      <td>Software Design for Mobile Apps and Connected ...</td>\n",
       "    </tr>\n",
       "    <tr>\n",
       "      <th>3</th>\n",
       "      <td>AL805</td>\n",
       "      <td>Computer Engineering for Network Infrastructure</td>\n",
       "    </tr>\n",
       "    <tr>\n",
       "      <th>4</th>\n",
       "      <td>AL810</td>\n",
       "      <td>Quantity Surveying</td>\n",
       "    </tr>\n",
       "    <tr>\n",
       "      <th>...</th>\n",
       "      <td>...</td>\n",
       "      <td>...</td>\n",
       "    </tr>\n",
       "    <tr>\n",
       "      <th>3281</th>\n",
       "      <td>TL801</td>\n",
       "      <td>Animation Visual Effects and Motion Design</td>\n",
       "    </tr>\n",
       "    <tr>\n",
       "      <th>3282</th>\n",
       "      <td>TL802</td>\n",
       "      <td>TV Radio and New Media</td>\n",
       "    </tr>\n",
       "    <tr>\n",
       "      <th>3283</th>\n",
       "      <td>TL803</td>\n",
       "      <td>Music Technology</td>\n",
       "    </tr>\n",
       "    <tr>\n",
       "      <th>3286</th>\n",
       "      <td>TL812</td>\n",
       "      <td>Computing with Digital Media</td>\n",
       "    </tr>\n",
       "    <tr>\n",
       "      <th>3324</th>\n",
       "      <td>WD148</td>\n",
       "      <td>Tourism Marketing</td>\n",
       "    </tr>\n",
       "  </tbody>\n",
       "</table>\n",
       "<p>1961 rows × 2 columns</p>\n",
       "</div>"
      ],
      "text/plain": [
       "       code                                              title\n",
       "0     AL801     Software Design for Virtual Reality and Gaming\n",
       "1     AL802  Software Design in Artificial Intelligence for...\n",
       "2     AL803  Software Design for Mobile Apps and Connected ...\n",
       "3     AL805    Computer Engineering for Network Infrastructure\n",
       "4     AL810                                 Quantity Surveying\n",
       "...     ...                                                ...\n",
       "3281  TL801         Animation Visual Effects and Motion Design\n",
       "3282  TL802                             TV Radio and New Media\n",
       "3283  TL803                                   Music Technology\n",
       "3286  TL812                       Computing with Digital Media\n",
       "3324  WD148                                  Tourism Marketing\n",
       "\n",
       "[1961 rows x 2 columns]"
      ]
     },
     "execution_count": 40,
     "metadata": {},
     "output_type": "execute_result"
    }
   ],
   "source": [
    "#returns back the dataframe with all duplicates dropped\n",
    "# 1961 course codes returned\n",
    "allcourses.drop_duplicates()"
   ]
  },
  {
   "cell_type": "code",
   "execution_count": 41,
   "id": "d15b3454-b371-4797-9d7f-4d91f2c527f3",
   "metadata": {},
   "outputs": [
    {
     "data": {
      "text/html": [
       "<div>\n",
       "<style scoped>\n",
       "    .dataframe tbody tr th:only-of-type {\n",
       "        vertical-align: middle;\n",
       "    }\n",
       "\n",
       "    .dataframe tbody tr th {\n",
       "        vertical-align: top;\n",
       "    }\n",
       "\n",
       "    .dataframe thead th {\n",
       "        text-align: right;\n",
       "    }\n",
       "</style>\n",
       "<table border=\"1\" class=\"dataframe\">\n",
       "  <thead>\n",
       "    <tr style=\"text-align: right;\">\n",
       "      <th></th>\n",
       "      <th>code</th>\n",
       "      <th>title</th>\n",
       "    </tr>\n",
       "  </thead>\n",
       "  <tbody>\n",
       "    <tr>\n",
       "      <th>949</th>\n",
       "      <td>AC120</td>\n",
       "      <td>International Business</td>\n",
       "    </tr>\n",
       "    <tr>\n",
       "      <th>950</th>\n",
       "      <td>AC137</td>\n",
       "      <td>Liberal Arts</td>\n",
       "    </tr>\n",
       "    <tr>\n",
       "      <th>951</th>\n",
       "      <td>AD101</td>\n",
       "      <td>First Year Art &amp; Design (Common Entry,portfolio)</td>\n",
       "    </tr>\n",
       "    <tr>\n",
       "      <th>952</th>\n",
       "      <td>AD102</td>\n",
       "      <td>Graphic Design and Moving Image Design (portfo...</td>\n",
       "    </tr>\n",
       "    <tr>\n",
       "      <th>953</th>\n",
       "      <td>AD103</td>\n",
       "      <td>Textile &amp; Surface Design and Jewellery &amp; Objec...</td>\n",
       "    </tr>\n",
       "    <tr>\n",
       "      <th>...</th>\n",
       "      <td>...</td>\n",
       "      <td>...</td>\n",
       "    </tr>\n",
       "    <tr>\n",
       "      <th>3338</th>\n",
       "      <td>WD200</td>\n",
       "      <td>Arts (options)</td>\n",
       "    </tr>\n",
       "    <tr>\n",
       "      <th>3339</th>\n",
       "      <td>WD210</td>\n",
       "      <td>Software Systems Development</td>\n",
       "    </tr>\n",
       "    <tr>\n",
       "      <th>3340</th>\n",
       "      <td>WD211</td>\n",
       "      <td>Creative Computing</td>\n",
       "    </tr>\n",
       "    <tr>\n",
       "      <th>3341</th>\n",
       "      <td>WD212</td>\n",
       "      <td>Recreation and Sport Management</td>\n",
       "    </tr>\n",
       "    <tr>\n",
       "      <th>3342</th>\n",
       "      <td>WD230</td>\n",
       "      <td>Mechanical and Manufacturing Engineering</td>\n",
       "    </tr>\n",
       "  </tbody>\n",
       "</table>\n",
       "<p>1692 rows × 2 columns</p>\n",
       "</div>"
      ],
      "text/plain": [
       "       code                                              title\n",
       "949   AC120                             International Business\n",
       "950   AC137                                       Liberal Arts\n",
       "951   AD101   First Year Art & Design (Common Entry,portfolio)\n",
       "952   AD102  Graphic Design and Moving Image Design (portfo...\n",
       "953   AD103  Textile & Surface Design and Jewellery & Objec...\n",
       "...     ...                                                ...\n",
       "3338  WD200                                     Arts (options)\n",
       "3339  WD210                       Software Systems Development\n",
       "3340  WD211                                 Creative Computing\n",
       "3341  WD212                    Recreation and Sport Management\n",
       "3342  WD230           Mechanical and Manufacturing Engineering\n",
       "\n",
       "[1692 rows x 2 columns]"
      ]
     },
     "execution_count": 41,
     "metadata": {},
     "output_type": "execute_result"
    }
   ],
   "source": [
    "# Returns all extra copies of duplicated rows.\n",
    "allcourses[allcourses.duplicated(subset =['code'])]"
   ]
  },
  {
   "cell_type": "code",
   "execution_count": 42,
   "id": "4f9d0783-efba-4248-b00f-8ed3db6bd85f",
   "metadata": {},
   "outputs": [
    {
     "data": {
      "text/html": [
       "<div>\n",
       "<style scoped>\n",
       "    .dataframe tbody tr th:only-of-type {\n",
       "        vertical-align: middle;\n",
       "    }\n",
       "\n",
       "    .dataframe tbody tr th {\n",
       "        vertical-align: top;\n",
       "    }\n",
       "\n",
       "    .dataframe thead th {\n",
       "        text-align: right;\n",
       "    }\n",
       "</style>\n",
       "<table border=\"1\" class=\"dataframe\">\n",
       "  <thead>\n",
       "    <tr style=\"text-align: right;\">\n",
       "      <th></th>\n",
       "      <th>code</th>\n",
       "      <th>title</th>\n",
       "    </tr>\n",
       "  </thead>\n",
       "  <tbody>\n",
       "    <tr>\n",
       "      <th>0</th>\n",
       "      <td>AL801</td>\n",
       "      <td>Software Design for Virtual Reality and Gaming</td>\n",
       "    </tr>\n",
       "    <tr>\n",
       "      <th>1</th>\n",
       "      <td>AL802</td>\n",
       "      <td>Software Design in Artificial Intelligence for...</td>\n",
       "    </tr>\n",
       "    <tr>\n",
       "      <th>2</th>\n",
       "      <td>AL803</td>\n",
       "      <td>Software Design for Mobile Apps and Connected ...</td>\n",
       "    </tr>\n",
       "    <tr>\n",
       "      <th>3</th>\n",
       "      <td>AL805</td>\n",
       "      <td>Computer Engineering for Network Infrastructure</td>\n",
       "    </tr>\n",
       "    <tr>\n",
       "      <th>4</th>\n",
       "      <td>AL810</td>\n",
       "      <td>Quantity Surveying</td>\n",
       "    </tr>\n",
       "    <tr>\n",
       "      <th>...</th>\n",
       "      <td>...</td>\n",
       "      <td>...</td>\n",
       "    </tr>\n",
       "    <tr>\n",
       "      <th>3272</th>\n",
       "      <td>SG441</td>\n",
       "      <td>Environmental Science</td>\n",
       "    </tr>\n",
       "    <tr>\n",
       "      <th>3277</th>\n",
       "      <td>SG446</td>\n",
       "      <td>Applied Archaeology</td>\n",
       "    </tr>\n",
       "    <tr>\n",
       "      <th>3283</th>\n",
       "      <td>TL803</td>\n",
       "      <td>Music Technology</td>\n",
       "    </tr>\n",
       "    <tr>\n",
       "      <th>3286</th>\n",
       "      <td>TL812</td>\n",
       "      <td>Computing with Digital Media</td>\n",
       "    </tr>\n",
       "    <tr>\n",
       "      <th>3324</th>\n",
       "      <td>WD148</td>\n",
       "      <td>Tourism Marketing</td>\n",
       "    </tr>\n",
       "  </tbody>\n",
       "</table>\n",
       "<p>1651 rows × 2 columns</p>\n",
       "</div>"
      ],
      "text/plain": [
       "       code                                              title\n",
       "0     AL801     Software Design for Virtual Reality and Gaming\n",
       "1     AL802  Software Design in Artificial Intelligence for...\n",
       "2     AL803  Software Design for Mobile Apps and Connected ...\n",
       "3     AL805    Computer Engineering for Network Infrastructure\n",
       "4     AL810                                 Quantity Surveying\n",
       "...     ...                                                ...\n",
       "3272  SG441                              Environmental Science\n",
       "3277  SG446                                Applied Archaeology\n",
       "3283  TL803                                   Music Technology\n",
       "3286  TL812                       Computing with Digital Media\n",
       "3324  WD148                                  Tourism Marketing\n",
       "\n",
       "[1651 rows x 2 columns]"
      ]
     },
     "execution_count": 42,
     "metadata": {},
     "output_type": "execute_result"
    }
   ],
   "source": [
    "# drop duplicates based on the same code\n",
    "# 1651 course codes returned\n",
    "allcourses.drop_duplicates(subset=['code'])"
   ]
  },
  {
   "cell_type": "code",
   "execution_count": 43,
   "id": "b0eb222b-67c4-4b74-9e09-bc339d570649",
   "metadata": {},
   "outputs": [],
   "source": [
    "# drop duplicates based on the same code\n",
    "# this time creates a new dataframe as by default-this is identified by 'inplace=False'\n",
    "# ignore_index cleans up the duplicates in the index i.e. counts just one of duplicates indexes\n",
    "allcourses.drop_duplicates(subset=['code'], inplace=True, ignore_index=True)"
   ]
  },
  {
   "cell_type": "code",
   "execution_count": 44,
   "id": "733ccfe3-7dda-4085-9d44-3a053c32b2bd",
   "metadata": {},
   "outputs": [
    {
     "data": {
      "text/html": [
       "<div>\n",
       "<style scoped>\n",
       "    .dataframe tbody tr th:only-of-type {\n",
       "        vertical-align: middle;\n",
       "    }\n",
       "\n",
       "    .dataframe tbody tr th {\n",
       "        vertical-align: top;\n",
       "    }\n",
       "\n",
       "    .dataframe thead th {\n",
       "        text-align: right;\n",
       "    }\n",
       "</style>\n",
       "<table border=\"1\" class=\"dataframe\">\n",
       "  <thead>\n",
       "    <tr style=\"text-align: right;\">\n",
       "      <th></th>\n",
       "      <th>code</th>\n",
       "      <th>title</th>\n",
       "    </tr>\n",
       "  </thead>\n",
       "  <tbody>\n",
       "    <tr>\n",
       "      <th>0</th>\n",
       "      <td>AL801</td>\n",
       "      <td>Software Design for Virtual Reality and Gaming</td>\n",
       "    </tr>\n",
       "    <tr>\n",
       "      <th>1</th>\n",
       "      <td>AL802</td>\n",
       "      <td>Software Design in Artificial Intelligence for...</td>\n",
       "    </tr>\n",
       "    <tr>\n",
       "      <th>2</th>\n",
       "      <td>AL803</td>\n",
       "      <td>Software Design for Mobile Apps and Connected ...</td>\n",
       "    </tr>\n",
       "    <tr>\n",
       "      <th>3</th>\n",
       "      <td>AL805</td>\n",
       "      <td>Computer Engineering for Network Infrastructure</td>\n",
       "    </tr>\n",
       "    <tr>\n",
       "      <th>4</th>\n",
       "      <td>AL810</td>\n",
       "      <td>Quantity Surveying</td>\n",
       "    </tr>\n",
       "    <tr>\n",
       "      <th>...</th>\n",
       "      <td>...</td>\n",
       "      <td>...</td>\n",
       "    </tr>\n",
       "    <tr>\n",
       "      <th>1646</th>\n",
       "      <td>SG441</td>\n",
       "      <td>Environmental Science</td>\n",
       "    </tr>\n",
       "    <tr>\n",
       "      <th>1647</th>\n",
       "      <td>SG446</td>\n",
       "      <td>Applied Archaeology</td>\n",
       "    </tr>\n",
       "    <tr>\n",
       "      <th>1648</th>\n",
       "      <td>TL803</td>\n",
       "      <td>Music Technology</td>\n",
       "    </tr>\n",
       "    <tr>\n",
       "      <th>1649</th>\n",
       "      <td>TL812</td>\n",
       "      <td>Computing with Digital Media</td>\n",
       "    </tr>\n",
       "    <tr>\n",
       "      <th>1650</th>\n",
       "      <td>WD148</td>\n",
       "      <td>Tourism Marketing</td>\n",
       "    </tr>\n",
       "  </tbody>\n",
       "</table>\n",
       "<p>1651 rows × 2 columns</p>\n",
       "</div>"
      ],
      "text/plain": [
       "       code                                              title\n",
       "0     AL801     Software Design for Virtual Reality and Gaming\n",
       "1     AL802  Software Design in Artificial Intelligence for...\n",
       "2     AL803  Software Design for Mobile Apps and Connected ...\n",
       "3     AL805    Computer Engineering for Network Infrastructure\n",
       "4     AL810                                 Quantity Surveying\n",
       "...     ...                                                ...\n",
       "1646  SG441                              Environmental Science\n",
       "1647  SG446                                Applied Archaeology\n",
       "1648  TL803                                   Music Technology\n",
       "1649  TL812                       Computing with Digital Media\n",
       "1650  WD148                                  Tourism Marketing\n",
       "\n",
       "[1651 rows x 2 columns]"
      ]
     },
     "execution_count": 44,
     "metadata": {},
     "output_type": "execute_result"
    }
   ],
   "source": [
    "# as we used inplace=True then we have permanently unduplicated the dataframe for codes\n",
    "# when run allcourses this time the default dataframe has no course code duplicates\n",
    "#1651 unique codes between 2021-2019\n",
    "allcourses"
   ]
  },
  {
   "cell_type": "markdown",
   "id": "45e0bfe6-7463-4099-af63-c98f74efa1e9",
   "metadata": {},
   "source": [
    "<br>\n",
    "\n",
    "## Join all Points to newly formed dataframe (with all the listed courses)\n",
    "***\n",
    "<br>\n"
   ]
  },
  {
   "cell_type": "markdown",
   "id": "6609154e-7c26-4a39-8700-1a391eb25616",
   "metadata": {},
   "source": [
    "worth knowing: pandas dataframe.join\n",
    "how:\n",
    "**main event is left**\n",
    "- left join: - whatever df is on the left (join call) the other is on the right . keeps everything from the left\n",
    "- only join: keeps values in BOTH dataframes\n",
    "- right join: keeps everything in the right dataframe\n",
    "- full-outer join merges everything- (have a lot of NaN's)"
   ]
  },
  {
   "cell_type": "code",
   "execution_count": 45,
   "id": "c988227d-1bc2-456b-bd98-98d35816f6d2",
   "metadata": {},
   "outputs": [
    {
     "data": {
      "text/html": [
       "<div>\n",
       "<style scoped>\n",
       "    .dataframe tbody tr th:only-of-type {\n",
       "        vertical-align: middle;\n",
       "    }\n",
       "\n",
       "    .dataframe tbody tr th {\n",
       "        vertical-align: top;\n",
       "    }\n",
       "\n",
       "    .dataframe thead th {\n",
       "        text-align: right;\n",
       "    }\n",
       "</style>\n",
       "<table border=\"1\" class=\"dataframe\">\n",
       "  <thead>\n",
       "    <tr style=\"text-align: right;\">\n",
       "      <th></th>\n",
       "      <th>title</th>\n",
       "      <th>points_r1_2021</th>\n",
       "      <th>points_r2_2021</th>\n",
       "    </tr>\n",
       "    <tr>\n",
       "      <th>code</th>\n",
       "      <th></th>\n",
       "      <th></th>\n",
       "      <th></th>\n",
       "    </tr>\n",
       "  </thead>\n",
       "  <tbody>\n",
       "    <tr>\n",
       "      <th>AL801</th>\n",
       "      <td>Software Design for Virtual Reality and Gaming</td>\n",
       "      <td>300</td>\n",
       "      <td>NaN</td>\n",
       "    </tr>\n",
       "    <tr>\n",
       "      <th>AL802</th>\n",
       "      <td>Software Design in Artificial Intelligence for...</td>\n",
       "      <td>313</td>\n",
       "      <td>NaN</td>\n",
       "    </tr>\n",
       "    <tr>\n",
       "      <th>AL803</th>\n",
       "      <td>Software Design for Mobile Apps and Connected ...</td>\n",
       "      <td>350</td>\n",
       "      <td>NaN</td>\n",
       "    </tr>\n",
       "    <tr>\n",
       "      <th>AL805</th>\n",
       "      <td>Computer Engineering for Network Infrastructure</td>\n",
       "      <td>321</td>\n",
       "      <td>NaN</td>\n",
       "    </tr>\n",
       "    <tr>\n",
       "      <th>AL810</th>\n",
       "      <td>Quantity Surveying</td>\n",
       "      <td>328</td>\n",
       "      <td>NaN</td>\n",
       "    </tr>\n",
       "    <tr>\n",
       "      <th>...</th>\n",
       "      <td>...</td>\n",
       "      <td>...</td>\n",
       "      <td>...</td>\n",
       "    </tr>\n",
       "    <tr>\n",
       "      <th>WD211</th>\n",
       "      <td>Creative Computing</td>\n",
       "      <td>270</td>\n",
       "      <td>NaN</td>\n",
       "    </tr>\n",
       "    <tr>\n",
       "      <th>WD212</th>\n",
       "      <td>Recreation and Sport Management</td>\n",
       "      <td>262</td>\n",
       "      <td>NaN</td>\n",
       "    </tr>\n",
       "    <tr>\n",
       "      <th>WD230</th>\n",
       "      <td>Mechanical and Manufacturing Engineering</td>\n",
       "      <td>230</td>\n",
       "      <td>230</td>\n",
       "    </tr>\n",
       "    <tr>\n",
       "      <th>WD231</th>\n",
       "      <td>Early Childhood Care and Education</td>\n",
       "      <td>266</td>\n",
       "      <td>NaN</td>\n",
       "    </tr>\n",
       "    <tr>\n",
       "      <th>WD232</th>\n",
       "      <td>Business Information Systems</td>\n",
       "      <td>261</td>\n",
       "      <td>261</td>\n",
       "    </tr>\n",
       "  </tbody>\n",
       "</table>\n",
       "<p>949 rows × 3 columns</p>\n",
       "</div>"
      ],
      "text/plain": [
       "                                                   title points_r1_2021  \\\n",
       "code                                                                      \n",
       "AL801     Software Design for Virtual Reality and Gaming            300   \n",
       "AL802  Software Design in Artificial Intelligence for...            313   \n",
       "AL803  Software Design for Mobile Apps and Connected ...            350   \n",
       "AL805    Computer Engineering for Network Infrastructure            321   \n",
       "AL810                                 Quantity Surveying            328   \n",
       "...                                                  ...            ...   \n",
       "WD211                                 Creative Computing            270   \n",
       "WD212                    Recreation and Sport Management            262   \n",
       "WD230           Mechanical and Manufacturing Engineering            230   \n",
       "WD231                 Early Childhood Care and Education            266   \n",
       "WD232                       Business Information Systems            261   \n",
       "\n",
       "      points_r2_2021  \n",
       "code                  \n",
       "AL801            NaN  \n",
       "AL802            NaN  \n",
       "AL803            NaN  \n",
       "AL805            NaN  \n",
       "AL810            NaN  \n",
       "...              ...  \n",
       "WD211            NaN  \n",
       "WD212            NaN  \n",
       "WD230            230  \n",
       "WD231            NaN  \n",
       "WD232            261  \n",
       "\n",
       "[949 rows x 3 columns]"
      ]
     },
     "execution_count": 45,
     "metadata": {},
     "output_type": "execute_result"
    }
   ],
   "source": [
    "#set the index to the code column\n",
    "df2021.set_index ('code', inplace=True)\n",
    "df2021.columns = ['title' , 'points_r1_2021', 'points_r2_2021']\n",
    "df2021"
   ]
  },
  {
   "cell_type": "markdown",
   "id": "2dee8103-0f56-4b67-bb54-760edbd0c7fe",
   "metadata": {},
   "source": [
    "##### pull in the points from 2021 and 2020\n"
   ]
  },
  {
   "cell_type": "code",
   "execution_count": 46,
   "id": "3d0d798c-fdc5-4d45-a297-0f216df1b4c4",
   "metadata": {},
   "outputs": [],
   "source": [
    "#set the column as the index\n",
    "allcourses.set_index('code', inplace =True)"
   ]
  },
  {
   "cell_type": "code",
   "execution_count": 47,
   "id": "aec9957a-978d-468f-be73-9de6856e941e",
   "metadata": {},
   "outputs": [
    {
     "data": {
      "text/html": [
       "<div>\n",
       "<style scoped>\n",
       "    .dataframe tbody tr th:only-of-type {\n",
       "        vertical-align: middle;\n",
       "    }\n",
       "\n",
       "    .dataframe tbody tr th {\n",
       "        vertical-align: top;\n",
       "    }\n",
       "\n",
       "    .dataframe thead th {\n",
       "        text-align: right;\n",
       "    }\n",
       "</style>\n",
       "<table border=\"1\" class=\"dataframe\">\n",
       "  <thead>\n",
       "    <tr style=\"text-align: right;\">\n",
       "      <th></th>\n",
       "      <th>title</th>\n",
       "      <th>points_r1_2021</th>\n",
       "    </tr>\n",
       "    <tr>\n",
       "      <th>code</th>\n",
       "      <th></th>\n",
       "      <th></th>\n",
       "    </tr>\n",
       "  </thead>\n",
       "  <tbody>\n",
       "    <tr>\n",
       "      <th>AL801</th>\n",
       "      <td>Software Design for Virtual Reality and Gaming</td>\n",
       "      <td>300</td>\n",
       "    </tr>\n",
       "    <tr>\n",
       "      <th>AL802</th>\n",
       "      <td>Software Design in Artificial Intelligence for...</td>\n",
       "      <td>313</td>\n",
       "    </tr>\n",
       "    <tr>\n",
       "      <th>AL803</th>\n",
       "      <td>Software Design for Mobile Apps and Connected ...</td>\n",
       "      <td>350</td>\n",
       "    </tr>\n",
       "    <tr>\n",
       "      <th>AL805</th>\n",
       "      <td>Computer Engineering for Network Infrastructure</td>\n",
       "      <td>321</td>\n",
       "    </tr>\n",
       "    <tr>\n",
       "      <th>AL810</th>\n",
       "      <td>Quantity Surveying</td>\n",
       "      <td>328</td>\n",
       "    </tr>\n",
       "    <tr>\n",
       "      <th>...</th>\n",
       "      <td>...</td>\n",
       "      <td>...</td>\n",
       "    </tr>\n",
       "    <tr>\n",
       "      <th>SG441</th>\n",
       "      <td>Environmental Science</td>\n",
       "      <td>NaN</td>\n",
       "    </tr>\n",
       "    <tr>\n",
       "      <th>SG446</th>\n",
       "      <td>Applied Archaeology</td>\n",
       "      <td>NaN</td>\n",
       "    </tr>\n",
       "    <tr>\n",
       "      <th>TL803</th>\n",
       "      <td>Music Technology</td>\n",
       "      <td>NaN</td>\n",
       "    </tr>\n",
       "    <tr>\n",
       "      <th>TL812</th>\n",
       "      <td>Computing with Digital Media</td>\n",
       "      <td>NaN</td>\n",
       "    </tr>\n",
       "    <tr>\n",
       "      <th>WD148</th>\n",
       "      <td>Tourism Marketing</td>\n",
       "      <td>NaN</td>\n",
       "    </tr>\n",
       "  </tbody>\n",
       "</table>\n",
       "<p>1651 rows × 2 columns</p>\n",
       "</div>"
      ],
      "text/plain": [
       "                                                   title points_r1_2021\n",
       "code                                                                   \n",
       "AL801     Software Design for Virtual Reality and Gaming            300\n",
       "AL802  Software Design in Artificial Intelligence for...            313\n",
       "AL803  Software Design for Mobile Apps and Connected ...            350\n",
       "AL805    Computer Engineering for Network Infrastructure            321\n",
       "AL810                                 Quantity Surveying            328\n",
       "...                                                  ...            ...\n",
       "SG441                              Environmental Science            NaN\n",
       "SG446                                Applied Archaeology            NaN\n",
       "TL803                                   Music Technology            NaN\n",
       "TL812                       Computing with Digital Media            NaN\n",
       "WD148                                  Tourism Marketing            NaN\n",
       "\n",
       "[1651 rows x 2 columns]"
      ]
     },
     "execution_count": 47,
     "metadata": {},
     "output_type": "execute_result"
    }
   ],
   "source": [
    "#just merge what you need from the 2021 dataframe i.e. code and points\n",
    "#where NaN it defines as code that was not run in 2021\n",
    "allcourses = allcourses.join(df2021[['points_r1_2021']])\n",
    "allcourses"
   ]
  },
  {
   "cell_type": "code",
   "execution_count": 48,
   "id": "b74e5fef-6de0-4d88-8842-2e757850be49",
   "metadata": {},
   "outputs": [
    {
     "data": {
      "text/html": [
       "<div>\n",
       "<style scoped>\n",
       "    .dataframe tbody tr th:only-of-type {\n",
       "        vertical-align: middle;\n",
       "    }\n",
       "\n",
       "    .dataframe tbody tr th {\n",
       "        vertical-align: top;\n",
       "    }\n",
       "\n",
       "    .dataframe thead th {\n",
       "        text-align: right;\n",
       "    }\n",
       "</style>\n",
       "<table border=\"1\" class=\"dataframe\">\n",
       "  <thead>\n",
       "    <tr style=\"text-align: right;\">\n",
       "      <th></th>\n",
       "      <th>code</th>\n",
       "      <th>points_R1_2020</th>\n",
       "    </tr>\n",
       "  </thead>\n",
       "  <tbody>\n",
       "    <tr>\n",
       "      <th>0</th>\n",
       "      <td>AC120</td>\n",
       "      <td>209</td>\n",
       "    </tr>\n",
       "    <tr>\n",
       "      <th>1</th>\n",
       "      <td>AC137</td>\n",
       "      <td>252</td>\n",
       "    </tr>\n",
       "    <tr>\n",
       "      <th>2</th>\n",
       "      <td>AD101</td>\n",
       "      <td>#+matric</td>\n",
       "    </tr>\n",
       "    <tr>\n",
       "      <th>3</th>\n",
       "      <td>AD102</td>\n",
       "      <td>#+matric</td>\n",
       "    </tr>\n",
       "    <tr>\n",
       "      <th>4</th>\n",
       "      <td>AD103</td>\n",
       "      <td>#+matric</td>\n",
       "    </tr>\n",
       "    <tr>\n",
       "      <th>...</th>\n",
       "      <td>...</td>\n",
       "      <td>...</td>\n",
       "    </tr>\n",
       "    <tr>\n",
       "      <th>1459</th>\n",
       "      <td>WD208</td>\n",
       "      <td>188</td>\n",
       "    </tr>\n",
       "    <tr>\n",
       "      <th>1460</th>\n",
       "      <td>WD210</td>\n",
       "      <td>279</td>\n",
       "    </tr>\n",
       "    <tr>\n",
       "      <th>1461</th>\n",
       "      <td>WD211</td>\n",
       "      <td>271</td>\n",
       "    </tr>\n",
       "    <tr>\n",
       "      <th>1462</th>\n",
       "      <td>WD212</td>\n",
       "      <td>270</td>\n",
       "    </tr>\n",
       "    <tr>\n",
       "      <th>1463</th>\n",
       "      <td>WD230</td>\n",
       "      <td>253</td>\n",
       "    </tr>\n",
       "  </tbody>\n",
       "</table>\n",
       "<p>1464 rows × 2 columns</p>\n",
       "</div>"
      ],
      "text/plain": [
       "       code points_R1_2020\n",
       "0     AC120            209\n",
       "1     AC137            252\n",
       "2     AD101       #+matric\n",
       "3     AD102       #+matric\n",
       "4     AD103       #+matric\n",
       "...     ...            ...\n",
       "1459  WD208            188\n",
       "1460  WD210            279\n",
       "1461  WD211            271\n",
       "1462  WD212            270\n",
       "1463  WD230            253\n",
       "\n",
       "[1464 rows x 2 columns]"
      ]
     },
     "execution_count": 48,
     "metadata": {},
     "output_type": "execute_result"
    }
   ],
   "source": [
    "# rename the points columns in df2020 to align with allcourses nomenclature\n",
    "df2020_r1= df2020 [['COURSE CODE2', 'R1 POINTS']]\n",
    "df2020_r1.columns = ['code', 'points_R1_2020']\n",
    "df2020_r1"
   ]
  },
  {
   "cell_type": "code",
   "execution_count": 49,
   "id": "22f381eb-36aa-431b-9c31-fea06e427628",
   "metadata": {},
   "outputs": [
    {
     "data": {
      "text/html": [
       "<div>\n",
       "<style scoped>\n",
       "    .dataframe tbody tr th:only-of-type {\n",
       "        vertical-align: middle;\n",
       "    }\n",
       "\n",
       "    .dataframe tbody tr th {\n",
       "        vertical-align: top;\n",
       "    }\n",
       "\n",
       "    .dataframe thead th {\n",
       "        text-align: right;\n",
       "    }\n",
       "</style>\n",
       "<table border=\"1\" class=\"dataframe\">\n",
       "  <thead>\n",
       "    <tr style=\"text-align: right;\">\n",
       "      <th></th>\n",
       "      <th>points_R1_2020</th>\n",
       "    </tr>\n",
       "    <tr>\n",
       "      <th>code</th>\n",
       "      <th></th>\n",
       "    </tr>\n",
       "  </thead>\n",
       "  <tbody>\n",
       "    <tr>\n",
       "      <th>AC120</th>\n",
       "      <td>209</td>\n",
       "    </tr>\n",
       "    <tr>\n",
       "      <th>AC137</th>\n",
       "      <td>252</td>\n",
       "    </tr>\n",
       "    <tr>\n",
       "      <th>AD101</th>\n",
       "      <td>#+matric</td>\n",
       "    </tr>\n",
       "    <tr>\n",
       "      <th>AD102</th>\n",
       "      <td>#+matric</td>\n",
       "    </tr>\n",
       "    <tr>\n",
       "      <th>AD103</th>\n",
       "      <td>#+matric</td>\n",
       "    </tr>\n",
       "    <tr>\n",
       "      <th>...</th>\n",
       "      <td>...</td>\n",
       "    </tr>\n",
       "    <tr>\n",
       "      <th>WD208</th>\n",
       "      <td>188</td>\n",
       "    </tr>\n",
       "    <tr>\n",
       "      <th>WD210</th>\n",
       "      <td>279</td>\n",
       "    </tr>\n",
       "    <tr>\n",
       "      <th>WD211</th>\n",
       "      <td>271</td>\n",
       "    </tr>\n",
       "    <tr>\n",
       "      <th>WD212</th>\n",
       "      <td>270</td>\n",
       "    </tr>\n",
       "    <tr>\n",
       "      <th>WD230</th>\n",
       "      <td>253</td>\n",
       "    </tr>\n",
       "  </tbody>\n",
       "</table>\n",
       "<p>1464 rows × 1 columns</p>\n",
       "</div>"
      ],
      "text/plain": [
       "      points_R1_2020\n",
       "code                \n",
       "AC120            209\n",
       "AC137            252\n",
       "AD101       #+matric\n",
       "AD102       #+matric\n",
       "AD103       #+matric\n",
       "...              ...\n",
       "WD208            188\n",
       "WD210            279\n",
       "WD211            271\n",
       "WD212            270\n",
       "WD230            253\n",
       "\n",
       "[1464 rows x 1 columns]"
      ]
     },
     "execution_count": 49,
     "metadata": {},
     "output_type": "execute_result"
    }
   ],
   "source": [
    "# set the index to the code column\n",
    "df2020_r1.set_index ('code', inplace=True)\n",
    "df2020_r1                 "
   ]
  },
  {
   "cell_type": "code",
   "execution_count": 50,
   "id": "dbebaac8-ac7b-4220-92ee-7169b9151f78",
   "metadata": {},
   "outputs": [
    {
     "name": "stdout",
     "output_type": "stream",
     "text": [
      "<class 'pandas.core.frame.DataFrame'>\n",
      "Index: 1464 entries, AC120 to WD230\n",
      "Data columns (total 1 columns):\n",
      " #   Column          Non-Null Count  Dtype \n",
      "---  ------          --------------  ----- \n",
      " 0   points_R1_2020  1437 non-null   object\n",
      "dtypes: object(1)\n",
      "memory usage: 22.9+ KB\n"
     ]
    }
   ],
   "source": [
    "# check df2020 data datatype\n",
    "df2020_r1.info() "
   ]
  },
  {
   "cell_type": "markdown",
   "id": "50b3e3a5-078d-407c-9b66-f7c40c4652d2",
   "metadata": {},
   "source": [
    "##### merge of 2020 datapoints\n",
    "merge what you need from the 2021 dataframe i.e. code and points <br>\n",
    "where NaN it defines as code that was not run in 2021<br>\n",
    "join2020 points to allcourses df<br>\n"
   ]
  },
  {
   "cell_type": "code",
   "execution_count": 51,
   "id": "3df2efc9-ea63-433d-8e28-57ae75bf58d6",
   "metadata": {},
   "outputs": [
    {
     "data": {
      "text/html": [
       "<div>\n",
       "<style scoped>\n",
       "    .dataframe tbody tr th:only-of-type {\n",
       "        vertical-align: middle;\n",
       "    }\n",
       "\n",
       "    .dataframe tbody tr th {\n",
       "        vertical-align: top;\n",
       "    }\n",
       "\n",
       "    .dataframe thead th {\n",
       "        text-align: right;\n",
       "    }\n",
       "</style>\n",
       "<table border=\"1\" class=\"dataframe\">\n",
       "  <thead>\n",
       "    <tr style=\"text-align: right;\">\n",
       "      <th></th>\n",
       "      <th>title</th>\n",
       "      <th>points_r1_2021</th>\n",
       "      <th>points_R1_2020</th>\n",
       "    </tr>\n",
       "    <tr>\n",
       "      <th>code</th>\n",
       "      <th></th>\n",
       "      <th></th>\n",
       "      <th></th>\n",
       "    </tr>\n",
       "  </thead>\n",
       "  <tbody>\n",
       "    <tr>\n",
       "      <th>AL801</th>\n",
       "      <td>Software Design for Virtual Reality and Gaming</td>\n",
       "      <td>300</td>\n",
       "      <td>303</td>\n",
       "    </tr>\n",
       "    <tr>\n",
       "      <th>AL802</th>\n",
       "      <td>Software Design in Artificial Intelligence for...</td>\n",
       "      <td>313</td>\n",
       "      <td>332</td>\n",
       "    </tr>\n",
       "    <tr>\n",
       "      <th>AL803</th>\n",
       "      <td>Software Design for Mobile Apps and Connected ...</td>\n",
       "      <td>350</td>\n",
       "      <td>337</td>\n",
       "    </tr>\n",
       "    <tr>\n",
       "      <th>AL805</th>\n",
       "      <td>Computer Engineering for Network Infrastructure</td>\n",
       "      <td>321</td>\n",
       "      <td>333</td>\n",
       "    </tr>\n",
       "    <tr>\n",
       "      <th>AL810</th>\n",
       "      <td>Quantity Surveying</td>\n",
       "      <td>328</td>\n",
       "      <td>319</td>\n",
       "    </tr>\n",
       "    <tr>\n",
       "      <th>...</th>\n",
       "      <td>...</td>\n",
       "      <td>...</td>\n",
       "      <td>...</td>\n",
       "    </tr>\n",
       "    <tr>\n",
       "      <th>SG441</th>\n",
       "      <td>Environmental Science</td>\n",
       "      <td>NaN</td>\n",
       "      <td>NaN</td>\n",
       "    </tr>\n",
       "    <tr>\n",
       "      <th>SG446</th>\n",
       "      <td>Applied Archaeology</td>\n",
       "      <td>NaN</td>\n",
       "      <td>NaN</td>\n",
       "    </tr>\n",
       "    <tr>\n",
       "      <th>TL803</th>\n",
       "      <td>Music Technology</td>\n",
       "      <td>NaN</td>\n",
       "      <td>NaN</td>\n",
       "    </tr>\n",
       "    <tr>\n",
       "      <th>TL812</th>\n",
       "      <td>Computing with Digital Media</td>\n",
       "      <td>NaN</td>\n",
       "      <td>NaN</td>\n",
       "    </tr>\n",
       "    <tr>\n",
       "      <th>WD148</th>\n",
       "      <td>Tourism Marketing</td>\n",
       "      <td>NaN</td>\n",
       "      <td>NaN</td>\n",
       "    </tr>\n",
       "  </tbody>\n",
       "</table>\n",
       "<p>1651 rows × 3 columns</p>\n",
       "</div>"
      ],
      "text/plain": [
       "                                                   title points_r1_2021  \\\n",
       "code                                                                      \n",
       "AL801     Software Design for Virtual Reality and Gaming            300   \n",
       "AL802  Software Design in Artificial Intelligence for...            313   \n",
       "AL803  Software Design for Mobile Apps and Connected ...            350   \n",
       "AL805    Computer Engineering for Network Infrastructure            321   \n",
       "AL810                                 Quantity Surveying            328   \n",
       "...                                                  ...            ...   \n",
       "SG441                              Environmental Science            NaN   \n",
       "SG446                                Applied Archaeology            NaN   \n",
       "TL803                                   Music Technology            NaN   \n",
       "TL812                       Computing with Digital Media            NaN   \n",
       "WD148                                  Tourism Marketing            NaN   \n",
       "\n",
       "      points_R1_2020  \n",
       "code                  \n",
       "AL801            303  \n",
       "AL802            332  \n",
       "AL803            337  \n",
       "AL805            333  \n",
       "AL810            319  \n",
       "...              ...  \n",
       "SG441            NaN  \n",
       "SG446            NaN  \n",
       "TL803            NaN  \n",
       "TL812            NaN  \n",
       "WD148            NaN  \n",
       "\n",
       "[1651 rows x 3 columns]"
      ]
     },
     "execution_count": 51,
     "metadata": {},
     "output_type": "execute_result"
    }
   ],
   "source": [
    "# join 2020 points to all courses\n",
    "allcourses = allcourses.join(df2020_r1)\n",
    "allcourses"
   ]
  },
  {
   "cell_type": "code",
   "execution_count": 52,
   "id": "b4aa16d6-070a-48e7-b045-e0d0d579c50e",
   "metadata": {},
   "outputs": [
    {
     "data": {
      "text/html": [
       "<div>\n",
       "<style scoped>\n",
       "    .dataframe tbody tr th:only-of-type {\n",
       "        vertical-align: middle;\n",
       "    }\n",
       "\n",
       "    .dataframe tbody tr th {\n",
       "        vertical-align: top;\n",
       "    }\n",
       "\n",
       "    .dataframe thead th {\n",
       "        text-align: right;\n",
       "    }\n",
       "</style>\n",
       "<table border=\"1\" class=\"dataframe\">\n",
       "  <thead>\n",
       "    <tr style=\"text-align: right;\">\n",
       "      <th></th>\n",
       "      <th>Course Code</th>\n",
       "      <th>COURSE</th>\n",
       "      <th>EOS</th>\n",
       "      <th>Mid</th>\n",
       "    </tr>\n",
       "  </thead>\n",
       "  <tbody>\n",
       "    <tr>\n",
       "      <th>0</th>\n",
       "      <td>AL801</td>\n",
       "      <td>Software Design with Virtual Reality and Gaming</td>\n",
       "      <td>304</td>\n",
       "      <td>328.0</td>\n",
       "    </tr>\n",
       "    <tr>\n",
       "      <th>1</th>\n",
       "      <td>AL802</td>\n",
       "      <td>Software Design with Cloud Computing</td>\n",
       "      <td>301</td>\n",
       "      <td>306.0</td>\n",
       "    </tr>\n",
       "    <tr>\n",
       "      <th>2</th>\n",
       "      <td>AL803</td>\n",
       "      <td>Software Design with Mobile Apps and Connected...</td>\n",
       "      <td>309</td>\n",
       "      <td>337.0</td>\n",
       "    </tr>\n",
       "    <tr>\n",
       "      <th>3</th>\n",
       "      <td>AL805</td>\n",
       "      <td>Network Management and Cloud Infrastructure</td>\n",
       "      <td>329</td>\n",
       "      <td>442.0</td>\n",
       "    </tr>\n",
       "    <tr>\n",
       "      <th>4</th>\n",
       "      <td>AL810</td>\n",
       "      <td>Quantity Surveying</td>\n",
       "      <td>307</td>\n",
       "      <td>349.0</td>\n",
       "    </tr>\n",
       "    <tr>\n",
       "      <th>...</th>\n",
       "      <td>...</td>\n",
       "      <td>...</td>\n",
       "      <td>...</td>\n",
       "      <td>...</td>\n",
       "    </tr>\n",
       "    <tr>\n",
       "      <th>925</th>\n",
       "      <td>WD200</td>\n",
       "      <td>Arts (options)</td>\n",
       "      <td>221</td>\n",
       "      <td>296.0</td>\n",
       "    </tr>\n",
       "    <tr>\n",
       "      <th>926</th>\n",
       "      <td>WD210</td>\n",
       "      <td>Software Systems Development</td>\n",
       "      <td>271</td>\n",
       "      <td>329.0</td>\n",
       "    </tr>\n",
       "    <tr>\n",
       "      <th>927</th>\n",
       "      <td>WD211</td>\n",
       "      <td>Creative Computing</td>\n",
       "      <td>275</td>\n",
       "      <td>322.0</td>\n",
       "    </tr>\n",
       "    <tr>\n",
       "      <th>928</th>\n",
       "      <td>WD212</td>\n",
       "      <td>Recreation and Sport Management</td>\n",
       "      <td>274</td>\n",
       "      <td>311.0</td>\n",
       "    </tr>\n",
       "    <tr>\n",
       "      <th>929</th>\n",
       "      <td>WD230</td>\n",
       "      <td>Mechanical and Manufacturing Engineering</td>\n",
       "      <td>273</td>\n",
       "      <td>348.0</td>\n",
       "    </tr>\n",
       "  </tbody>\n",
       "</table>\n",
       "<p>930 rows × 4 columns</p>\n",
       "</div>"
      ],
      "text/plain": [
       "    Course Code                                             COURSE  EOS    Mid\n",
       "0         AL801    Software Design with Virtual Reality and Gaming  304  328.0\n",
       "1         AL802               Software Design with Cloud Computing  301  306.0\n",
       "2         AL803  Software Design with Mobile Apps and Connected...  309  337.0\n",
       "3         AL805        Network Management and Cloud Infrastructure  329  442.0\n",
       "4         AL810                                 Quantity Surveying  307  349.0\n",
       "..          ...                                                ...  ...    ...\n",
       "925       WD200                                     Arts (options)  221  296.0\n",
       "926       WD210                       Software Systems Development  271  329.0\n",
       "927       WD211                                 Creative Computing  275  322.0\n",
       "928       WD212                    Recreation and Sport Management  274  311.0\n",
       "929       WD230           Mechanical and Manufacturing Engineering  273  348.0\n",
       "\n",
       "[930 rows x 4 columns]"
      ]
     },
     "execution_count": 52,
     "metadata": {},
     "output_type": "execute_result"
    }
   ],
   "source": [
    "# check 2019 dataframe\n",
    "df2019"
   ]
  },
  {
   "cell_type": "code",
   "execution_count": 53,
   "id": "3d176862-50b2-4fe4-833c-445468aaeb05",
   "metadata": {},
   "outputs": [
    {
     "data": {
      "text/html": [
       "<div>\n",
       "<style scoped>\n",
       "    .dataframe tbody tr th:only-of-type {\n",
       "        vertical-align: middle;\n",
       "    }\n",
       "\n",
       "    .dataframe tbody tr th {\n",
       "        vertical-align: top;\n",
       "    }\n",
       "\n",
       "    .dataframe thead th {\n",
       "        text-align: right;\n",
       "    }\n",
       "</style>\n",
       "<table border=\"1\" class=\"dataframe\">\n",
       "  <thead>\n",
       "    <tr style=\"text-align: right;\">\n",
       "      <th></th>\n",
       "      <th>code</th>\n",
       "      <th>points_R1_2019</th>\n",
       "    </tr>\n",
       "  </thead>\n",
       "  <tbody>\n",
       "    <tr>\n",
       "      <th>0</th>\n",
       "      <td>AL801</td>\n",
       "      <td>304</td>\n",
       "    </tr>\n",
       "    <tr>\n",
       "      <th>1</th>\n",
       "      <td>AL802</td>\n",
       "      <td>301</td>\n",
       "    </tr>\n",
       "    <tr>\n",
       "      <th>2</th>\n",
       "      <td>AL803</td>\n",
       "      <td>309</td>\n",
       "    </tr>\n",
       "    <tr>\n",
       "      <th>3</th>\n",
       "      <td>AL805</td>\n",
       "      <td>329</td>\n",
       "    </tr>\n",
       "    <tr>\n",
       "      <th>4</th>\n",
       "      <td>AL810</td>\n",
       "      <td>307</td>\n",
       "    </tr>\n",
       "    <tr>\n",
       "      <th>...</th>\n",
       "      <td>...</td>\n",
       "      <td>...</td>\n",
       "    </tr>\n",
       "    <tr>\n",
       "      <th>925</th>\n",
       "      <td>WD200</td>\n",
       "      <td>221</td>\n",
       "    </tr>\n",
       "    <tr>\n",
       "      <th>926</th>\n",
       "      <td>WD210</td>\n",
       "      <td>271</td>\n",
       "    </tr>\n",
       "    <tr>\n",
       "      <th>927</th>\n",
       "      <td>WD211</td>\n",
       "      <td>275</td>\n",
       "    </tr>\n",
       "    <tr>\n",
       "      <th>928</th>\n",
       "      <td>WD212</td>\n",
       "      <td>274</td>\n",
       "    </tr>\n",
       "    <tr>\n",
       "      <th>929</th>\n",
       "      <td>WD230</td>\n",
       "      <td>273</td>\n",
       "    </tr>\n",
       "  </tbody>\n",
       "</table>\n",
       "<p>930 rows × 2 columns</p>\n",
       "</div>"
      ],
      "text/plain": [
       "      code points_R1_2019\n",
       "0    AL801            304\n",
       "1    AL802            301\n",
       "2    AL803            309\n",
       "3    AL805            329\n",
       "4    AL810            307\n",
       "..     ...            ...\n",
       "925  WD200            221\n",
       "926  WD210            271\n",
       "927  WD211            275\n",
       "928  WD212            274\n",
       "929  WD230            273\n",
       "\n",
       "[930 rows x 2 columns]"
      ]
     },
     "execution_count": 53,
     "metadata": {},
     "output_type": "execute_result"
    }
   ],
   "source": [
    "# rename the points columns in df2019 to align with allcourses nomenclature\n",
    "df2019_r1= df2019 [['Course Code', 'EOS']]\n",
    "df2019_r1.columns = ['code', 'points_R1_2019']\n",
    "df2019_r1"
   ]
  },
  {
   "cell_type": "code",
   "execution_count": 54,
   "id": "2baa4895-94cf-4f84-ac66-d704cae7de4e",
   "metadata": {},
   "outputs": [
    {
     "data": {
      "text/html": [
       "<div>\n",
       "<style scoped>\n",
       "    .dataframe tbody tr th:only-of-type {\n",
       "        vertical-align: middle;\n",
       "    }\n",
       "\n",
       "    .dataframe tbody tr th {\n",
       "        vertical-align: top;\n",
       "    }\n",
       "\n",
       "    .dataframe thead th {\n",
       "        text-align: right;\n",
       "    }\n",
       "</style>\n",
       "<table border=\"1\" class=\"dataframe\">\n",
       "  <thead>\n",
       "    <tr style=\"text-align: right;\">\n",
       "      <th></th>\n",
       "      <th>points_R1_2019</th>\n",
       "    </tr>\n",
       "    <tr>\n",
       "      <th>code</th>\n",
       "      <th></th>\n",
       "    </tr>\n",
       "  </thead>\n",
       "  <tbody>\n",
       "    <tr>\n",
       "      <th>AL801</th>\n",
       "      <td>304</td>\n",
       "    </tr>\n",
       "    <tr>\n",
       "      <th>AL802</th>\n",
       "      <td>301</td>\n",
       "    </tr>\n",
       "    <tr>\n",
       "      <th>AL803</th>\n",
       "      <td>309</td>\n",
       "    </tr>\n",
       "    <tr>\n",
       "      <th>AL805</th>\n",
       "      <td>329</td>\n",
       "    </tr>\n",
       "    <tr>\n",
       "      <th>AL810</th>\n",
       "      <td>307</td>\n",
       "    </tr>\n",
       "    <tr>\n",
       "      <th>...</th>\n",
       "      <td>...</td>\n",
       "    </tr>\n",
       "    <tr>\n",
       "      <th>WD200</th>\n",
       "      <td>221</td>\n",
       "    </tr>\n",
       "    <tr>\n",
       "      <th>WD210</th>\n",
       "      <td>271</td>\n",
       "    </tr>\n",
       "    <tr>\n",
       "      <th>WD211</th>\n",
       "      <td>275</td>\n",
       "    </tr>\n",
       "    <tr>\n",
       "      <th>WD212</th>\n",
       "      <td>274</td>\n",
       "    </tr>\n",
       "    <tr>\n",
       "      <th>WD230</th>\n",
       "      <td>273</td>\n",
       "    </tr>\n",
       "  </tbody>\n",
       "</table>\n",
       "<p>930 rows × 1 columns</p>\n",
       "</div>"
      ],
      "text/plain": [
       "      points_R1_2019\n",
       "code                \n",
       "AL801            304\n",
       "AL802            301\n",
       "AL803            309\n",
       "AL805            329\n",
       "AL810            307\n",
       "...              ...\n",
       "WD200            221\n",
       "WD210            271\n",
       "WD211            275\n",
       "WD212            274\n",
       "WD230            273\n",
       "\n",
       "[930 rows x 1 columns]"
      ]
     },
     "execution_count": 54,
     "metadata": {},
     "output_type": "execute_result"
    }
   ],
   "source": [
    "# set the index to the code column\n",
    "df2019_r1.set_index ('code', inplace=True)\n",
    "df2019_r1         "
   ]
  },
  {
   "cell_type": "code",
   "execution_count": 55,
   "id": "f9d2abd8-d2f1-43bd-af11-e67629eb6445",
   "metadata": {},
   "outputs": [
    {
     "data": {
      "text/html": [
       "<div>\n",
       "<style scoped>\n",
       "    .dataframe tbody tr th:only-of-type {\n",
       "        vertical-align: middle;\n",
       "    }\n",
       "\n",
       "    .dataframe tbody tr th {\n",
       "        vertical-align: top;\n",
       "    }\n",
       "\n",
       "    .dataframe thead th {\n",
       "        text-align: right;\n",
       "    }\n",
       "</style>\n",
       "<table border=\"1\" class=\"dataframe\">\n",
       "  <thead>\n",
       "    <tr style=\"text-align: right;\">\n",
       "      <th></th>\n",
       "      <th>title</th>\n",
       "      <th>points_r1_2021</th>\n",
       "      <th>points_R1_2020</th>\n",
       "      <th>points_R1_2019</th>\n",
       "    </tr>\n",
       "    <tr>\n",
       "      <th>code</th>\n",
       "      <th></th>\n",
       "      <th></th>\n",
       "      <th></th>\n",
       "      <th></th>\n",
       "    </tr>\n",
       "  </thead>\n",
       "  <tbody>\n",
       "    <tr>\n",
       "      <th>AL801</th>\n",
       "      <td>Software Design for Virtual Reality and Gaming</td>\n",
       "      <td>300</td>\n",
       "      <td>303</td>\n",
       "      <td>304</td>\n",
       "    </tr>\n",
       "    <tr>\n",
       "      <th>AL802</th>\n",
       "      <td>Software Design in Artificial Intelligence for...</td>\n",
       "      <td>313</td>\n",
       "      <td>332</td>\n",
       "      <td>301</td>\n",
       "    </tr>\n",
       "    <tr>\n",
       "      <th>AL803</th>\n",
       "      <td>Software Design for Mobile Apps and Connected ...</td>\n",
       "      <td>350</td>\n",
       "      <td>337</td>\n",
       "      <td>309</td>\n",
       "    </tr>\n",
       "    <tr>\n",
       "      <th>AL805</th>\n",
       "      <td>Computer Engineering for Network Infrastructure</td>\n",
       "      <td>321</td>\n",
       "      <td>333</td>\n",
       "      <td>329</td>\n",
       "    </tr>\n",
       "    <tr>\n",
       "      <th>AL810</th>\n",
       "      <td>Quantity Surveying</td>\n",
       "      <td>328</td>\n",
       "      <td>319</td>\n",
       "      <td>307</td>\n",
       "    </tr>\n",
       "    <tr>\n",
       "      <th>...</th>\n",
       "      <td>...</td>\n",
       "      <td>...</td>\n",
       "      <td>...</td>\n",
       "      <td>...</td>\n",
       "    </tr>\n",
       "    <tr>\n",
       "      <th>SG441</th>\n",
       "      <td>Environmental Science</td>\n",
       "      <td>NaN</td>\n",
       "      <td>NaN</td>\n",
       "      <td>297</td>\n",
       "    </tr>\n",
       "    <tr>\n",
       "      <th>SG446</th>\n",
       "      <td>Applied Archaeology</td>\n",
       "      <td>NaN</td>\n",
       "      <td>NaN</td>\n",
       "      <td>289</td>\n",
       "    </tr>\n",
       "    <tr>\n",
       "      <th>TL803</th>\n",
       "      <td>Music Technology</td>\n",
       "      <td>NaN</td>\n",
       "      <td>NaN</td>\n",
       "      <td>264</td>\n",
       "    </tr>\n",
       "    <tr>\n",
       "      <th>TL812</th>\n",
       "      <td>Computing with Digital Media</td>\n",
       "      <td>NaN</td>\n",
       "      <td>NaN</td>\n",
       "      <td>369</td>\n",
       "    </tr>\n",
       "    <tr>\n",
       "      <th>WD148</th>\n",
       "      <td>Tourism Marketing</td>\n",
       "      <td>NaN</td>\n",
       "      <td>NaN</td>\n",
       "      <td>269</td>\n",
       "    </tr>\n",
       "  </tbody>\n",
       "</table>\n",
       "<p>1651 rows × 4 columns</p>\n",
       "</div>"
      ],
      "text/plain": [
       "                                                   title points_r1_2021  \\\n",
       "code                                                                      \n",
       "AL801     Software Design for Virtual Reality and Gaming            300   \n",
       "AL802  Software Design in Artificial Intelligence for...            313   \n",
       "AL803  Software Design for Mobile Apps and Connected ...            350   \n",
       "AL805    Computer Engineering for Network Infrastructure            321   \n",
       "AL810                                 Quantity Surveying            328   \n",
       "...                                                  ...            ...   \n",
       "SG441                              Environmental Science            NaN   \n",
       "SG446                                Applied Archaeology            NaN   \n",
       "TL803                                   Music Technology            NaN   \n",
       "TL812                       Computing with Digital Media            NaN   \n",
       "WD148                                  Tourism Marketing            NaN   \n",
       "\n",
       "      points_R1_2020 points_R1_2019  \n",
       "code                                 \n",
       "AL801            303            304  \n",
       "AL802            332            301  \n",
       "AL803            337            309  \n",
       "AL805            333            329  \n",
       "AL810            319            307  \n",
       "...              ...            ...  \n",
       "SG441            NaN            297  \n",
       "SG446            NaN            289  \n",
       "TL803            NaN            264  \n",
       "TL812            NaN            369  \n",
       "WD148            NaN            269  \n",
       "\n",
       "[1651 rows x 4 columns]"
      ]
     },
     "execution_count": 55,
     "metadata": {},
     "output_type": "execute_result"
    }
   ],
   "source": [
    "# join 2019 points to all courses\n",
    "allcourses = allcourses.join(df2019_r1)\n",
    "allcourses"
   ]
  },
  {
   "cell_type": "code",
   "execution_count": 56,
   "id": "d03aa114-20a9-471a-8afd-8b0a94dceb45",
   "metadata": {},
   "outputs": [
    {
     "name": "stdout",
     "output_type": "stream",
     "text": [
      "<class 'pandas.core.frame.DataFrame'>\n",
      "Index: 1651 entries, AL801 to WD148\n",
      "Data columns (total 4 columns):\n",
      " #   Column          Non-Null Count  Dtype \n",
      "---  ------          --------------  ----- \n",
      " 0   title           1651 non-null   object\n",
      " 1   points_r1_2021  928 non-null    object\n",
      " 2   points_R1_2020  1437 non-null   object\n",
      " 3   points_R1_2019  926 non-null    object\n",
      "dtypes: object(4)\n",
      "memory usage: 129.0+ KB\n"
     ]
    }
   ],
   "source": [
    "# properties of the combined dataframe\n",
    "# note combined df is a df of objects\n",
    "allcourses.info()"
   ]
  },
  {
   "cell_type": "markdown",
   "id": "6547c9ef-edfd-4824-8317-63b697596d6c",
   "metadata": {},
   "source": [
    "allcourses.head()"
   ]
  },
  {
   "cell_type": "markdown",
   "id": "05508d04-d280-4376-a0ca-f8ca33417658",
   "metadata": {},
   "source": [
    "<br>\n",
    "\n",
    "## Comparison of CAO points in 2019,2020,2021 using the functionality in pandas\n",
    "***\n",
    "<br>"
   ]
  },
  {
   "cell_type": "code",
   "execution_count": 57,
   "id": "44cd7d26-51cc-49a5-b0f1-33ca593adb8e",
   "metadata": {},
   "outputs": [
    {
     "data": {
      "text/html": [
       "<div>\n",
       "<style scoped>\n",
       "    .dataframe tbody tr th:only-of-type {\n",
       "        vertical-align: middle;\n",
       "    }\n",
       "\n",
       "    .dataframe tbody tr th {\n",
       "        vertical-align: top;\n",
       "    }\n",
       "\n",
       "    .dataframe thead th {\n",
       "        text-align: right;\n",
       "    }\n",
       "</style>\n",
       "<table border=\"1\" class=\"dataframe\">\n",
       "  <thead>\n",
       "    <tr style=\"text-align: right;\">\n",
       "      <th></th>\n",
       "      <th>title</th>\n",
       "      <th>points_r1_2021</th>\n",
       "      <th>points_R1_2020</th>\n",
       "      <th>points_R1_2019</th>\n",
       "    </tr>\n",
       "    <tr>\n",
       "      <th>code</th>\n",
       "      <th></th>\n",
       "      <th></th>\n",
       "      <th></th>\n",
       "      <th></th>\n",
       "    </tr>\n",
       "  </thead>\n",
       "  <tbody>\n",
       "    <tr>\n",
       "      <th>SG441</th>\n",
       "      <td>Environmental Science</td>\n",
       "      <td>NaN</td>\n",
       "      <td>NaN</td>\n",
       "      <td>297</td>\n",
       "    </tr>\n",
       "    <tr>\n",
       "      <th>SG446</th>\n",
       "      <td>Applied Archaeology</td>\n",
       "      <td>NaN</td>\n",
       "      <td>NaN</td>\n",
       "      <td>289</td>\n",
       "    </tr>\n",
       "    <tr>\n",
       "      <th>TL803</th>\n",
       "      <td>Music Technology</td>\n",
       "      <td>NaN</td>\n",
       "      <td>NaN</td>\n",
       "      <td>264</td>\n",
       "    </tr>\n",
       "    <tr>\n",
       "      <th>TL812</th>\n",
       "      <td>Computing with Digital Media</td>\n",
       "      <td>NaN</td>\n",
       "      <td>NaN</td>\n",
       "      <td>369</td>\n",
       "    </tr>\n",
       "    <tr>\n",
       "      <th>WD148</th>\n",
       "      <td>Tourism Marketing</td>\n",
       "      <td>NaN</td>\n",
       "      <td>NaN</td>\n",
       "      <td>269</td>\n",
       "    </tr>\n",
       "  </tbody>\n",
       "</table>\n",
       "</div>"
      ],
      "text/plain": [
       "                              title points_r1_2021 points_R1_2020  \\\n",
       "code                                                                \n",
       "SG441         Environmental Science            NaN            NaN   \n",
       "SG446           Applied Archaeology            NaN            NaN   \n",
       "TL803              Music Technology            NaN            NaN   \n",
       "TL812  Computing with Digital Media            NaN            NaN   \n",
       "WD148             Tourism Marketing            NaN            NaN   \n",
       "\n",
       "      points_R1_2019  \n",
       "code                  \n",
       "SG441            297  \n",
       "SG446            289  \n",
       "TL803            264  \n",
       "TL812            369  \n",
       "WD148            269  "
      ]
     },
     "execution_count": 57,
     "metadata": {},
     "output_type": "execute_result"
    }
   ],
   "source": [
    "allcourses.tail()"
   ]
  },
  {
   "cell_type": "code",
   "execution_count": 58,
   "id": "fd6dbf86-2ed0-4a38-8865-c8838186af75",
   "metadata": {},
   "outputs": [
    {
     "data": {
      "text/html": [
       "<div>\n",
       "<style scoped>\n",
       "    .dataframe tbody tr th:only-of-type {\n",
       "        vertical-align: middle;\n",
       "    }\n",
       "\n",
       "    .dataframe tbody tr th {\n",
       "        vertical-align: top;\n",
       "    }\n",
       "\n",
       "    .dataframe thead th {\n",
       "        text-align: right;\n",
       "    }\n",
       "</style>\n",
       "<table border=\"1\" class=\"dataframe\">\n",
       "  <thead>\n",
       "    <tr style=\"text-align: right;\">\n",
       "      <th></th>\n",
       "      <th>title</th>\n",
       "      <th>points_r1_2021</th>\n",
       "      <th>points_R1_2020</th>\n",
       "      <th>points_R1_2019</th>\n",
       "    </tr>\n",
       "  </thead>\n",
       "  <tbody>\n",
       "    <tr>\n",
       "      <th>count</th>\n",
       "      <td>1651</td>\n",
       "      <td>928</td>\n",
       "      <td>1437</td>\n",
       "      <td>926</td>\n",
       "    </tr>\n",
       "    <tr>\n",
       "      <th>unique</th>\n",
       "      <td>1032</td>\n",
       "      <td>377</td>\n",
       "      <td>389</td>\n",
       "      <td>357</td>\n",
       "    </tr>\n",
       "    <tr>\n",
       "      <th>top</th>\n",
       "      <td>Business</td>\n",
       "      <td>300</td>\n",
       "      <td>AQA</td>\n",
       "      <td>300</td>\n",
       "    </tr>\n",
       "    <tr>\n",
       "      <th>freq</th>\n",
       "      <td>32</td>\n",
       "      <td>18</td>\n",
       "      <td>26</td>\n",
       "      <td>32</td>\n",
       "    </tr>\n",
       "  </tbody>\n",
       "</table>\n",
       "</div>"
      ],
      "text/plain": [
       "           title points_r1_2021 points_R1_2020 points_R1_2019\n",
       "count       1651            928           1437            926\n",
       "unique      1032            377            389            357\n",
       "top     Business            300            AQA            300\n",
       "freq          32             18             26             32"
      ]
     },
     "execution_count": 58,
     "metadata": {},
     "output_type": "execute_result"
    }
   ],
   "source": [
    "allcourses.describe()"
   ]
  },
  {
   "cell_type": "code",
   "execution_count": 59,
   "id": "60a10d0a-fe85-4ce7-b950-63feab7f8763",
   "metadata": {},
   "outputs": [
    {
     "name": "stdout",
     "output_type": "stream",
     "text": [
      "Data type of each column of Dataframe:\n",
      "title             object\n",
      "points_r1_2021    object\n",
      "points_R1_2020    object\n",
      "points_R1_2019    object\n",
      "dtype: object\n"
     ]
    }
   ],
   "source": [
    "# check the datatypes of the dataframe\n",
    "dataTypeSeries = allcourses.dtypes\n",
    "print('Data type of each column of Dataframe:')\n",
    "print(dataTypeSeries)"
   ]
  },
  {
   "cell_type": "markdown",
   "id": "3d599268-ba4e-42b7-b7a6-247077c04a7e",
   "metadata": {},
   "source": [
    "<br>\n",
    "\n",
    "### A check of the datatypes shows pandas recognizes the data as object not int or float\n",
    "---"
   ]
  },
  {
   "cell_type": "code",
   "execution_count": 60,
   "id": "62173cc9-0d2e-4ebf-9f7b-9549312e2b98",
   "metadata": {},
   "outputs": [
    {
     "data": {
      "text/plain": [
       "Series([], dtype: float64)"
      ]
     },
     "execution_count": 60,
     "metadata": {},
     "output_type": "execute_result"
    }
   ],
   "source": [
    "allcourses.mean()"
   ]
  },
  {
   "cell_type": "code",
   "execution_count": 61,
   "id": "b74031d3-cf34-44e7-a800-71abc3917b5f",
   "metadata": {},
   "outputs": [
    {
     "name": "stdout",
     "output_type": "stream",
     "text": [
      "<class 'pandas.core.frame.DataFrame'>\n",
      "Index: 1651 entries, AL801 to WD148\n",
      "Data columns (total 4 columns):\n",
      " #   Column          Non-Null Count  Dtype \n",
      "---  ------          --------------  ----- \n",
      " 0   title           1651 non-null   object\n",
      " 1   points_r1_2021  928 non-null    object\n",
      " 2   points_R1_2020  1437 non-null   object\n",
      " 3   points_R1_2019  926 non-null    object\n",
      "dtypes: object(4)\n",
      "memory usage: 129.0+ KB\n",
      "None\n"
     ]
    }
   ],
   "source": [
    "# confirm datatype using .info() function\n",
    "print(allcourses.info()) "
   ]
  },
  {
   "cell_type": "code",
   "execution_count": 62,
   "id": "c5e66d89-a7fd-423e-be12-f3e13ad7ef92",
   "metadata": {},
   "outputs": [
    {
     "data": {
      "text/plain": [
       "title             object\n",
       "points_r1_2021    object\n",
       "points_R1_2020    object\n",
       "points_R1_2019    object\n",
       "dtype: object"
      ]
     },
     "execution_count": 62,
     "metadata": {},
     "output_type": "execute_result"
    }
   ],
   "source": [
    "allcourses.dtypes"
   ]
  },
  {
   "cell_type": "code",
   "execution_count": 63,
   "id": "757af5c2-4fa6-414e-b756-ec8369f65564",
   "metadata": {},
   "outputs": [],
   "source": [
    "# check of the 2019 dataframe\n",
    "df = pd.read_csv('data\\cao_2019.csv')\n",
    "#print(df)"
   ]
  },
  {
   "cell_type": "markdown",
   "id": "f8c86658-2a99-454a-9951-4545ae8344ac",
   "metadata": {},
   "source": [
    "<br>\n",
    "\n",
    "### Remove special symbols from 2021 data and convert datatype to numeric\n",
    "---"
   ]
  },
  {
   "cell_type": "code",
   "execution_count": 64,
   "id": "70972b20-7b03-441e-8108-a9684c0c5ce3",
   "metadata": {},
   "outputs": [],
   "source": [
    "allcourses['points_r1_2021'] = allcourses['points_r1_2021'].str.replace('\\W', '')"
   ]
  },
  {
   "cell_type": "markdown",
   "id": "655915ca-76b9-48bd-9a58-3eae727f55b7",
   "metadata": {},
   "source": [
    "<br>\n",
    "\n",
    "### Convert the datatype for 2020 and 2019 from object to numeric\n",
    "---"
   ]
  },
  {
   "cell_type": "code",
   "execution_count": 65,
   "id": "99ae59e5-c15e-4fc1-abd4-cec00547fc24",
   "metadata": {},
   "outputs": [],
   "source": [
    "allcourses['points_r1_2021']= pd.to_numeric(allcourses['points_r1_2021'],errors='coerce')"
   ]
  },
  {
   "cell_type": "code",
   "execution_count": 66,
   "id": "2e8d5e50-802f-4e97-8691-5b94cc20c62d",
   "metadata": {},
   "outputs": [],
   "source": [
    "allcourses['points_R1_2020']= pd.to_numeric(allcourses['points_R1_2020'],errors='coerce')"
   ]
  },
  {
   "cell_type": "code",
   "execution_count": 67,
   "id": "731630be-7524-4058-a9d9-7c179bb40b4b",
   "metadata": {},
   "outputs": [],
   "source": [
    "allcourses['points_R1_2019']= pd.to_numeric(allcourses['points_R1_2019'],errors='coerce')"
   ]
  },
  {
   "cell_type": "code",
   "execution_count": 68,
   "id": "af6c6136-90c8-4a77-8665-cbcfdabaf028",
   "metadata": {},
   "outputs": [
    {
     "name": "stdout",
     "output_type": "stream",
     "text": [
      "<class 'pandas.core.frame.DataFrame'>\n",
      "Index: 1651 entries, AL801 to WD148\n",
      "Data columns (total 4 columns):\n",
      " #   Column          Non-Null Count  Dtype  \n",
      "---  ------          --------------  -----  \n",
      " 0   title           1651 non-null   object \n",
      " 1   points_r1_2021  923 non-null    float64\n",
      " 2   points_R1_2020  1387 non-null   float64\n",
      " 3   points_R1_2019  792 non-null    float64\n",
      "dtypes: float64(3), object(1)\n",
      "memory usage: 129.0+ KB\n"
     ]
    }
   ],
   "source": [
    "# re-check using df.info() functions confirms successfully transformed\n",
    "allcourses.info()"
   ]
  },
  {
   "cell_type": "code",
   "execution_count": 69,
   "id": "64973295-32f1-4a89-9a43-3719c05159b7",
   "metadata": {},
   "outputs": [],
   "source": [
    "# THE DATASETS WERE CONVERTED TO STR AND PRINTED TO CHECK DATA:\n",
    "# commented out to save processing\n",
    "# print(allcourses['points_r1_2021'].to_string())\n",
    "# print(allcourses['points_R1_2020'].to_string())\n",
    "# print(allcourses['points_R1_2019'].to_string())"
   ]
  },
  {
   "cell_type": "code",
   "execution_count": 70,
   "id": "d762ba06-2d52-444a-b616-277a92ee5d20",
   "metadata": {},
   "outputs": [
    {
     "data": {
      "text/html": [
       "<div>\n",
       "<style scoped>\n",
       "    .dataframe tbody tr th:only-of-type {\n",
       "        vertical-align: middle;\n",
       "    }\n",
       "\n",
       "    .dataframe tbody tr th {\n",
       "        vertical-align: top;\n",
       "    }\n",
       "\n",
       "    .dataframe thead th {\n",
       "        text-align: right;\n",
       "    }\n",
       "</style>\n",
       "<table border=\"1\" class=\"dataframe\">\n",
       "  <thead>\n",
       "    <tr style=\"text-align: right;\">\n",
       "      <th></th>\n",
       "      <th>title</th>\n",
       "      <th>points_r1_2021</th>\n",
       "      <th>points_R1_2020</th>\n",
       "      <th>points_R1_2019</th>\n",
       "    </tr>\n",
       "    <tr>\n",
       "      <th>code</th>\n",
       "      <th></th>\n",
       "      <th></th>\n",
       "      <th></th>\n",
       "      <th></th>\n",
       "    </tr>\n",
       "  </thead>\n",
       "  <tbody>\n",
       "    <tr>\n",
       "      <th>LY408</th>\n",
       "      <td>Design - Common Entry</td>\n",
       "      <td>301.0</td>\n",
       "      <td>320.0</td>\n",
       "      <td>NaN</td>\n",
       "    </tr>\n",
       "    <tr>\n",
       "      <th>LY508</th>\n",
       "      <td>Fire Safety Engineering</td>\n",
       "      <td>283.0</td>\n",
       "      <td>276.0</td>\n",
       "      <td>270.0</td>\n",
       "    </tr>\n",
       "    <tr>\n",
       "      <th>LY518</th>\n",
       "      <td>Quantity Surveying</td>\n",
       "      <td>304.0</td>\n",
       "      <td>301.0</td>\n",
       "      <td>307.0</td>\n",
       "    </tr>\n",
       "    <tr>\n",
       "      <th>LY528</th>\n",
       "      <td>Construction Management</td>\n",
       "      <td>262.0</td>\n",
       "      <td>271.0</td>\n",
       "      <td>267.0</td>\n",
       "    </tr>\n",
       "    <tr>\n",
       "      <th>LY538</th>\n",
       "      <td>Architectural Technology</td>\n",
       "      <td>234.0</td>\n",
       "      <td>NaN</td>\n",
       "      <td>NaN</td>\n",
       "    </tr>\n",
       "    <tr>\n",
       "      <th>LY608</th>\n",
       "      <td>Mechanical Engineering</td>\n",
       "      <td>300.0</td>\n",
       "      <td>300.0</td>\n",
       "      <td>304.0</td>\n",
       "    </tr>\n",
       "    <tr>\n",
       "      <th>LY618</th>\n",
       "      <td>Electronic Engineering</td>\n",
       "      <td>321.0</td>\n",
       "      <td>312.0</td>\n",
       "      <td>307.0</td>\n",
       "    </tr>\n",
       "    <tr>\n",
       "      <th>LY708</th>\n",
       "      <td>Applied Computing</td>\n",
       "      <td>320.0</td>\n",
       "      <td>306.0</td>\n",
       "      <td>300.0</td>\n",
       "    </tr>\n",
       "    <tr>\n",
       "      <th>LY748</th>\n",
       "      <td>Computer Science</td>\n",
       "      <td>316.0</td>\n",
       "      <td>317.0</td>\n",
       "      <td>NaN</td>\n",
       "    </tr>\n",
       "    <tr>\n",
       "      <th>LY818</th>\n",
       "      <td>Science - Common Entry</td>\n",
       "      <td>302.0</td>\n",
       "      <td>303.0</td>\n",
       "      <td>302.0</td>\n",
       "    </tr>\n",
       "    <tr>\n",
       "      <th>LY828</th>\n",
       "      <td>Agriculture - Common Entry</td>\n",
       "      <td>308.0</td>\n",
       "      <td>307.0</td>\n",
       "      <td>300.0</td>\n",
       "    </tr>\n",
       "    <tr>\n",
       "      <th>LY908</th>\n",
       "      <td>General Nursing</td>\n",
       "      <td>429.0</td>\n",
       "      <td>400.0</td>\n",
       "      <td>383.0</td>\n",
       "    </tr>\n",
       "    <tr>\n",
       "      <th>LY918</th>\n",
       "      <td>Psychiatric Nursing</td>\n",
       "      <td>367.0</td>\n",
       "      <td>357.0</td>\n",
       "      <td>NaN</td>\n",
       "    </tr>\n",
       "    <tr>\n",
       "      <th>LY928</th>\n",
       "      <td>Intellectual Disability Nursing</td>\n",
       "      <td>357.0</td>\n",
       "      <td>326.0</td>\n",
       "      <td>288.0</td>\n",
       "    </tr>\n",
       "    <tr>\n",
       "      <th>LY968</th>\n",
       "      <td>Early Childhood Care  Health and Education</td>\n",
       "      <td>288.0</td>\n",
       "      <td>303.0</td>\n",
       "      <td>300.0</td>\n",
       "    </tr>\n",
       "    <tr>\n",
       "      <th>LY978</th>\n",
       "      <td>Health and Social Care - Common Entry</td>\n",
       "      <td>279.0</td>\n",
       "      <td>280.0</td>\n",
       "      <td>260.0</td>\n",
       "    </tr>\n",
       "    <tr>\n",
       "      <th>MI001</th>\n",
       "      <td>Contemporary and Applied Theatre Studies</td>\n",
       "      <td>209.0</td>\n",
       "      <td>375.0</td>\n",
       "      <td>345.0</td>\n",
       "    </tr>\n",
       "    <tr>\n",
       "      <th>MI002</th>\n",
       "      <td>Arts</td>\n",
       "      <td>280.0</td>\n",
       "      <td>300.0</td>\n",
       "      <td>300.0</td>\n",
       "    </tr>\n",
       "    <tr>\n",
       "      <th>MI004</th>\n",
       "      <td>Education - Primary Teaching - International</td>\n",
       "      <td>589.0</td>\n",
       "      <td>577.0</td>\n",
       "      <td>NaN</td>\n",
       "    </tr>\n",
       "    <tr>\n",
       "      <th>MI005</th>\n",
       "      <td>Education - Primary Teaching</td>\n",
       "      <td>522.0</td>\n",
       "      <td>495.0</td>\n",
       "      <td>NaN</td>\n",
       "    </tr>\n",
       "  </tbody>\n",
       "</table>\n",
       "</div>"
      ],
      "text/plain": [
       "                                              title  points_r1_2021  \\\n",
       "code                                                                  \n",
       "LY408                         Design - Common Entry           301.0   \n",
       "LY508                       Fire Safety Engineering           283.0   \n",
       "LY518                            Quantity Surveying           304.0   \n",
       "LY528                       Construction Management           262.0   \n",
       "LY538                      Architectural Technology           234.0   \n",
       "LY608                        Mechanical Engineering           300.0   \n",
       "LY618                        Electronic Engineering           321.0   \n",
       "LY708                             Applied Computing           320.0   \n",
       "LY748                              Computer Science           316.0   \n",
       "LY818                        Science - Common Entry           302.0   \n",
       "LY828                    Agriculture - Common Entry           308.0   \n",
       "LY908                               General Nursing           429.0   \n",
       "LY918                           Psychiatric Nursing           367.0   \n",
       "LY928               Intellectual Disability Nursing           357.0   \n",
       "LY968    Early Childhood Care  Health and Education           288.0   \n",
       "LY978         Health and Social Care - Common Entry           279.0   \n",
       "MI001      Contemporary and Applied Theatre Studies           209.0   \n",
       "MI002                                          Arts           280.0   \n",
       "MI004  Education - Primary Teaching - International           589.0   \n",
       "MI005                  Education - Primary Teaching           522.0   \n",
       "\n",
       "       points_R1_2020  points_R1_2019  \n",
       "code                                   \n",
       "LY408           320.0             NaN  \n",
       "LY508           276.0           270.0  \n",
       "LY518           301.0           307.0  \n",
       "LY528           271.0           267.0  \n",
       "LY538             NaN             NaN  \n",
       "LY608           300.0           304.0  \n",
       "LY618           312.0           307.0  \n",
       "LY708           306.0           300.0  \n",
       "LY748           317.0             NaN  \n",
       "LY818           303.0           302.0  \n",
       "LY828           307.0           300.0  \n",
       "LY908           400.0           383.0  \n",
       "LY918           357.0             NaN  \n",
       "LY928           326.0           288.0  \n",
       "LY968           303.0           300.0  \n",
       "LY978           280.0           260.0  \n",
       "MI001           375.0           345.0  \n",
       "MI002           300.0           300.0  \n",
       "MI004           577.0             NaN  \n",
       "MI005           495.0             NaN  "
      ]
     },
     "execution_count": 70,
     "metadata": {},
     "output_type": "execute_result"
    }
   ],
   "source": [
    "# check of combined df\n",
    "allcourses.iloc[680:700]"
   ]
  },
  {
   "cell_type": "code",
   "execution_count": 71,
   "id": "d271f399-29e3-43d2-ba54-184c76395fad",
   "metadata": {},
   "outputs": [],
   "source": [
    "# save the csv file for a further check before trending\n",
    "allcourses.to_csv('data/CAO.csv')"
   ]
  },
  {
   "cell_type": "markdown",
   "id": "be276b07-8bb9-4d92-b33f-752897f289ed",
   "metadata": {},
   "source": [
    "<br>\n",
    "\n",
    "### Comparison of CAO points in 2019,2020,2021 \n",
    "---"
   ]
  },
  {
   "cell_type": "code",
   "execution_count": 72,
   "id": "e67c0e35-dfb4-437f-8baf-2c8158571b7d",
   "metadata": {},
   "outputs": [
    {
     "name": "stdout",
     "output_type": "stream",
     "text": [
      "351.45959595959596\n"
     ]
    }
   ],
   "source": [
    "x_2019 = allcourses[\"points_R1_2019\"].mean()\n",
    "print(x_2019)"
   ]
  },
  {
   "cell_type": "code",
   "execution_count": 73,
   "id": "e147d6d0-d0ad-4a6e-93e2-d2716a412eb2",
   "metadata": {},
   "outputs": [
    {
     "name": "stdout",
     "output_type": "stream",
     "text": [
      "350.21701514059123\n"
     ]
    }
   ],
   "source": [
    "# check of 2020 mean\n",
    "x_2020 = allcourses[\"points_R1_2020\"].mean()\n",
    "print(x_2020)"
   ]
  },
  {
   "cell_type": "code",
   "execution_count": 74,
   "id": "e3dbcea1-7e0c-44f0-bfde-7368f545309d",
   "metadata": {},
   "outputs": [
    {
     "name": "stdout",
     "output_type": "stream",
     "text": [
      "407.6663055254605\n"
     ]
    }
   ],
   "source": [
    "# check of 2020 mean\n",
    "x_2021 = allcourses[\"points_r1_2021\"].mean()\n",
    "print(x_2021)"
   ]
  },
  {
   "cell_type": "code",
   "execution_count": 75,
   "id": "2e667c14-b27f-4ceb-91eb-b2da2eabe80e",
   "metadata": {},
   "outputs": [
    {
     "name": "stdout",
     "output_type": "stream",
     "text": [
      "-0.3535486961487252\n"
     ]
    }
   ],
   "source": [
    "x_incr = ((x_2020-x_2019)/(x_2019)*100)\n",
    "print (x_incr)"
   ]
  },
  {
   "cell_type": "code",
   "execution_count": 76,
   "id": "e3b74d95-846f-44e2-9f6e-632eb6e9e747",
   "metadata": {},
   "outputs": [
    {
     "name": "stdout",
     "output_type": "stream",
     "text": [
      "16.403911832155494\n"
     ]
    }
   ],
   "source": [
    "x_incr = ((x_2021-x_2020)/(x_2020)*100)\n",
    "print(x_incr)"
   ]
  },
  {
   "cell_type": "markdown",
   "id": "89e9312d-5dcd-43ae-a67f-63f25bcdbb85",
   "metadata": {},
   "source": [
    "<br>\n",
    "\n",
    "###  Mean Trend 2019-2021\n",
    "A simple assessment of the CAO points data prom year using the standard mean function in PANDAS identifies an interesting trend.\n",
    "- The mean points are comparable between 2019 and 2020 (0.35% drop between 2019 and 2020)\n",
    "- There is a marked rise in the mean CAO points from 2020 2021  (16% from 2020)\n",
    "- The mean rise is to be qualified that the number of courses per year are not constant"
   ]
  },
  {
   "cell_type": "code",
   "execution_count": 77,
   "id": "92aab0bc-9ed6-4ac1-bb3d-edd79289fc12",
   "metadata": {},
   "outputs": [
    {
     "data": {
      "text/html": [
       "<div>\n",
       "<style scoped>\n",
       "    .dataframe tbody tr th:only-of-type {\n",
       "        vertical-align: middle;\n",
       "    }\n",
       "\n",
       "    .dataframe tbody tr th {\n",
       "        vertical-align: top;\n",
       "    }\n",
       "\n",
       "    .dataframe thead th {\n",
       "        text-align: right;\n",
       "    }\n",
       "</style>\n",
       "<table border=\"1\" class=\"dataframe\">\n",
       "  <thead>\n",
       "    <tr style=\"text-align: right;\">\n",
       "      <th></th>\n",
       "      <th>title</th>\n",
       "      <th>points_r1_2021</th>\n",
       "      <th>points_R1_2020</th>\n",
       "      <th>points_R1_2019</th>\n",
       "    </tr>\n",
       "    <tr>\n",
       "      <th>code</th>\n",
       "      <th></th>\n",
       "      <th></th>\n",
       "      <th></th>\n",
       "      <th></th>\n",
       "    </tr>\n",
       "  </thead>\n",
       "  <tbody>\n",
       "    <tr>\n",
       "      <th>AL801</th>\n",
       "      <td>Software Design for Virtual Reality and Gaming</td>\n",
       "      <td>300.0</td>\n",
       "      <td>303.0</td>\n",
       "      <td>304.0</td>\n",
       "    </tr>\n",
       "    <tr>\n",
       "      <th>AL802</th>\n",
       "      <td>Software Design in Artificial Intelligence for...</td>\n",
       "      <td>313.0</td>\n",
       "      <td>332.0</td>\n",
       "      <td>301.0</td>\n",
       "    </tr>\n",
       "    <tr>\n",
       "      <th>AL803</th>\n",
       "      <td>Software Design for Mobile Apps and Connected ...</td>\n",
       "      <td>350.0</td>\n",
       "      <td>337.0</td>\n",
       "      <td>309.0</td>\n",
       "    </tr>\n",
       "    <tr>\n",
       "      <th>AL805</th>\n",
       "      <td>Computer Engineering for Network Infrastructure</td>\n",
       "      <td>321.0</td>\n",
       "      <td>333.0</td>\n",
       "      <td>329.0</td>\n",
       "    </tr>\n",
       "    <tr>\n",
       "      <th>AL810</th>\n",
       "      <td>Quantity Surveying</td>\n",
       "      <td>328.0</td>\n",
       "      <td>319.0</td>\n",
       "      <td>307.0</td>\n",
       "    </tr>\n",
       "  </tbody>\n",
       "</table>\n",
       "</div>"
      ],
      "text/plain": [
       "                                                   title  points_r1_2021  \\\n",
       "code                                                                       \n",
       "AL801     Software Design for Virtual Reality and Gaming           300.0   \n",
       "AL802  Software Design in Artificial Intelligence for...           313.0   \n",
       "AL803  Software Design for Mobile Apps and Connected ...           350.0   \n",
       "AL805    Computer Engineering for Network Infrastructure           321.0   \n",
       "AL810                                 Quantity Surveying           328.0   \n",
       "\n",
       "       points_R1_2020  points_R1_2019  \n",
       "code                                   \n",
       "AL801           303.0           304.0  \n",
       "AL802           332.0           301.0  \n",
       "AL803           337.0           309.0  \n",
       "AL805           333.0           329.0  \n",
       "AL810           319.0           307.0  "
      ]
     },
     "execution_count": 77,
     "metadata": {},
     "output_type": "execute_result"
    }
   ],
   "source": [
    "allcourses.head()"
   ]
  },
  {
   "cell_type": "code",
   "execution_count": 78,
   "id": "91d6e582-683e-4662-89d1-56a97f94d8fb",
   "metadata": {},
   "outputs": [
    {
     "data": {
      "text/html": [
       "<div>\n",
       "<style scoped>\n",
       "    .dataframe tbody tr th:only-of-type {\n",
       "        vertical-align: middle;\n",
       "    }\n",
       "\n",
       "    .dataframe tbody tr th {\n",
       "        vertical-align: top;\n",
       "    }\n",
       "\n",
       "    .dataframe thead th {\n",
       "        text-align: right;\n",
       "    }\n",
       "</style>\n",
       "<table border=\"1\" class=\"dataframe\">\n",
       "  <thead>\n",
       "    <tr style=\"text-align: right;\">\n",
       "      <th></th>\n",
       "      <th>points_r1_2021</th>\n",
       "      <th>points_R1_2020</th>\n",
       "      <th>points_R1_2019</th>\n",
       "    </tr>\n",
       "  </thead>\n",
       "  <tbody>\n",
       "    <tr>\n",
       "      <th>count</th>\n",
       "      <td>923.000000</td>\n",
       "      <td>1387.000000</td>\n",
       "      <td>792.000000</td>\n",
       "    </tr>\n",
       "    <tr>\n",
       "      <th>mean</th>\n",
       "      <td>407.666306</td>\n",
       "      <td>350.217015</td>\n",
       "      <td>351.459596</td>\n",
       "    </tr>\n",
       "    <tr>\n",
       "      <th>std</th>\n",
       "      <td>128.706224</td>\n",
       "      <td>134.311616</td>\n",
       "      <td>88.269647</td>\n",
       "    </tr>\n",
       "    <tr>\n",
       "      <th>min</th>\n",
       "      <td>57.000000</td>\n",
       "      <td>55.000000</td>\n",
       "      <td>168.000000</td>\n",
       "    </tr>\n",
       "    <tr>\n",
       "      <th>25%</th>\n",
       "      <td>303.000000</td>\n",
       "      <td>252.000000</td>\n",
       "      <td>285.750000</td>\n",
       "    </tr>\n",
       "    <tr>\n",
       "      <th>50%</th>\n",
       "      <td>391.000000</td>\n",
       "      <td>316.000000</td>\n",
       "      <td>330.000000</td>\n",
       "    </tr>\n",
       "    <tr>\n",
       "      <th>75%</th>\n",
       "      <td>499.000000</td>\n",
       "      <td>430.500000</td>\n",
       "      <td>410.250000</td>\n",
       "    </tr>\n",
       "    <tr>\n",
       "      <th>max</th>\n",
       "      <td>1028.000000</td>\n",
       "      <td>1088.000000</td>\n",
       "      <td>601.000000</td>\n",
       "    </tr>\n",
       "  </tbody>\n",
       "</table>\n",
       "</div>"
      ],
      "text/plain": [
       "       points_r1_2021  points_R1_2020  points_R1_2019\n",
       "count      923.000000     1387.000000      792.000000\n",
       "mean       407.666306      350.217015      351.459596\n",
       "std        128.706224      134.311616       88.269647\n",
       "min         57.000000       55.000000      168.000000\n",
       "25%        303.000000      252.000000      285.750000\n",
       "50%        391.000000      316.000000      330.000000\n",
       "75%        499.000000      430.500000      410.250000\n",
       "max       1028.000000     1088.000000      601.000000"
      ]
     },
     "execution_count": 78,
     "metadata": {},
     "output_type": "execute_result"
    }
   ],
   "source": [
    "allcourses.describe()"
   ]
  },
  {
   "cell_type": "markdown",
   "id": "8e0c6dbb-6dfd-406e-8eec-1aacb0fb5c90",
   "metadata": {},
   "source": [
    "<br>\n",
    "\n",
    "### Detailed comparison of CAO points in 2019,2020,2021 using Histograms\n",
    "---"
   ]
  },
  {
   "cell_type": "code",
   "execution_count": 79,
   "id": "4902f95f-0949-4ed5-8fc6-183523f5a67c",
   "metadata": {},
   "outputs": [],
   "source": [
    "# import the required libraries for plotting\n",
    "import matplotlib.pyplot as plt\n",
    "%matplotlib inline\n",
    "import seaborn as sns\n",
    "import matplotlib.style as style \n",
    "sns.set_style(\"darkgrid\")"
   ]
  },
  {
   "cell_type": "code",
   "execution_count": 80,
   "id": "40de05b2-d47e-48b3-8d07-0ea03f34d65b",
   "metadata": {},
   "outputs": [
    {
     "name": "stdout",
     "output_type": "stream",
     "text": [
      "Index(['title', 'points_r1_2021', 'points_R1_2020', 'points_R1_2019'], dtype='object')\n"
     ]
    }
   ],
   "source": [
    "print(allcourses. columns)"
   ]
  },
  {
   "cell_type": "code",
   "execution_count": 81,
   "id": "583d150d-864c-456f-96e0-40f5fff69d73",
   "metadata": {},
   "outputs": [
    {
     "data": {
      "text/plain": [
       "code\n",
       "AL801    300.0\n",
       "AL802    313.0\n",
       "AL803    350.0\n",
       "AL805    321.0\n",
       "AL810    328.0\n",
       "         ...  \n",
       "SG441      NaN\n",
       "SG446      NaN\n",
       "TL803      NaN\n",
       "TL812      NaN\n",
       "WD148      NaN\n",
       "Name: points_r1_2021, Length: 1651, dtype: float64"
      ]
     },
     "execution_count": 81,
     "metadata": {},
     "output_type": "execute_result"
    }
   ],
   "source": [
    "# isolate the 2021 course points (from allcourses)\n",
    "df_CAO_2021 = allcourses ['points_r1_2021']\n",
    "df_CAO_2021"
   ]
  },
  {
   "cell_type": "code",
   "execution_count": 82,
   "id": "8859ff2b-8916-4878-b295-5ed14536df0d",
   "metadata": {},
   "outputs": [
    {
     "data": {
      "text/plain": [
       "(array([  3.,   0.,   2.,  52., 140., 175.,  93., 114.,  97., 108.,  86.,\n",
       "         25.,   2.,   7.,   9.,   3.,   1.,   2.,   0.,   4.]),\n",
       " array([  57.  ,  105.55,  154.1 ,  202.65,  251.2 ,  299.75,  348.3 ,\n",
       "         396.85,  445.4 ,  493.95,  542.5 ,  591.05,  639.6 ,  688.15,\n",
       "         736.7 ,  785.25,  833.8 ,  882.35,  930.9 ,  979.45, 1028.  ]),\n",
       " <BarContainer object of 20 artists>)"
      ]
     },
     "execution_count": 82,
     "metadata": {},
     "output_type": "execute_result"
    },
    {
     "data": {
      "image/png": "[encoded data removed]",
      "text/plain": [
       "<Figure size 432x288 with 1 Axes>"
      ]
     },
     "metadata": {},
     "output_type": "display_data"
    }
   ],
   "source": [
    "# outputs 1. tuple 2. array 3. additional data\n",
    "#1st is bar heights\n",
    "# 2nd is left edges of the (10) bars i.e. 11 edges\n",
    "# AREA not the height of the bin- but doesnt matter if WIDTH is the same\n",
    "# then HEIGHT is refelctive of number of  occurrences\n",
    "plt.hist(df_CAO_2021, bins =20)"
   ]
  },
  {
   "cell_type": "code",
   "execution_count": 83,
   "id": "1843bb51-92ef-4c84-b6ed-8c65447ec25d",
   "metadata": {},
   "outputs": [
    {
     "data": {
      "text/plain": [
       "count     923.000000\n",
       "mean      407.666306\n",
       "std       128.706224\n",
       "min        57.000000\n",
       "25%       303.000000\n",
       "50%       391.000000\n",
       "75%       499.000000\n",
       "max      1028.000000\n",
       "Name: points_r1_2021, dtype: float64"
      ]
     },
     "execution_count": 83,
     "metadata": {},
     "output_type": "execute_result"
    }
   ],
   "source": [
    "df_CAO_2021.describe()"
   ]
  },
  {
   "cell_type": "code",
   "execution_count": 84,
   "id": "ef065345-130f-4232-a9d0-d9c931602464",
   "metadata": {},
   "outputs": [
    {
     "data": {
      "text/plain": [
       "(array([6.69468765e-05, 0.00000000e+00, 4.46312510e-05, 1.16041253e-03,\n",
       "        3.12418757e-03, 3.90523446e-03, 2.07535317e-03, 2.54398131e-03,\n",
       "        2.16461567e-03, 2.41008756e-03, 1.91914379e-03, 5.57890638e-04,\n",
       "        4.46312510e-05, 1.56209379e-04, 2.00840630e-04, 6.69468765e-05,\n",
       "        2.23156255e-05, 4.46312510e-05, 0.00000000e+00, 8.92625021e-05]),\n",
       " array([  57.  ,  105.55,  154.1 ,  202.65,  251.2 ,  299.75,  348.3 ,\n",
       "         396.85,  445.4 ,  493.95,  542.5 ,  591.05,  639.6 ,  688.15,\n",
       "         736.7 ,  785.25,  833.8 ,  882.35,  930.9 ,  979.45, 1028.  ]),\n",
       " <BarContainer object of 20 artists>)"
      ]
     },
     "execution_count": 84,
     "metadata": {},
     "output_type": "execute_result"
    },
    {
     "data": {
      "image/png": "[encoded data removed]",
      "text/plain": [
       "<Figure size 432x288 with 1 Axes>"
      ]
     },
     "metadata": {},
     "output_type": "display_data"
    }
   ],
   "source": [
    "# density = True\n",
    "# when add area of each rectangles that would be the area normalized\n",
    "plt.hist(df_CAO_2021, density=True, bins=20)"
   ]
  },
  {
   "cell_type": "code",
   "execution_count": 85,
   "id": "3b1bc827-40c9-486c-9d96-18d361efad70",
   "metadata": {},
   "outputs": [
    {
     "data": {
      "text/plain": [
       "code\n",
       "AL801    303.0\n",
       "AL802    332.0\n",
       "AL803    337.0\n",
       "AL805    333.0\n",
       "AL810    319.0\n",
       "         ...  \n",
       "SG441      NaN\n",
       "SG446      NaN\n",
       "TL803      NaN\n",
       "TL812      NaN\n",
       "WD148      NaN\n",
       "Name: points_R1_2020, Length: 1651, dtype: float64"
      ]
     },
     "execution_count": 85,
     "metadata": {},
     "output_type": "execute_result"
    }
   ],
   "source": [
    "# isolate the 2020 course points (from allcourses)\n",
    "df_CAO_2020 = allcourses ['points_R1_2020']\n",
    "df_CAO_2020"
   ]
  },
  {
   "cell_type": "code",
   "execution_count": 86,
   "id": "890abc59-19cf-41f9-8d23-08966e0a57b2",
   "metadata": {},
   "outputs": [
    {
     "data": {
      "text/plain": [
       "(array([  7.,  18., 120., 247., 300., 167., 138., 122., 114.,  88.,  26.,\n",
       "          2.,  13.,   8.,   5.,   7.,   1.,   2.,   1.,   1.]),\n",
       " array([  55.  ,  106.65,  158.3 ,  209.95,  261.6 ,  313.25,  364.9 ,\n",
       "         416.55,  468.2 ,  519.85,  571.5 ,  623.15,  674.8 ,  726.45,\n",
       "         778.1 ,  829.75,  881.4 ,  933.05,  984.7 , 1036.35, 1088.  ]),\n",
       " <BarContainer object of 20 artists>)"
      ]
     },
     "execution_count": 86,
     "metadata": {},
     "output_type": "execute_result"
    },
    {
     "data": {
      "image/png": "[encoded data removed]",
      "text/plain": [
       "<Figure size 432x288 with 1 Axes>"
      ]
     },
     "metadata": {},
     "output_type": "display_data"
    }
   ],
   "source": [
    "# outputs 1. tuple 2. array 3. additional data\n",
    "#1st is bar heights\n",
    "# 2nd is left edges of the (10) bars i.e. 11 edges\n",
    "# AREA not the height of the bin- but doesnt matter if WIDTH is the same\n",
    "# then HEIGHT is refelctive of number of  occurrences\n",
    "plt.hist(df_CAO_2020, bins =20)"
   ]
  },
  {
   "cell_type": "code",
   "execution_count": 87,
   "id": "1ce81223-4859-4ef5-9b6b-116bec8a4bf2",
   "metadata": {},
   "outputs": [
    {
     "data": {
      "text/plain": [
       "count    1387.000000\n",
       "mean      350.217015\n",
       "std       134.311616\n",
       "min        55.000000\n",
       "25%       252.000000\n",
       "50%       316.000000\n",
       "75%       430.500000\n",
       "max      1088.000000\n",
       "Name: points_R1_2020, dtype: float64"
      ]
     },
     "execution_count": 87,
     "metadata": {},
     "output_type": "execute_result"
    }
   ],
   "source": [
    "df_CAO_2020.describe()"
   ]
  },
  {
   "cell_type": "code",
   "execution_count": 88,
   "id": "a6976f24-e453-43a1-b0e6-5c38608fdac8",
   "metadata": {},
   "outputs": [
    {
     "data": {
      "text/plain": [
       "(array([9.77127538e-05, 2.51261367e-04, 1.67507578e-03, 3.44786431e-03,\n",
       "        4.18768945e-03, 2.33114713e-03, 1.92633715e-03, 1.70299371e-03,\n",
       "        1.59132199e-03, 1.22838891e-03, 3.62933086e-04, 2.79179297e-05,\n",
       "        1.81466543e-04, 1.11671719e-04, 6.97948242e-05, 9.77127538e-05,\n",
       "        1.39589648e-05, 2.79179297e-05, 1.39589648e-05, 1.39589648e-05]),\n",
       " array([  55.  ,  106.65,  158.3 ,  209.95,  261.6 ,  313.25,  364.9 ,\n",
       "         416.55,  468.2 ,  519.85,  571.5 ,  623.15,  674.8 ,  726.45,\n",
       "         778.1 ,  829.75,  881.4 ,  933.05,  984.7 , 1036.35, 1088.  ]),\n",
       " <BarContainer object of 20 artists>)"
      ]
     },
     "execution_count": 88,
     "metadata": {},
     "output_type": "execute_result"
    },
    {
     "data": {
      "image/png": "[encoded data removed]",
      "text/plain": [
       "<Figure size 432x288 with 1 Axes>"
      ]
     },
     "metadata": {},
     "output_type": "display_data"
    }
   ],
   "source": [
    "# density = True\n",
    "# when add area of each rectangles that would be the area normalized\n",
    "plt.hist(df_CAO_2020, density=True, bins=20)"
   ]
  },
  {
   "cell_type": "code",
   "execution_count": 89,
   "id": "0caf8322-8bc3-4d17-9da1-b7eec29d112b",
   "metadata": {},
   "outputs": [
    {
     "data": {
      "text/plain": [
       "code\n",
       "AL801    304.0\n",
       "AL802    301.0\n",
       "AL803    309.0\n",
       "AL805    329.0\n",
       "AL810    307.0\n",
       "         ...  \n",
       "SG441    297.0\n",
       "SG446    289.0\n",
       "TL803    264.0\n",
       "TL812    369.0\n",
       "WD148    269.0\n",
       "Name: points_R1_2019, Length: 1651, dtype: float64"
      ]
     },
     "execution_count": 89,
     "metadata": {},
     "output_type": "execute_result"
    }
   ],
   "source": [
    "# isolate the 2021 course points (from allcourses)\n",
    "df_CAO_2019 = allcourses ['points_R1_2019']\n",
    "df_CAO_2019"
   ]
  },
  {
   "cell_type": "code",
   "execution_count": 90,
   "id": "9edca24d-4864-4b9d-8b9a-1c73985ac4ba",
   "metadata": {},
   "outputs": [
    {
     "data": {
      "text/plain": [
       "(array([  2.,  14.,  32.,  46.,  66.,  80., 129.,  52.,  59.,  32.,  66.,\n",
       "         40.,  43.,  31.,  32.,  34.,  16.,   7.,   9.,   2.]),\n",
       " array([168.  , 189.65, 211.3 , 232.95, 254.6 , 276.25, 297.9 , 319.55,\n",
       "        341.2 , 362.85, 384.5 , 406.15, 427.8 , 449.45, 471.1 , 492.75,\n",
       "        514.4 , 536.05, 557.7 , 579.35, 601.  ]),\n",
       " <BarContainer object of 20 artists>)"
      ]
     },
     "execution_count": 90,
     "metadata": {},
     "output_type": "execute_result"
    },
    {
     "data": {
      "image/png": "[encoded data removed]",
      "text/plain": [
       "<Figure size 432x288 with 1 Axes>"
      ]
     },
     "metadata": {},
     "output_type": "display_data"
    }
   ],
   "source": [
    "# outputs 1. tuple 2. array 3. additional data\n",
    "#1st is bar heights\n",
    "# 2nd is left edges of the (10) bars i.e. 11 edges\n",
    "# AREA not the height of the bin- but doesnt matter if WIDTH is the same\n",
    "# then HEIGHT is refelctive of number of  occurrences\n",
    "plt.hist(df_CAO_2019, bins =20)"
   ]
  },
  {
   "cell_type": "code",
   "execution_count": 91,
   "id": "cdd3b970-411c-4315-9ed8-30136d92c75f",
   "metadata": {},
   "outputs": [
    {
     "data": {
      "text/plain": [
       "count    792.000000\n",
       "mean     351.459596\n",
       "std       88.269647\n",
       "min      168.000000\n",
       "25%      285.750000\n",
       "50%      330.000000\n",
       "75%      410.250000\n",
       "max      601.000000\n",
       "Name: points_R1_2019, dtype: float64"
      ]
     },
     "execution_count": 91,
     "metadata": {},
     "output_type": "execute_result"
    }
   ],
   "source": [
    "df_CAO_2019.describe()"
   ]
  },
  {
   "cell_type": "code",
   "execution_count": 92,
   "id": "58fed43d-ae13-4f3a-ab7a-0f05caa5cae0",
   "metadata": {},
   "outputs": [
    {
     "data": {
      "text/plain": [
       "(array([0.00011664, 0.00081648, 0.00186624, 0.00268272, 0.00384911,\n",
       "        0.00466559, 0.00752327, 0.00303264, 0.00344088, 0.00186624,\n",
       "        0.00384911, 0.0023328 , 0.00250776, 0.00180792, 0.00186624,\n",
       "        0.00198288, 0.00093312, 0.00040824, 0.00052488, 0.00011664]),\n",
       " array([168.  , 189.65, 211.3 , 232.95, 254.6 , 276.25, 297.9 , 319.55,\n",
       "        341.2 , 362.85, 384.5 , 406.15, 427.8 , 449.45, 471.1 , 492.75,\n",
       "        514.4 , 536.05, 557.7 , 579.35, 601.  ]),\n",
       " <BarContainer object of 20 artists>)"
      ]
     },
     "execution_count": 92,
     "metadata": {},
     "output_type": "execute_result"
    },
    {
     "data": {
      "image/png": "[encoded data removed]",
      "text/plain": [
       "<Figure size 432x288 with 1 Axes>"
      ]
     },
     "metadata": {},
     "output_type": "display_data"
    }
   ],
   "source": [
    "# density = True\n",
    "# when add area of each rectangles that would be the area normalized\n",
    "plt.hist(df_CAO_2019, density=True, bins=20)"
   ]
  },
  {
   "cell_type": "code",
   "execution_count": 93,
   "id": "58bcfc1a-059b-4308-99db-bd7521a8c8be",
   "metadata": {},
   "outputs": [],
   "source": [
    "# Split and convert 2021 points data into a numpy array\n",
    "df_CAO_2021_numpy = allcourses['points_r1_2021'].to_numpy()"
   ]
  },
  {
   "cell_type": "code",
   "execution_count": 94,
   "id": "5499df0d-b4eb-4a3e-a137-cfbbfbb1a2e8",
   "metadata": {},
   "outputs": [
    {
     "data": {
      "text/plain": [
       "array([300., 313., 350., ...,  nan,  nan,  nan])"
      ]
     },
     "execution_count": 94,
     "metadata": {},
     "output_type": "execute_result"
    }
   ],
   "source": [
    "# output 2021 data\n",
    "df_CAO_2021_numpy"
   ]
  },
  {
   "cell_type": "code",
   "execution_count": 95,
   "id": "99bd9024-8255-433e-9587-f7e4edbd99d6",
   "metadata": {},
   "outputs": [],
   "source": [
    "# Split and convert 2020 points data into a numpy array\n",
    "df_CAO_2020_numpy = allcourses['points_R1_2020'].to_numpy()"
   ]
  },
  {
   "cell_type": "code",
   "execution_count": 96,
   "id": "c4334d77-4fd4-445c-a2c7-14c083713ea0",
   "metadata": {},
   "outputs": [
    {
     "data": {
      "text/plain": [
       "array([303., 332., 337., ...,  nan,  nan,  nan])"
      ]
     },
     "execution_count": 96,
     "metadata": {},
     "output_type": "execute_result"
    }
   ],
   "source": [
    "# output 2020 data\n",
    "df_CAO_2020_numpy"
   ]
  },
  {
   "cell_type": "code",
   "execution_count": 97,
   "id": "0ea4dba1-5a64-44f0-bb06-fb558bad4ebc",
   "metadata": {},
   "outputs": [],
   "source": [
    "# Split and convert 2019 points data into a numpy array\n",
    "df_CAO_2019_numpy = allcourses['points_R1_2019'].to_numpy()"
   ]
  },
  {
   "cell_type": "code",
   "execution_count": 98,
   "id": "ec17e531-d04f-425d-94b3-dd935807d001",
   "metadata": {},
   "outputs": [
    {
     "data": {
      "text/plain": [
       "array([304., 301., 309., ..., 264., 369., 269.])"
      ]
     },
     "execution_count": 98,
     "metadata": {},
     "output_type": "execute_result"
    }
   ],
   "source": [
    "# output 2019 data\n",
    "df_CAO_2019_numpy"
   ]
  },
  {
   "cell_type": "code",
   "execution_count": 99,
   "id": "cf488441-2f94-48b3-a48d-e26b453beade",
   "metadata": {},
   "outputs": [
    {
     "data": {
      "text/plain": [
       "array([[300., 313., 350., ...,  nan,  nan,  nan],\n",
       "       [303., 332., 337., ...,  nan,  nan,  nan],\n",
       "       [304., 301., 309., ..., 264., 369., 269.]])"
      ]
     },
     "execution_count": 99,
     "metadata": {},
     "output_type": "execute_result"
    }
   ],
   "source": [
    "#returns a two dimensional array with the same number of items in each array\n",
    "#each array has three values 1.2021 CAO Points 2. 2020 CAO Points 3. 2019 CAO Points\n",
    "df_combined = np.vstack([df_CAO_2021_numpy,df_CAO_2020_numpy,df_CAO_2019_numpy])\n",
    "df_combined"
   ]
  },
  {
   "cell_type": "code",
   "execution_count": 100,
   "id": "a743fe78-9f0d-457e-8513-41690946480f",
   "metadata": {},
   "outputs": [
    {
     "data": {
      "text/plain": [
       "array([[300., 303., 304.],\n",
       "       [313., 332., 301.],\n",
       "       [350., 337., 309.],\n",
       "       ...,\n",
       "       [ nan,  nan, 264.],\n",
       "       [ nan,  nan, 369.],\n",
       "       [ nan,  nan, 269.]])"
      ]
     },
     "execution_count": 100,
     "metadata": {},
     "output_type": "execute_result"
    }
   ],
   "source": [
    "# 'T' is to transpose from horizontal to vertical\n",
    "df_combined = np.vstack([df_CAO_2021_numpy,df_CAO_2020_numpy,df_CAO_2019_numpy]).T\n",
    "df_combined"
   ]
  },
  {
   "cell_type": "code",
   "execution_count": 101,
   "id": "16402331-c014-4cba-b403-426fcf0624dc",
   "metadata": {},
   "outputs": [
    {
     "data": {
      "text/plain": [
       "(array([[  3.,  79., 317., 235., 209.,  54.,  16.,   4.,   2.,   4.],\n",
       "        [ 25., 367., 467., 260., 202.,  28.,  21.,  12.,   3.,   2.],\n",
       "        [  0., 113., 368., 210.,  95.,   6.,   0.,   0.,   0.,   0.]]),\n",
       " array([  55. ,  158.3,  261.6,  364.9,  468.2,  571.5,  674.8,  778.1,\n",
       "         881.4,  984.7, 1088. ]),\n",
       " <a list of 3 BarContainer objects>)"
      ]
     },
     "execution_count": 101,
     "metadata": {},
     "output_type": "execute_result"
    },
    {
     "data": {
      "image/png": "[encoded data removed]",
      "text/plain": [
       "<Figure size 432x288 with 1 Axes>"
      ]
     },
     "metadata": {},
     "output_type": "display_data"
    }
   ],
   "source": [
    "# returns the correct bin start but doesnt show the true width- not ideal\n",
    "#better to use Seaborn which is built on pyplot\n",
    "plt.hist(df_combined, bins =10)"
   ]
  },
  {
   "cell_type": "code",
   "execution_count": 102,
   "id": "404f310f-7412-4df9-9bde-b779266a0a4e",
   "metadata": {},
   "outputs": [
    {
     "data": {
      "text/plain": [
       "(array([[  3.,   0.,   3.,  76., 206., 111., 113., 122., 104., 105.,  47.,\n",
       "           7.,   7.,   9.,   3.,   1.,   2.,   0.,   4.,   0.],\n",
       "        [ 10.,  18., 123., 323., 506., 278., 251., 244., 218., 193.,  73.,\n",
       "           9.,  20.,  17.,   8.,   8.,   3.,   2.,   5.,   1.],\n",
       "        [ 10.,  18., 135., 424., 747., 405., 372., 333., 287., 219.,  79.,\n",
       "           9.,  20.,  17.,   8.,   8.,   3.,   2.,   5.,   1.]]),\n",
       " array([  55.  ,  106.65,  158.3 ,  209.95,  261.6 ,  313.25,  364.9 ,\n",
       "         416.55,  468.2 ,  519.85,  571.5 ,  623.15,  674.8 ,  726.45,\n",
       "         778.1 ,  829.75,  881.4 ,  933.05,  984.7 , 1036.35, 1088.  ]),\n",
       " <a list of 3 BarContainer objects>)"
      ]
     },
     "execution_count": 102,
     "metadata": {},
     "output_type": "execute_result"
    },
    {
     "data": {
      "image/png": "[encoded data removed]",
      "text/plain": [
       "<Figure size 432x288 with 1 Axes>"
      ]
     },
     "metadata": {},
     "output_type": "display_data"
    }
   ],
   "source": [
    "# create a histogram with stacked values\n",
    "plt.hist(df_combined, bins =20, stacked=True)"
   ]
  },
  {
   "cell_type": "markdown",
   "id": "53db5135-2e87-4e51-8361-48482660845a",
   "metadata": {},
   "source": [
    "### Assessment of CAO points using Seaborn <br>\n",
    "\n",
    "---"
   ]
  },
  {
   "cell_type": "markdown",
   "id": "fb188d6f-397f-4e0f-8381-f21d026f55a2",
   "metadata": {},
   "source": [
    "### sns distplots<br>\n"
   ]
  },
  {
   "cell_type": "code",
   "execution_count": 103,
   "id": "903c2946-26e5-4df8-bc26-2be44f1db558",
   "metadata": {},
   "outputs": [
    {
     "data": {
      "text/plain": [
       "<AxesSubplot:xlabel='points_R1_2019', ylabel='Density'>"
      ]
     },
     "execution_count": 103,
     "metadata": {},
     "output_type": "execute_result"
    },
    {
     "data": {
      "image/png": "[encoded data removed]",
      "text/plain": [
       "<Figure size 432x288 with 1 Axes>"
      ]
     },
     "metadata": {},
     "output_type": "display_data"
    }
   ],
   "source": [
    "sns.distplot(allcourses['points_R1_2019'])"
   ]
  },
  {
   "cell_type": "code",
   "execution_count": 104,
   "id": "2e6aebc7-6188-4f64-8b08-b2fa619f8c08",
   "metadata": {},
   "outputs": [
    {
     "data": {
      "text/plain": [
       "<AxesSubplot:xlabel='points_R1_2020', ylabel='Density'>"
      ]
     },
     "execution_count": 104,
     "metadata": {},
     "output_type": "execute_result"
    },
    {
     "data": {
      "image/png": "[encoded data removed]",
      "text/plain": [
       "<Figure size 432x288 with 1 Axes>"
      ]
     },
     "metadata": {},
     "output_type": "display_data"
    }
   ],
   "source": [
    "sns.distplot(allcourses['points_R1_2020'])"
   ]
  },
  {
   "cell_type": "code",
   "execution_count": 105,
   "id": "d732d213-7747-4e47-9b9f-b43e2492d334",
   "metadata": {},
   "outputs": [
    {
     "data": {
      "text/plain": [
       "<AxesSubplot:xlabel='points_r1_2021', ylabel='Density'>"
      ]
     },
     "execution_count": 105,
     "metadata": {},
     "output_type": "execute_result"
    },
    {
     "data": {
      "image/png": "[encoded data removed]",
      "text/plain": [
       "<Figure size 432x288 with 1 Axes>"
      ]
     },
     "metadata": {},
     "output_type": "display_data"
    }
   ],
   "source": [
    "sns.distplot(allcourses['points_r1_2021'])"
   ]
  },
  {
   "cell_type": "markdown",
   "id": "aad1d6c5-4265-4c35-88f4-bc37a01551ba",
   "metadata": {},
   "source": [
    "### sns histplots"
   ]
  },
  {
   "cell_type": "code",
   "execution_count": 106,
   "id": "923a445a-0cb2-4cdf-9ee5-aced66ee7b49",
   "metadata": {},
   "outputs": [
    {
     "data": {
      "text/plain": [
       "<AxesSubplot:ylabel='Count'>"
      ]
     },
     "execution_count": 106,
     "metadata": {},
     "output_type": "execute_result"
    },
    {
     "data": {
      "image/png": "[encoded data removed]",
      "text/plain": [
       "<Figure size 432x288 with 1 Axes>"
      ]
     },
     "metadata": {},
     "output_type": "display_data"
    }
   ],
   "source": [
    "sns.histplot(data=df_CAO_2019_numpy, kde=True)"
   ]
  },
  {
   "cell_type": "code",
   "execution_count": 107,
   "id": "7163ee5e-4a2c-4f69-9e19-f1e843996f4d",
   "metadata": {},
   "outputs": [
    {
     "data": {
      "text/plain": [
       "<AxesSubplot:ylabel='Count'>"
      ]
     },
     "execution_count": 107,
     "metadata": {},
     "output_type": "execute_result"
    },
    {
     "data": {
      "image/png": "[encoded data removed]",
      "text/plain": [
       "<Figure size 432x288 with 1 Axes>"
      ]
     },
     "metadata": {},
     "output_type": "display_data"
    }
   ],
   "source": [
    "sns.histplot(data=df_CAO_2020_numpy, kde=True)"
   ]
  },
  {
   "cell_type": "code",
   "execution_count": 108,
   "id": "be5d9727-576a-4983-89b7-370dc74950e0",
   "metadata": {},
   "outputs": [
    {
     "data": {
      "text/plain": [
       "<AxesSubplot:ylabel='Count'>"
      ]
     },
     "execution_count": 108,
     "metadata": {},
     "output_type": "execute_result"
    },
    {
     "data": {
      "image/png": "[encoded data removed]",
      "text/plain": [
       "<Figure size 432x288 with 1 Axes>"
      ]
     },
     "metadata": {},
     "output_type": "display_data"
    }
   ],
   "source": [
    "sns.histplot(data=df_CAO_2021_numpy, kde=True)"
   ]
  },
  {
   "cell_type": "markdown",
   "id": "fe5f1317-1d75-4d2d-9274-bc3245d42cf3",
   "metadata": {},
   "source": [
    "### side by side histplots with kernle density estimate (kde)"
   ]
  },
  {
   "cell_type": "code",
   "execution_count": 109,
   "id": "1a10a48b-1736-458d-98af-f23bdae5d976",
   "metadata": {},
   "outputs": [
    {
     "data": {
      "image/png": "[encoded data removed]",
      "text/plain": [
       "<Figure size 504x504 with 4 Axes>"
      ]
     },
     "metadata": {},
     "output_type": "display_data"
    }
   ],
   "source": [
    "fig, axs = plt.subplots(2, 2, figsize=(7, 7))\n",
    "\n",
    "sns.histplot(data=allcourses, x=\"points_R1_2019\", color=\"skyblue\", label=\"points_R1_2019\", kde=True, ax=axs[0, 0])\n",
    "sns.histplot(data=allcourses, x=\"points_R1_2020\", color=\"orange\", label=\"points_R1_2020\", kde=True, ax=axs[0, 1])\n",
    "sns.histplot(data=allcourses, x=\"points_r1_2021\", color=\"green\", label=\"points_r1_2021\", kde=True, ax=axs[1, 0])\n",
    "\n",
    "plt.show()"
   ]
  },
  {
   "cell_type": "markdown",
   "id": "1e0dfe1d-afc1-4179-bdcd-96216a381769",
   "metadata": {},
   "source": [
    "### overlapping distplots for years with kde"
   ]
  },
  {
   "cell_type": "code",
   "execution_count": 110,
   "id": "1a420635-1d88-4bc1-a8ef-e62cd495acaa",
   "metadata": {},
   "outputs": [
    {
     "data": {
      "text/plain": [
       "<AxesSubplot:xlabel='points_r1_2021', ylabel='Density'>"
      ]
     },
     "execution_count": 110,
     "metadata": {},
     "output_type": "execute_result"
    },
    {
     "data": {
      "image/png": "[encoded data removed]",
      "text/plain": [
       "<Figure size 432x288 with 1 Axes>"
      ]
     },
     "metadata": {},
     "output_type": "display_data"
    }
   ],
   "source": [
    "sns.distplot(allcourses['points_R1_2019'])\n",
    "sns.distplot(allcourses['points_R1_2020'])\n",
    "sns.distplot(allcourses['points_r1_2021'])"
   ]
  },
  {
   "cell_type": "code",
   "execution_count": 111,
   "id": "7cb0c208-46d5-4199-a317-3a36cfd53a3f",
   "metadata": {},
   "outputs": [
    {
     "data": {
      "image/png": "[encoded data removed]",
      "text/plain": [
       "<Figure size 432x288 with 1 Axes>"
      ]
     },
     "metadata": {},
     "output_type": "display_data"
    }
   ],
   "source": [
    "sns.histplot(data=allcourses, x=\"points_R1_2019\", color=\"skyblue\", label=\"points_R1_2019\", kde=True)\n",
    "sns.histplot(data=allcourses, x=\"points_R1_2020\", color=\"orange\", label=\"points_R1_2020\", kde=True)\n",
    "sns.histplot(data=allcourses, x=\"points_r1_2021\", color=\"green\", label=\"points_r1_2021\", kde=True)\n",
    "\n",
    "plt.legend() \n",
    "plt.show()"
   ]
  },
  {
   "cell_type": "code",
   "execution_count": 112,
   "id": "1390bf17-8c25-4bea-b36b-c1e70c095287",
   "metadata": {},
   "outputs": [
    {
     "data": {
      "text/plain": [
       "array([[300., 303., 304.],\n",
       "       [313., 332., 301.],\n",
       "       [350., 337., 309.],\n",
       "       ...,\n",
       "       [ nan,  nan, 264.],\n",
       "       [ nan,  nan, 369.],\n",
       "       [ nan,  nan, 269.]])"
      ]
     },
     "execution_count": 112,
     "metadata": {},
     "output_type": "execute_result"
    }
   ],
   "source": [
    "df_combined"
   ]
  },
  {
   "cell_type": "code",
   "execution_count": 113,
   "id": "cac77323-6940-4063-b308-2fb24902a705",
   "metadata": {},
   "outputs": [
    {
     "data": {
      "text/plain": [
       "<AxesSubplot:ylabel='Count'>"
      ]
     },
     "execution_count": 113,
     "metadata": {},
     "output_type": "execute_result"
    },
    {
     "data": {
      "image/png": "[encoded data removed]",
      "text/plain": [
       "<Figure size 432x288 with 1 Axes>"
      ]
     },
     "metadata": {},
     "output_type": "display_data"
    }
   ],
   "source": [
    "sns.histplot(data=df_combined, kde=True)"
   ]
  },
  {
   "cell_type": "markdown",
   "id": "af753edd-056a-4386-8f5e-1babaed68d9f",
   "metadata": {},
   "source": [
    "### sns pairplot"
   ]
  },
  {
   "cell_type": "code",
   "execution_count": 114,
   "id": "b83abf89-9735-4c08-87bd-94b648400aa5",
   "metadata": {},
   "outputs": [
    {
     "data": {
      "text/plain": [
       "<seaborn.axisgrid.PairGrid at 0x27a1fdf5820>"
      ]
     },
     "execution_count": 114,
     "metadata": {},
     "output_type": "execute_result"
    },
    {
     "data": {
      "image/png": "[encoded data removed]",
      "text/plain": [
       "<Figure size 540x540 with 12 Axes>"
      ]
     },
     "metadata": {},
     "output_type": "display_data"
    }
   ],
   "source": [
    "sns.pairplot(data=allcourses)"
   ]
  },
  {
   "cell_type": "markdown",
   "id": "88da3cda-b466-4d1d-8d86-d7d79ed7386f",
   "metadata": {},
   "source": [
    "### further correlation analysis using sns jointplot"
   ]
  },
  {
   "cell_type": "code",
   "execution_count": 115,
   "id": "939a0df6-fd67-4f07-af77-21c851d0706c",
   "metadata": {},
   "outputs": [
    {
     "data": {
      "image/png": "[encoded data removed]",
      "text/plain": [
       "<Figure size 432x432 with 3 Axes>"
      ]
     },
     "metadata": {},
     "output_type": "display_data"
    }
   ],
   "source": [
    "sns.jointplot(\"points_R1_2019\", \"points_r1_2021\", data=allcourses, kind='reg');"
   ]
  },
  {
   "cell_type": "code",
   "execution_count": 116,
   "id": "d17bea4f-f245-43cb-8d20-2ea8b0e4854b",
   "metadata": {},
   "outputs": [
    {
     "data": {
      "image/png": "[encoded data removed]",
      "text/plain": [
       "<Figure size 432x432 with 3 Axes>"
      ]
     },
     "metadata": {},
     "output_type": "display_data"
    }
   ],
   "source": [
    "sns.jointplot(\"points_R1_2019\", \"points_R1_2020\", data=allcourses, kind='reg');"
   ]
  },
  {
   "cell_type": "code",
   "execution_count": 117,
   "id": "5cc0c902-1ce4-49b3-91d9-6a1e2376f699",
   "metadata": {},
   "outputs": [
    {
     "data": {
      "image/png": "[encoded data removed]",
      "text/plain": [
       "<Figure size 432x432 with 3 Axes>"
      ]
     },
     "metadata": {},
     "output_type": "display_data"
    }
   ],
   "source": [
    "sns.jointplot(\"points_R1_2019\", \"points_R1_2020\", data=allcourses, kind='reg');"
   ]
  },
  {
   "cell_type": "code",
   "execution_count": 118,
   "id": "2bc0da93-7fc5-455c-bd06-adb0741ed77a",
   "metadata": {},
   "outputs": [
    {
     "data": {
      "image/png": "[encoded data removed]",
      "text/plain": [
       "<Figure size 432x432 with 3 Axes>"
      ]
     },
     "metadata": {},
     "output_type": "display_data"
    }
   ],
   "source": [
    "sns.jointplot(\"points_R1_2020\", \"points_r1_2021\", data=allcourses, kind='reg');"
   ]
  },
  {
   "cell_type": "markdown",
   "id": "7c8c244e-3a2f-4e19-af6f-1b5319e1df6a",
   "metadata": {},
   "source": [
    "### individual course comparison"
   ]
  },
  {
   "cell_type": "code",
   "execution_count": 119,
   "id": "b3ed1c6a-0fe7-483b-8bda-ddfb5acd5131",
   "metadata": {},
   "outputs": [],
   "source": [
    "# # loop through the value counts extracting into arrays\n",
    "# for i in allcourses.code:\n",
    "#       #print(i)\n",
    "#     my_list = i.split(\",\")\n",
    "#     print(my_list)\n",
    "# i=i+1"
   ]
  },
  {
   "cell_type": "code",
   "execution_count": 120,
   "id": "5dd5c5d0-540e-4619-9454-1c82dac34060",
   "metadata": {},
   "outputs": [],
   "source": [
    "# my_list_horizontal = np.hstack([my_list]).T\n",
    "# my_list_horizontal"
   ]
  },
  {
   "cell_type": "markdown",
   "id": "aa91149b-ef61-4f8f-b613-a8a8005c91cb",
   "metadata": {},
   "source": [
    "<br>\n",
    "\n",
    "## References:\n",
    "---\n",
    "<br>\n",
    "https://www.prepressure.com/library/technology/ascii-binary-hex\n",
    "\n",
    "http://www.i18nqa.com/debug/table-iso8859-1-vs-windows-1252.html\n",
    "\n",
    "https://docs.python.org/3/library/datetime.html\n",
    "\n",
    "https://www.ibm.com/ie-en/products/spss-statistics-gradpack\n",
    "\n",
    "#### how to convert pdf to csv\n",
    "https://stackoverflow.com/questions/49560486/how-to-convert-pdf-to-csv-with-tabula-py\n",
    "\n",
    "### utf8 encoding \n",
    "https://stackoverflow.com/questions/27092833/unicodeencodeerror-charmap-codec-cant-encode-characters\n",
    "\n",
    "#### iterating through data using regex (itertools)\n",
    "https://stackabuse.com/pythons-itertools-count-cycle-and-chain/\n",
    "\n",
    "#### regular expression syntax\n",
    "https://www.w3schools.com/python/python_regex.asp\n",
    "\n",
    "https://docs.python.org/3/library/re.html\n",
    "\n",
    "#### How to remove special characters in pandas dataframe\n",
    "https://stackoverflow.com/questions/38277928/remove-special-characters-in-pandas-dataframe\n",
    "\n",
    "https://stackoverflow.com/questions/33257344/how-to-remove-special-characers-from-a-column-of-dataframe-using-module-re\n",
    "\n",
    "https://stackoverflow.com/questions/62550533/pandas-str-method-returns-nan-values-how-to-keep-numeric-values\n",
    "\n",
    "https://pbpython.com/pandas_dtypes.html\n",
    "\n",
    "#### Python libraries to'scrape pdf's':\n",
    "Tabula,Camelot,Excalibur\n",
    "\n",
    "#### how to use split function\n",
    "https://pynative.com/python-regex-split/#h-how-to-use-re-split-function\n",
    "syntax: re.split(pattern, string, maxsplit=0, flags=0)\n",
    "\n",
    "### Concatenate and Merge dataframes\n",
    "\n",
    "#### how to concatenate with pandas\n",
    "note 'ignore_index'= True <br>\n",
    "\n",
    "#### skiprows in dataframe\n",
    "https://pandas.pydata.org/docs/reference/api/pandas.read_excel.html <br> \n",
    "function signature in pandas excel webpage: (io, sheet_name=0, header=0, names=None, index_col=None, usecols=None, squeeze=False, dtype=None, engine=None, converters=None, true_values=None, false_values=None, skiprows=None, nrows=None, na_values=None, keep_default_na=True, na_filter=True, verbose=False, parse_dates=False, date_parser=None, thousands=None, comment=None, skipfooter=0, convert_float=None, mangle_dupe_cols=True, storage_options=None)¶\n",
    "\n",
    "#### reset index in pandas dataframe\n",
    "https://pandas.pydata.org/docs/reference/api/pandas.DataFrame.reset_index.html <br>\n",
    "https://pandas.pydata.org/pandas-docs/stable/user_guide/merging.html <br>\n",
    "\n",
    "#### how to undo a change in dataframe\n",
    "https://stackoverflow.com/questions/50931697/undo-a-change-that-was-performed-using-pandas<br>\n",
    "#### how to manage duplicates in a dataframe\n",
    "https://pandas.pydata.org/docs/reference/api/pandas.DataFrame.duplicated.html <br>\n",
    "#### how to return uniques in dastaframe columns \n",
    "https://pandas.pydata.org/docs/reference/api/pandas.Series.unique.html <br>\n",
    "#### how to drop duplicates in dataframe\n",
    "https://pandas.pydata.org/docs/reference/api/pandas.DataFrame.drop_duplicates.html<br>\n",
    "\n",
    "#### Plotting with PANDAS\n",
    "https://neptune.ai/blog/pandas-plot-deep-dive-into-plotting-directly-with-pandas<br>\n",
    "#### Plotting bar charts\n",
    "https://stackoverflow.com/questions/60336648/create-subplots-of-bar-chart-for-each-row-in-dataframe<br>\n",
    "https://towardsdatascience.com/4-simple-tips-for-plotting-multiple-graphs-in-python-38df2112965c<br>\n",
    "https://neptune.ai/blog/pandas-plot-deep-dive-into-plotting-directly-with-pandas<br>\n",
    "https://stackoverflow.com/questions/28830031/plotting-bar-charts-by-each-two-rows<br>\n",
    "https://stackoverflow.com/questions/42128467/matplotlib-plot-multiple-columns-of-pandas-data-frame-on-the-bar-chart<br>    \n",
    "\n",
    "#### Plotting with seaborn\n",
    "https://indianaiproduction.com/seaborn-pairplot/<br>\n",
    "https://seaborn.pydata.org/generated/seaborn.histplot.html<br>\n",
    "\n",
    "[Pandas concat() tricks you should know to speed up your data analysis]<br>\n",
    "(https://towardsdatascience.com/pandas-concat-tricks-you-should-know-to-speed-up-your-data-analysis-cd3d4fdfe6dd#:~:text=Dealing%20with%20index%20and%20axis,-Suppose%20we%20have&text=If%20you%20want%20the%20concatenation,%2C%20%E2%80%A6%2C%20n%2D1%20.&text=To%20concatenate%20DataFrames%20horizontally%20along,set%20the%20argument%20axis%3D1%20.)\n",
    "\n"
   ]
  },
  {
   "cell_type": "markdown",
   "id": "2c731522-7b37-406b-9652-e8b35598ac57",
   "metadata": {},
   "source": [
    "#### Read the remainder of the course work\n",
    "- understand how the years are being concatenated\n",
    "- add the 2019 course codes\n",
    "- aim is to have a data frame of 2021,2020,2019  points per common course\n",
    "- ultimately cannot compare points for courses in one year and not the other two\n",
    "- but these will need to be explained in readme"
   ]
  },
  {
   "cell_type": "markdown",
   "id": "2b060501-ce17-404a-ab59-4e524665b90e",
   "metadata": {},
   "source": [
    "##  helper function\n",
    "### to remove special characters/asterisks\n",
    "- may not need in pandas"
   ]
  },
  {
   "cell_type": "code",
   "execution_count": 121,
   "id": "996500df-2577-49e4-951b-eb05abfad8a6",
   "metadata": {},
   "outputs": [],
   "source": [
    "# takes in s (str) - checks is 1st character #? \n",
    "#if yes then stores in portfolio a\n",
    "# otherwise it stores an empty string\n",
    "def points_to_array(s):\n",
    "    portfolio = ''\n",
    "    if s[0] == '#':\n",
    "        portfolio = '#'\n",
    "        random = ''\n",
    "        #checks the last character  if its an asterisk then it stores \n",
    "        if s[-1] == '*':\n",
    "            random = '*'\n",
    "            # loops through each characters in string for i in s\n",
    "            # + is string concatenation \n",
    "            # + is not addition\n",
    "        points = ''\n",
    "        for i in s:\n",
    "            if i.isdigit():\n",
    "                points = points + 1\n",
    "                return [points, portfolio, random]\n",
    "            \n",
    "# 'would recommend changing course _points[0], course_points[1]] into arrays with three things in them\n",
    "#hash character , empty string, points ,random has-\n",
    "# maybe don't need if read in pandas'"
   ]
  },
  {
   "cell_type": "code",
   "execution_count": 122,
   "id": "17b8841b-12fd-4888-b723-14b8fcccf6c5",
   "metadata": {},
   "outputs": [],
   "source": [
    "# # linspace:\n",
    "\n",
    "# #The numpy.linspace() function returns number spaces evenly w.r.t interval. Similar to numpy.arrange() function but instead of step it uses sample number. \n",
    "# # Syntax : numpy.linspace(start,stop,num = 50,endpoint = True,retstep = False,dtype = None)\n",
    "# #e.g.:\n",
    "# # import numpy as np\n",
    "# # print(\"B\\n\", np.linspace(2.0, 3.0, num=5, retstep=True), \"\\n\")\n",
    "# # To evaluate sin() in long range\n",
    "# # x = np.linspace(0, 2, 10)\n",
    "# # print(\"A\\n\", np.sin(x))\n",
    "# # https://www.geeksforgeeks.org/numpy-linspace-python/\n",
    "\n",
    "\n",
    "# # print out every 'th value in an array:\n",
    "# # e.g. for a super long list i.e. here 10000 print only evertyime i is a multiple of 1000\n",
    "# # i = 0 (not needed)\n",
    "# # for i in x  (not needed)\n",
    "\n",
    "# import numpy as np\n",
    "# x = np.linspace(-20.0, 10.0,10000)\n",
    "# for i in range (len(x)):\n",
    "#     if (i % 1000) == 0:\n",
    "#             print (f\"{x[i]:.1}\")\n",
    "# # this will avoid the length cell especially in github notebook renderer and nbv viewer"
   ]
  },
  {
   "cell_type": "markdown",
   "id": "e9c8d8b8-a911-435f-8344-41ce84e4eda3",
   "metadata": {},
   "source": [
    "### Unused code "
   ]
  },
  {
   "cell_type": "markdown",
   "id": "0391ac7f-0b6c-42a6-a292-3bbe48cc8231",
   "metadata": {},
   "source": [
    "#### Extra lines in html- how to reconcile the # lines of html vs the csv\n",
    "- i.e. total number of lines output in jupyter code\n",
    "- open VSC\n",
    "- delete all the lines that don't want\n",
    "- delete preamble & sections within colleges\n",
    "\n",
    "####  find \\n\\n and replace with \\n\n",
    "in RE turned on : ^ looks for start of line $ looks for end of line <br>\n",
    "cant find and replace with these but can find S&F of lines"
   ]
  },
  {
   "cell_type": "markdown",
   "id": "60d1abee-0fc4-4b27-912e-196022540b70",
   "metadata": {},
   "source": [
    "<br>\n",
    "\n",
    "### alternate way to sort\n",
    "- is this needed anymore?\n",
    "- if so then remove\n",
    "- different to RE but similar result\n",
    "- more manual\n",
    "\n",
    "---"
   ]
  },
  {
   "cell_type": "code",
   "execution_count": 123,
   "id": "17cb2fc8-e504-42b4-aedf-519df31c7c04",
   "metadata": {},
   "outputs": [],
   "source": [
    "# #the filepath for the csv file- which is the output of the below script\n",
    "# path2021csvB = 'data/cao2021_csvB' + nowstr + '.csv'"
   ]
  },
  {
   "cell_type": "code",
   "execution_count": 124,
   "id": "6f3247a7-7bcc-4450-b741-8fe3d002aa5b",
   "metadata": {},
   "outputs": [],
   "source": [
    "# pasted in from course notes\n",
    "# # Keep track of how many courses we process.\n",
    "# no_lines = 0\n",
    "\n",
    "# # Open the csv file for writing.\n",
    "# with open(path2021csv, 'w') as f:\n",
    "#     # Write a header row.\n",
    "#     f.write(','.join(['code', 'title', 'pointsR1', 'pointsR2']) + '\\n')\n",
    "#     # Loop through lines of the response.\n",
    "#     for line in resp_2021.iter_lines():\n",
    "#         # Decode the line, using the wrong encoding!\n",
    "#         dline = line.decode('cp1252')\n",
    "#         # Match only the lines representing courses.\n",
    "#         if re_course.fullmatch(dline):\n",
    "#             # Add one to the lines counter.\n",
    "#             no_lines = no_lines + 1\n",
    "#             #print(line)\n",
    "            \n",
    "#             # The course code:\n",
    "#             course_code = dline[:5]\n",
    "#             #debug\n",
    "#             #print(course_code)\n",
    "          \n",
    "#             #The course title:\n",
    "#             # trial and error change the span of str to return until its clear its catching all and no spaces\n",
    "#             course_title = dline[7:57].strip()\n",
    "#             #debug\n",
    "#             #print(course_title)\n",
    "            \n",
    "#             # The course points:\n",
    "#             # remainder of the line split where you see a space\n",
    "#             # returns a list of substrings of original string from 60:\n",
    "#             # Round one points and where available round two points. Otherwise returns ''\n",
    "#             course_points = re.split(' +', dline[60:])\n",
    "#             #debug\n",
    "#             #print(course_points)\n",
    "            \n",
    "            \n",
    "#             if len(course_points) != 2:\n",
    "#                 course_points = course_points[:2]\n",
    "#             # Join the fields using a comma to create csv \n",
    "#             linesplit = [course_code, course_title, course_points[0], course_points[1]]\n",
    "#             #debug\n",
    "#             #print(len(linesplit), linesplit, dline)\n",
    "#             # Rejoin the substrings with commas in between.\n",
    "#             f.write(','.join(linesplit) + '\\n')\n",
    "\n",
    "# # Print the total number of processed lines.\n",
    "# print(f\"Total number of lines is {no_lines}.\")"
   ]
  },
  {
   "cell_type": "code",
   "execution_count": 125,
   "id": "9bd91438-0e69-49cf-8d33-9a955e74969a",
   "metadata": {},
   "outputs": [],
   "source": [
    "# #for the below if used in assessment should be cleaned up. Check regular expressions are working properly\n",
    "# # if want to save output of this then need a filepath and file format like the original data above\n",
    "\n",
    "# no_lines = 0\n",
    "# #open the csv file for writing\n",
    "# with open(path2021csvB, 'w') as f:\n",
    "#     # write a header row\n",
    "#     f.write(','.join(['code', 'title', 'pointsR1', 'pointsR2']) + '\\n')\n",
    "#    # f.write(resp.text)   \n",
    "#     #loop through the lines of the response content\n",
    "#     for line in resp_2021.iter_lines():\n",
    "#         #decode the line using the encoding not flagged by the response from CAO\n",
    "#         dline = line.decode('cp1252')\n",
    "#         #match only the lines representing the requirements of the regular expression (i.e. line containing course)\n",
    "#         if re_course.fullmatch(dline):\n",
    "#             #add one to the line counter\n",
    "#             no_lines = no_lines + 1\n",
    "#            # print(line)\n",
    "#             # to check the output- can be commented out as required\n",
    "\n",
    "#         # version 1 using regular expression\n",
    "#         # csv_version = re_course.sub(r'\\1,\\2,\\3,\\4', dline)\n",
    "#         #version 1 using re commented out\n",
    "#         #print(csv_version) no need to print so commented out\n",
    "#         #alternate way than regular expression is to use python in built split function\n",
    "#         # 'split' splits the line\n",
    "#         #(+ ) instructs to do this where two or more spaces- NB the spaces represented before the '+' below are v important\n",
    "#             linesplit = re.split('  +', dline)\n",
    "#             f.write(','.join(linesplit) + '\\n') \n",
    "# print(f\"total number of lines is {no_lines}.\")  \n",
    "# # long outputs are a pain in github as will render without the abiliity to scroll. \n",
    "# # Therefore don't print it all out.   \n",
    "# # Can use scikit learn. Suggestion below"
   ]
  },
  {
   "cell_type": "code",
   "execution_count": 126,
   "id": "464770df-a6aa-4d41-9b23-430fce07fc22",
   "metadata": {},
   "outputs": [],
   "source": [
    "# #the filepath for the alternate csv file- which is the output of the below script that uses a more 1st principles approach\n",
    "# #path2021csv2 = 'data/cao2021_csv(2)' + now.strftime('%Y%m%d_%H%M%S')  + '.csv'\n",
    "# path2021csv2 = 'data/cao2021_csv(2)' + nowstr + '.csv'"
   ]
  },
  {
   "cell_type": "code",
   "execution_count": 127,
   "id": "0b52f931-4798-43a8-983d-4b03c3ba9e59",
   "metadata": {},
   "outputs": [],
   "source": [
    "# <br>\n",
    "\n",
    "# ### Use of alternate code to 'scrape' the raw data and return dataset\n",
    "\n",
    "# ---"
   ]
  },
  {
   "cell_type": "code",
   "execution_count": 128,
   "id": "f0b447b8-82c4-4282-ad8f-f8ae822620b4",
   "metadata": {},
   "outputs": [],
   "source": [
    "#df2021B = pd.read_csv(path2021csvB, encoding='cp1252')"
   ]
  },
  {
   "cell_type": "markdown",
   "id": "110cc9fb-1563-473c-854f-64802d44ceaf",
   "metadata": {},
   "source": [
    "<br>\n",
    "\n",
    "#### alternate way to sort 2021 html\n",
    "- different to RE but similar result\n",
    "- more manual\n",
    "\n",
    "---\n"
   ]
  },
  {
   "cell_type": "markdown",
   "id": "46c7ba04-4d25-454c-9f33-26a403da5f31",
   "metadata": {},
   "source": [
    "<br>\n",
    "\n",
    "#### how to strip data based on white space\n",
    "\n",
    "stripstrings = ' abc     ' <br>\n",
    "**s.strip()** strips the white space** <br>\n",
    "\n",
    "---"
   ]
  },
  {
   "cell_type": "code",
   "execution_count": 129,
   "id": "72937767-b231-4ad0-92cd-9f8e3866a474",
   "metadata": {},
   "outputs": [],
   "source": [
    "# # older version of code\n",
    "\n",
    "# no_lines = 0\n",
    "# #open the csv file for writing\n",
    "# with open(path2021csv2, 'w') as f:\n",
    "#     # write a header row\n",
    "#     f.write(','.join(['code', 'title', 'pointsR1', 'pointsR2']) + '\\n')\n",
    "#     #debug:\n",
    "#             ##print(len(linesplit), linesplit ,dline)\n",
    "#             #this will show you how the RE is splitting \n",
    "#             #i.e. expect '4' for len(length) of linesplit, then in square brackets how it splits 'xxx', then outside square brackets the string- 'dline'\n",
    "            \n",
    "#             #print out just the course code # :5b means simply print out the characters up to position 5 (0-4 in python)\n",
    "#             #course_code = dline[:5]\n",
    "#             #print (course_code)\n",
    "            \n",
    "#             #print out just the course title- starts at 7n in..trial and error re run until get longest course title\n",
    "#             #course_title = dline[7:57]\n",
    "#             #print (course_title)     \n",
    "            \n",
    "#             #round one points - prints out both round 1 and round 2  Note: can't separate 'round' and '1'\n",
    "#             #course_round1 = dline[60:]\n",
    "#             #print (course_round1)\n",
    "            \n",
    "#             #can edit the RE and re-run these to debug further\n",
    "            \n",
    "#             #further debugging\n",
    "#             #split on the space. Has a look for one ore more space and splits it\n",
    "#             #course_points = re.split('  +' , dline[60:])\n",
    "#             #print(f\"'{course_code} {course_points}'\")\n",
    "            \n",
    "#             #last line is returning anything but two substrings back- create an exception\n",
    "#            # if len(course_points) != 2:\n",
    "#                 #course_points = course_points[:2]\n",
    "#                # join the fields usign a comma\n",
    "#                # linesplit = [course_code,course_title, course _points[0], course_points[1]]\n",
    "                \n",
    "#             #print(','.join(linesplit))\n",
    "#             #f.write(csv_version + '\\n') - saving of old RE way\n",
    "#             #rejoin the substrings with commas in-between\n",
    "#             #f.write(','.join(linesplit) + '\\n')\n",
    "            \n",
    "#             #result - output is a csv file!\n",
    "#     for line in resp_2021.iter_lines():\n",
    "#         dline = line.decode('cp1252')\n",
    "#         if re_course.fullmatch(dline):\n",
    "#             no_lines = no_lines + 1\n",
    "#             course_code = dline[:5]\n",
    "#             course_title = dline[7:57].strip()\n",
    "#             course_points = re.split('  +' , dline[60:])\n",
    "#             if len(course_points) != 2:\n",
    "#                 course_points = course_points[:2]\n",
    "#             linesplit = [course_code,course_title, course_points[0], course_points[1]]\n",
    "#             f.write(','.join(linesplit) + '\\n') \n",
    "#           #  print(line) # to check the output- can be commented out as required\n",
    "# print(f\"total number of lines is {no_lines}.\")\n",
    "\n",
    "# # output path2021 is a csv file\n",
    "# #note pandas coud convert html to csv but better to use own code and save as csv- use pandas thereafter"
   ]
  },
  {
   "cell_type": "code",
   "execution_count": 130,
   "id": "d26ddd1f-b879-4606-bcd3-e668790d66d0",
   "metadata": {},
   "outputs": [],
   "source": [
    "#old code\n",
    "#how to loop throught the linesv in request. iterate through the lines in request using a regular expression\n",
    "#for line in resp.iter_lines():\n",
    "   # if re.match('[A-Z]{2}[0-9]{3}  .* *(0-9){3} *', line.decode('utf-8') ):\n",
    "               # print(line)"
   ]
  },
  {
   "cell_type": "code",
   "execution_count": 131,
   "id": "1c06eb42-7485-4d60-8d78-bd710b7a2b7f",
   "metadata": {},
   "outputs": [],
   "source": [
    "#old code\n",
    "#how to loop throught the linesv in request. iterate through the lines in request using a regular expression\n",
    "#for line in resp.iter_lines():\n",
    "   # if re.match('[A-Z]{2}[0-9]{3}  .* *(0-9){3} *', line.decode('utf-8') ):\n",
    "               # print(line)"
   ]
  },
  {
   "cell_type": "code",
   "execution_count": 132,
   "id": "0ca2d492-198e-4989-9cd8-dc35649a234d",
   "metadata": {},
   "outputs": [],
   "source": [
    "# df2021B = pd.read_csv(path2021csv2, encoding='cp1252')"
   ]
  },
  {
   "cell_type": "code",
   "execution_count": 133,
   "id": "5329f634-67f6-4261-af87-d0168d807621",
   "metadata": {},
   "outputs": [],
   "source": [
    "#pd.to_numeric(df2020['EOS'], errors='coerce')"
   ]
  },
  {
   "cell_type": "code",
   "execution_count": 134,
   "id": "125460fc-5a9d-49ea-9291-036b20d0ed88",
   "metadata": {},
   "outputs": [],
   "source": [
    "#df2020['EOS']=pd.to_numeric(df2020['EOS'], errors='coerce')"
   ]
  },
  {
   "cell_type": "code",
   "execution_count": 135,
   "id": "da6ec3ed-c2df-459d-a778-290a64d77850",
   "metadata": {},
   "outputs": [],
   "source": [
    "# #spot check of data (row)\n",
    "# # use loc or iloc functionality to check data\n",
    "# df2020.iloc[0:100]\n",
    "# #check the final line in the spreadsheet\n",
    "# # reminder 1st 11 rows are heading #excel identifies 1st row as zero\n",
    "# #df2020.iloc[753]\n",
    "# # can also count backwards to last row\n",
    "# #df2020.iloc[-1]"
   ]
  },
  {
   "cell_type": "code",
   "execution_count": 136,
   "id": "825dce2c-bf29-42ac-a5a8-253ed9cb2b5d",
   "metadata": {},
   "outputs": [],
   "source": [
    "# # Create a file path for the pandas data.\n",
    "# pathxlsx = 'data/cao2020_' + nowstr + '.xlsx'\n",
    "\n",
    "# # retrieve the original excel data from CAO website and save to new xlsx file (time stamped)\n",
    "# urlrq.urlretrieve (url2020, pathxlsx)\n",
    "\n",
    "# #pathxlsx = 'data/cao2020_' + now.strftime('%Y%m%d_%H%M%S')  + '.xlsx'\n",
    "# #now.strftime('%Y%m%d_%H%M%S')\n",
    "# #save the original html file\n",
    "# #with open(pathxlsx, 'w') as f:\n",
    "#    # f.write(resp.text)   "
   ]
  },
  {
   "cell_type": "markdown",
   "id": "6ffd36b6-38c1-47ce-9b92-0f5d777851a9",
   "metadata": {},
   "source": [
    "<!-- Manual way of extracting:\n",
    "1. save pdf in repository\n",
    "2. open original with MS Word (may need to 'choose other app to open' in dropdown\n",
    "3. MS Word converts pdf to Word\n",
    "4. Save file as xxxxx.docx format\n",
    "5. Resave a copy to edit in repo as xxxxx_edited.docx\n",
    "6. Delete headers and footers\n",
    "7. delete preamble on page 1\n",
    "8. Ctrl 'A', Ctrl 'C' to copy all data in the 21 separate tables\n",
    "9. Open notepad++ and paste 'Ctrl V'\n",
    "\n",
    "\n",
    "### Steps to reproduce \\textcolor{red}{red} <br>\n",
    "<span style=\"color:blue\">NB: for the video I truncated the CSV file to save time. <br></span>\n",
    "\n",
    "<mark>After the video, I went back and changed some of the following to make it cleaner.<mark>\n",
    "- Download original pdf file.\n",
    "- Open original pdf file in Microsoft Word.\n",
    "- Save Microsoft Word's converted PDF in docx format.\n",
    "- Re-save Word document for editing.\n",
    "- Delete headers and footers.\n",
    "- Delete preamble on page 1.\n",
    "- Select all and copy.\n",
    "- Paste into Visual Studio Code.\n",
    "- Remove HEI name lines and black lines.\n",
    "- Change column heading \"COURSE AND INSTITUTION\" to \"Course\".\n",
    "- Change backticks to apostrophes.\n",
    "- Replaced double tab charater at on line 28 with single tab.\n",
    "-Delete tabs at end of lines 604, 670, 700, 701, 793, and 830. -->"
   ]
  },
  {
   "cell_type": "code",
   "execution_count": 137,
   "id": "1905ce5a-f329-4293-9049-cf9fa1a73f20",
   "metadata": {},
   "outputs": [],
   "source": [
    "# ### Creating CSV file from the original pdf\n",
    "\n",
    "# - The original pdf was downloaded and saved as a pdf in repository\n",
    "# - The original file was opened with MS Word as follows:\n",
    "# - Select file > open with > other programs > MSWord >\n",
    "# - open for editing\n",
    "# - Save the editable file in repository under data as as xxxxx.docx format: \n",
    "# - Resaved a copy to edit in repo as cao2019_edited.docx\n",
    "# - Deleted headers and footers\n",
    "# - deleted the preamble on page 1\n",
    "# - Ctrl 'A', Ctrl 'C' to copy all data in the 21 separate tables\n",
    "# - Opened notepad++ and pasted in the content of the 21 tables 'Ctrl V'\n",
    "\n",
    "# #### manual editing in notepad ++\n",
    " \n",
    "# - Removed HEI name lines and black lines\n",
    "# - Removed all Irish fadas: e.g. Gn**ó** agus Gaeilge \n",
    "# - Delete blank lines\n",
    "# - Change backticks to apostrophes\n",
    "# - Remove all Irish fadas: e.g. Gn**ó** agus Gaeilge \n",
    "# - find \\\\t replace with \\t finds the double tabs and removes them <br>\n",
    "# <span style=\"color:blue\">These were recommended but are they required?:</span>\n",
    "\n",
    "# <span style=\"color:blue\">Replaced double tab charater at on line 28 with single tab.</span> <br>\n",
    "# <span style=\"color:blue\">Delete tabs at end of lines 604, 670, 700, 701, 793, and 830. </span>\n",
    "# - save file\n",
    "\n",
    "\n",
    "# Note: Institutions not required for data frame as institution is identifiable from the course code 1st two letters.<br>  Thus the below not required: <br>\n",
    "# 1. Select the 'College/Institute' i.e. 'Athlone Institute of Technology' and cut\n",
    "# 2. Move cursor to in front of AIT 1st course line\n",
    "# 3. Hold down ALT key and drag cursor down to all AIT courses\n",
    "# 4. Ctrl V to paste - click 'tab' key to create tabs\n",
    "# 5. Put double quotes around college names as they have commas [select start of string with cursor-alt-type \"]\n",
    "# 6. Also: \\t  in extended file 'replace all' with comma: replaces all the tabs with commas <br> however not recommended here as commas elsewhere will confuse. <br> best to leave tabs as delimiters  e.g. in effect its as 'tsv' tab serapated file but can save as csv"
   ]
  },
  {
   "cell_type": "code",
   "execution_count": 138,
   "id": "fd067dd5-68ae-4d0b-90d6-85932c451e49",
   "metadata": {},
   "outputs": [],
   "source": [
    "#df2020_r1['points_R1_2020'].apply(points_to_array)"
   ]
  },
  {
   "cell_type": "code",
   "execution_count": 139,
   "id": "cfb3e14f-80fc-40dd-b370-d2dcbc8baefe",
   "metadata": {},
   "outputs": [],
   "source": [
    "# Remove all rows with NULL values:\n",
    "# Returns a new DataFrame, and will not change the original.\n",
    "# if want to change the original add:  (inplace = True)\n",
    "#new_df = allcourses.dropna()\n",
    "#print(new_df.to_string())"
   ]
  },
  {
   "cell_type": "code",
   "execution_count": 140,
   "id": "ad26634c-598c-4ebd-87c0-037f37f6cd28",
   "metadata": {},
   "outputs": [],
   "source": [
    "# allcourses.fillna(130, inplace = True)\n",
    "#allcourses.fillna(130)\n",
    "#allcourses"
   ]
  },
  {
   "cell_type": "code",
   "execution_count": 141,
   "id": "02aaf6fc-d706-4f13-aebd-94ca9dd5293b",
   "metadata": {},
   "outputs": [],
   "source": [
    "# Replace NULL values in the \"points_r1_2021\" column with the number 130:\n",
    "#allcourses[\"points_r1_2021\"].fillna(130, inplace = True)\n",
    "#allcourses"
   ]
  },
  {
   "cell_type": "code",
   "execution_count": 142,
   "id": "67c65650-56ac-476f-b8a2-eb491bbbe550",
   "metadata": {},
   "outputs": [],
   "source": [
    "# allcourses"
   ]
  },
  {
   "cell_type": "code",
   "execution_count": 143,
   "id": "d0d75974-348d-4d75-95d1-dab54b96dcde",
   "metadata": {},
   "outputs": [],
   "source": [
    "# allcourses.dtypes"
   ]
  },
  {
   "cell_type": "code",
   "execution_count": 144,
   "id": "cb2555f8-43ad-438b-a41f-0f3b8462ad1c",
   "metadata": {},
   "outputs": [],
   "source": [
    "#print(allcourses['points_r1_2021'].to_string())"
   ]
  },
  {
   "cell_type": "code",
   "execution_count": 145,
   "id": "9c621d6d-f34f-4647-ac30-e09c8c072526",
   "metadata": {},
   "outputs": [],
   "source": [
    "# allcourses.info()"
   ]
  },
  {
   "cell_type": "code",
   "execution_count": 146,
   "id": "8bf08385-cb6c-4074-814e-ac7b52d03577",
   "metadata": {},
   "outputs": [],
   "source": [
    "#print(allcourses['points_R1_2019'].to_string())"
   ]
  },
  {
   "cell_type": "code",
   "execution_count": 147,
   "id": "6575f502-fc7c-4dd1-a239-649450c246fd",
   "metadata": {},
   "outputs": [],
   "source": [
    "#allcourses['points_r1_2021'] = allcourses['points_r1_2021'].str.replace('\\W', '')\n",
    "#print(allcourses['points_r1_2021'].to_string())"
   ]
  },
  {
   "cell_type": "code",
   "execution_count": 148,
   "id": "a3a9ec71-50b8-4c68-be89-d2d054af53e3",
   "metadata": {},
   "outputs": [],
   "source": [
    "#pd.to_numeric(allcourses['points_r1_2021'], errors='coerce')"
   ]
  },
  {
   "cell_type": "code",
   "execution_count": 149,
   "id": "6dae67e2-c4fd-4400-bea2-fdf767b0e9d4",
   "metadata": {},
   "outputs": [],
   "source": [
    "#allcourses['points_r1_2021']= pd.to_numeric(allcourses['points_r1_2021'], errors='coerce')"
   ]
  },
  {
   "cell_type": "code",
   "execution_count": 150,
   "id": "22f42015-daad-4dac-822e-0e62262c1c08",
   "metadata": {},
   "outputs": [],
   "source": [
    "# print(allcourses.index='code', columns = 'points_r1_2021','points_R1_2020','points_R1_2019')"
   ]
  },
  {
   "cell_type": "code",
   "execution_count": 151,
   "id": "0a7ca6b9-ba50-4ac3-9873-f26eb54de6aa",
   "metadata": {},
   "outputs": [],
   "source": [
    "# this seems to work: need to check if it works can it be applied to all columns\n",
    "\n",
    "#allcourses['points_r1_2021'] = allcourses['points_r1_2021'].str.replace('\\W', '')\n",
    "#allcourses['points_r1_2021'].iloc[20:400]\n",
    "#print(allcourses['points_r1_2021'].to_string())\n",
    "#allcourses['points_r1_2021'].iloc[60:70]"
   ]
  },
  {
   "cell_type": "code",
   "execution_count": 152,
   "id": "e671a40a-9ec6-4a51-9e00-1272f866205d",
   "metadata": {},
   "outputs": [],
   "source": [
    "# allcourses['points_R1_2020'] = allcourses['points_R1_2020'].str.replace('\\W', '')\n",
    "# print(allcourses['points_R1_2020'].to_string())\n",
    "# print(allcourses['points_R1_2020'])"
   ]
  },
  {
   "cell_type": "code",
   "execution_count": 153,
   "id": "4812d32e-b16c-4047-ada6-2fa7fd46b3aa",
   "metadata": {},
   "outputs": [],
   "source": [
    "# allcourses['points_R1_2019'] = allcourses['points_R1_2019'].str.replace('\\W', '')\n",
    "# print(allcourses['points_R1_2019'].to_string())"
   ]
  },
  {
   "cell_type": "code",
   "execution_count": 154,
   "id": "12054a2d-e707-4747-82e2-c344634c126c",
   "metadata": {},
   "outputs": [],
   "source": [
    "# allcourses['points_r1_2021'] = allcourses['points_r1_2021'].map(lambda x: re.sub(r'\\W+', '', x))"
   ]
  },
  {
   "cell_type": "code",
   "execution_count": 155,
   "id": "cc2493bb-4265-40a8-8058-4dc085fa7903",
   "metadata": {},
   "outputs": [],
   "source": [
    "# allcourses['points_r1_2021'] = allcourses['points_r1_2021'].replace('\\*', '', '\\#', '',regex=True).astype(float)"
   ]
  },
  {
   "cell_type": "code",
   "execution_count": 156,
   "id": "f27c1943-9c8b-46f0-9d4b-035ddd6b2462",
   "metadata": {},
   "outputs": [],
   "source": [
    "# cols = ['points_r1_2021', 'points_R1_2020', 'points_R1_2019']\n",
    "# for col in cols:\n",
    "    #allcourses[col] = allcourses[col].map(lambda x: str(x).lstrip('*').astype(float)"
   ]
  },
  {
   "cell_type": "code",
   "execution_count": 157,
   "id": "213efa4c-6e21-4c42-bc66-4613c4c4c6bf",
   "metadata": {},
   "outputs": [],
   "source": [
    "# x = allcourses[\"points_r1_2021\"].mean()\n",
    "# allcourses[\"points_r1_2021\"].fillna(x, inplace = True)\n",
    "# allcourses"
   ]
  },
  {
   "cell_type": "code",
   "execution_count": 158,
   "id": "ee20012e-35b0-42d9-a998-7d8680c5209e",
   "metadata": {},
   "outputs": [],
   "source": [
    "# allcourses.info()"
   ]
  },
  {
   "cell_type": "code",
   "execution_count": null,
   "id": "57353070-f3ef-4523-a663-e43565748dd9",
   "metadata": {},
   "outputs": [],
   "source": []
  },
  {
   "cell_type": "code",
   "execution_count": 159,
   "id": "f0dbbaf8-bc14-4587-9025-c4f046eaa57c",
   "metadata": {},
   "outputs": [],
   "source": [
    "#fig, axs = plt.subplots(2,2, constrained_layout=True)\n",
    "#for ax,(idx,row) in zip(axs.flat, allcourses.iterrows()):\n",
    "   # row[['points_r1_2021','points_R1_2020']].plot.bar(ax=ax, color=['C0','C1'])\n",
    "   # ax.set_title(row['code'])\n",
    "\n",
    "#proxy = ax.bar([0,0],[0,0], color=['C0','C1'])\n",
    "#fig.legend(proxy,['points_r1_2021','points_R1_2020'], bbox_to_anchor=(1,1), loc='upper right')"
   ]
  },
  {
   "cell_type": "code",
   "execution_count": 160,
   "id": "43df4cd6-5284-42a4-a56a-7e6c463f4546",
   "metadata": {},
   "outputs": [],
   "source": [
    "#df = df.set_index('Material')\n",
    "# fig = plt.figure(figsize=(10,8))\n",
    "\n",
    "#for i, (name, row) in enumerate(allcourses.iterrows()):\n",
    "    #ax = plt.subplot(1,1, i+1)\n",
    "    #ax.set_title(row.name)\n",
    "    #ax.get_xaxis().set_visible(False)\n",
    "    #df.iloc[i].plot.bar(color=['C0', 'C1'])\n",
    "#fig.legend(ax.bar([0,0],[0,0], color=['C0','C1']),['points_r1_2021','points_R1_2020'], loc=5)\n",
    "\n",
    "#plt.show()"
   ]
  },
  {
   "cell_type": "code",
   "execution_count": 161,
   "id": "5b024e31-ce9f-4046-8daf-4ec3621d05a1",
   "metadata": {},
   "outputs": [],
   "source": [
    "#allcourses.plot(kind='area',figsize=(10,6));"
   ]
  },
  {
   "cell_type": "code",
   "execution_count": 162,
   "id": "d3b57cc5-7d96-4295-b621-4b3a5ea12124",
   "metadata": {},
   "outputs": [],
   "source": [
    "#allcourses.plot(kind='area',stacked=False,figsize=(10,6));"
   ]
  },
  {
   "cell_type": "code",
   "execution_count": 163,
   "id": "9ef8ad80-016c-469b-a4e4-b78b3b3be2df",
   "metadata": {},
   "outputs": [],
   "source": [
    "#allcourses.plot(kind='bar',stacked=True)"
   ]
  },
  {
   "cell_type": "code",
   "execution_count": 164,
   "id": "b1e7988e-7981-4a32-9b34-cf265d70ed45",
   "metadata": {},
   "outputs": [],
   "source": [
    "#allcourses.plot.barh(stacked=True);"
   ]
  },
  {
   "cell_type": "code",
   "execution_count": 165,
   "id": "b306475e-bf1d-420f-b7b9-967f2ac00efe",
   "metadata": {},
   "outputs": [],
   "source": [
    "#fig, ax = plt.subplots()\n",
    "#allcourses.plot.bar(x='title', ax=ax)"
   ]
  },
  {
   "cell_type": "code",
   "execution_count": 166,
   "id": "fbda4b71-a6d4-49ec-b605-069d22eb94df",
   "metadata": {},
   "outputs": [],
   "source": [
    "# speed = [0.1, 17.5, 40, 48, 52, 69, 88]\n",
    "# lifespan = [2, 8, 70, 1.5, 25, 12, 28]\n",
    "# index = ['snail', 'pig', 'elephant','rabbit', 'giraffe', 'coyote', 'horse']\n",
    "# df = pd.DataFrame({'speed': speed,'lifespan': lifespan}, index=index)\n",
    "# ax = df.plot.bar(rot=0)"
   ]
  },
  {
   "cell_type": "code",
   "execution_count": 167,
   "id": "1cc1006d-88d5-4f35-8722-b376de614606",
   "metadata": {},
   "outputs": [],
   "source": [
    "# fig = plt.figure(figsize=(10,8))\n",
    "\n",
    "# for i, (name, row) in enumerate(allcourses.iterrows()):\n",
    "#     ax = plt.subplot(3,1, i+1)\n",
    "#     ax.set_title(row.name)\n",
    "#     ax.get_xaxis().set_visible(False)\n",
    "#     allcourses.iloc[i].plot.bar(color=['C0', 'C1','C2'])\n",
    "# fig.legend(ax.bar([0,0],[0,0], color=['C0','C1','C2']),['A','B','C'], loc=5)\n",
    "\n",
    "# plt.show()"
   ]
  },
  {
   "cell_type": "code",
   "execution_count": 168,
   "id": "406719cf-cee3-4035-bf36-52aa7fb0a296",
   "metadata": {},
   "outputs": [],
   "source": [
    "# plt.figure();\n",
    "\n",
    "# In [25]: allcourses.plot.hist(stacked=True, bins=20)"
   ]
  },
  {
   "cell_type": "code",
   "execution_count": 169,
   "id": "9a496c86-9d70-4a65-87aa-845e2076f691",
   "metadata": {},
   "outputs": [],
   "source": [
    "# plt.figure();\n",
    "\n",
    "# In [25]: allcourses.plot.hist(stacked=False, bins=20)"
   ]
  },
  {
   "cell_type": "code",
   "execution_count": 170,
   "id": "18572e7f-de64-46ec-97cb-377edb4c3ec5",
   "metadata": {},
   "outputs": [],
   "source": [
    "# sns.pairplot(data=allcourses, hue='points_r1_2021')"
   ]
  },
  {
   "cell_type": "code",
   "execution_count": 171,
   "id": "09dc8d4b-cf19-403d-9c79-65a7254f214a",
   "metadata": {},
   "outputs": [],
   "source": [
    "# import scipy for stats to facilitate kernel density estimate\n",
    "# import scipy.stats as stats"
   ]
  },
  {
   "cell_type": "code",
   "execution_count": 172,
   "id": "9a9d49e0-f0a2-40d9-b40f-e143daf774fb",
   "metadata": {},
   "outputs": [],
   "source": [
    "#Normal distribution.\n",
    "#def normalpdf(x, mu=0.0, sigma=1.0):\n",
    "   # \"\"\"Calculates the PDF of a normal distrubtion.\"\"\"\n",
    "   #numer = np.exp(-0.5 * np.square((x - mu) / sigma))\n",
    "    #denom = sigma * np.sqrt(2.0 * np.pi)\n",
    "    #return (numer / denom)"
   ]
  },
  {
   "cell_type": "code",
   "execution_count": 173,
   "id": "505e09f9-c304-4a21-8c1f-69592bc499b1",
   "metadata": {},
   "outputs": [],
   "source": [
    "# # Extract specific data from allcourses\n",
    "# #vals = allcourses['points_r1_2021'].to_numpy()[:500]\n",
    "# vals = allcourses['points_r1_2021'].to_numpy()\n",
    "                                    \n",
    "\n",
    "# # Minimum and maximum values.\n",
    "# low, high = vals.min(), vals.max()\n",
    "\n",
    "# # Create some space on the x axis.\n",
    "# diff = high - low\n",
    "# low = low - diff\n",
    "# high = high + diff\n",
    "\n",
    "# # Create some x values.\n",
    "# # i.e. creating the values on the x axis with sufficient space either side of curve\n",
    "# x = np.linspace(low, high, 1000)\n",
    "\n",
    "# # Create a plot.\n",
    "# fig, ax = plt.subplots()\n",
    "\n",
    "# # Set the initial previous y values to 0.\n",
    "# # (could be just set to 0 as 0*X = 0 but just for consistency here as x*0)\n",
    "# prev = 0 * x\n",
    "\n",
    "# #loop through the values in vals (sepal length)\n",
    "# # Select a value from the data.\n",
    "# for i in vals:\n",
    "#     # Calculate our y values from x.\n",
    "#     y = normalpdf(x, mu=i, sigma=0.1)\n",
    "#     # Add the previous sums of the y values.\n",
    "#     y = y + prev\n",
    "\n",
    "#     # Fill between x axis and y. Alpha = translucence\n",
    "#     ax.fill_between(x, prev, y, alpha=0.3)\n",
    "    \n",
    "#     # Update the prev array.\n",
    "#     prev = y\n",
    "    \n",
    "\n",
    "# # Plot the values.\n",
    "# ax.plot(x, y, 'k-')"
   ]
  },
  {
   "cell_type": "code",
   "execution_count": 174,
   "id": "e15ef2f1-3bf6-4e93-882a-1a7a3e8b4f53",
   "metadata": {},
   "outputs": [],
   "source": [
    "# # Extract specific data from allcourses\n",
    "# #vals = allcourses['points_R1_2020'].to_numpy()[:500]\n",
    "# vals = allcourses['points_R1_2020'].to_numpy()\n",
    "                                    \n",
    "\n",
    "# # Minimum and maximum values.\n",
    "# low, high = vals.min(), vals.max()\n",
    "\n",
    "# # Create some space on the x axis.\n",
    "# diff = high - low\n",
    "# low = low - diff\n",
    "# high = high + diff\n",
    "\n",
    "# # Create some x values.\n",
    "# # i.e. creating the values on the x axis with sufficient space either side of curve\n",
    "# x = np.linspace(low, high, 1000)\n",
    "\n",
    "# # Create a plot.\n",
    "# fig, ax = plt.subplots()\n",
    "\n",
    "# # Set the initial previous y values to 0.\n",
    "# # (could be just set to 0 as 0*X = 0 but just for consistency here as x*0)\n",
    "# prev = 0 * x\n",
    "\n",
    "# #loop through the values in vals (sepal length)\n",
    "# # Select a value from the data.\n",
    "# for i in vals:\n",
    "#     # Calculate our y values from x.\n",
    "#     y = normalpdf(x, mu=i, sigma=0.1)\n",
    "#     # Add the previous sums of the y values.\n",
    "#     y = y + prev\n",
    "\n",
    "#     # Fill between x axis and y. Alpha = translucence\n",
    "#     ax.fill_between(x, prev, y, alpha=0.3)\n",
    "    \n",
    "#     # Update the prev array.\n",
    "#     prev = y\n",
    "    \n",
    "\n",
    "# # Plot the values.\n",
    "# ax.plot(x, y, 'k-')"
   ]
  },
  {
   "cell_type": "code",
   "execution_count": 175,
   "id": "c5fb93bc-fa5b-48c1-9373-dfc82a60ba8c",
   "metadata": {},
   "outputs": [],
   "source": [
    "# # Extract specific data from allcourses\n",
    "# #vals = allcourses['points_R1_2019'].to_numpy()[:500]\n",
    "# vals = allcourses['points_R1_2019'].to_numpy()\n",
    "                                    \n",
    "\n",
    "# # Minimum and maximum values.\n",
    "# low, high = vals.min(), vals.max()\n",
    "\n",
    "# # Create some space on the x axis.\n",
    "# diff = high - low\n",
    "# low = low - diff\n",
    "# high = high + diff\n",
    "\n",
    "# # Create some x values.\n",
    "# # i.e. creating the values on the x axis with sufficient space either side of curve\n",
    "# x = np.linspace(low, high, 1000)\n",
    "\n",
    "# # Create a plot.\n",
    "# fig, ax = plt.subplots()\n",
    "\n",
    "# # Set the initial previous y values to 0.\n",
    "# # (could be just set to 0 as 0*X = 0 but just for consistency here as x*0)\n",
    "# prev = 0 * x\n",
    "\n",
    "# #loop through the values in vals (sepal length)\n",
    "# # Select a value from the data.\n",
    "# for i in vals:\n",
    "#     # Calculate our y values from x.\n",
    "#     y = normalpdf(x, mu=i, sigma=0.1)\n",
    "#     # Add the previous sums of the y values.\n",
    "#     y = y + prev\n",
    "\n",
    "#     # Fill between x axis and y. Alpha = translucence\n",
    "#     ax.fill_between(x, prev, y, alpha=0.3)\n",
    "    \n",
    "#     # Update the prev array.\n",
    "#     prev = y\n",
    "    \n",
    "\n",
    "# # Plot the values.\n",
    "# ax.plot(x, y, 'k-')"
   ]
  },
  {
   "cell_type": "code",
   "execution_count": 176,
   "id": "a068a211-6fab-4bf1-9b2f-16d86269effe",
   "metadata": {},
   "outputs": [],
   "source": [
    "# # Importing the required libraries\n",
    "# from matplotlib import pyplot as plt\n",
    "# import numpy as np\n",
    "\n",
    "# # Visualizing the data with multiple bar chart\n",
    "# plt.figure(figsize=[15, 9])\n",
    "\n",
    "# # Set the width of the bars\n",
    "# wd = 0.3\n",
    "# x_pos = np.arange(1, 2*len(allcourses), 2)\n",
    "\n",
    "# # Plotting the multiple bar graphs on the same figure\n",
    "# plt.bar(x_pos, allcourses.points_r1_2021, color='r', width=wd, edgecolor='k',\n",
    "#         label='points_r1_2021')\n",
    "# plt.bar(x_pos+wd, allcourses.points_R1_2020, color='y', width=wd, edgecolor='k', \n",
    "#         label='points_R1_2020')\n",
    "# plt.bar(x_pos+(wd*2), allcourses.points_R1_2019, color='c', width=wd, \n",
    "#         edgecolor='k', label='points_R1_2019')\n",
    "\n",
    "# # Add xticks\n",
    "# plt.xticks(x_pos+wd, allcourses.code.values, fontsize=15)\n",
    "# plt.yticks(fontsize=15)\n",
    "# plt.title('CAO Points', fontsize=20)\n",
    "# plt.xlabel('code', fontsize=17)\n",
    "# plt.ylabel('points', fontsize=17)\n",
    "\n",
    "# plt.legend(loc='upper center', fontsize=15)\n",
    "# plt.show()"
   ]
  },
  {
   "cell_type": "code",
   "execution_count": 177,
   "id": "603a9255-5f28-40f7-a4cd-316a8430f9e6",
   "metadata": {},
   "outputs": [],
   "source": [
    "# # Importing the required libraries\n",
    "# from matplotlib import pyplot as plt\n",
    "# import numpy as np\n",
    "\n",
    "# # Visualizing the data with stacked bar chart\n",
    "# plt.figure(figsize=[15, 9])\n",
    "\n",
    "# # Set the width of the bars\n",
    "# wd = 0.4\n",
    "# x_pos = np.arange(len(allcourses))\n",
    "\n",
    "# # Plotting the multiple bar graphs on top on other\n",
    "# plt.bar(x_pos, allcourses.points_r1_2021, color='r', width=wd, label='points_r1_2021')\n",
    "# plt.bar(x_pos, allcourses.points_R1_2020, color='y', width=wd, label='points_R1_2020', \n",
    "#        bottom=allcourses.points_r1_2021)\n",
    "# plt.bar(x_pos, allcourses.points_R1_2019, color='c', width=wd, label='points_R1_2019', \n",
    "#        bottom=allcourses.points_r1_2021+allcourses.points_R1_2019)\n",
    "\n",
    "# # Add xticks\n",
    "# plt.xticks(x_pos, allcourses.code.values, fontsize=15)\n",
    "# plt.yticks(fontsize=15)\n",
    "# plt.title('CAO Points', fontsize=20)\n",
    "# plt.xlabel('Code', fontsize=17)\n",
    "# plt.ylabel('Points', fontsize=17)\n",
    "\n",
    "# plt.legend(loc='upper left', fontsize=15)\n",
    "# plt.show()"
   ]
  },
  {
   "cell_type": "code",
   "execution_count": 178,
   "id": "5094de53-1a46-478e-8778-594c1eb4cfbd",
   "metadata": {},
   "outputs": [],
   "source": [
    "#allcourses['points_r1_2021'].astype('float')\n",
    "#allcourses['points_R1_2020'].astype('float')\n",
    "#allcourses['points_R1_2019'].astype('float')\n",
    "#pd.to_numeric(allcourses['points_r1_2021'])\n",
    "#pd.to_numeric(allcourses['points_R1_2020'], errors='coerce')\n",
    "#pd.to_numeric(allcourses['points_R1_2019'], errors='coerce').fillna(0)\n",
    "#pd.to_numeric(allcourses['points_R1_2020'], errors='coerce')\n",
    "#pd.to_numeric(allcourses[[points_r1_2021],[points_R1_2020],[points_R1_2019]], errors='coerce')\n",
    "#pd.to_numeric(allcourses[[points_r1_2021],[points_R1_2020],[points_R1_2019]], errors='coerce')"
   ]
  },
  {
   "cell_type": "code",
   "execution_count": 179,
   "id": "a5338111-66de-4bf9-86d4-192b15184e0f",
   "metadata": {},
   "outputs": [],
   "source": [
    "# for i in range(0, len(allcourses), 3):\n",
    "#    allcourses[i:i+10].plot(kind='barh')\n",
    "# for i in range(0, len(allcourses), 3):\n",
    "#     allcourses[i:i+10].plot(kind='barh')\n",
    "    "
   ]
  },
  {
   "cell_type": "code",
   "execution_count": 180,
   "id": "603ef8e8-f04d-4cd4-8833-0229fe676803",
   "metadata": {},
   "outputs": [],
   "source": [
    "# for i in range(0, len(allcourses), 3):\n",
    "#     allcourses[i:i+10].plot(kind='barh', stacked=True)"
   ]
  },
  {
   "cell_type": "code",
   "execution_count": 181,
   "id": "d2ecff96-d569-4a5b-8bb4-b4b15804f332",
   "metadata": {},
   "outputs": [],
   "source": [
    "# ax = allcourses.plot.bar(rot=0)"
   ]
  }
 ],
 "metadata": {
  "kernelspec": {
   "display_name": "Python 3",
   "language": "python",
   "name": "python3"
  },
  "language_info": {
   "codemirror_mode": {
    "name": "ipython",
    "version": 3
   },
   "file_extension": ".py",
   "mimetype": "text/x-python",
   "name": "python",
   "nbconvert_exporter": "python",
   "pygments_lexer": "ipython3",
   "version": "3.8.8"
  }
 },
 "nbformat": 4,
 "nbformat_minor": 5
}
